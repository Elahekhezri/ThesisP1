{
    "cells": [
        {
            "cell_type": "markdown",
            "metadata": {
                "is_collapsed": false,
                "formattedRanges": [],
                "deepnote_app_block_visible": false,
                "cell_id": "752e2198ccf046349ece23d7d29b4da2",
                "deepnote_cell_type": "text-cell-p"
            },
            "source": "Importing and merging Seshat variables.",
            "block_group": "d7a62d4c20c14e5fb9c9bd4dfdc14abd"
        },
        {
            "cell_type": "markdown",
            "metadata": {
                "is_collapsed": false,
                "formattedRanges": [],
                "deepnote_app_block_visible": false,
                "cell_id": "dae74a43b1f8433089f69af7ec3acb61",
                "deepnote_cell_type": "text-cell-h1"
            },
            "source": "# Prep",
            "block_group": "2105ae398ea944fcae88f08bbba1bc5f"
        },
        {
            "cell_type": "code",
            "metadata": {
                "source_hash": "8d7d1b9f",
                "execution_start": 1749799088726,
                "execution_millis": 51566,
                "is_output_hidden": true,
                "execution_context_id": "18c8a6b2-e744-4520-827e-0d7636548417",
                "deepnote_app_is_output_hidden": true,
                "cell_id": "accdca3ce773474bb2491e02e27a0b8b",
                "deepnote_cell_type": "code"
            },
            "source": "!git clone https://github.com/Seshat-Global-History-Databank/seshat_api",
            "block_group": "207f350370194a40810869fcd118d989",
            "execution_count": 1,
            "outputs": [
                {
                    "name": "stdout",
                    "text": "Cloning into 'seshat_api'...\nremote: Enumerating objects: 900, done.\u001b[K\nremote: Counting objects: 100% (195/195), done.\u001b[K\nremote: Compressing objects: 100% (130/130), done.\u001b[K\nremote: Total 900 (delta 118), reused 120 (delta 64), pack-reused 705 (from 1)\u001b[K\nReceiving objects: 100% (900/900), 1.47 MiB | 132.00 KiB/s, done.\nResolving deltas: 100% (560/560), done.\nUpdating files: 100% (48/48), done.\n",
                    "output_type": "stream"
                }
            ],
            "outputs_reference": "dbtable:cell_outputs/2cf31809-3fab-4d84-bf9e-82ce849b3c6f",
            "content_dependencies": null
        },
        {
            "cell_type": "code",
            "metadata": {
                "source_hash": "17968fab",
                "execution_start": 1749978643882,
                "execution_millis": 3204,
                "execution_context_id": "3db532ef-f1fb-425e-b1a0-6805c1bcc18f",
                "cell_id": "5eee0a22f8014e0592970dda562f673c",
                "deepnote_cell_type": "code"
            },
            "source": "import ipykernel\nimport pandas as pd\nimport matplotlib\nimport scipy\nimport ollama\nfrom seshat_api import SeshatAPI\nfrom seshat_api.sc import PolityTerritories, PolityPopulations, SettlementHierarchies, AdministrativeLevels, ReligiousLevels, MilitaryLevels, FullTimeBureaucrats, MeritPromotions, SpecializedGovernmentBuildings, IrrigationSystems, DrinkingWaterSupplies, Markets, FoodStorageSites, Roads\nfrom seshat_api.general import PolityDurations, PolityPeakYears, PolityDegreeOfCentralizations\nfrom seshat_api.wf import *\nfrom functools import reduce\nimport json",
            "block_group": "0201fc66931448a4afcff48d58057350",
            "execution_count": 7,
            "outputs": [],
            "outputs_reference": null,
            "content_dependencies": null
        },
        {
            "cell_type": "code",
            "metadata": {
                "source_hash": "e4ee8327",
                "execution_start": 1749969549778,
                "execution_millis": 0,
                "execution_context_id": "e8ade8b8-ebd2-4091-bc75-cab5b65036fd",
                "cell_id": "b0322b6597b5474d884d4f98a7c9208e",
                "deepnote_cell_type": "code"
            },
            "source": "client = SeshatAPI(base_url=\"https://seshat-db.com/api\")",
            "block_group": "6883ffe378434dfba0045bb42d41a95b",
            "execution_count": 4,
            "outputs": [],
            "outputs_reference": null,
            "content_dependencies": null
        },
        {
            "cell_type": "markdown",
            "metadata": {
                "formattedRanges": [],
                "cell_id": "28526404d661412a9bc31e98dc62dd4a",
                "deepnote_cell_type": "text-cell-h1"
            },
            "source": "# Import Variables",
            "block_group": "80814cfe5aad4823ac95b34c45f3a387"
        },
        {
            "cell_type": "code",
            "metadata": {
                "source_hash": "289f7491",
                "execution_start": 1749831583653,
                "execution_millis": 2,
                "execution_context_id": "621d1b4d-3434-4001-9256-08d3c1ce2651",
                "cell_id": "c599bde0782c4987bbbd81bf65ce5ce5",
                "deepnote_cell_type": "code"
            },
            "source": "# short df names\nconcentration_dict = {\n    \"territory\": PolityTerritories,\n    \"pop\": PolityPopulations,\n    \"settlementlvl\": SettlementHierarchies,\n    \"adminlvl\": AdministrativeLevels,\n    \"religionlvl\": ReligiousLevels,\n    \"miltlvl\": MilitaryLevels,\n    \"ftburc\": FullTimeBureaucrats,\n    \"meritpromotion\": MeritPromotions,\n    \"govbuilding\": SpecializedGovernmentBuildings,\n    \"govirrigation\": IrrigationSystems,\n    \"govwater\": DrinkingWaterSupplies,\n    \"govmarket\": Markets,\n    \"govfood\": FoodStorageSites,\n    \"govroad\": Roads,\n    \"polityduration\": PolityDurations,\n    \"politypeak\": PolityPeakYears,\n    \"politycntr\": PolityDegreeOfCentralizations,\n}",
            "block_group": "0901042818f540a6992af148904e825c",
            "execution_count": 10,
            "outputs": [],
            "outputs_reference": null,
            "content_dependencies": null
        },
        {
            "cell_type": "code",
            "metadata": {
                "source_hash": "9c0f3e80",
                "execution_start": 1749831587746,
                "execution_millis": 1,
                "execution_context_id": "621d1b4d-3434-4001-9256-08d3c1ce2651",
                "cell_id": "641fea8d83cb41c2ae60c51877a1c1bf",
                "deepnote_cell_type": "code"
            },
            "source": "# function to get variables from seshat and save to dfs with short names\ndef create_df(var_dict, client):\n    for var_name, var in var_dict.items():\n        df = pd.DataFrame(var(client).get_all())\n        globals()[var_name + \"_df\"] = df\n        print(f\"{var_name}_df\")",
            "block_group": "475a64bd630c466a9fad608bc00ad414",
            "execution_count": 13,
            "outputs": [],
            "outputs_reference": null,
            "content_dependencies": null
        },
        {
            "cell_type": "code",
            "metadata": {
                "source_hash": "d982c052",
                "execution_start": 1749831593221,
                "execution_millis": 190579,
                "execution_context_id": "621d1b4d-3434-4001-9256-08d3c1ce2651",
                "cell_id": "3eb07b8a4a9e4236aefaf89bb1f0f463",
                "deepnote_cell_type": "code"
            },
            "source": "create_df(concentration_dict, client)",
            "block_group": "5d8569ddff134042a8c4be9c77ca67fd",
            "execution_count": 16,
            "outputs": [
                {
                    "name": "stdout",
                    "text": "territory_df\npop_df\nsettlementlvl_df\nadminlvl_df\nreligionlvl_df\nmiltlvl_df\nftburc_df\nmeritpromotion_df\ngovbuilding_df\ngovirrigation_df\ngovwater_df\ngovmarket_df\ngovfood_df\ngovroad_df\npolityduration_df\npolitypeak_df\npolitycntr_df\n",
                    "output_type": "stream"
                }
            ],
            "outputs_reference": "dbtable:cell_outputs/7b4e542e-44dd-43ef-b3cf-da2c302a133d",
            "content_dependencies": null
        },
        {
            "cell_type": "markdown",
            "metadata": {
                "formattedRanges": [],
                "cell_id": "56eb42870679486aa370013711391899",
                "deepnote_cell_type": "text-cell-h1"
            },
            "source": "# Merge Variables",
            "block_group": "e994592811ee4865a579623027688215"
        },
        {
            "cell_type": "code",
            "metadata": {
                "source_hash": "e3f92d4c",
                "execution_start": 1749832043176,
                "execution_millis": 1,
                "execution_context_id": "621d1b4d-3434-4001-9256-08d3c1ce2651",
                "cell_id": "23296165e4ff4b43959d446ac189507b",
                "deepnote_cell_type": "code"
            },
            "source": "# need to add prefixes since many columns (e.g., description) have the same name\nconcentration_prefixed = {\n    \"tr\": territory_df,\n    \"pop\": pop_df,\n    \"stl\": settlementlvl_df,\n    \"adm\": adminlvl_df,\n    \"rlg\": religionlvl_df,\n    \"milt\": miltlvl_df,\n    \"bur\": ftburc_df,\n    \"mrt\": meritpromotion_df,\n    \"bldg\": govbuilding_df,\n    \"irrig\": govirrigation_df,\n    \"wtr\": govwater_df,\n    \"mrkt\": govmarket_df,\n    \"food\": govfood_df,\n    \"road\": govroad_df,\n    \"dur\": polityduration_df,\n    \"peak\": politypeak_df,\n    \"cntr\": politycntr_df\n}\nfor prefix, df in concentration_prefixed.items():\n    df.columns = [col if col == \"polity\" else f\"{prefix}_{col}\" for col in df.columns]",
            "block_group": "6df9f306036a4c56a315c9a368541de9",
            "execution_count": 22,
            "outputs": [],
            "outputs_reference": null,
            "content_dependencies": null
        },
        {
            "cell_type": "code",
            "metadata": {
                "source_hash": "38c3ff1e",
                "execution_start": 1749832045691,
                "execution_millis": 4668,
                "execution_context_id": "621d1b4d-3434-4001-9256-08d3c1ce2651",
                "cell_id": "d053460bc0ed4814b10ad5ec82f57fc6",
                "deepnote_cell_type": "code"
            },
            "source": "for name, df in concentration_prefixed.items():\n    df.to_csv(f\"{name}_df.csv\", index=False)",
            "block_group": "e7a0f7f9669b4df8a4712926048697e0",
            "execution_count": 25,
            "outputs": [],
            "outputs_reference": null,
            "content_dependencies": null
        },
        {
            "cell_type": "code",
            "metadata": {
                "source_hash": "a30ef8b4",
                "execution_start": 1749820430371,
                "execution_millis": 81,
                "execution_context_id": "9d99e7d6-4935-4147-87fa-8d492a9d0bcb",
                "cell_id": "a727afc31f8f4da9b71aa666e8ee31d4",
                "deepnote_cell_type": "code"
            },
            "source": "# polity column is json encoded so i need to freeze it before merging\nfor df in concentration_prefixed.values():\n    df[\"polity\"] = df[\"polity\"].apply(lambda x: json.dumps(x, sort_keys=True)) # sort them just in case",
            "block_group": "332f80ef94c5410dbdea26ac9e598cb5",
            "execution_count": 28,
            "outputs": [],
            "outputs_reference": null,
            "content_dependencies": null
        },
        {
            "cell_type": "code",
            "metadata": {
                "source_hash": "fa8509f3",
                "execution_start": 1749820454923,
                "execution_millis": 5,
                "deepnote_table_state": {
                    "sortBy": [],
                    "filters": [],
                    "pageSize": 10,
                    "pageIndex": 0,
                    "columnOrder": [
                        "tr_id",
                        "polity",
                        "tr_year_from",
                        "tr_year_to",
                        "tr_tag",
                        "tr_is_disputed",
                        "tr_is_uncertain",
                        "tr_name",
                        "tr_polity_territory_from",
                        "tr_polity_territory_to",
                        "tr_comment",
                        "tr_description",
                        "pop_id",
                        "pop_year_from",
                        "pop_year_to",
                        "pop_tag",
                        "pop_is_disputed",
                        "pop_is_uncertain",
                        "pop_name",
                        "pop_polity_population_from",
                        "pop_polity_population_to",
                        "pop_comment",
                        "pop_description",
                        "stl_id",
                        "stl_year_from",
                        "stl_year_to",
                        "stl_tag",
                        "stl_is_disputed",
                        "stl_is_uncertain",
                        "stl_name",
                        "stl_settlement_hierarchy_from",
                        "stl_settlement_hierarchy_to",
                        "stl_comment",
                        "stl_description",
                        "adm_id",
                        "adm_year_from",
                        "adm_year_to",
                        "adm_tag",
                        "adm_is_disputed",
                        "adm_is_uncertain",
                        "adm_name",
                        "adm_administrative_level_from",
                        "adm_administrative_level_to",
                        "adm_comment",
                        "adm_description",
                        "rlg_id",
                        "rlg_year_from",
                        "rlg_year_to",
                        "rlg_tag",
                        "rlg_is_disputed",
                        "rlg_is_uncertain",
                        "rlg_name",
                        "rlg_religious_level_from",
                        "rlg_religious_level_to",
                        "rlg_comment",
                        "rlg_description",
                        "milt_id",
                        "milt_year_from",
                        "milt_year_to",
                        "milt_tag",
                        "milt_is_disputed",
                        "milt_is_uncertain",
                        "milt_name",
                        "milt_military_level_from",
                        "milt_military_level_to",
                        "milt_comment",
                        "milt_description",
                        "bur_id",
                        "bur_year_from",
                        "bur_year_to",
                        "bur_tag",
                        "bur_is_disputed",
                        "bur_is_uncertain",
                        "bur_name",
                        "bur_full_time_bureaucrat",
                        "bur_comment",
                        "bur_description",
                        "mrt_id",
                        "mrt_year_from",
                        "mrt_year_to",
                        "mrt_tag",
                        "mrt_is_disputed",
                        "mrt_is_uncertain",
                        "mrt_name",
                        "mrt_merit_promotion",
                        "mrt_comment",
                        "mrt_description",
                        "bldg_id",
                        "bldg_year_from",
                        "bldg_year_to",
                        "bldg_tag",
                        "bldg_is_disputed",
                        "bldg_is_uncertain",
                        "bldg_name",
                        "bldg_specialized_government_building",
                        "bldg_comment",
                        "bldg_description",
                        "irrig_id",
                        "irrig_year_from",
                        "irrig_year_to",
                        "irrig_tag",
                        "irrig_is_disputed",
                        "irrig_is_uncertain",
                        "irrig_name",
                        "irrig_irrigation_system",
                        "irrig_comment",
                        "irrig_description",
                        "wtr_id",
                        "wtr_year_from",
                        "wtr_year_to",
                        "wtr_tag",
                        "wtr_is_disputed",
                        "wtr_is_uncertain",
                        "wtr_name",
                        "wtr_drinking_water_supply_system",
                        "wtr_comment",
                        "wtr_description",
                        "mrkt_id",
                        "mrkt_year_from",
                        "mrkt_year_to",
                        "mrkt_tag",
                        "mrkt_is_disputed",
                        "mrkt_is_uncertain",
                        "mrkt_name",
                        "mrkt_market",
                        "mrkt_comment",
                        "mrkt_description",
                        "food_id",
                        "food_year_from",
                        "food_year_to",
                        "food_tag",
                        "food_is_disputed",
                        "food_is_uncertain",
                        "food_name",
                        "food_food_storage_site",
                        "food_comment",
                        "food_description",
                        "road_id",
                        "road_year_from",
                        "road_year_to",
                        "road_tag",
                        "road_is_disputed",
                        "road_is_uncertain",
                        "road_name",
                        "road_road",
                        "road_comment",
                        "road_description",
                        "dur_id",
                        "dur_year_from",
                        "dur_year_to",
                        "dur_tag",
                        "dur_is_disputed",
                        "dur_is_uncertain",
                        "dur_name",
                        "dur_polity_year_from",
                        "dur_polity_year_to",
                        "dur_comment",
                        "dur_description",
                        "peak_id",
                        "peak_year_from",
                        "peak_year_to",
                        "peak_tag",
                        "peak_is_disputed",
                        "peak_is_uncertain",
                        "peak_name",
                        "peak_peak_year_from",
                        "peak_peak_year_to",
                        "peak_comment",
                        "peak_description",
                        "cntr_id",
                        "cntr_year_from",
                        "cntr_year_to",
                        "cntr_tag",
                        "cntr_is_disputed",
                        "cntr_is_uncertain",
                        "cntr_name",
                        "cntr_degree_of_centralization",
                        "cntr_comment",
                        "cntr_description"
                    ],
                    "hiddenColumnIds": [],
                    "columnDisplayNames": [],
                    "conditionalFilters": [],
                    "cellFormattingRules": [],
                    "wrappedTextColumnIds": []
                },
                "execution_context_id": "9d99e7d6-4935-4147-87fa-8d492a9d0bcb",
                "deepnote_table_loading": false,
                "cell_id": "8aa15ca776f64eb09e951be56356c36b",
                "deepnote_cell_type": "code"
            },
            "source": "# outer join. in some dfs there are multiple values for polity (for example, territory has multiple values depending on the year)\nconcentration_df = reduce(lambda  left,right: pd.merge(left,right,on=['polity'],\n                                            how='outer'), concentration_prefixed.values())\nprint(concentration_df.columns.tolist()) \n\n# reminder: cross-check some rows with original dfs to verify merge was okay, speciall for polity territory",
            "block_group": "29c8760cfc9441b2b3ed7850d87ad818",
            "execution_count": 34,
            "outputs": [
                {
                    "name": "stdout",
                    "text": "['tr_id', 'polity', 'tr_year_from', 'tr_year_to', 'tr_tag', 'tr_is_disputed', 'tr_is_uncertain', 'tr_name', 'tr_polity_territory_from', 'tr_polity_territory_to', 'tr_comment', 'tr_description', 'pop_id', 'pop_year_from', 'pop_year_to', 'pop_tag', 'pop_is_disputed', 'pop_is_uncertain', 'pop_name', 'pop_polity_population_from', 'pop_polity_population_to', 'pop_comment', 'pop_description', 'stl_id', 'stl_year_from', 'stl_year_to', 'stl_tag', 'stl_is_disputed', 'stl_is_uncertain', 'stl_name', 'stl_settlement_hierarchy_from', 'stl_settlement_hierarchy_to', 'stl_comment', 'stl_description', 'adm_id', 'adm_year_from', 'adm_year_to', 'adm_tag', 'adm_is_disputed', 'adm_is_uncertain', 'adm_name', 'adm_administrative_level_from', 'adm_administrative_level_to', 'adm_comment', 'adm_description', 'rlg_id', 'rlg_year_from', 'rlg_year_to', 'rlg_tag', 'rlg_is_disputed', 'rlg_is_uncertain', 'rlg_name', 'rlg_religious_level_from', 'rlg_religious_level_to', 'rlg_comment', 'rlg_description', 'milt_id', 'milt_year_from', 'milt_year_to', 'milt_tag', 'milt_is_disputed', 'milt_is_uncertain', 'milt_name', 'milt_military_level_from', 'milt_military_level_to', 'milt_comment', 'milt_description', 'bur_id', 'bur_year_from', 'bur_year_to', 'bur_tag', 'bur_is_disputed', 'bur_is_uncertain', 'bur_name', 'bur_full_time_bureaucrat', 'bur_comment', 'bur_description', 'mrt_id', 'mrt_year_from', 'mrt_year_to', 'mrt_tag', 'mrt_is_disputed', 'mrt_is_uncertain', 'mrt_name', 'mrt_merit_promotion', 'mrt_comment', 'mrt_description', 'bldg_id', 'bldg_year_from', 'bldg_year_to', 'bldg_tag', 'bldg_is_disputed', 'bldg_is_uncertain', 'bldg_name', 'bldg_specialized_government_building', 'bldg_comment', 'bldg_description', 'irrig_id', 'irrig_year_from', 'irrig_year_to', 'irrig_tag', 'irrig_is_disputed', 'irrig_is_uncertain', 'irrig_name', 'irrig_irrigation_system', 'irrig_comment', 'irrig_description', 'wtr_id', 'wtr_year_from', 'wtr_year_to', 'wtr_tag', 'wtr_is_disputed', 'wtr_is_uncertain', 'wtr_name', 'wtr_drinking_water_supply_system', 'wtr_comment', 'wtr_description', 'mrkt_id', 'mrkt_year_from', 'mrkt_year_to', 'mrkt_tag', 'mrkt_is_disputed', 'mrkt_is_uncertain', 'mrkt_name', 'mrkt_market', 'mrkt_comment', 'mrkt_description', 'food_id', 'food_year_from', 'food_year_to', 'food_tag', 'food_is_disputed', 'food_is_uncertain', 'food_name', 'food_food_storage_site', 'food_comment', 'food_description', 'road_id', 'road_year_from', 'road_year_to', 'road_tag', 'road_is_disputed', 'road_is_uncertain', 'road_name', 'road_road', 'road_comment', 'road_description', 'dur_id', 'dur_year_from', 'dur_year_to', 'dur_tag', 'dur_is_disputed', 'dur_is_uncertain', 'dur_name', 'dur_polity_year_from', 'dur_polity_year_to', 'dur_comment', 'dur_description', 'peak_id', 'peak_year_from', 'peak_year_to', 'peak_tag', 'peak_is_disputed', 'peak_is_uncertain', 'peak_name', 'peak_peak_year_from', 'peak_peak_year_to', 'peak_comment', 'peak_description', 'cntr_id', 'cntr_year_from', 'cntr_year_to', 'cntr_tag', 'cntr_is_disputed', 'cntr_is_uncertain', 'cntr_name', 'cntr_degree_of_centralization', 'cntr_comment', 'cntr_description']\n",
                    "output_type": "stream"
                }
            ],
            "outputs_reference": "s3:deepnote-cell-outputs-production/e6c962e0-d9aa-4191-b3b4-74afd5240e09",
            "content_dependencies": null
        },
        {
            "cell_type": "code",
            "metadata": {
                "source_hash": "437d5d9e",
                "execution_start": 1749820499417,
                "execution_millis": 5,
                "execution_context_id": "9d99e7d6-4935-4147-87fa-8d492a9d0bcb",
                "cell_id": "39a3f3dcc9054d26aa9998ff7f254a32",
                "deepnote_cell_type": "code"
            },
            "source": "# convert polity back to json \nconcentration_df[\"polity\"] = concentration_df[\"polity\"].apply(json.loads)",
            "block_group": "0b859c2a551e4048b994520744034954",
            "execution_count": 37,
            "outputs": [],
            "outputs_reference": null,
            "content_dependencies": null
        },
        {
            "cell_type": "code",
            "metadata": {
                "source_hash": "446a59a2",
                "execution_start": 1749821096689,
                "execution_millis": 256,
                "deepnote_table_state": {
                    "sortBy": [],
                    "filters": [],
                    "pageSize": 10,
                    "pageIndex": 0,
                    "columnOrder": [
                        "tr_id",
                        "polity",
                        "tr_year_from",
                        "tr_year_to",
                        "tr_tag",
                        "tr_is_disputed",
                        "tr_is_uncertain",
                        "tr_name",
                        "tr_polity_territory_from",
                        "tr_polity_territory_to",
                        "tr_comment",
                        "tr_description",
                        "pop_id",
                        "pop_year_from",
                        "pop_year_to",
                        "pop_tag",
                        "pop_is_disputed",
                        "pop_is_uncertain",
                        "pop_name",
                        "pop_polity_population_from",
                        "pop_polity_population_to",
                        "pop_comment",
                        "pop_description",
                        "stl_id",
                        "stl_year_from",
                        "stl_year_to",
                        "stl_tag",
                        "stl_is_disputed",
                        "stl_is_uncertain",
                        "stl_name",
                        "stl_settlement_hierarchy_from",
                        "stl_settlement_hierarchy_to",
                        "stl_comment",
                        "stl_description",
                        "adm_id",
                        "adm_year_from",
                        "adm_year_to",
                        "adm_tag",
                        "adm_is_disputed",
                        "adm_is_uncertain",
                        "adm_name",
                        "adm_administrative_level_from",
                        "adm_administrative_level_to",
                        "adm_comment",
                        "adm_description",
                        "rlg_id",
                        "rlg_year_from",
                        "rlg_year_to",
                        "rlg_tag",
                        "rlg_is_disputed",
                        "rlg_is_uncertain",
                        "rlg_name",
                        "rlg_religious_level_from",
                        "rlg_religious_level_to",
                        "rlg_comment",
                        "rlg_description",
                        "milt_id",
                        "milt_year_from",
                        "milt_year_to",
                        "milt_tag",
                        "milt_is_disputed",
                        "milt_is_uncertain",
                        "milt_name",
                        "milt_military_level_from",
                        "milt_military_level_to",
                        "milt_comment",
                        "milt_description",
                        "bur_id",
                        "bur_year_from",
                        "bur_year_to",
                        "bur_tag",
                        "bur_is_disputed",
                        "bur_is_uncertain",
                        "bur_name",
                        "bur_full_time_bureaucrat",
                        "bur_comment",
                        "bur_description",
                        "mrt_id",
                        "mrt_year_from",
                        "mrt_year_to",
                        "mrt_tag",
                        "mrt_is_disputed",
                        "mrt_is_uncertain",
                        "mrt_name",
                        "mrt_merit_promotion",
                        "mrt_comment",
                        "mrt_description",
                        "bldg_id",
                        "bldg_year_from",
                        "bldg_year_to",
                        "bldg_tag",
                        "bldg_is_disputed",
                        "bldg_is_uncertain",
                        "bldg_name",
                        "bldg_specialized_government_building",
                        "bldg_comment",
                        "bldg_description",
                        "irrig_id",
                        "irrig_year_from",
                        "irrig_year_to",
                        "irrig_tag",
                        "irrig_is_disputed",
                        "irrig_is_uncertain",
                        "irrig_name",
                        "irrig_irrigation_system",
                        "irrig_comment",
                        "irrig_description",
                        "wtr_id",
                        "wtr_year_from",
                        "wtr_year_to",
                        "wtr_tag",
                        "wtr_is_disputed",
                        "wtr_is_uncertain",
                        "wtr_name",
                        "wtr_drinking_water_supply_system",
                        "wtr_comment",
                        "wtr_description",
                        "mrkt_id",
                        "mrkt_year_from",
                        "mrkt_year_to",
                        "mrkt_tag",
                        "mrkt_is_disputed",
                        "mrkt_is_uncertain",
                        "mrkt_name",
                        "mrkt_market",
                        "mrkt_comment",
                        "mrkt_description",
                        "food_id",
                        "food_year_from",
                        "food_year_to",
                        "food_tag",
                        "food_is_disputed",
                        "food_is_uncertain",
                        "food_name",
                        "food_food_storage_site",
                        "food_comment",
                        "food_description",
                        "road_id",
                        "road_year_from",
                        "road_year_to",
                        "road_tag",
                        "road_is_disputed",
                        "road_is_uncertain",
                        "road_name",
                        "road_road",
                        "road_comment",
                        "road_description",
                        "dur_id",
                        "dur_year_from",
                        "dur_year_to",
                        "dur_tag",
                        "dur_is_disputed",
                        "dur_is_uncertain",
                        "dur_name",
                        "dur_polity_year_from",
                        "dur_polity_year_to",
                        "dur_comment",
                        "dur_description",
                        "peak_id",
                        "peak_year_from",
                        "peak_year_to",
                        "peak_tag",
                        "peak_is_disputed",
                        "peak_is_uncertain",
                        "peak_name",
                        "peak_peak_year_from",
                        "peak_peak_year_to",
                        "peak_comment",
                        "peak_description",
                        "cntr_id",
                        "cntr_year_from",
                        "cntr_year_to",
                        "cntr_tag",
                        "cntr_is_disputed",
                        "cntr_is_uncertain",
                        "cntr_name",
                        "cntr_degree_of_centralization",
                        "cntr_comment",
                        "cntr_description",
                        "end_year",
                        "id",
                        "long_name",
                        "name",
                        "start_year"
                    ],
                    "hiddenColumnIds": [],
                    "columnDisplayNames": [],
                    "conditionalFilters": [],
                    "cellFormattingRules": [],
                    "wrappedTextColumnIds": []
                },
                "execution_context_id": "9d99e7d6-4935-4147-87fa-8d492a9d0bcb",
                "deepnote_table_loading": false,
                "cell_id": "46de4a35f5854fed867ae387c159944b",
                "deepnote_cell_type": "code"
            },
            "source": "# polity json needs to be extracted into individual columns\n\nconcenteration_expanded = concentration_df.join(pd.json_normalize(concentration_df[\"polity\"]))\nconcenteration_expanded",
            "block_group": "6fb88c83bec8433eabc1dcd2e6d6cc2b",
            "execution_count": 55,
            "outputs": [
                {
                    "output_type": "execute_result",
                    "execution_count": 55,
                    "data": {
                        "application/vnd.deepnote.dataframe.v3+json": {
                            "column_count": 184,
                            "columns": [
                                {
                                    "name": "tr_id",
                                    "dtype": "float64",
                                    "stats": {
                                        "unique_count": 587,
                                        "nan_count": 354,
                                        "min": "379.0",
                                        "max": "990.0",
                                        "histogram": [
                                            {
                                                "bin_start": 379,
                                                "bin_end": 440.1,
                                                "count": 516
                                            },
                                            {
                                                "bin_start": 440.1,
                                                "bin_end": 501.2,
                                                "count": 164
                                            },
                                            {
                                                "bin_start": 501.2,
                                                "bin_end": 562.3,
                                                "count": 151
                                            },
                                            {
                                                "bin_start": 562.3,
                                                "bin_end": 623.4,
                                                "count": 224
                                            },
                                            {
                                                "bin_start": 623.4,
                                                "bin_end": 684.5,
                                                "count": 139
                                            },
                                            {
                                                "bin_start": 684.5,
                                                "bin_end": 745.6,
                                                "count": 160
                                            },
                                            {
                                                "bin_start": 745.6,
                                                "bin_end": 806.7,
                                                "count": 290
                                            },
                                            {
                                                "bin_start": 806.7,
                                                "bin_end": 867.8,
                                                "count": 193
                                            },
                                            {
                                                "bin_start": 867.8,
                                                "bin_end": 928.9,
                                                "count": 109
                                            },
                                            {
                                                "bin_start": 928.9,
                                                "bin_end": 990,
                                                "count": 224
                                            }
                                        ],
                                        "categories": null
                                    }
                                },
                                {
                                    "name": "polity",
                                    "dtype": "object",
                                    "stats": {
                                        "unique_count": 2524,
                                        "nan_count": 1,
                                        "min": null,
                                        "max": null,
                                        "histogram": null,
                                        "categories": [
                                            {
                                                "name": "{'end_year': 220, 'id': 253, 'long_name': 'Eastern Han Empire', 'name': 'cn_eastern_han_dyn', 'start_year': 25}",
                                                "count": 360
                                            },
                                            {
                                                "name": "626 others",
                                                "count": 2163
                                            },
                                            {
                                                "name": "Missing",
                                                "count": 1
                                            }
                                        ]
                                    }
                                },
                                {
                                    "name": "tr_year_from",
                                    "dtype": "float64",
                                    "stats": {
                                        "unique_count": 160,
                                        "nan_count": 1234,
                                        "min": "-4000.0",
                                        "max": "1936.0",
                                        "histogram": [
                                            {
                                                "bin_start": -4000,
                                                "bin_end": -3406.4,
                                                "count": 20
                                            },
                                            {
                                                "bin_start": -3406.4,
                                                "bin_end": -2812.8,
                                                "count": 1
                                            },
                                            {
                                                "bin_start": -2812.8,
                                                "bin_end": -2219.2,
                                                "count": 2
                                            },
                                            {
                                                "bin_start": -2219.2,
                                                "bin_end": -1625.6,
                                                "count": 3
                                            },
                                            {
                                                "bin_start": -1625.6,
                                                "bin_end": -1032,
                                                "count": 19
                                            },
                                            {
                                                "bin_start": -1032,
                                                "bin_end": -438.39999999999964,
                                                "count": 38
                                            },
                                            {
                                                "bin_start": -438.39999999999964,
                                                "bin_end": 155.19999999999982,
                                                "count": 299
                                            },
                                            {
                                                "bin_start": 155.19999999999982,
                                                "bin_end": 748.8000000000002,
                                                "count": 313
                                            },
                                            {
                                                "bin_start": 748.8000000000002,
                                                "bin_end": 1342.4000000000005,
                                                "count": 272
                                            },
                                            {
                                                "bin_start": 1342.4000000000005,
                                                "bin_end": 1936,
                                                "count": 323
                                            }
                                        ],
                                        "categories": null
                                    }
                                },
                                {
                                    "name": "tr_year_to",
                                    "dtype": "float64",
                                    "stats": {
                                        "unique_count": 161,
                                        "nan_count": 1240,
                                        "min": "-3800.0",
                                        "max": "1940.0",
                                        "histogram": [
                                            {
                                                "bin_start": -3800,
                                                "bin_end": -3226,
                                                "count": 18
                                            },
                                            {
                                                "bin_start": -3226,
                                                "bin_end": -2652,
                                                "count": 5
                                            },
                                            {
                                                "bin_start": -2652,
                                                "bin_end": -2078,
                                                "count": 0
                                            },
                                            {
                                                "bin_start": -2078,
                                                "bin_end": -1504,
                                                "count": 4
                                            },
                                            {
                                                "bin_start": -1504,
                                                "bin_end": -930,
                                                "count": 20
                                            },
                                            {
                                                "bin_start": -930,
                                                "bin_end": -356,
                                                "count": 47
                                            },
                                            {
                                                "bin_start": -356,
                                                "bin_end": 218,
                                                "count": 476
                                            },
                                            {
                                                "bin_start": 218,
                                                "bin_end": 792,
                                                "count": 140
                                            },
                                            {
                                                "bin_start": 792,
                                                "bin_end": 1366,
                                                "count": 290
                                            },
                                            {
                                                "bin_start": 1366,
                                                "bin_end": 1940,
                                                "count": 284
                                            }
                                        ],
                                        "categories": null
                                    }
                                },
                                {
                                    "name": "tr_tag",
                                    "dtype": "object",
                                    "stats": {
                                        "unique_count": 3,
                                        "nan_count": 354,
                                        "min": null,
                                        "max": null,
                                        "histogram": null,
                                        "categories": [
                                            {
                                                "name": "TRS",
                                                "count": 1836
                                            },
                                            {
                                                "name": "2 others",
                                                "count": 334
                                            },
                                            {
                                                "name": "Missing",
                                                "count": 354
                                            }
                                        ]
                                    }
                                },
                                {
                                    "name": "tr_is_disputed",
                                    "dtype": "object",
                                    "stats": {
                                        "unique_count": 2,
                                        "nan_count": 354,
                                        "min": null,
                                        "max": null,
                                        "histogram": null,
                                        "categories": [
                                            {
                                                "name": "False",
                                                "count": 2168
                                            },
                                            {
                                                "name": "True",
                                                "count": 2
                                            },
                                            {
                                                "name": "Missing",
                                                "count": 354
                                            }
                                        ]
                                    }
                                },
                                {
                                    "name": "tr_is_uncertain",
                                    "dtype": "object",
                                    "stats": {
                                        "unique_count": 2,
                                        "nan_count": 354,
                                        "min": null,
                                        "max": null,
                                        "histogram": null,
                                        "categories": [
                                            {
                                                "name": "False",
                                                "count": 2143
                                            },
                                            {
                                                "name": "True",
                                                "count": 27
                                            },
                                            {
                                                "name": "Missing",
                                                "count": 354
                                            }
                                        ]
                                    }
                                },
                                {
                                    "name": "tr_name",
                                    "dtype": "object",
                                    "stats": {
                                        "unique_count": 1,
                                        "nan_count": 354,
                                        "min": null,
                                        "max": null,
                                        "histogram": null,
                                        "categories": [
                                            {
                                                "name": "Polity_territory",
                                                "count": 2170
                                            },
                                            {
                                                "name": "Missing",
                                                "count": 354
                                            }
                                        ]
                                    }
                                },
                                {
                                    "name": "tr_polity_territory_from",
                                    "dtype": "float64",
                                    "stats": {
                                        "unique_count": 265,
                                        "nan_count": 690,
                                        "min": "0.0",
                                        "max": "673396908.0",
                                        "histogram": [
                                            {
                                                "bin_start": 0,
                                                "bin_end": 67339690.8,
                                                "count": 1818
                                            },
                                            {
                                                "bin_start": 67339690.8,
                                                "bin_end": 134679381.6,
                                                "count": 0
                                            },
                                            {
                                                "bin_start": 134679381.6,
                                                "bin_end": 202019072.39999998,
                                                "count": 0
                                            },
                                            {
                                                "bin_start": 202019072.39999998,
                                                "bin_end": 269358763.2,
                                                "count": 0
                                            },
                                            {
                                                "bin_start": 269358763.2,
                                                "bin_end": 336698454,
                                                "count": 0
                                            },
                                            {
                                                "bin_start": 336698454,
                                                "bin_end": 404038144.79999995,
                                                "count": 0
                                            },
                                            {
                                                "bin_start": 404038144.79999995,
                                                "bin_end": 471377835.59999996,
                                                "count": 0
                                            },
                                            {
                                                "bin_start": 471377835.59999996,
                                                "bin_end": 538717526.4,
                                                "count": 0
                                            },
                                            {
                                                "bin_start": 538717526.4,
                                                "bin_end": 606057217.1999999,
                                                "count": 0
                                            },
                                            {
                                                "bin_start": 606057217.1999999,
                                                "bin_end": 673396908,
                                                "count": 16
                                            }
                                        ],
                                        "categories": null
                                    }
                                },
                                {
                                    "name": "tr_polity_territory_to",
                                    "dtype": "float64",
                                    "stats": {
                                        "unique_count": 262,
                                        "nan_count": 691,
                                        "min": "1.0",
                                        "max": "673396908.0",
                                        "histogram": [
                                            {
                                                "bin_start": 1,
                                                "bin_end": 67339691.7,
                                                "count": 1817
                                            },
                                            {
                                                "bin_start": 67339691.7,
                                                "bin_end": 134679382.4,
                                                "count": 0
                                            },
                                            {
                                                "bin_start": 134679382.4,
                                                "bin_end": 202019073.10000002,
                                                "count": 0
                                            },
                                            {
                                                "bin_start": 202019073.10000002,
                                                "bin_end": 269358763.8,
                                                "count": 0
                                            },
                                            {
                                                "bin_start": 269358763.8,
                                                "bin_end": 336698454.5,
                                                "count": 0
                                            },
                                            {
                                                "bin_start": 336698454.5,
                                                "bin_end": 404038145.20000005,
                                                "count": 0
                                            },
                                            {
                                                "bin_start": 404038145.20000005,
                                                "bin_end": 471377835.90000004,
                                                "count": 0
                                            },
                                            {
                                                "bin_start": 471377835.90000004,
                                                "bin_end": 538717526.6,
                                                "count": 0
                                            },
                                            {
                                                "bin_start": 538717526.6,
                                                "bin_end": 606057217.3000001,
                                                "count": 0
                                            },
                                            {
                                                "bin_start": 606057217.3000001,
                                                "bin_end": 673396908,
                                                "count": 16
                                            }
                                        ],
                                        "categories": null
                                    }
                                },
                                {
                                    "name": "tr_comment",
                                    "dtype": "object",
                                    "stats": {
                                        "unique_count": 62,
                                        "nan_count": 2211,
                                        "min": null,
                                        "max": null,
                                        "histogram": null,
                                        "categories": [
                                            {
                                                "name": "in squared kilometers. This is the combined area of the modern-day Indian states of Maharashtra, Karnataka, Andhra Pradesh, Kerala and Tamil Nadu, where \"the vast majority of prehistoric megaliths and associated sites are situated\" (though there are outliers in Jammu, Kashmir, Uttar Pradesh, Bihar, West Bengal, Rajasthan, Gujarat and Madhya Pradesh)   <a class=\"fw-bold\" href=\"https://www.zotero.org/groups/1051264/seshat_databank/items/KTD23CBA\">[Brubaker 2001, pp. 253-302]</a>",
                                                "count": 81
                                            },
                                            {
                                                "name": "61 others",
                                                "count": 232
                                            },
                                            {
                                                "name": "Missing",
                                                "count": 2211
                                            }
                                        ]
                                    }
                                },
                                {
                                    "name": "tr_description",
                                    "dtype": "object",
                                    "stats": {
                                        "unique_count": 348,
                                        "nan_count": 658,
                                        "min": null,
                                        "max": null,
                                        "histogram": null,
                                        "categories": [
                                            {
                                                "name": " KM2. 5,500,000: 80 CE; 6,500,000: 100 CE; 5,344,000: 120 CE; 4,633,000: 140 CE; 3,922,000: 160 CE; 3,211,000: 180 CE; 2,500,000: 200 CE. Km2. Contains interpolated data. §REF§(Chase-Dunn Spreadsheet)§REF§",
                                                "count": 360
                                            },
                                            {
                                                "name": "347 others",
                                                "count": 1506
                                            },
                                            {
                                                "name": "Missing",
                                                "count": 658
                                            }
                                        ]
                                    }
                                },
                                {
                                    "name": "pop_id",
                                    "dtype": "float64",
                                    "stats": {
                                        "unique_count": 577,
                                        "nan_count": 419,
                                        "min": "273.0",
                                        "max": "854.0",
                                        "histogram": [
                                            {
                                                "bin_start": 273,
                                                "bin_end": 331.1,
                                                "count": 493
                                            },
                                            {
                                                "bin_start": 331.1,
                                                "bin_end": 389.2,
                                                "count": 112
                                            },
                                            {
                                                "bin_start": 389.2,
                                                "bin_end": 447.3,
                                                "count": 233
                                            },
                                            {
                                                "bin_start": 447.3,
                                                "bin_end": 505.4,
                                                "count": 85
                                            },
                                            {
                                                "bin_start": 505.4,
                                                "bin_end": 563.5,
                                                "count": 297
                                            },
                                            {
                                                "bin_start": 563.5,
                                                "bin_end": 621.6,
                                                "count": 229
                                            },
                                            {
                                                "bin_start": 621.6,
                                                "bin_end": 679.7,
                                                "count": 256
                                            },
                                            {
                                                "bin_start": 679.7,
                                                "bin_end": 737.8,
                                                "count": 142
                                            },
                                            {
                                                "bin_start": 737.8,
                                                "bin_end": 795.9,
                                                "count": 180
                                            },
                                            {
                                                "bin_start": 795.9,
                                                "bin_end": 854,
                                                "count": 78
                                            }
                                        ],
                                        "categories": null
                                    }
                                },
                                {
                                    "name": "pop_year_from",
                                    "dtype": "float64",
                                    "stats": {
                                        "unique_count": 149,
                                        "nan_count": 937,
                                        "min": "-4300.0",
                                        "max": "1989.0",
                                        "histogram": [
                                            {
                                                "bin_start": -4300,
                                                "bin_end": -3671.1,
                                                "count": 26
                                            },
                                            {
                                                "bin_start": -3671.1,
                                                "bin_end": -3042.2,
                                                "count": 78
                                            },
                                            {
                                                "bin_start": -3042.2,
                                                "bin_end": -2413.3,
                                                "count": 0
                                            },
                                            {
                                                "bin_start": -2413.3,
                                                "bin_end": -1784.4,
                                                "count": 1
                                            },
                                            {
                                                "bin_start": -1784.4,
                                                "bin_end": -1155.5,
                                                "count": 30
                                            },
                                            {
                                                "bin_start": -1155.5,
                                                "bin_end": -526.6000000000004,
                                                "count": 73
                                            },
                                            {
                                                "bin_start": -526.6000000000004,
                                                "bin_end": 102.30000000000018,
                                                "count": 229
                                            },
                                            {
                                                "bin_start": 102.30000000000018,
                                                "bin_end": 731.1999999999998,
                                                "count": 398
                                            },
                                            {
                                                "bin_start": 731.1999999999998,
                                                "bin_end": 1360.0999999999995,
                                                "count": 413
                                            },
                                            {
                                                "bin_start": 1360.0999999999995,
                                                "bin_end": 1989,
                                                "count": 339
                                            }
                                        ],
                                        "categories": null
                                    }
                                },
                                {
                                    "name": "pop_year_to",
                                    "dtype": "float64",
                                    "stats": {
                                        "unique_count": 154,
                                        "nan_count": 941,
                                        "min": "-4000.0",
                                        "max": "1989.0",
                                        "histogram": [
                                            {
                                                "bin_start": -4000,
                                                "bin_end": -3401.1,
                                                "count": 40
                                            },
                                            {
                                                "bin_start": -3401.1,
                                                "bin_end": -2802.2,
                                                "count": 64
                                            },
                                            {
                                                "bin_start": -2802.2,
                                                "bin_end": -2203.3,
                                                "count": 0
                                            },
                                            {
                                                "bin_start": -2203.3,
                                                "bin_end": -1604.4,
                                                "count": 0
                                            },
                                            {
                                                "bin_start": -1604.4,
                                                "bin_end": -1005.5,
                                                "count": 2
                                            },
                                            {
                                                "bin_start": -1005.5,
                                                "bin_end": -406.60000000000036,
                                                "count": 90
                                            },
                                            {
                                                "bin_start": -406.60000000000036,
                                                "bin_end": 192.30000000000018,
                                                "count": 489
                                            },
                                            {
                                                "bin_start": 192.30000000000018,
                                                "bin_end": 791.1999999999998,
                                                "count": 196
                                            },
                                            {
                                                "bin_start": 791.1999999999998,
                                                "bin_end": 1390.0999999999995,
                                                "count": 360
                                            },
                                            {
                                                "bin_start": 1390.0999999999995,
                                                "bin_end": 1989,
                                                "count": 342
                                            }
                                        ],
                                        "categories": null
                                    }
                                },
                                {
                                    "name": "pop_tag",
                                    "dtype": "object",
                                    "stats": {
                                        "unique_count": 4,
                                        "nan_count": 419,
                                        "min": null,
                                        "max": null,
                                        "histogram": null,
                                        "categories": [
                                            {
                                                "name": "TRS",
                                                "count": 1867
                                            },
                                            {
                                                "name": "3 others",
                                                "count": 238
                                            },
                                            {
                                                "name": "Missing",
                                                "count": 419
                                            }
                                        ]
                                    }
                                },
                                {
                                    "name": "pop_is_disputed",
                                    "dtype": "object",
                                    "stats": {
                                        "unique_count": 2,
                                        "nan_count": 419,
                                        "min": null,
                                        "max": null,
                                        "histogram": null,
                                        "categories": [
                                            {
                                                "name": "False",
                                                "count": 2056
                                            },
                                            {
                                                "name": "True",
                                                "count": 49
                                            },
                                            {
                                                "name": "Missing",
                                                "count": 419
                                            }
                                        ]
                                    }
                                },
                                {
                                    "name": "pop_is_uncertain",
                                    "dtype": "object",
                                    "stats": {
                                        "unique_count": 2,
                                        "nan_count": 419,
                                        "min": null,
                                        "max": null,
                                        "histogram": null,
                                        "categories": [
                                            {
                                                "name": "False",
                                                "count": 2075
                                            },
                                            {
                                                "name": "True",
                                                "count": 30
                                            },
                                            {
                                                "name": "Missing",
                                                "count": 419
                                            }
                                        ]
                                    }
                                },
                                {
                                    "name": "pop_name",
                                    "dtype": "object",
                                    "stats": {
                                        "unique_count": 1,
                                        "nan_count": 419,
                                        "min": null,
                                        "max": null,
                                        "histogram": null,
                                        "categories": [
                                            {
                                                "name": "Polity_population",
                                                "count": 2105
                                            },
                                            {
                                                "name": "Missing",
                                                "count": 419
                                            }
                                        ]
                                    }
                                },
                                {
                                    "name": "pop_polity_population_from",
                                    "dtype": "float64",
                                    "stats": {
                                        "unique_count": 218,
                                        "nan_count": 663,
                                        "min": "10.0",
                                        "max": "531000000.0",
                                        "histogram": [
                                            {
                                                "bin_start": 10,
                                                "bin_end": 53100009,
                                                "count": 1705
                                            },
                                            {
                                                "bin_start": 53100009,
                                                "bin_end": 106200008,
                                                "count": 116
                                            },
                                            {
                                                "bin_start": 106200008,
                                                "bin_end": 159300007,
                                                "count": 14
                                            },
                                            {
                                                "bin_start": 159300007,
                                                "bin_end": 212400006,
                                                "count": 8
                                            },
                                            {
                                                "bin_start": 212400006,
                                                "bin_end": 265500005,
                                                "count": 8
                                            },
                                            {
                                                "bin_start": 265500005,
                                                "bin_end": 318600004,
                                                "count": 3
                                            },
                                            {
                                                "bin_start": 318600004,
                                                "bin_end": 371700003,
                                                "count": 1
                                            },
                                            {
                                                "bin_start": 371700003,
                                                "bin_end": 424800002,
                                                "count": 2
                                            },
                                            {
                                                "bin_start": 424800002,
                                                "bin_end": 477900001,
                                                "count": 2
                                            },
                                            {
                                                "bin_start": 477900001,
                                                "bin_end": 531000000,
                                                "count": 2
                                            }
                                        ],
                                        "categories": null
                                    }
                                },
                                {
                                    "name": "pop_polity_population_to",
                                    "dtype": "float64",
                                    "stats": {
                                        "unique_count": 218,
                                        "nan_count": 664,
                                        "min": "50.0",
                                        "max": "531000000.0",
                                        "histogram": [
                                            {
                                                "bin_start": 50,
                                                "bin_end": 53100045,
                                                "count": 1641
                                            },
                                            {
                                                "bin_start": 53100045,
                                                "bin_end": 106200040,
                                                "count": 173
                                            },
                                            {
                                                "bin_start": 106200040,
                                                "bin_end": 159300035,
                                                "count": 14
                                            },
                                            {
                                                "bin_start": 159300035,
                                                "bin_end": 212400030,
                                                "count": 10
                                            },
                                            {
                                                "bin_start": 212400030,
                                                "bin_end": 265500025,
                                                "count": 8
                                            },
                                            {
                                                "bin_start": 265500025,
                                                "bin_end": 318600020,
                                                "count": 7
                                            },
                                            {
                                                "bin_start": 318600020,
                                                "bin_end": 371700015,
                                                "count": 1
                                            },
                                            {
                                                "bin_start": 371700015,
                                                "bin_end": 424800010,
                                                "count": 2
                                            },
                                            {
                                                "bin_start": 424800010,
                                                "bin_end": 477900005,
                                                "count": 2
                                            },
                                            {
                                                "bin_start": 477900005,
                                                "bin_end": 531000000,
                                                "count": 2
                                            }
                                        ],
                                        "categories": null
                                    }
                                },
                                {
                                    "name": "pop_comment",
                                    "dtype": "object",
                                    "stats": {
                                        "unique_count": 49,
                                        "nan_count": 2363,
                                        "min": null,
                                        "max": null,
                                        "histogram": null,
                                        "categories": [
                                            {
                                                "name": "EMPTY_COMMENT",
                                                "count": 42
                                            },
                                            {
                                                "name": "48 others",
                                                "count": 119
                                            },
                                            {
                                                "name": "Missing",
                                                "count": 2363
                                            }
                                        ]
                                    }
                                },
                                {
                                    "name": "pop_description",
                                    "dtype": "object",
                                    "stats": {
                                        "unique_count": 340,
                                        "nan_count": 579,
                                        "min": null,
                                        "max": null,
                                        "histogram": null,
                                        "categories": [
                                            {
                                                "name": " People.<br>57.7 million in census of 2 CE. 48,000,000 in census of 140 CE - however data from three commanderies were missing in this census.§REF§(Bielenstein 1986, 240)§REF§ Annual population register figures: 2 CE: 57.7m (76% in north). 140 CE: 48m (54% in north). §REF§(Roberts 2003, 56-60)§REF§<br>\"With the exception of Yuyang, where the resettlement of the Wuhuan and Xianbi led to a population increase, all commanderies show significant declines, many more than eighty or ninety percent...indicates a genuine decline in the Han population due to barbarian incursions.\" §REF§(Lewis 2000, 65) Lewis, Mark. 2000. The Han Abolition of Universal Military Service. in ed. Van de ven, Hans. Warfare in Chinese History. Brill. 33-76.§REF§ Note: decline from Han leaving or being killed?<br>From Bielenstein (1987): \"The following national totals have been preserved for the Han dynasty\", but there is some margin of error as is natural with historical censuses.<br>2 CE- 59,594,978 individuals<br>57 CE- 21,007,820 individuals<br>75 CE- 34,125,021 individuals<br>88 CE- 43,356,367 individuals<br>105 CE- 53,256,219 individuals<br>125 CE- 48,690,789 individuals<br>126-144 CE- 49,150,220 individuals<br>136-141 CE- 53,869,588 individuals<br>140 CE- 49,150,220 individuals<br>144 CE- 49,730,550 individuals<br>146 CE- 47,556,772 individuals<br>156 CE- 50,066,856 individuals<br>157 CE- 56,486,856 individuals §REF§(Bielenstein 1987: 12) Bielenstein, Hans. 1987. \"Chinese Historical Demography AD 2-1982.\" Bulletin of the Museum of Far Antiquities 59: 1-139)§REF§",
                                                "count": 360
                                            },
                                            {
                                                "name": "339 others",
                                                "count": 1585
                                            },
                                            {
                                                "name": "Missing",
                                                "count": 579
                                            }
                                        ]
                                    }
                                },
                                {
                                    "name": "stl_id",
                                    "dtype": "float64",
                                    "stats": {
                                        "unique_count": 529,
                                        "nan_count": 214,
                                        "min": "1.0",
                                        "max": "566.0",
                                        "histogram": [
                                            {
                                                "bin_start": 1,
                                                "bin_end": 57.5,
                                                "count": 658
                                            },
                                            {
                                                "bin_start": 57.5,
                                                "bin_end": 114,
                                                "count": 161
                                            },
                                            {
                                                "bin_start": 114,
                                                "bin_end": 170.5,
                                                "count": 196
                                            },
                                            {
                                                "bin_start": 170.5,
                                                "bin_end": 227,
                                                "count": 282
                                            },
                                            {
                                                "bin_start": 227,
                                                "bin_end": 283.5,
                                                "count": 90
                                            },
                                            {
                                                "bin_start": 283.5,
                                                "bin_end": 340,
                                                "count": 315
                                            },
                                            {
                                                "bin_start": 340,
                                                "bin_end": 396.5,
                                                "count": 80
                                            },
                                            {
                                                "bin_start": 396.5,
                                                "bin_end": 453,
                                                "count": 154
                                            },
                                            {
                                                "bin_start": 453,
                                                "bin_end": 509.5,
                                                "count": 241
                                            },
                                            {
                                                "bin_start": 509.5,
                                                "bin_end": 566,
                                                "count": 133
                                            }
                                        ],
                                        "categories": null
                                    }
                                },
                                {
                                    "name": "stl_year_from",
                                    "dtype": "float64",
                                    "stats": {
                                        "unique_count": 33,
                                        "nan_count": 1993,
                                        "min": "-3800.0",
                                        "max": "1798.0",
                                        "histogram": [
                                            {
                                                "bin_start": -3800,
                                                "bin_end": -3240.2,
                                                "count": 86
                                            },
                                            {
                                                "bin_start": -3240.2,
                                                "bin_end": -2680.4,
                                                "count": 1
                                            },
                                            {
                                                "bin_start": -2680.4,
                                                "bin_end": -2120.6000000000004,
                                                "count": 1
                                            },
                                            {
                                                "bin_start": -2120.6000000000004,
                                                "bin_end": -1560.8000000000002,
                                                "count": 1
                                            },
                                            {
                                                "bin_start": -1560.8000000000002,
                                                "bin_end": -1001,
                                                "count": 28
                                            },
                                            {
                                                "bin_start": -1001,
                                                "bin_end": -441.2000000000003,
                                                "count": 63
                                            },
                                            {
                                                "bin_start": -441.2000000000003,
                                                "bin_end": 118.59999999999945,
                                                "count": 18
                                            },
                                            {
                                                "bin_start": 118.59999999999945,
                                                "bin_end": 678.3999999999996,
                                                "count": 7
                                            },
                                            {
                                                "bin_start": 678.3999999999996,
                                                "bin_end": 1238.1999999999998,
                                                "count": 96
                                            },
                                            {
                                                "bin_start": 1238.1999999999998,
                                                "bin_end": 1798,
                                                "count": 230
                                            }
                                        ],
                                        "categories": null
                                    }
                                },
                                {
                                    "name": "stl_year_to",
                                    "dtype": "float64",
                                    "stats": {
                                        "unique_count": 32,
                                        "nan_count": 1993,
                                        "min": "-3651.0",
                                        "max": "1897.0",
                                        "histogram": [
                                            {
                                                "bin_start": -3651,
                                                "bin_end": -3096.2,
                                                "count": 86
                                            },
                                            {
                                                "bin_start": -3096.2,
                                                "bin_end": -2541.4,
                                                "count": 0
                                            },
                                            {
                                                "bin_start": -2541.4,
                                                "bin_end": -1986.6000000000001,
                                                "count": 1
                                            },
                                            {
                                                "bin_start": -1986.6000000000001,
                                                "bin_end": -1431.8000000000002,
                                                "count": 2
                                            },
                                            {
                                                "bin_start": -1431.8000000000002,
                                                "bin_end": -877,
                                                "count": 28
                                            },
                                            {
                                                "bin_start": -877,
                                                "bin_end": -322.2000000000003,
                                                "count": 45
                                            },
                                            {
                                                "bin_start": -322.2000000000003,
                                                "bin_end": 232.59999999999945,
                                                "count": 36
                                            },
                                            {
                                                "bin_start": 232.59999999999945,
                                                "bin_end": 787.3999999999996,
                                                "count": 5
                                            },
                                            {
                                                "bin_start": 787.3999999999996,
                                                "bin_end": 1342.1999999999998,
                                                "count": 98
                                            },
                                            {
                                                "bin_start": 1342.1999999999998,
                                                "bin_end": 1897,
                                                "count": 230
                                            }
                                        ],
                                        "categories": null
                                    }
                                },
                                {
                                    "name": "stl_tag",
                                    "dtype": "object",
                                    "stats": {
                                        "unique_count": 3,
                                        "nan_count": 214,
                                        "min": null,
                                        "max": null,
                                        "histogram": null,
                                        "categories": [
                                            {
                                                "name": "TRS",
                                                "count": 2270
                                            },
                                            {
                                                "name": "2 others",
                                                "count": 40
                                            },
                                            {
                                                "name": "Missing",
                                                "count": 214
                                            }
                                        ]
                                    }
                                },
                                {
                                    "name": "stl_is_disputed",
                                    "dtype": "object",
                                    "stats": {
                                        "unique_count": 1,
                                        "nan_count": 214,
                                        "min": null,
                                        "max": null,
                                        "histogram": null,
                                        "categories": [
                                            {
                                                "name": "False",
                                                "count": 2310
                                            },
                                            {
                                                "name": "Missing",
                                                "count": 214
                                            }
                                        ]
                                    }
                                },
                                {
                                    "name": "stl_is_uncertain",
                                    "dtype": "object",
                                    "stats": {
                                        "unique_count": 1,
                                        "nan_count": 214,
                                        "min": null,
                                        "max": null,
                                        "histogram": null,
                                        "categories": [
                                            {
                                                "name": "False",
                                                "count": 2310
                                            },
                                            {
                                                "name": "Missing",
                                                "count": 214
                                            }
                                        ]
                                    }
                                },
                                {
                                    "name": "stl_name",
                                    "dtype": "object",
                                    "stats": {
                                        "unique_count": 1,
                                        "nan_count": 214,
                                        "min": null,
                                        "max": null,
                                        "histogram": null,
                                        "categories": [
                                            {
                                                "name": "Settlement_hierarchy",
                                                "count": 2310
                                            },
                                            {
                                                "name": "Missing",
                                                "count": 214
                                            }
                                        ]
                                    }
                                },
                                {
                                    "name": "stl_settlement_hierarchy_from",
                                    "dtype": "float64",
                                    "stats": {
                                        "unique_count": 9,
                                        "nan_count": 254,
                                        "min": "0.0",
                                        "max": "8.0",
                                        "histogram": [
                                            {
                                                "bin_start": 0,
                                                "bin_end": 0.8,
                                                "count": 1
                                            },
                                            {
                                                "bin_start": 0.8,
                                                "bin_end": 1.6,
                                                "count": 260
                                            },
                                            {
                                                "bin_start": 1.6,
                                                "bin_end": 2.4000000000000004,
                                                "count": 282
                                            },
                                            {
                                                "bin_start": 2.4000000000000004,
                                                "bin_end": 3.2,
                                                "count": 485
                                            },
                                            {
                                                "bin_start": 3.2,
                                                "bin_end": 4,
                                                "count": 0
                                            },
                                            {
                                                "bin_start": 4,
                                                "bin_end": 4.800000000000001,
                                                "count": 359
                                            },
                                            {
                                                "bin_start": 4.800000000000001,
                                                "bin_end": 5.6000000000000005,
                                                "count": 194
                                            },
                                            {
                                                "bin_start": 5.6000000000000005,
                                                "bin_end": 6.4,
                                                "count": 640
                                            },
                                            {
                                                "bin_start": 6.4,
                                                "bin_end": 7.2,
                                                "count": 43
                                            },
                                            {
                                                "bin_start": 7.2,
                                                "bin_end": 8,
                                                "count": 6
                                            }
                                        ],
                                        "categories": null
                                    }
                                },
                                {
                                    "name": "stl_settlement_hierarchy_to",
                                    "dtype": "float64",
                                    "stats": {
                                        "unique_count": 8,
                                        "nan_count": 254,
                                        "min": "1.0",
                                        "max": "8.0",
                                        "histogram": [
                                            {
                                                "bin_start": 1,
                                                "bin_end": 1.7,
                                                "count": 166
                                            },
                                            {
                                                "bin_start": 1.7,
                                                "bin_end": 2.4,
                                                "count": 198
                                            },
                                            {
                                                "bin_start": 2.4,
                                                "bin_end": 3.0999999999999996,
                                                "count": 516
                                            },
                                            {
                                                "bin_start": 3.0999999999999996,
                                                "bin_end": 3.8,
                                                "count": 0
                                            },
                                            {
                                                "bin_start": 3.8,
                                                "bin_end": 4.5,
                                                "count": 374
                                            },
                                            {
                                                "bin_start": 4.5,
                                                "bin_end": 5.199999999999999,
                                                "count": 267
                                            },
                                            {
                                                "bin_start": 5.199999999999999,
                                                "bin_end": 5.8999999999999995,
                                                "count": 0
                                            },
                                            {
                                                "bin_start": 5.8999999999999995,
                                                "bin_end": 6.6,
                                                "count": 682
                                            },
                                            {
                                                "bin_start": 6.6,
                                                "bin_end": 7.3,
                                                "count": 61
                                            },
                                            {
                                                "bin_start": 7.3,
                                                "bin_end": 8,
                                                "count": 6
                                            }
                                        ],
                                        "categories": null
                                    }
                                },
                                {
                                    "name": "stl_comment",
                                    "dtype": "object",
                                    "stats": {
                                        "unique_count": 47,
                                        "nan_count": 2275,
                                        "min": null,
                                        "max": null,
                                        "histogram": null,
                                        "categories": [
                                            {
                                                "name": "EMPTY_COMMENT",
                                                "count": 76
                                            },
                                            {
                                                "name": "46 others",
                                                "count": 173
                                            },
                                            {
                                                "name": "Missing",
                                                "count": 2275
                                            }
                                        ]
                                    }
                                },
                                {
                                    "name": "stl_description",
                                    "dtype": "object",
                                    "stats": {
                                        "unique_count": 433,
                                        "nan_count": 457,
                                        "min": null,
                                        "max": null,
                                        "histogram": null,
                                        "categories": [
                                            {
                                                "name": "1. Capital city<br>2. Provincial capital<br>3. Tributary capital<br>4. County capital<br>5. Town<br>6. Village<br>",
                                                "count": 360
                                            },
                                            {
                                                "name": "432 others",
                                                "count": 1707
                                            },
                                            {
                                                "name": "Missing",
                                                "count": 457
                                            }
                                        ]
                                    }
                                },
                                {
                                    "name": "adm_id",
                                    "dtype": "float64",
                                    "stats": {
                                        "unique_count": 526,
                                        "nan_count": 233,
                                        "min": "1.0",
                                        "max": "571.0",
                                        "histogram": [
                                            {
                                                "bin_start": 1,
                                                "bin_end": 58,
                                                "count": 249
                                            },
                                            {
                                                "bin_start": 58,
                                                "bin_end": 115,
                                                "count": 183
                                            },
                                            {
                                                "bin_start": 115,
                                                "bin_end": 172,
                                                "count": 207
                                            },
                                            {
                                                "bin_start": 172,
                                                "bin_end": 229,
                                                "count": 269
                                            },
                                            {
                                                "bin_start": 229,
                                                "bin_end": 286,
                                                "count": 195
                                            },
                                            {
                                                "bin_start": 286,
                                                "bin_end": 343,
                                                "count": 595
                                            },
                                            {
                                                "bin_start": 343,
                                                "bin_end": 400,
                                                "count": 91
                                            },
                                            {
                                                "bin_start": 400,
                                                "bin_end": 457,
                                                "count": 165
                                            },
                                            {
                                                "bin_start": 457,
                                                "bin_end": 514,
                                                "count": 267
                                            },
                                            {
                                                "bin_start": 514,
                                                "bin_end": 571,
                                                "count": 70
                                            }
                                        ],
                                        "categories": null
                                    }
                                },
                                {
                                    "name": "adm_year_from",
                                    "dtype": "float64",
                                    "stats": {
                                        "unique_count": 42,
                                        "nan_count": 1971,
                                        "min": "-3700.0",
                                        "max": "1867.0",
                                        "histogram": [
                                            {
                                                "bin_start": -3700,
                                                "bin_end": -3143.3,
                                                "count": 60
                                            },
                                            {
                                                "bin_start": -3143.3,
                                                "bin_end": -2586.6,
                                                "count": 10
                                            },
                                            {
                                                "bin_start": -2586.6,
                                                "bin_end": -2029.8999999999999,
                                                "count": 0
                                            },
                                            {
                                                "bin_start": -2029.8999999999999,
                                                "bin_end": -1473.1999999999998,
                                                "count": 0
                                            },
                                            {
                                                "bin_start": -1473.1999999999998,
                                                "bin_end": -916.5,
                                                "count": 54
                                            },
                                            {
                                                "bin_start": -916.5,
                                                "bin_end": -359.7999999999997,
                                                "count": 27
                                            },
                                            {
                                                "bin_start": -359.7999999999997,
                                                "bin_end": 196.90000000000055,
                                                "count": 16
                                            },
                                            {
                                                "bin_start": 196.90000000000055,
                                                "bin_end": 753.6000000000004,
                                                "count": 37
                                            },
                                            {
                                                "bin_start": 753.6000000000004,
                                                "bin_end": 1310.3000000000002,
                                                "count": 117
                                            },
                                            {
                                                "bin_start": 1310.3000000000002,
                                                "bin_end": 1867,
                                                "count": 232
                                            }
                                        ],
                                        "categories": null
                                    }
                                },
                                {
                                    "name": "adm_year_to",
                                    "dtype": "float64",
                                    "stats": {
                                        "unique_count": 43,
                                        "nan_count": 1971,
                                        "min": "-3700.0",
                                        "max": "1918.0",
                                        "histogram": [
                                            {
                                                "bin_start": -3700,
                                                "bin_end": -3138.2,
                                                "count": 60
                                            },
                                            {
                                                "bin_start": -3138.2,
                                                "bin_end": -2576.4,
                                                "count": 10
                                            },
                                            {
                                                "bin_start": -2576.4,
                                                "bin_end": -2014.6000000000001,
                                                "count": 0
                                            },
                                            {
                                                "bin_start": -2014.6000000000001,
                                                "bin_end": -1452.8000000000002,
                                                "count": 0
                                            },
                                            {
                                                "bin_start": -1452.8000000000002,
                                                "bin_end": -891,
                                                "count": 27
                                            },
                                            {
                                                "bin_start": -891,
                                                "bin_end": -329.2000000000003,
                                                "count": 33
                                            },
                                            {
                                                "bin_start": -329.2000000000003,
                                                "bin_end": 232.59999999999945,
                                                "count": 37
                                            },
                                            {
                                                "bin_start": 232.59999999999945,
                                                "bin_end": 794.3999999999996,
                                                "count": 36
                                            },
                                            {
                                                "bin_start": 794.3999999999996,
                                                "bin_end": 1356.1999999999998,
                                                "count": 106
                                            },
                                            {
                                                "bin_start": 1356.1999999999998,
                                                "bin_end": 1918,
                                                "count": 244
                                            }
                                        ],
                                        "categories": null
                                    }
                                },
                                {
                                    "name": "adm_tag",
                                    "dtype": "object",
                                    "stats": {
                                        "unique_count": 3,
                                        "nan_count": 233,
                                        "min": null,
                                        "max": null,
                                        "histogram": null,
                                        "categories": [
                                            {
                                                "name": "TRS",
                                                "count": 2175
                                            },
                                            {
                                                "name": "2 others",
                                                "count": 116
                                            },
                                            {
                                                "name": "Missing",
                                                "count": 233
                                            }
                                        ]
                                    }
                                },
                                {
                                    "name": "adm_is_disputed",
                                    "dtype": "object",
                                    "stats": {
                                        "unique_count": 1,
                                        "nan_count": 233,
                                        "min": null,
                                        "max": null,
                                        "histogram": null,
                                        "categories": [
                                            {
                                                "name": "False",
                                                "count": 2291
                                            },
                                            {
                                                "name": "Missing",
                                                "count": 233
                                            }
                                        ]
                                    }
                                },
                                {
                                    "name": "adm_is_uncertain",
                                    "dtype": "object"
                                },
                                {
                                    "name": "adm_name",
                                    "dtype": "object"
                                },
                                {
                                    "name": "adm_administrative_level_from",
                                    "dtype": "float64"
                                },
                                {
                                    "name": "adm_administrative_level_to",
                                    "dtype": "float64"
                                },
                                {
                                    "name": "adm_comment",
                                    "dtype": "object"
                                },
                                {
                                    "name": "adm_description",
                                    "dtype": "object"
                                },
                                {
                                    "name": "rlg_id",
                                    "dtype": "float64"
                                },
                                {
                                    "name": "rlg_year_from",
                                    "dtype": "float64"
                                },
                                {
                                    "name": "rlg_year_to",
                                    "dtype": "float64"
                                },
                                {
                                    "name": "rlg_tag",
                                    "dtype": "object"
                                },
                                {
                                    "name": "rlg_is_disputed",
                                    "dtype": "object"
                                },
                                {
                                    "name": "rlg_is_uncertain",
                                    "dtype": "object"
                                },
                                {
                                    "name": "rlg_name",
                                    "dtype": "object"
                                },
                                {
                                    "name": "rlg_religious_level_from",
                                    "dtype": "float64"
                                },
                                {
                                    "name": "rlg_religious_level_to",
                                    "dtype": "float64"
                                },
                                {
                                    "name": "rlg_comment",
                                    "dtype": "object"
                                },
                                {
                                    "name": "rlg_description",
                                    "dtype": "object"
                                },
                                {
                                    "name": "milt_id",
                                    "dtype": "float64"
                                },
                                {
                                    "name": "milt_year_from",
                                    "dtype": "float64"
                                },
                                {
                                    "name": "milt_year_to",
                                    "dtype": "float64"
                                },
                                {
                                    "name": "milt_tag",
                                    "dtype": "object"
                                },
                                {
                                    "name": "milt_is_disputed",
                                    "dtype": "object"
                                },
                                {
                                    "name": "milt_is_uncertain",
                                    "dtype": "object"
                                },
                                {
                                    "name": "milt_name",
                                    "dtype": "object"
                                },
                                {
                                    "name": "milt_military_level_from",
                                    "dtype": "float64"
                                },
                                {
                                    "name": "milt_military_level_to",
                                    "dtype": "float64"
                                },
                                {
                                    "name": "milt_comment",
                                    "dtype": "object"
                                },
                                {
                                    "name": "milt_description",
                                    "dtype": "object"
                                },
                                {
                                    "name": "bur_id",
                                    "dtype": "float64"
                                },
                                {
                                    "name": "bur_year_from",
                                    "dtype": "float64"
                                },
                                {
                                    "name": "bur_year_to",
                                    "dtype": "float64"
                                },
                                {
                                    "name": "bur_tag",
                                    "dtype": "object"
                                },
                                {
                                    "name": "bur_is_disputed",
                                    "dtype": "object"
                                },
                                {
                                    "name": "bur_is_uncertain",
                                    "dtype": "object"
                                },
                                {
                                    "name": "bur_name",
                                    "dtype": "object"
                                },
                                {
                                    "name": "bur_full_time_bureaucrat",
                                    "dtype": "object"
                                },
                                {
                                    "name": "bur_comment",
                                    "dtype": "object"
                                },
                                {
                                    "name": "bur_description",
                                    "dtype": "object"
                                },
                                {
                                    "name": "mrt_id",
                                    "dtype": "float64"
                                },
                                {
                                    "name": "mrt_year_from",
                                    "dtype": "float64"
                                },
                                {
                                    "name": "mrt_year_to",
                                    "dtype": "float64"
                                },
                                {
                                    "name": "mrt_tag",
                                    "dtype": "object"
                                },
                                {
                                    "name": "mrt_is_disputed",
                                    "dtype": "object"
                                },
                                {
                                    "name": "mrt_is_uncertain",
                                    "dtype": "object"
                                },
                                {
                                    "name": "mrt_name",
                                    "dtype": "object"
                                },
                                {
                                    "name": "mrt_merit_promotion",
                                    "dtype": "object"
                                },
                                {
                                    "name": "mrt_comment",
                                    "dtype": "object"
                                },
                                {
                                    "name": "mrt_description",
                                    "dtype": "object"
                                },
                                {
                                    "name": "bldg_id",
                                    "dtype": "float64"
                                },
                                {
                                    "name": "bldg_year_from",
                                    "dtype": "float64"
                                },
                                {
                                    "name": "bldg_year_to",
                                    "dtype": "float64"
                                },
                                {
                                    "name": "bldg_tag",
                                    "dtype": "object"
                                },
                                {
                                    "name": "bldg_is_disputed",
                                    "dtype": "object"
                                },
                                {
                                    "name": "bldg_is_uncertain",
                                    "dtype": "object"
                                },
                                {
                                    "name": "bldg_name",
                                    "dtype": "object"
                                },
                                {
                                    "name": "bldg_specialized_government_building",
                                    "dtype": "object"
                                },
                                {
                                    "name": "bldg_comment",
                                    "dtype": "object"
                                },
                                {
                                    "name": "bldg_description",
                                    "dtype": "object"
                                },
                                {
                                    "name": "irrig_id",
                                    "dtype": "float64"
                                },
                                {
                                    "name": "irrig_year_from",
                                    "dtype": "float64"
                                },
                                {
                                    "name": "irrig_year_to",
                                    "dtype": "float64"
                                },
                                {
                                    "name": "irrig_tag",
                                    "dtype": "object"
                                },
                                {
                                    "name": "irrig_is_disputed",
                                    "dtype": "object"
                                },
                                {
                                    "name": "irrig_is_uncertain",
                                    "dtype": "object"
                                },
                                {
                                    "name": "irrig_name",
                                    "dtype": "object"
                                },
                                {
                                    "name": "irrig_irrigation_system",
                                    "dtype": "object"
                                },
                                {
                                    "name": "irrig_comment",
                                    "dtype": "object"
                                },
                                {
                                    "name": "irrig_description",
                                    "dtype": "object"
                                },
                                {
                                    "name": "wtr_id",
                                    "dtype": "float64"
                                },
                                {
                                    "name": "wtr_year_from",
                                    "dtype": "float64"
                                },
                                {
                                    "name": "wtr_year_to",
                                    "dtype": "float64"
                                },
                                {
                                    "name": "wtr_tag",
                                    "dtype": "object"
                                },
                                {
                                    "name": "wtr_is_disputed",
                                    "dtype": "object"
                                },
                                {
                                    "name": "wtr_is_uncertain",
                                    "dtype": "object"
                                },
                                {
                                    "name": "wtr_name",
                                    "dtype": "object"
                                },
                                {
                                    "name": "wtr_drinking_water_supply_system",
                                    "dtype": "object"
                                },
                                {
                                    "name": "wtr_comment",
                                    "dtype": "object"
                                },
                                {
                                    "name": "wtr_description",
                                    "dtype": "object"
                                },
                                {
                                    "name": "mrkt_id",
                                    "dtype": "float64"
                                },
                                {
                                    "name": "mrkt_year_from",
                                    "dtype": "float64"
                                },
                                {
                                    "name": "mrkt_year_to",
                                    "dtype": "float64"
                                },
                                {
                                    "name": "mrkt_tag",
                                    "dtype": "object"
                                },
                                {
                                    "name": "mrkt_is_disputed",
                                    "dtype": "object"
                                },
                                {
                                    "name": "mrkt_is_uncertain",
                                    "dtype": "object"
                                },
                                {
                                    "name": "mrkt_name",
                                    "dtype": "object"
                                },
                                {
                                    "name": "mrkt_market",
                                    "dtype": "object"
                                },
                                {
                                    "name": "mrkt_comment",
                                    "dtype": "object"
                                },
                                {
                                    "name": "mrkt_description",
                                    "dtype": "object"
                                },
                                {
                                    "name": "food_id",
                                    "dtype": "float64"
                                },
                                {
                                    "name": "food_year_from",
                                    "dtype": "float64"
                                },
                                {
                                    "name": "food_year_to",
                                    "dtype": "float64"
                                },
                                {
                                    "name": "food_tag",
                                    "dtype": "object"
                                },
                                {
                                    "name": "food_is_disputed",
                                    "dtype": "object"
                                },
                                {
                                    "name": "food_is_uncertain",
                                    "dtype": "object"
                                },
                                {
                                    "name": "food_name",
                                    "dtype": "object"
                                },
                                {
                                    "name": "food_food_storage_site",
                                    "dtype": "object"
                                },
                                {
                                    "name": "food_comment",
                                    "dtype": "object"
                                },
                                {
                                    "name": "food_description",
                                    "dtype": "object"
                                },
                                {
                                    "name": "road_id",
                                    "dtype": "float64"
                                },
                                {
                                    "name": "road_year_from",
                                    "dtype": "float64"
                                },
                                {
                                    "name": "road_year_to",
                                    "dtype": "float64"
                                },
                                {
                                    "name": "road_tag",
                                    "dtype": "object"
                                },
                                {
                                    "name": "road_is_disputed",
                                    "dtype": "object"
                                },
                                {
                                    "name": "road_is_uncertain",
                                    "dtype": "object"
                                },
                                {
                                    "name": "road_name",
                                    "dtype": "object"
                                },
                                {
                                    "name": "road_road",
                                    "dtype": "object"
                                },
                                {
                                    "name": "road_comment",
                                    "dtype": "object"
                                },
                                {
                                    "name": "road_description",
                                    "dtype": "object"
                                },
                                {
                                    "name": "dur_id",
                                    "dtype": "float64"
                                },
                                {
                                    "name": "dur_year_from",
                                    "dtype": "float64"
                                },
                                {
                                    "name": "dur_year_to",
                                    "dtype": "float64"
                                },
                                {
                                    "name": "dur_tag",
                                    "dtype": "object"
                                },
                                {
                                    "name": "dur_is_disputed",
                                    "dtype": "object"
                                },
                                {
                                    "name": "dur_is_uncertain",
                                    "dtype": "object"
                                },
                                {
                                    "name": "dur_name",
                                    "dtype": "object"
                                },
                                {
                                    "name": "dur_polity_year_from",
                                    "dtype": "float64"
                                },
                                {
                                    "name": "dur_polity_year_to",
                                    "dtype": "float64"
                                },
                                {
                                    "name": "dur_comment",
                                    "dtype": "object"
                                },
                                {
                                    "name": "dur_description",
                                    "dtype": "object"
                                },
                                {
                                    "name": "peak_id",
                                    "dtype": "float64"
                                },
                                {
                                    "name": "peak_year_from",
                                    "dtype": "float64"
                                },
                                {
                                    "name": "peak_year_to",
                                    "dtype": "float64"
                                },
                                {
                                    "name": "peak_tag",
                                    "dtype": "object"
                                },
                                {
                                    "name": "peak_is_disputed",
                                    "dtype": "object"
                                },
                                {
                                    "name": "peak_is_uncertain",
                                    "dtype": "object"
                                },
                                {
                                    "name": "peak_name",
                                    "dtype": "object"
                                },
                                {
                                    "name": "peak_peak_year_from",
                                    "dtype": "float64"
                                },
                                {
                                    "name": "peak_peak_year_to",
                                    "dtype": "float64"
                                },
                                {
                                    "name": "peak_comment",
                                    "dtype": "object"
                                },
                                {
                                    "name": "peak_description",
                                    "dtype": "object"
                                },
                                {
                                    "name": "cntr_id",
                                    "dtype": "float64"
                                },
                                {
                                    "name": "cntr_year_from",
                                    "dtype": "float64"
                                },
                                {
                                    "name": "cntr_year_to",
                                    "dtype": "float64"
                                },
                                {
                                    "name": "cntr_tag",
                                    "dtype": "object"
                                },
                                {
                                    "name": "cntr_is_disputed",
                                    "dtype": "object"
                                },
                                {
                                    "name": "cntr_is_uncertain",
                                    "dtype": "object"
                                },
                                {
                                    "name": "cntr_name",
                                    "dtype": "object"
                                },
                                {
                                    "name": "cntr_degree_of_centralization",
                                    "dtype": "object"
                                },
                                {
                                    "name": "cntr_comment",
                                    "dtype": "object"
                                },
                                {
                                    "name": "cntr_description",
                                    "dtype": "object"
                                },
                                {
                                    "name": "end_year",
                                    "dtype": "float64"
                                },
                                {
                                    "name": "id",
                                    "dtype": "float64"
                                },
                                {
                                    "name": "long_name",
                                    "dtype": "object"
                                },
                                {
                                    "name": "name",
                                    "dtype": "object"
                                },
                                {
                                    "name": "start_year",
                                    "dtype": "float64"
                                },
                                {
                                    "name": "_deepnote_index_column",
                                    "dtype": "int64"
                                }
                            ],
                            "row_count": 2524,
                            "preview_row_count": 2524,
                            "rows": [
                                {
                                    "tr_id": "nan",
                                    "polity": "None",
                                    "tr_year_from": "nan",
                                    "tr_year_to": "nan",
                                    "tr_tag": "nan",
                                    "tr_is_disputed": "nan",
                                    "tr_is_uncertain": "nan",
                                    "tr_name": "nan",
                                    "tr_polity_territory_from": "nan",
                                    "tr_polity_territory_to": "nan",
                                    "tr_comment": "nan",
                                    "tr_description": "nan",
                                    "pop_id": "nan",
                                    "pop_year_from": "nan",
                                    "pop_year_to": "nan",
                                    "pop_tag": "nan",
                                    "pop_is_disputed": "nan",
                                    "pop_is_uncertain": "nan",
                                    "pop_name": "nan",
                                    "pop_polity_population_from": "nan",
                                    "pop_polity_population_to": "nan",
                                    "pop_comment": "nan",
                                    "pop_description": "nan",
                                    "stl_id": "nan",
                                    "stl_year_from": "nan",
                                    "stl_year_to": "nan",
                                    "stl_tag": "nan",
                                    "stl_is_disputed": "nan",
                                    "stl_is_uncertain": "nan",
                                    "stl_name": "nan",
                                    "stl_settlement_hierarchy_from": "nan",
                                    "stl_settlement_hierarchy_to": "nan",
                                    "stl_comment": "nan",
                                    "stl_description": "nan",
                                    "adm_id": "nan",
                                    "adm_year_from": "nan",
                                    "adm_year_to": "nan",
                                    "adm_tag": "nan",
                                    "adm_is_disputed": "nan",
                                    "adm_is_uncertain": "nan",
                                    "adm_name": "nan",
                                    "adm_administrative_level_from": "nan",
                                    "adm_administrative_level_to": "nan",
                                    "adm_comment": "nan",
                                    "adm_description": "nan",
                                    "rlg_id": 448,
                                    "rlg_year_from": "nan",
                                    "rlg_year_to": "nan",
                                    "rlg_tag": "UND",
                                    "rlg_is_disputed": "False",
                                    "rlg_is_uncertain": "False",
                                    "rlg_name": "Religious_level",
                                    "rlg_religious_level_from": "nan",
                                    "rlg_religious_level_to": "nan",
                                    "rlg_comment": "levels.<br>\"In certain circumstances, commercial organizations and missionary societies could embody and uphold Imperial authority.\"  <a class=\"fw-bold\" href=\"https://www.zotero.org/groups/1051264/seshat_databank/items/GN9A6S32\">[Burroughs_Porter_Louis 1999]</a>",
                                    "rlg_description": "None",
                                    "milt_id": "nan",
                                    "milt_year_from": "nan",
                                    "milt_year_to": "nan",
                                    "milt_tag": "nan",
                                    "milt_is_disputed": "nan",
                                    "milt_is_uncertain": "nan",
                                    "milt_name": "nan",
                                    "milt_military_level_from": "nan",
                                    "milt_military_level_to": "nan",
                                    "milt_comment": "nan",
                                    "milt_description": "nan",
                                    "bur_id": 84,
                                    "bur_year_from": "nan",
                                    "bur_year_to": "nan",
                                    "bur_tag": "TRS",
                                    "bur_is_disputed": "False",
                                    "bur_is_uncertain": "False",
                                    "bur_name": "Full_time_bureaucrat",
                                    "bur_full_time_bureaucrat": "present",
                                    "bur_comment": "None",
                                    "bur_description": " British Civil Service, colonial bureaucracies e.g. Indian Civil Service. In Britain, expanding system of full-time salaried bureaucrats; in India, a system of (mostly non-native) salaried officials known as the Indian Civil Service, introduced in 1858.",
                                    "mrt_id": "nan",
                                    "mrt_year_from": "nan",
                                    "mrt_year_to": "nan",
                                    "mrt_tag": "nan",
                                    "mrt_is_disputed": "nan",
                                    "mrt_is_uncertain": "nan",
                                    "mrt_name": "nan",
                                    "mrt_merit_promotion": "nan",
                                    "mrt_comment": "nan",
                                    "mrt_description": "nan",
                                    "bldg_id": 78,
                                    "bldg_year_from": "nan",
                                    "bldg_year_to": "nan",
                                    "bldg_tag": "TRS",
                                    "bldg_is_disputed": "False",
                                    "bldg_is_uncertain": "False",
                                    "bldg_name": "Specialized_government_building",
                                    "bldg_specialized_government_building": "present",
                                    "bldg_comment": "None",
                                    "bldg_description": "None",
                                    "irrig_id": 82,
                                    "irrig_year_from": "nan",
                                    "irrig_year_to": "nan",
                                    "irrig_tag": "TRS",
                                    "irrig_is_disputed": "False",
                                    "irrig_is_uncertain": "False",
                                    "irrig_name": "Irrigation_system",
                                    "irrig_irrigation_system": "present",
                                    "irrig_comment": "None",
                                    "irrig_description": "None",
                                    "wtr_id": "nan",
                                    "wtr_year_from": "nan",
                                    "wtr_year_to": "nan",
                                    "wtr_tag": "nan",
                                    "wtr_is_disputed": "nan",
                                    "wtr_is_uncertain": "nan",
                                    "wtr_name": "nan",
                                    "wtr_drinking_water_supply_system": "nan",
                                    "wtr_comment": "nan",
                                    "wtr_description": "nan",
                                    "mrkt_id": 81,
                                    "mrkt_year_from": "nan",
                                    "mrkt_year_to": "nan",
                                    "mrkt_tag": "TRS",
                                    "mrkt_is_disputed": "False",
                                    "mrkt_is_uncertain": "False",
                                    "mrkt_name": "Market",
                                    "mrkt_market": "present",
                                    "mrkt_comment": "None",
                                    "mrkt_description": "None",
                                    "food_id": 81,
                                    "food_year_from": "nan",
                                    "food_year_to": "nan",
                                    "food_tag": "TRS",
                                    "food_is_disputed": "False",
                                    "food_is_uncertain": "False",
                                    "food_name": "Food_storage_site",
                                    "food_food_storage_site": "present",
                                    "food_comment": "None",
                                    "food_description": "None",
                                    "road_id": 83,
                                    "road_year_from": "nan",
                                    "road_year_to": "nan",
                                    "road_tag": "TRS",
                                    "road_is_disputed": "False",
                                    "road_is_uncertain": "False",
                                    "road_name": "Road",
                                    "road_road": "present",
                                    "road_comment": "None",
                                    "road_description": "None",
                                    "dur_id": 82,
                                    "dur_year_from": "nan",
                                    "dur_year_to": "nan",
                                    "dur_tag": "TRS",
                                    "dur_is_disputed": "False",
                                    "dur_is_uncertain": "False",
                                    "dur_name": "Polity_duration",
                                    "dur_polity_year_from": 1780,
                                    "dur_polity_year_to": 1840,
                                    "dur_comment": "None",
                                    "dur_description": " From the loss of American colonies to the instability of the 1830s - 1840s (the Chartist Movement)",
                                    "peak_id": "nan",
                                    "peak_year_from": "nan",
                                    "peak_year_to": "nan",
                                    "peak_tag": "nan",
                                    "peak_is_disputed": "nan",
                                    "peak_is_uncertain": "nan",
                                    "peak_name": "nan",
                                    "peak_peak_year_from": "nan",
                                    "peak_peak_year_to": "nan",
                                    "peak_comment": "nan",
                                    "peak_description": "nan",
                                    "cntr_id": "nan",
                                    "cntr_year_from": "nan",
                                    "cntr_year_to": "nan",
                                    "cntr_tag": "nan",
                                    "cntr_is_disputed": "nan",
                                    "cntr_is_uncertain": "nan",
                                    "cntr_name": "nan",
                                    "cntr_degree_of_centralization": "nan",
                                    "cntr_comment": "nan",
                                    "cntr_description": "nan",
                                    "end_year": "nan",
                                    "id": "nan",
                                    "long_name": "nan",
                                    "name": "nan",
                                    "start_year": "nan",
                                    "_deepnote_index_column": 0
                                },
                                {
                                    "tr_id": 711,
                                    "polity": "{'end_year': -10, 'id': 126, 'long_name': 'Indo-Greek Kingdom', 'name': 'pk_indo_greek_k', 'start_year': -180}",
                                    "tr_year_from": "nan",
                                    "tr_year_to": "nan",
                                    "tr_tag": "TRS",
                                    "tr_is_disputed": "False",
                                    "tr_is_uncertain": "False",
                                    "tr_name": "Polity_territory",
                                    "tr_polity_territory_from": 105226,
                                    "tr_polity_territory_to": 105226,
                                    "tr_comment": "None",
                                    "tr_description": " squared kilometers.<br>Note on the rulership of the Kachi Plains:The duration of rule over the Kachi plain is uncertain. Strabo, quoting Apollodorus of Artemita, states that the Indo-Greek territory, \"took possession, not only of Patalena, but also, on the rest of the coast, of what is called the kingdom of Saraostus and Sigerdis\"§REF§<a class=\"external text\" href=\"http://www.perseus.tufts.edu/hopper/text?doc=Strab.+11.11.1&amp;redirect=true\" rel=\"nofollow\">Link</a>§REF§ (the provinces of Sindh and possibly Gujarat). However, \"with archaeological methods, the Indo-Greek territory can however only be confirmed from the Kabul Valley to the eastern Punjab, so Greek presence outside was probably short-lived or less significant\". §REF§<a class=\"external text\" href=\"http://en.wikipedia.org/wiki/Indo-Greeks#After_Demetrius_I\" rel=\"nofollow\">Wiki Link</a>§REF§ And Dr Tarn, \"pleads for literal Greek rule over country extending from Kabul in a straight line nine hundred miles south to Broach..…",
                                    "pop_id": 528,
                                    "pop_year_from": "nan",
                                    "pop_year_to": "nan",
                                    "pop_tag": "TRS",
                                    "pop_is_disputed": "False",
                                    "pop_is_uncertain": "False",
                                    "pop_name": "Polity_population",
                                    "pop_polity_population_from": 60000,
                                    "pop_polity_population_to": 60000,
                                    "pop_comment": "None",
                                    "pop_description": " people. Taxila. Estimate for 200 BCE.§REF§(Chase-Dunn: pers. comm. 2011)§REF§ Evidence of irrigation and the flourishing trade network seems to indicate a growth of population in the region controlled by the Indo-Greek Kingdom. However, this is largely speculative based on the current archaeological record.",
                                    "stl_id": 298,
                                    "stl_year_from": "nan",
                                    "stl_year_to": "nan",
                                    "stl_tag": "TRS",
                                    "stl_is_disputed": "False",
                                    "stl_is_uncertain": "False",
                                    "stl_name": "Settlement_hierarchy",
                                    "stl_settlement_hierarchy_from": 2,
                                    "stl_settlement_hierarchy_to": 3,
                                    "stl_comment": "None",
                                    "stl_description": " There has been very little excavation of verified Greek settlements, with only one Greek site directly excavated. If this one example typified the situation in the Indo-Greek Kingdom, the Greek polis was the administrative, ritualized, and monumental heartland of the territory, but not the dominant population centre and represented a new construction. Below this newly urban space were the existing infrastructure of towns and villages. §REF§Daryaee, Touraj, ed. The Oxford handbook of Iranian history. Oxford University Press, 2012. pp. 156-157§REF§<br>1. Greek Polis<br>Peucelaotis (Shaikhan Dheri) measured 1.8 x 1.5 km. §REF§Dani, Ahmad Hasan et al. History of Civilizations of Central Asia Vol. 2: 700 B.C. to A.D. 250. Paris: Unesco, 1992., p.106.§REF§<br>2. Surrounding towns<br>3. Villages",
                                    "adm_id": 191,
                                    "adm_year_from": "nan",
                                    "adm_year_to": "nan",
                                    "adm_tag": "TRS",
                                    "adm_is_disputed": "False",
                                    "adm_is_uncertain": "False",
                                    "adm_name": "Administrative_level",
                                    "adm_administrative_level_from": 4,
                                    "adm_administrative_level_to": 5,
                                    "adm_comment": "None",
                                    "adm_description": " Based on the structure in place in the Seleucid empires.§REF§Daryaee, Touraj, ed. <i>The Oxford handbook of Iranian history</i>. Oxford University Press, 2012. p. 158§REF§<br>Seleucus and his successors had maintained the policy of Alexander in appointing a satrap to oversee a province. Below this level, the hyparchy was a subdivision. Below this level, the direct supporters of the ruler were the 'friends'based on favor or eunoia. The power was further strengthened by vast land holding, villages, slaves and other wealth. Below this level was the topoi and overseen by dioikites or oikonomos.§REF§Daryaee, Touraj, ed.<i>The Oxford handbook of Iranian history</i>. Oxford University Press, 2012. p. 158§REF§<br>The Seleucid Empire did have full time bureaucrats, and this system in the Greco-Bactrians also seems to have existed. It is therefore inferred that some element of this system was preserved.§REF§Mairs, Rachel. 2012. \"The Hellenistic Far East: From the Oikoumene to the Community.\" S…",
                                    "rlg_id": 435,
                                    "rlg_year_from": "nan",
                                    "rlg_year_to": "nan",
                                    "rlg_tag": "UND",
                                    "rlg_is_disputed": "False",
                                    "rlg_is_uncertain": "False",
                                    "rlg_name": "Religious_level",
                                    "rlg_religious_level_from": "nan",
                                    "rlg_religious_level_to": "nan",
                                    "rlg_comment": "There seems to have been a fusion of Greek polytheism and Buddhist practices in at least some areas of the Indo-Greek Kingdom. There is no good evidence on whether this was made into a formalized practice, or on the structure of religious practice.<br>\"Menander or Milinda (165-145 BC) ... was converted to Buddhism by Nagarjuna. The dialogue that took place between the two is recorded [in] the book Milinda Panha.\"  <a class=\"fw-bold\" href=\"https://www.zotero.org/groups/1051264/seshat_databank/items/QDQ94DVQ\">[Chand 2013]</a>",
                                    "rlg_description": "None",
                                    "milt_id": "nan",
                                    "milt_year_from": "nan",
                                    "milt_year_to": "nan",
                                    "milt_tag": "nan",
                                    "milt_is_disputed": "nan",
                                    "milt_is_uncertain": "nan",
                                    "milt_name": "nan",
                                    "milt_military_level_from": "nan",
                                    "milt_military_level_to": "nan",
                                    "milt_comment": "nan",
                                    "milt_description": "nan",
                                    "bur_id": 276,
                                    "bur_year_from": "nan",
                                    "bur_year_to": "nan",
                                    "bur_tag": "IFR",
                                    "bur_is_disputed": "False",
                                    "bur_is_uncertain": "False",
                                    "bur_name": "Full_time_bureaucrat",
                                    "bur_full_time_bureaucrat": "present",
                                    "bur_comment": "None",
                                    "bur_description": "The evidence is unclear. The Indo-Greeks were on a cultural frontier between Iranian and Indian core territories, but seem to have maintained a distinct and enduring identity. Whether this was extended to a full time bureaucracy is unclear but likely. The Seleucid Empire did have full time bureaucrats, and this system in the Greco-Bactrians also seems to have existed. It is therefore inferred that some element of this system was preserved. §REF§Mairs, Rachel. \"The Hellenistic Far East: From the Oikoumene to the Community.\" Shifting Social Imaginaries in the Hellenistic Period: Narratives, Practices, and Images (2012).§REF§ §REF§Rougemont, Georges. \"Hellenism in Central Asia and the North-West of the Indo-Pakistan Sub-Continent: The Epigraphic Evidence.\" Ancient Civilizations from Scythia to Siberia 18, no. 1 (2012): 175-182.§REF§",
                                    "mrt_id": 381,
                                    "mrt_year_from": "nan",
                                    "mrt_year_to": "nan",
                                    "mrt_tag": "UND",
                                    "mrt_is_disputed": "False",
                                    "mrt_is_uncertain": "False",
                                    "mrt_name": "Merit_promotion",
                                    "mrt_merit_promotion": "uncoded",
                                    "mrt_comment": "Unknown.",
                                    "mrt_description": "None",
                                    "bldg_id": 277,
                                    "bldg_year_from": "nan",
                                    "bldg_year_to": "nan",
                                    "bldg_tag": "TRS",
                                    "bldg_is_disputed": "False",
                                    "bldg_is_uncertain": "False",
                                    "bldg_name": "Specialized_government_building",
                                    "bldg_specialized_government_building": "present",
                                    "bldg_comment": "None",
                                    "bldg_description": " Evidence of a street layout with the possibility of specialized governmental buildings in the Indo-Greek cities. §REF§Mairs, Rachel (2009) \"The 'Greek Grid-Plan' at Sirkap (Taxila) and the Question of Greek Influence in the North West,\" in Michael Willis (eds.), Migration, Trade and Peoples: European Association of South Asian Archaeologists, Proceedings of the Eighteenth Congress, London, 2005, 135-147. London: The British Association for South Asian Studies; The British Academy§REF§<br>",
                                    "irrig_id": 282,
                                    "irrig_year_from": "nan",
                                    "irrig_year_to": "nan",
                                    "irrig_tag": "TRS",
                                    "irrig_is_disputed": "False",
                                    "irrig_is_uncertain": "False",
                                    "irrig_name": "Irrigation_system",
                                    "irrig_irrigation_system": "present",
                                    "irrig_comment": "None",
                                    "irrig_description": " The wealth of the Greeks and the number of cities were based on extensive irrigation and a wetter climate. These were based on the maintenance of Persian networks and expansion under the Greeks. §REF§Tarn, William Woodthorpe. <i>The Greeks in Bactria and India</i>. Cambridge University Press, 2010. pp. 101-105§REF§",
                                    "wtr_id": 220,
                                    "wtr_year_from": "nan",
                                    "wtr_year_to": "nan",
                                    "wtr_tag": "TRS",
                                    "wtr_is_disputed": "False",
                                    "wtr_is_uncertain": "False",
                                    "wtr_name": "Drinking_water_supply_system",
                                    "wtr_drinking_water_supply_system": "present",
                                    "wtr_comment": "None",
                                    "wtr_description": " Public fountains. §REF§Bernard, Paul. \"The Greek Kingdoms of Central Asia.\" History of civilizations of Central Asia 2 (1994): pp. 99-129.. pp. 110-113§REF§",
                                    "mrkt_id": 256,
                                    "mrkt_year_from": "nan",
                                    "mrkt_year_to": "nan",
                                    "mrkt_tag": "TRS",
                                    "mrkt_is_disputed": "False",
                                    "mrkt_is_uncertain": "False",
                                    "mrkt_name": "Market",
                                    "mrkt_market": "present",
                                    "mrkt_comment": "None",
                                    "mrkt_description": " Archaeologists have discovered spaces that could have served as markets based on uncovered Greek town layouts. §REF§Fussman, Gérard. \"Southern Bactria and Northern India before Islam: a review of archaeological reports.\" Journal of the American Oriental Society (1996): pp. 243-259.§REF§",
                                    "food_id": 264,
                                    "food_year_from": "nan",
                                    "food_year_to": "nan",
                                    "food_tag": "SSP",
                                    "food_is_disputed": "False",
                                    "food_is_uncertain": "False",
                                    "food_name": "Food_storage_site",
                                    "food_food_storage_site": "unknown",
                                    "food_comment": "None",
                                    "food_description": "None",
                                    "road_id": 261,
                                    "road_year_from": "nan",
                                    "road_year_to": "nan",
                                    "road_tag": "IFR",
                                    "road_is_disputed": "False",
                                    "road_is_uncertain": "False",
                                    "road_name": "Road",
                                    "road_road": "present",
                                    "road_comment": "None",
                                    "road_description": " Town roads.§REF§Higham, Charles, Encyclopedia of Ancient Asian Civilizations, Facts of File,2009 p. 344§REF§ The Persian road network had served as an example of the importance of a large scale transport infrastructure, and was a network maintained by the Greek successor kingdoms. There was also the precidence of royal roads under the Mauryan empire. However, very little evidence of Indo-Greek infrastructure, apart from the street plans of some urban centers, has been found during this period.",
                                    "dur_id": 295,
                                    "dur_year_from": "nan",
                                    "dur_year_to": "nan",
                                    "dur_tag": "TRS",
                                    "dur_is_disputed": "False",
                                    "dur_is_uncertain": "False",
                                    "dur_name": "Polity_duration",
                                    "dur_polity_year_from": -180,
                                    "dur_polity_year_to": -10,
                                    "dur_comment": "None",
                                    "dur_description": " An independent offshoot of the Greco-Bactrian Kingdom, eventually conquered by nomads.<br>\"O. Bopearachchi, who has produced what probably remains the most reliable Bactrian chronology (see Table I) ... suggests two kings who may have ruled around 185 B.C.E., Demetrius I and Agathocles, as potential founders. Reluctantly, he dismisses the important Menander as too late for this date.\"§REF§(Jakobsson 2009) Jakobsson, Jens. Who Founded the Indo-Greek Era of 186/5 B.C.E.? Dec 2009. The Classical Quarterly. New Series. Vol. 59. No.2. pp. 505-510.§REF§ However, Jakobsson (2009) believes \"the exact date 186/5 B.C.E. may not be so important, and that a later king, such as Menander, may well have been instrumental in the creation of the era.\"§REF§(Jakobsson 2009) Jakobsson, Jens. Who Founded the Indo-Greek Era of 186/5 B.C.E.? Dec 2009. The Classical Quarterly. New Series. Vol. 59. No.2. pp. 505-510.§REF§<br>The expansion of the Greco-Bactrians into northern India from 180 BCE established th…",
                                    "peak_id": 190,
                                    "peak_year_from": "nan",
                                    "peak_year_to": "nan",
                                    "peak_tag": "TRS",
                                    "peak_is_disputed": "False",
                                    "peak_is_uncertain": "False",
                                    "peak_name": "Polity_peak_years",
                                    "peak_peak_year_from": -155,
                                    "peak_peak_year_to": -130,
                                    "peak_comment": "None",
                                    "peak_description": " greatest territorial extent. §REF§Davies, Cuthbert Collin (1959). An Historical Atlas of the Indian Peninsula. Oxford University Press.§REF§<br>",
                                    "cntr_id": 339,
                                    "cntr_year_from": "nan",
                                    "cntr_year_to": "nan",
                                    "cntr_tag": "TRS",
                                    "cntr_is_disputed": "False",
                                    "cntr_is_uncertain": "False",
                                    "cntr_name": "Polity_degree_of_centralization",
                                    "cntr_degree_of_centralization": "nominal",
                                    "cntr_comment": "None",
                                    "cntr_description": " The two and a half centuries between Diodotus I and the last Indo-Greek king Strato II (10 CE) the names of more than thirty kings have been in recorded the region. Power seems to have been collaborative. The lack of consistent or reliable sources from either Western or Chinese sources means that any answer is largely speculative. As with so much with central Asian history, this is largely as a result of a reliance on numismatic evidence. §REF§Guillaume, Olivier. \"An Analysis of the Modes of Reconstruction of the Graeco-Bactrian and Indo-Greek History.\" Studies in History 2, no. 1 (1986): 1-16.§REF§<br>Numismatic evidence suggests kingship was collaborative but there are few reliable sources to provide details.§REF§Guillaume, Olivier. 1986. \"An Analysis of the Modes of Reconstruction of the Graeco-Bactrian and Indo-Greek History.\" Studies in History 2, no. 1. p.1-16.§REF§ It is likely the rulers, who simultaneously produced their own coinage, ruled different parts of the Indo-Greek p…",
                                    "end_year": -10,
                                    "id": 126,
                                    "long_name": "Indo-Greek Kingdom",
                                    "name": "pk_indo_greek_k",
                                    "start_year": -180,
                                    "_deepnote_index_column": 1
                                },
                                {
                                    "tr_id": 682,
                                    "polity": "{'end_year': -100, 'id': 526, 'long_name': 'Monte Alban Late I', 'name': 'mx_monte_alban_1_late', 'start_year': -300}",
                                    "tr_year_from": "nan",
                                    "tr_year_to": "nan",
                                    "tr_tag": "TRS",
                                    "tr_is_disputed": "False",
                                    "tr_is_uncertain": "False",
                                    "tr_name": "Polity_territory",
                                    "tr_polity_territory_from": 5000,
                                    "tr_polity_territory_to": 5000,
                                    "tr_comment": "None",
                                    "tr_description": " squared kilometers, based on the map provided by Spencer (2009).§REF§Spencer, C. S. (2009). Testing the Morphogenesist Model of Primary State Formation: The Zapotec Case. Macroevolution in Human Prehistory: Evolutionary Theory and Processual Archaeology. A. M. Prentiss, I. Kuijt and J. C. Chatters, Springer: 133-155, p146§REF§",
                                    "pop_id": 497,
                                    "pop_year_from": "nan",
                                    "pop_year_to": "nan",
                                    "pop_tag": "TRS",
                                    "pop_is_disputed": "False",
                                    "pop_is_uncertain": "False",
                                    "pop_name": "Polity_population",
                                    "pop_polity_population_from": 50000,
                                    "pop_polity_population_to": 60000,
                                    "pop_comment": "None",
                                    "pop_description": " People.<br>\"Table 3.10. Monte Alban Late I sites in Valley of Oaxaca subareas.\"§REF§(Feinman and Nicholas 2017, 40) Gary M Feinman. Linda M Nicholas. 2017. Settlement Patterns in the Albarradas Area of Highland Oaxaca, Mexico: Frontiers, Boundaries, and Interaction. Fieldiana Anthropology, 46(1):1-162. Publication 1572. Field Museum of Natural History. URL: <a class=\"external free\" href=\"http://www.bioone.org/doi/full/10.3158/0071-4739-46.1.1\" rel=\"nofollow\">http://www.bioone.org/doi/full/10.3158/0071-4739-46.1.1</a>§REF§<br>Etla: 10618; Central (contains Monte Alban): 22844; N Valle Grande: 8581; S Valle Grande: 2633; W Tlacolula: 4344; E Tlacolula: 2317; Ejutla: 3455; Albarradas: 1740; Sola: 1539.§REF§(Feinman and Nicholas 2017, 40) Gary M Feinman. Linda M Nicholas. 2017. Settlement Patterns in the Albarradas Area of Highland Oaxaca, Mexico: Frontiers, Boundaries, and Interaction. Fieldiana Anthropology, 46(1):1-162. Publication 1572. Field Museum of Natural History. URL: <a class=…",
                                    "stl_id": 264,
                                    "stl_year_from": "nan",
                                    "stl_year_to": "nan",
                                    "stl_tag": "TRS",
                                    "stl_is_disputed": "False",
                                    "stl_is_uncertain": "False",
                                    "stl_name": "Settlement_hierarchy",
                                    "stl_settlement_hierarchy_from": 4,
                                    "stl_settlement_hierarchy_to": 4,
                                    "stl_comment": "None",
                                    "stl_description": " levels. Four levels of site size, based on settlement size, have been identified by Spencer and Redmond (2004) for this period, in each of the three arms of the Valley of Oaxaca.§REF§Spencer, C. S. and E. M. Redmond (2004). \"Primary state formation in Mesoamerica.\" Annual Review of Anthropology: 173-199, p176-7§REF§ Spencer and Redmond suggest that the increasing complexity in the Ocotlán-Zimatlán and Tlacolula valleys may have been a response to the growing threat from the Zapotecs in the Etla-Central part of the valley.§REF§Spencer, C. S. and E. M. Redmond (2004). \"Primary state formation in Mesoamerica.\" Annual Review of Anthropology: 173-199, p178§REF§<br>1. Primary centre-Monte Albán was the capital of the Zapotec polity during this period.<br>2. Secondary centre-San José Mogote, San Martin Tilcajete, Yegüih-Lambityeco§REF§Feinman, G. M., et al. (1985). \"Long-term demographic change: A perspective from the valley of Oaxaca, Mexico.\" Journal of Field Archaeology 12(3): 333-362, p…",
                                    "adm_id": 347,
                                    "adm_year_from": "nan",
                                    "adm_year_to": "nan",
                                    "adm_tag": "SSP",
                                    "adm_is_disputed": "False",
                                    "adm_is_uncertain": "False",
                                    "adm_name": "Administrative_level",
                                    "adm_administrative_level_from": "nan",
                                    "adm_administrative_level_to": "nan",
                                    "adm_comment": "None",
                                    "adm_description": " levels. The administrative levels could be coded as equivalent to the three higher levels of settlement hierarchy, as those settlements have some evidence of administrative buildings. However sources do not suggest there is evidence that the administrative structure paralleled settlement hierarchy.<br>1. Main administrative centre-Monte Albán was the capital of the Zapotec polity during this period.<br>2. Regional administrative centre, secondary centres-San José Mogote, San Martin Tilcajete, Yegüih-Lambityeco§REF§Feinman, G. M., et al. (1985). \"Long-term demographic change: A perspective from the valley of Oaxaca, Mexico.\" Journal of Field Archaeology 12(3): 333-362, p349§REF§3. Local administrative centres, tertiary centres-relatively small, civic-ceremonial places§REF§Feinman, G. M., et al. (1985). \"Long-term demographic change: A perspective from the valley of Oaxaca, Mexico.\" Journal of Field Archaeology 12(3): 333-362, p349§REF§<br>",
                                    "rlg_id": 185,
                                    "rlg_year_from": "nan",
                                    "rlg_year_to": "nan",
                                    "rlg_tag": "TRS",
                                    "rlg_is_disputed": "False",
                                    "rlg_is_uncertain": "False",
                                    "rlg_name": "Religious_level",
                                    "rlg_religious_level_from": 1,
                                    "rlg_religious_level_to": 1,
                                    "rlg_comment": "None",
                                    "rlg_description": " level. State religion existed during this period, based on evidence for two multi-room temples in neighbouring polity at El Palenque.§REF§Sherman, R. J., et al. (2010). \"Expansionary dynamics of the nascent Monte Alban state.\" Journal of Anthropological Archaeology 29(3): 278-301, p282§REF§ Standardised two-room temples were however not yet present at Monte Alban, and so a permanent state religion with more than one organisational level cannot be inferred.§REF§Marcus and Flannery (1996) Zapotec Civilization: How urban society evolved in Mexico’s Oaxaca Valley. p161§REF§",
                                    "milt_id": 131,
                                    "milt_year_from": "nan",
                                    "milt_year_to": "nan",
                                    "milt_tag": "TRS",
                                    "milt_is_disputed": "False",
                                    "milt_is_uncertain": "False",
                                    "milt_name": "Military_level",
                                    "milt_military_level_from": 1,
                                    "milt_military_level_to": 2,
                                    "milt_comment": "None",
                                    "milt_description": " Suggested by Zapotec expansion during this period.§REF§Marcus and Flannery (1996) Zapotec Civilization: How urban society evolved in Mexico’s Oaxaca Valley. Flannery and Marcus (1983) The Cloud People: divergent evolution of the Zapotec and Mixtec civilizations. Museum of Anthropology, University of Michigan, Ann Arbor. Academic Press, New York.§REF§ The conquest of territories outside of the Valley of Oaxaca suggests that a permanent army, with the necessary commanders, would have existed at this time.§REF§Spencer, C. S. (1982) The Cuicatlán Cañada and Monte Albán: A study of primary state formation. Studies in Archaeology. Academic Press, New York. p243-4§REF§<br>1. War commanders<br>2. Individual soldiers",
                                    "bur_id": 246,
                                    "bur_year_from": "nan",
                                    "bur_year_to": "nan",
                                    "bur_tag": "SSP",
                                    "bur_is_disputed": "False",
                                    "bur_is_uncertain": "False",
                                    "bur_name": "Full_time_bureaucrat",
                                    "bur_full_time_bureaucrat": "unknown",
                                    "bur_comment": "None",
                                    "bur_description": " The monumental construction at Monte Alban has been seen as a sign of a high degree of administrative centralization.§REF§Marcus and Flannery (1996) Zapotec Civilization: How urban society evolved in Mexico’s Oaxaca Valley. Flannery and Marcus (1983) The Cloud People: divergent evolution of the Zapotec and Mixtec civilizations. Museum of Anthropology, University of Michigan, Ann Arbor. Academic Press, New York.§REF§ However, we lack adequate information about administrative structures at Monte Albán to be able to discern whether full-time specialist bureaucrats (i.e. not just chiefs or generals with administrative duties) were present.§REF§Gary Feinman, pers. comm., January 2018.§REF§§REF§Charles Spencer, pers. comm., January 2018.§REF§",
                                    "mrt_id": 192,
                                    "mrt_year_from": "nan",
                                    "mrt_year_to": "nan",
                                    "mrt_tag": "SSP",
                                    "mrt_is_disputed": "False",
                                    "mrt_is_uncertain": "False",
                                    "mrt_name": "Merit_promotion",
                                    "mrt_merit_promotion": "unknown",
                                    "mrt_comment": "None",
                                    "mrt_description": " The monumental construction at Monte Alban has been seen as a sign of a high degree of administrative centralization.§REF§Marcus and Flannery (1996) Zapotec Civilization: How urban society evolved in Mexico’s Oaxaca Valley. Flannery and Marcus (1983) The Cloud People: divergent evolution of the Zapotec and Mixtec civilizations. Museum of Anthropology, University of Michigan, Ann Arbor. Academic Press, New York.§REF§ However, we lack adequate information about administrative structures at Monte Albán to be able to discern whether full-time specialist bureaucrats (i.e. not just chiefs or generals with administrative duties) were present.§REF§Gary Feinman, pers. comm., January 2018.§REF§§REF§Charles Spencer, pers. comm., January 2018.§REF§",
                                    "bldg_id": 243,
                                    "bldg_year_from": "nan",
                                    "bldg_year_to": "nan",
                                    "bldg_tag": "TRS",
                                    "bldg_is_disputed": "False",
                                    "bldg_is_uncertain": "False",
                                    "bldg_name": "Specialized_government_building",
                                    "bldg_specialized_government_building": "absent",
                                    "bldg_comment": "None",
                                    "bldg_description": " Though the following is relevant, here we are interested in buildings that were used solely for administrative purposes. Charles Spencer commented: 'One cannot fail to be impressed by the amount and variety of public/institutional architecture constructed between B.C. 300 and A.D. 800 in and around the Main Plaza at Monte Alban. The archaeological data indicate that much of this architectural complexity was in existence by Monte Alban II (100 B.C. through A.D. 200). Many of these buildings do not appear to have been residential and most likely served an array of religious (e.g., the various structures associated with two-room temples), military (such as Building J and perhaps the Ballcourt), and other \"administrative\" functions (including a variety of other public/institutional buildings the functions of which are still unclear). At the same time, it is probably also appropriate to consider the quihuitao (royal palace) to be another example of a public/institutional building. Both th…",
                                    "irrig_id": 250,
                                    "irrig_year_from": "nan",
                                    "irrig_year_to": "nan",
                                    "irrig_tag": "TRS",
                                    "irrig_is_disputed": "False",
                                    "irrig_is_uncertain": "False",
                                    "irrig_name": "Irrigation_system",
                                    "irrig_irrigation_system": "present",
                                    "irrig_comment": "None",
                                    "irrig_description": " There is some evidence for the use of irrigation systems during this period (for example, at Hierve el Agua), but the evidence suggests that the irrigation systems were constructed at a small scale, serving the land of only one or two communities.§REF§Kirkby (1973) The use of land and water resources in past and present Valley of Oaxaca. Muesum of Anthropology, Memoirs No.5. An Arbor, University of Michigan. p117§REF§§REF§Nicholas, L. M (1989) Land use in prehispanic Oaxaca. In, Kowalewski, S. A., Feiman, G.M., Finsten, L., Blanton, R. E. and Nicholas, L. M. Monte Albán’s Hinterland, Part II: the prehispanic settlement patterns in Tlacoula, Etla and Ocotlán, the Valley of Oaxaca, Mexico.  Memoirs of the Museum of Anthropology, University of Michigan, Number 23. Ann Arbor: 449-505. p458§REF§§REF§Marcus and Flannery (1996) Zapotec Civilization: How urban society evolved in Mexico’s Oaxaca Valley. p146§REF§ However, an irrigation system has been uncovered at La Coyotera in the Cuicatlan…",
                                    "wtr_id": 199,
                                    "wtr_year_from": "nan",
                                    "wtr_year_to": "nan",
                                    "wtr_tag": "TRS",
                                    "wtr_is_disputed": "False",
                                    "wtr_is_uncertain": "False",
                                    "wtr_name": "Drinking_water_supply_system",
                                    "wtr_drinking_water_supply_system": "present",
                                    "wtr_comment": "None",
                                    "wtr_description": " A wall was built to dam a reservoir in the northern section of Monte Alban.§REF§Flannery, K. V. and J. Marcus (1983). \"The Cloud People.\" New York, p85§REF§",
                                    "mrkt_id": 225,
                                    "mrkt_year_from": "nan",
                                    "mrkt_year_to": "nan",
                                    "mrkt_tag": "IFR",
                                    "mrkt_is_disputed": "False",
                                    "mrkt_is_uncertain": "False",
                                    "mrkt_name": "Market",
                                    "mrkt_market": "present",
                                    "mrkt_comment": "None",
                                    "mrkt_description": " There is no direct evidence for marketplaces.§REF§Flannery and Marcus (1983) The Cloud People: divergent evolution of the Zapotec and Mixtec civilizations. Museum of Anthropology, University of Michigan, Ann Arbor. Academic Press, New York. p162§REF§ However, increasing population numbers and product specialisation during this period, as well as the the access that different settlements had to a range of products suggest a trading system of a sort was present. Those sites furthest from Monte Albán and secondary sites had the smallest range of products.§REF§Blanton, R. E., et al. (1982). The Prehispanic Settlement Patterns of the Central and Southern Parts of the Valley of Oaxaca, Mexico, Regents of the University of Michigan, the Museum of Anthropology, p67-8§REF§ We asked Gary Feinman§REF§Gary Feinman, personal communication to Peter Turchin and Jenny Reddish, March 2020.§REF§ and he said: \"Markets clearly have a long history in Mesoamerica before Aztec times. Back in the 1980s, I w…",
                                    "food_id": 234,
                                    "food_year_from": "nan",
                                    "food_year_to": "nan",
                                    "food_tag": "TRS",
                                    "food_is_disputed": "False",
                                    "food_is_uncertain": "False",
                                    "food_name": "Food_storage_site",
                                    "food_food_storage_site": "absent",
                                    "food_comment": "None",
                                    "food_description": " No evidence for centralised food storage has been found at Monte Alban.§REF§Feinman, G. M. and Nicholas, L. M (2012) The Late Prehispanic economy of the Valley of Oaxaca, Mexico: weaving threads from data, theory, and subsequent history. Political Economy, Neoliberalism, and the Prehistoric Economies of Latin America. Vol 32: 225-258. p235§REF§§REF§Blanton, R. E., et al. (1982). The Prehispanic Settlement Patterns of the Central and Southern Parts of the Valley of Oaxaca, Mexico, Regents of the University of Michigan, the Museum of Anthropology, p55§REF§",
                                    "road_id": 237,
                                    "road_year_from": "nan",
                                    "road_year_to": "nan",
                                    "road_tag": "TRS",
                                    "road_is_disputed": "False",
                                    "road_is_uncertain": "False",
                                    "road_name": "Road",
                                    "road_road": "absent",
                                    "road_comment": "None",
                                    "road_description": " Small roads were constructed through Monte Alban, but sources do not suggest there is evidence for a road network linking settlements.§REF§Marcus and Flannery (1996) Zapotec Civilization: How urban society evolved in Mexico’s Oaxaca Valley. Flannery and Marcus (1983) The Cloud People: divergent evolution of the Zapotec and Mixtec civilizations. Museum of Anthropology, University of Michigan, Ann Arbor. Academic Press, New York.§REF§ We asked Gary Feinman about roads in Oaxacan polities and he said: \"It depends on what you mean by roads. There are definite roads/accessways within sites. Blanton defines some at Monte Albán and Linda [Nicholas] and I defined some at El Palmillo. These likely were not paved, but they may have been banked and were cleared. Between sites there are known 16th century trails, which were likely used for a long, long time. Again, they likely were not paved, but there were no beasts of burden.\"§REF§Gary Feinman, personal communication to Peter Turchin and Jenny…",
                                    "dur_id": 263,
                                    "dur_year_from": "nan",
                                    "dur_year_to": "nan",
                                    "dur_tag": "TRS",
                                    "dur_is_disputed": "False",
                                    "dur_is_uncertain": "False",
                                    "dur_name": "Polity_duration",
                                    "dur_polity_year_from": -300,
                                    "dur_polity_year_to": -100,
                                    "dur_comment": "None",
                                    "dur_description": " The Zapotec polity began to expand at the beginning of this phase, conquering the Cañada de Cuicatlán and other areas.§REF§Spencer, C. S. and E. M. Redmond (2004). \"Primary state formation in Mesoamerica.\" Annual Review of Anthropology: 173-199§REF§§REF§Spencer, C. S. and E. M. Redmond (2003). \"Militarism, resistance, and early state development in Oaxaca, Mexico.\" Social Evolution &amp; History 2: 25-70, p29§REF§",
                                    "peak_id": 177,
                                    "peak_year_from": "nan",
                                    "peak_year_to": "nan",
                                    "peak_tag": "TRS",
                                    "peak_is_disputed": "False",
                                    "peak_is_uncertain": "False",
                                    "peak_name": "Polity_peak_years",
                                    "peak_peak_year_from": -100,
                                    "peak_peak_year_to": -100,
                                    "peak_comment": "None",
                                    "peak_description": " Monte Albán gained more territory throughout this period, so the peak date has been coded as the end of the Monte Albán Late I phase.<br>",
                                    "cntr_id": 314,
                                    "cntr_year_from": "nan",
                                    "cntr_year_to": "nan",
                                    "cntr_tag": "TRS",
                                    "cntr_is_disputed": "False",
                                    "cntr_is_uncertain": "False",
                                    "cntr_name": "Polity_degree_of_centralization",
                                    "cntr_degree_of_centralization": "unitary state",
                                    "cntr_comment": "None",
                                    "cntr_description": " The establishment of a confederation (although not yet a state) at the beginning of Monte Albán Early I is suggested by the simultaneous abandonment of settlements and founding of Monte Albán, which itself was internally divided into different groupings of people, based on distinctions of pottery assemblages.§REF§Flannery, K. V. and J. Marcus (1983). \"The Cloud People.\" New York, p84§REF§ At the beginning of this phase (Late I), the people at Monte Albán began to expand beyond the valley and conquered Cañada de Cuicatlán (as well as other areas including: Ejutla, Peñoles, Miahuatlán and the San Francisco Arriba area)§REF§Spencer, C. S. and E. M. Redmond (2004). \"Primary state formation in Mesoamerica.\" Annual Review of Anthropology: 173-199, p183§REF§, which remained in a subordinate, possibly tributary, relationship with Monte Albán until around 200 CE (the end of the Monte Albán II phase).§REF§Spencer, C. S. and E. M. Redmond (2003). \"Militarism, resistance, and early state develop…",
                                    "end_year": -100,
                                    "id": 526,
                                    "long_name": "Monte Alban Late I",
                                    "name": "mx_monte_alban_1_late",
                                    "start_year": -300,
                                    "_deepnote_index_column": 2
                                },
                                {
                                    "tr_id": 682,
                                    "polity": "{'end_year': -100, 'id': 526, 'long_name': 'Monte Alban Late I', 'name': 'mx_monte_alban_1_late', 'start_year': -300}",
                                    "tr_year_from": "nan",
                                    "tr_year_to": "nan",
                                    "tr_tag": "TRS",
                                    "tr_is_disputed": "False",
                                    "tr_is_uncertain": "False",
                                    "tr_name": "Polity_territory",
                                    "tr_polity_territory_from": 5000,
                                    "tr_polity_territory_to": 5000,
                                    "tr_comment": "None",
                                    "tr_description": " squared kilometers, based on the map provided by Spencer (2009).§REF§Spencer, C. S. (2009). Testing the Morphogenesist Model of Primary State Formation: The Zapotec Case. Macroevolution in Human Prehistory: Evolutionary Theory and Processual Archaeology. A. M. Prentiss, I. Kuijt and J. C. Chatters, Springer: 133-155, p146§REF§",
                                    "pop_id": 497,
                                    "pop_year_from": "nan",
                                    "pop_year_to": "nan",
                                    "pop_tag": "TRS",
                                    "pop_is_disputed": "False",
                                    "pop_is_uncertain": "False",
                                    "pop_name": "Polity_population",
                                    "pop_polity_population_from": 50000,
                                    "pop_polity_population_to": 60000,
                                    "pop_comment": "None",
                                    "pop_description": " People.<br>\"Table 3.10. Monte Alban Late I sites in Valley of Oaxaca subareas.\"§REF§(Feinman and Nicholas 2017, 40) Gary M Feinman. Linda M Nicholas. 2017. Settlement Patterns in the Albarradas Area of Highland Oaxaca, Mexico: Frontiers, Boundaries, and Interaction. Fieldiana Anthropology, 46(1):1-162. Publication 1572. Field Museum of Natural History. URL: <a class=\"external free\" href=\"http://www.bioone.org/doi/full/10.3158/0071-4739-46.1.1\" rel=\"nofollow\">http://www.bioone.org/doi/full/10.3158/0071-4739-46.1.1</a>§REF§<br>Etla: 10618; Central (contains Monte Alban): 22844; N Valle Grande: 8581; S Valle Grande: 2633; W Tlacolula: 4344; E Tlacolula: 2317; Ejutla: 3455; Albarradas: 1740; Sola: 1539.§REF§(Feinman and Nicholas 2017, 40) Gary M Feinman. Linda M Nicholas. 2017. Settlement Patterns in the Albarradas Area of Highland Oaxaca, Mexico: Frontiers, Boundaries, and Interaction. Fieldiana Anthropology, 46(1):1-162. Publication 1572. Field Museum of Natural History. URL: <a class=…",
                                    "stl_id": 264,
                                    "stl_year_from": "nan",
                                    "stl_year_to": "nan",
                                    "stl_tag": "TRS",
                                    "stl_is_disputed": "False",
                                    "stl_is_uncertain": "False",
                                    "stl_name": "Settlement_hierarchy",
                                    "stl_settlement_hierarchy_from": 4,
                                    "stl_settlement_hierarchy_to": 4,
                                    "stl_comment": "None",
                                    "stl_description": " levels. Four levels of site size, based on settlement size, have been identified by Spencer and Redmond (2004) for this period, in each of the three arms of the Valley of Oaxaca.§REF§Spencer, C. S. and E. M. Redmond (2004). \"Primary state formation in Mesoamerica.\" Annual Review of Anthropology: 173-199, p176-7§REF§ Spencer and Redmond suggest that the increasing complexity in the Ocotlán-Zimatlán and Tlacolula valleys may have been a response to the growing threat from the Zapotecs in the Etla-Central part of the valley.§REF§Spencer, C. S. and E. M. Redmond (2004). \"Primary state formation in Mesoamerica.\" Annual Review of Anthropology: 173-199, p178§REF§<br>1. Primary centre-Monte Albán was the capital of the Zapotec polity during this period.<br>2. Secondary centre-San José Mogote, San Martin Tilcajete, Yegüih-Lambityeco§REF§Feinman, G. M., et al. (1985). \"Long-term demographic change: A perspective from the valley of Oaxaca, Mexico.\" Journal of Field Archaeology 12(3): 333-362, p…",
                                    "adm_id": 347,
                                    "adm_year_from": "nan",
                                    "adm_year_to": "nan",
                                    "adm_tag": "SSP",
                                    "adm_is_disputed": "False",
                                    "adm_is_uncertain": "False",
                                    "adm_name": "Administrative_level",
                                    "adm_administrative_level_from": "nan",
                                    "adm_administrative_level_to": "nan",
                                    "adm_comment": "None",
                                    "adm_description": " levels. The administrative levels could be coded as equivalent to the three higher levels of settlement hierarchy, as those settlements have some evidence of administrative buildings. However sources do not suggest there is evidence that the administrative structure paralleled settlement hierarchy.<br>1. Main administrative centre-Monte Albán was the capital of the Zapotec polity during this period.<br>2. Regional administrative centre, secondary centres-San José Mogote, San Martin Tilcajete, Yegüih-Lambityeco§REF§Feinman, G. M., et al. (1985). \"Long-term demographic change: A perspective from the valley of Oaxaca, Mexico.\" Journal of Field Archaeology 12(3): 333-362, p349§REF§3. Local administrative centres, tertiary centres-relatively small, civic-ceremonial places§REF§Feinman, G. M., et al. (1985). \"Long-term demographic change: A perspective from the valley of Oaxaca, Mexico.\" Journal of Field Archaeology 12(3): 333-362, p349§REF§<br>",
                                    "rlg_id": 185,
                                    "rlg_year_from": "nan",
                                    "rlg_year_to": "nan",
                                    "rlg_tag": "TRS",
                                    "rlg_is_disputed": "False",
                                    "rlg_is_uncertain": "False",
                                    "rlg_name": "Religious_level",
                                    "rlg_religious_level_from": 1,
                                    "rlg_religious_level_to": 1,
                                    "rlg_comment": "None",
                                    "rlg_description": " level. State religion existed during this period, based on evidence for two multi-room temples in neighbouring polity at El Palenque.§REF§Sherman, R. J., et al. (2010). \"Expansionary dynamics of the nascent Monte Alban state.\" Journal of Anthropological Archaeology 29(3): 278-301, p282§REF§ Standardised two-room temples were however not yet present at Monte Alban, and so a permanent state religion with more than one organisational level cannot be inferred.§REF§Marcus and Flannery (1996) Zapotec Civilization: How urban society evolved in Mexico’s Oaxaca Valley. p161§REF§",
                                    "milt_id": 131,
                                    "milt_year_from": "nan",
                                    "milt_year_to": "nan",
                                    "milt_tag": "TRS",
                                    "milt_is_disputed": "False",
                                    "milt_is_uncertain": "False",
                                    "milt_name": "Military_level",
                                    "milt_military_level_from": 1,
                                    "milt_military_level_to": 2,
                                    "milt_comment": "None",
                                    "milt_description": " Suggested by Zapotec expansion during this period.§REF§Marcus and Flannery (1996) Zapotec Civilization: How urban society evolved in Mexico’s Oaxaca Valley. Flannery and Marcus (1983) The Cloud People: divergent evolution of the Zapotec and Mixtec civilizations. Museum of Anthropology, University of Michigan, Ann Arbor. Academic Press, New York.§REF§ The conquest of territories outside of the Valley of Oaxaca suggests that a permanent army, with the necessary commanders, would have existed at this time.§REF§Spencer, C. S. (1982) The Cuicatlán Cañada and Monte Albán: A study of primary state formation. Studies in Archaeology. Academic Press, New York. p243-4§REF§<br>1. War commanders<br>2. Individual soldiers",
                                    "bur_id": 246,
                                    "bur_year_from": "nan",
                                    "bur_year_to": "nan",
                                    "bur_tag": "SSP",
                                    "bur_is_disputed": "False",
                                    "bur_is_uncertain": "False",
                                    "bur_name": "Full_time_bureaucrat",
                                    "bur_full_time_bureaucrat": "unknown",
                                    "bur_comment": "None",
                                    "bur_description": " The monumental construction at Monte Alban has been seen as a sign of a high degree of administrative centralization.§REF§Marcus and Flannery (1996) Zapotec Civilization: How urban society evolved in Mexico’s Oaxaca Valley. Flannery and Marcus (1983) The Cloud People: divergent evolution of the Zapotec and Mixtec civilizations. Museum of Anthropology, University of Michigan, Ann Arbor. Academic Press, New York.§REF§ However, we lack adequate information about administrative structures at Monte Albán to be able to discern whether full-time specialist bureaucrats (i.e. not just chiefs or generals with administrative duties) were present.§REF§Gary Feinman, pers. comm., January 2018.§REF§§REF§Charles Spencer, pers. comm., January 2018.§REF§",
                                    "mrt_id": 192,
                                    "mrt_year_from": "nan",
                                    "mrt_year_to": "nan",
                                    "mrt_tag": "SSP",
                                    "mrt_is_disputed": "False",
                                    "mrt_is_uncertain": "False",
                                    "mrt_name": "Merit_promotion",
                                    "mrt_merit_promotion": "unknown",
                                    "mrt_comment": "None",
                                    "mrt_description": " The monumental construction at Monte Alban has been seen as a sign of a high degree of administrative centralization.§REF§Marcus and Flannery (1996) Zapotec Civilization: How urban society evolved in Mexico’s Oaxaca Valley. Flannery and Marcus (1983) The Cloud People: divergent evolution of the Zapotec and Mixtec civilizations. Museum of Anthropology, University of Michigan, Ann Arbor. Academic Press, New York.§REF§ However, we lack adequate information about administrative structures at Monte Albán to be able to discern whether full-time specialist bureaucrats (i.e. not just chiefs or generals with administrative duties) were present.§REF§Gary Feinman, pers. comm., January 2018.§REF§§REF§Charles Spencer, pers. comm., January 2018.§REF§",
                                    "bldg_id": 243,
                                    "bldg_year_from": "nan",
                                    "bldg_year_to": "nan",
                                    "bldg_tag": "TRS",
                                    "bldg_is_disputed": "False",
                                    "bldg_is_uncertain": "False",
                                    "bldg_name": "Specialized_government_building",
                                    "bldg_specialized_government_building": "absent",
                                    "bldg_comment": "None",
                                    "bldg_description": " Though the following is relevant, here we are interested in buildings that were used solely for administrative purposes. Charles Spencer commented: 'One cannot fail to be impressed by the amount and variety of public/institutional architecture constructed between B.C. 300 and A.D. 800 in and around the Main Plaza at Monte Alban. The archaeological data indicate that much of this architectural complexity was in existence by Monte Alban II (100 B.C. through A.D. 200). Many of these buildings do not appear to have been residential and most likely served an array of religious (e.g., the various structures associated with two-room temples), military (such as Building J and perhaps the Ballcourt), and other \"administrative\" functions (including a variety of other public/institutional buildings the functions of which are still unclear). At the same time, it is probably also appropriate to consider the quihuitao (royal palace) to be another example of a public/institutional building. Both th…",
                                    "irrig_id": 250,
                                    "irrig_year_from": "nan",
                                    "irrig_year_to": "nan",
                                    "irrig_tag": "TRS",
                                    "irrig_is_disputed": "False",
                                    "irrig_is_uncertain": "False",
                                    "irrig_name": "Irrigation_system",
                                    "irrig_irrigation_system": "present",
                                    "irrig_comment": "None",
                                    "irrig_description": " There is some evidence for the use of irrigation systems during this period (for example, at Hierve el Agua), but the evidence suggests that the irrigation systems were constructed at a small scale, serving the land of only one or two communities.§REF§Kirkby (1973) The use of land and water resources in past and present Valley of Oaxaca. Muesum of Anthropology, Memoirs No.5. An Arbor, University of Michigan. p117§REF§§REF§Nicholas, L. M (1989) Land use in prehispanic Oaxaca. In, Kowalewski, S. A., Feiman, G.M., Finsten, L., Blanton, R. E. and Nicholas, L. M. Monte Albán’s Hinterland, Part II: the prehispanic settlement patterns in Tlacoula, Etla and Ocotlán, the Valley of Oaxaca, Mexico.  Memoirs of the Museum of Anthropology, University of Michigan, Number 23. Ann Arbor: 449-505. p458§REF§§REF§Marcus and Flannery (1996) Zapotec Civilization: How urban society evolved in Mexico’s Oaxaca Valley. p146§REF§ However, an irrigation system has been uncovered at La Coyotera in the Cuicatlan…",
                                    "wtr_id": 199,
                                    "wtr_year_from": "nan",
                                    "wtr_year_to": "nan",
                                    "wtr_tag": "TRS",
                                    "wtr_is_disputed": "False",
                                    "wtr_is_uncertain": "False",
                                    "wtr_name": "Drinking_water_supply_system",
                                    "wtr_drinking_water_supply_system": "present",
                                    "wtr_comment": "None",
                                    "wtr_description": " A wall was built to dam a reservoir in the northern section of Monte Alban.§REF§Flannery, K. V. and J. Marcus (1983). \"The Cloud People.\" New York, p85§REF§",
                                    "mrkt_id": 225,
                                    "mrkt_year_from": "nan",
                                    "mrkt_year_to": "nan",
                                    "mrkt_tag": "IFR",
                                    "mrkt_is_disputed": "False",
                                    "mrkt_is_uncertain": "False",
                                    "mrkt_name": "Market",
                                    "mrkt_market": "present",
                                    "mrkt_comment": "None",
                                    "mrkt_description": " There is no direct evidence for marketplaces.§REF§Flannery and Marcus (1983) The Cloud People: divergent evolution of the Zapotec and Mixtec civilizations. Museum of Anthropology, University of Michigan, Ann Arbor. Academic Press, New York. p162§REF§ However, increasing population numbers and product specialisation during this period, as well as the the access that different settlements had to a range of products suggest a trading system of a sort was present. Those sites furthest from Monte Albán and secondary sites had the smallest range of products.§REF§Blanton, R. E., et al. (1982). The Prehispanic Settlement Patterns of the Central and Southern Parts of the Valley of Oaxaca, Mexico, Regents of the University of Michigan, the Museum of Anthropology, p67-8§REF§ We asked Gary Feinman§REF§Gary Feinman, personal communication to Peter Turchin and Jenny Reddish, March 2020.§REF§ and he said: \"Markets clearly have a long history in Mesoamerica before Aztec times. Back in the 1980s, I w…",
                                    "food_id": 234,
                                    "food_year_from": "nan",
                                    "food_year_to": "nan",
                                    "food_tag": "TRS",
                                    "food_is_disputed": "False",
                                    "food_is_uncertain": "False",
                                    "food_name": "Food_storage_site",
                                    "food_food_storage_site": "absent",
                                    "food_comment": "None",
                                    "food_description": " No evidence for centralised food storage has been found at Monte Alban.§REF§Feinman, G. M. and Nicholas, L. M (2012) The Late Prehispanic economy of the Valley of Oaxaca, Mexico: weaving threads from data, theory, and subsequent history. Political Economy, Neoliberalism, and the Prehistoric Economies of Latin America. Vol 32: 225-258. p235§REF§§REF§Blanton, R. E., et al. (1982). The Prehispanic Settlement Patterns of the Central and Southern Parts of the Valley of Oaxaca, Mexico, Regents of the University of Michigan, the Museum of Anthropology, p55§REF§",
                                    "road_id": 237,
                                    "road_year_from": "nan",
                                    "road_year_to": "nan",
                                    "road_tag": "TRS",
                                    "road_is_disputed": "False",
                                    "road_is_uncertain": "False",
                                    "road_name": "Road",
                                    "road_road": "absent",
                                    "road_comment": "None",
                                    "road_description": " Small roads were constructed through Monte Alban, but sources do not suggest there is evidence for a road network linking settlements.§REF§Marcus and Flannery (1996) Zapotec Civilization: How urban society evolved in Mexico’s Oaxaca Valley. Flannery and Marcus (1983) The Cloud People: divergent evolution of the Zapotec and Mixtec civilizations. Museum of Anthropology, University of Michigan, Ann Arbor. Academic Press, New York.§REF§ We asked Gary Feinman about roads in Oaxacan polities and he said: \"It depends on what you mean by roads. There are definite roads/accessways within sites. Blanton defines some at Monte Albán and Linda [Nicholas] and I defined some at El Palmillo. These likely were not paved, but they may have been banked and were cleared. Between sites there are known 16th century trails, which were likely used for a long, long time. Again, they likely were not paved, but there were no beasts of burden.\"§REF§Gary Feinman, personal communication to Peter Turchin and Jenny…",
                                    "dur_id": 263,
                                    "dur_year_from": "nan",
                                    "dur_year_to": "nan",
                                    "dur_tag": "TRS",
                                    "dur_is_disputed": "False",
                                    "dur_is_uncertain": "False",
                                    "dur_name": "Polity_duration",
                                    "dur_polity_year_from": -300,
                                    "dur_polity_year_to": -100,
                                    "dur_comment": "None",
                                    "dur_description": " The Zapotec polity began to expand at the beginning of this phase, conquering the Cañada de Cuicatlán and other areas.§REF§Spencer, C. S. and E. M. Redmond (2004). \"Primary state formation in Mesoamerica.\" Annual Review of Anthropology: 173-199§REF§§REF§Spencer, C. S. and E. M. Redmond (2003). \"Militarism, resistance, and early state development in Oaxaca, Mexico.\" Social Evolution &amp; History 2: 25-70, p29§REF§",
                                    "peak_id": 177,
                                    "peak_year_from": "nan",
                                    "peak_year_to": "nan",
                                    "peak_tag": "TRS",
                                    "peak_is_disputed": "False",
                                    "peak_is_uncertain": "False",
                                    "peak_name": "Polity_peak_years",
                                    "peak_peak_year_from": -100,
                                    "peak_peak_year_to": -100,
                                    "peak_comment": "None",
                                    "peak_description": " Monte Albán gained more territory throughout this period, so the peak date has been coded as the end of the Monte Albán Late I phase.<br>",
                                    "cntr_id": 313,
                                    "cntr_year_from": "nan",
                                    "cntr_year_to": "nan",
                                    "cntr_tag": "TRS",
                                    "cntr_is_disputed": "False",
                                    "cntr_is_uncertain": "False",
                                    "cntr_name": "Polity_degree_of_centralization",
                                    "cntr_degree_of_centralization": "confederated state",
                                    "cntr_comment": "None",
                                    "cntr_description": " The establishment of a confederation (although not yet a state) at the beginning of Monte Albán Early I is suggested by the simultaneous abandonment of settlements and founding of Monte Albán, which itself was internally divided into different groupings of people, based on distinctions of pottery assemblages.§REF§Flannery, K. V. and J. Marcus (1983). \"The Cloud People.\" New York, p84§REF§ At the beginning of this phase (Late I), the people at Monte Albán began to expand beyond the valley and conquered Cañada de Cuicatlán (as well as other areas including: Ejutla, Peñoles, Miahuatlán and the San Francisco Arriba area)§REF§Spencer, C. S. and E. M. Redmond (2004). \"Primary state formation in Mesoamerica.\" Annual Review of Anthropology: 173-199, p183§REF§, which remained in a subordinate, possibly tributary, relationship with Monte Albán until around 200 CE (the end of the Monte Albán II phase).§REF§Spencer, C. S. and E. M. Redmond (2003). \"Militarism, resistance, and early state develop…",
                                    "end_year": -100,
                                    "id": 526,
                                    "long_name": "Monte Alban Late I",
                                    "name": "mx_monte_alban_1_late",
                                    "start_year": -300,
                                    "_deepnote_index_column": 3
                                },
                                {
                                    "tr_id": "nan",
                                    "polity": "{'end_year': -1000, 'id': 448, 'long_name': 'Atlantic Complex', 'name': 'fr_atlantic_complex', 'start_year': -2200}",
                                    "tr_year_from": "nan",
                                    "tr_year_to": "nan",
                                    "tr_tag": "nan",
                                    "tr_is_disputed": "nan",
                                    "tr_is_uncertain": "nan",
                                    "tr_name": "nan",
                                    "tr_polity_territory_from": "nan",
                                    "tr_polity_territory_to": "nan",
                                    "tr_comment": "nan",
                                    "tr_description": "nan",
                                    "pop_id": 329,
                                    "pop_year_from": "nan",
                                    "pop_year_to": "nan",
                                    "pop_tag": "TRS",
                                    "pop_is_disputed": "False",
                                    "pop_is_uncertain": "False",
                                    "pop_name": "Polity_population",
                                    "pop_polity_population_from": 1000,
                                    "pop_polity_population_to": 2000,
                                    "pop_comment": "None",
                                    "pop_description": "\"Settlements varied between two primary forms in the Earlier Bronze Age. One was a simple hamlet of several small, square structures, probably housing one or more extended family groups. The other was a fortified town, usually built on an easily defended prominence and surrounded by a series of walls and ditches.\" §REF§(Peregrine 2001, 412-413)§REF§ - from this quote I estimate 1000-2000 on basis that we have already about 1000 for Beaker Culture.<br>",
                                    "stl_id": 65,
                                    "stl_year_from": "nan",
                                    "stl_year_to": "nan",
                                    "stl_tag": "TRS",
                                    "stl_is_disputed": "False",
                                    "stl_is_uncertain": "False",
                                    "stl_name": "Settlement_hierarchy",
                                    "stl_settlement_hierarchy_from": 1,
                                    "stl_settlement_hierarchy_to": 2,
                                    "stl_comment": "None",
                                    "stl_description": " levels. \"Towns began to appear in the late first millennium over much of Europe, with considerable populations and large-scale industrial activity.\" §REF§(McIntosh 2006, 155)§REF§ From this we can infer that most settlements before the 1st millennium BCE were villages or hamlets. \"Settlements varied between two primary forms in the Earlier Bronze Age. One was a simple hamlet of several small, square structures, probably housing one or more extended family groups. The other was a fortified town, usually built on an easily defended prominence and surrounded by a series of walls and ditches.\" §REF§(Peregrine 2001, 412-413)§REF§",
                                    "adm_id": 40,
                                    "adm_year_from": "nan",
                                    "adm_year_to": "nan",
                                    "adm_tag": "TRS",
                                    "adm_is_disputed": "False",
                                    "adm_is_uncertain": "False",
                                    "adm_name": "Administrative_level",
                                    "adm_administrative_level_from": 1,
                                    "adm_administrative_level_to": 2,
                                    "adm_comment": "None",
                                    "adm_description": " levels. \"The production of bronze objects has suggested to many scholars that, just as trade became more complex, sociopolitical organization may have become more complex as well. This idea seems to be reinforced by the presence of fortified towns, suggesting some degree of political integration, at least at a local level. Unfortunately, there is little formal data on sociopolitical organization for the Earlier Bronze Age. Scholars analyzing the contents of burials have suggested a two-tiered division was present in Earlier Bronze Age society, with one tier being \"elites\" buried with considerable wealth, the other being commoners buried with very few goods. Most scholars believe that such differences were probably achieved during the life of the individual, particularly since many of the \"elite\" burials contain goods associated with warriors. However, both women and men, and even some children, were buried in the \"elite\" style, suggesting that ascribed status differences may have bee…",
                                    "rlg_id": 290,
                                    "rlg_year_from": "nan",
                                    "rlg_year_to": "nan",
                                    "rlg_tag": "SSP",
                                    "rlg_is_disputed": "False",
                                    "rlg_is_uncertain": "False",
                                    "rlg_name": "Religious_level",
                                    "rlg_religious_level_from": "nan",
                                    "rlg_religious_level_to": "nan",
                                    "rlg_comment": "None",
                                    "rlg_description": "None",
                                    "milt_id": 304,
                                    "milt_year_from": "nan",
                                    "milt_year_to": "nan",
                                    "milt_tag": "SSP",
                                    "milt_is_disputed": "False",
                                    "milt_is_uncertain": "False",
                                    "milt_name": "Military_level",
                                    "milt_military_level_from": "nan",
                                    "milt_military_level_to": "nan",
                                    "milt_comment": "None",
                                    "milt_description": "None",
                                    "bur_id": "nan",
                                    "bur_year_from": "nan",
                                    "bur_year_to": "nan",
                                    "bur_tag": "nan",
                                    "bur_is_disputed": "nan",
                                    "bur_is_uncertain": "nan",
                                    "bur_name": "nan",
                                    "bur_full_time_bureaucrat": "nan",
                                    "bur_comment": "nan",
                                    "bur_description": "nan",
                                    "mrt_id": 55,
                                    "mrt_year_from": "nan",
                                    "mrt_year_to": "nan",
                                    "mrt_tag": "SSP",
                                    "mrt_is_disputed": "False",
                                    "mrt_is_uncertain": "False",
                                    "mrt_name": "Merit_promotion",
                                    "mrt_merit_promotion": "unknown",
                                    "mrt_comment": "None",
                                    "mrt_description": " No information found in sources so far.",
                                    "bldg_id": 61,
                                    "bldg_year_from": "nan",
                                    "bldg_year_to": "nan",
                                    "bldg_tag": "SSP",
                                    "bldg_is_disputed": "False",
                                    "bldg_is_uncertain": "False",
                                    "bldg_name": "Specialized_government_building",
                                    "bldg_specialized_government_building": "unknown",
                                    "bldg_comment": "None",
                                    "bldg_description": " No information found in sources so far.",
                                    "irrig_id": 62,
                                    "irrig_year_from": "nan",
                                    "irrig_year_to": "nan",
                                    "irrig_tag": "IFR",
                                    "irrig_is_disputed": "False",
                                    "irrig_is_uncertain": "False",
                                    "irrig_name": "Irrigation_system",
                                    "irrig_irrigation_system": "present",
                                    "irrig_comment": "None",
                                    "irrig_description": " Coded as present for primitive irrigation systems on Beaker Culture.",
                                    "wtr_id": 57,
                                    "wtr_year_from": "nan",
                                    "wtr_year_to": "nan",
                                    "wtr_tag": "SSP",
                                    "wtr_is_disputed": "False",
                                    "wtr_is_uncertain": "False",
                                    "wtr_name": "Drinking_water_supply_system",
                                    "wtr_drinking_water_supply_system": "unknown",
                                    "wtr_comment": "None",
                                    "wtr_description": " No information found in sources so far.",
                                    "mrkt_id": 61,
                                    "mrkt_year_from": "nan",
                                    "mrkt_year_to": "nan",
                                    "mrkt_tag": "SSP",
                                    "mrkt_is_disputed": "False",
                                    "mrkt_is_uncertain": "False",
                                    "mrkt_name": "Market",
                                    "mrkt_market": "unknown",
                                    "mrkt_comment": "None",
                                    "mrkt_description": " No information found in sources so far.",
                                    "food_id": 62,
                                    "food_year_from": "nan",
                                    "food_year_to": "nan",
                                    "food_tag": "SSP",
                                    "food_is_disputed": "False",
                                    "food_is_uncertain": "False",
                                    "food_name": "Food_storage_site",
                                    "food_food_storage_site": "unknown",
                                    "food_comment": "None",
                                    "food_description": " No information found in sources so far.",
                                    "road_id": 63,
                                    "road_year_from": "nan",
                                    "road_year_to": "nan",
                                    "road_tag": "IFR",
                                    "road_is_disputed": "False",
                                    "road_is_uncertain": "False",
                                    "road_name": "Road",
                                    "road_road": "present",
                                    "road_comment": "None",
                                    "road_description": " \"Clearly there must have been routeways along which people traveled, if only to move their animals or visit their neighbors. But were these ways formalized? Were their surfaces prepared to facilitate the passage of animals and vehicles? Only rarely is it possible to answer that question. The most famous cases are where wooden tracks were laid down across wet or boggy ground, as above all in the Somerset Levels of south-west England, but also in several other parts of Britain, in Ireland, Holland, and north-west Germany.\" §REF§(Harding 2002, 311)§REF§",
                                    "dur_id": 62,
                                    "dur_year_from": "nan",
                                    "dur_year_to": "nan",
                                    "dur_tag": "TRS",
                                    "dur_is_disputed": "False",
                                    "dur_is_uncertain": "False",
                                    "dur_name": "Polity_duration",
                                    "dur_polity_year_from": -2200,
                                    "dur_polity_year_to": -1000,
                                    "dur_comment": "None",
                                    "dur_description": " 1800-1300 BCE §REF§(Peregrine 2001, 412)§REF§<br>Dates and periodizations for the Bronze Age in Atlantic Europe §REF§(Harding 2000, 15)§REF§",
                                    "peak_id": "nan",
                                    "peak_year_from": "nan",
                                    "peak_year_to": "nan",
                                    "peak_tag": "nan",
                                    "peak_is_disputed": "nan",
                                    "peak_is_uncertain": "nan",
                                    "peak_name": "nan",
                                    "peak_peak_year_from": "nan",
                                    "peak_peak_year_to": "nan",
                                    "peak_comment": "nan",
                                    "peak_description": "nan",
                                    "cntr_id": 81,
                                    "cntr_year_from": "nan",
                                    "cntr_year_to": "nan",
                                    "cntr_tag": "TRS",
                                    "cntr_is_disputed": "False",
                                    "cntr_is_uncertain": "False",
                                    "cntr_name": "Polity_degree_of_centralization",
                                    "cntr_degree_of_centralization": "quasi-polity",
                                    "cntr_comment": "None",
                                    "cntr_description": "None",
                                    "end_year": -1000,
                                    "id": 448,
                                    "long_name": "Atlantic Complex",
                                    "name": "fr_atlantic_complex",
                                    "start_year": -2200,
                                    "_deepnote_index_column": 4
                                },
                                {
                                    "tr_id": "nan",
                                    "polity": "{'end_year': -1000, 'id': 464, 'long_name': 'Koktepe I', 'name': 'uz_koktepe_1', 'start_year': -1400}",
                                    "tr_year_from": "nan",
                                    "tr_year_to": "nan",
                                    "tr_tag": "nan",
                                    "tr_is_disputed": "nan",
                                    "tr_is_uncertain": "nan",
                                    "tr_name": "nan",
                                    "tr_polity_territory_from": "nan",
                                    "tr_polity_territory_to": "nan",
                                    "tr_comment": "nan",
                                    "tr_description": "nan",
                                    "pop_id": "nan",
                                    "pop_year_from": "nan",
                                    "pop_year_to": "nan",
                                    "pop_tag": "nan",
                                    "pop_is_disputed": "nan",
                                    "pop_is_uncertain": "nan",
                                    "pop_name": "nan",
                                    "pop_polity_population_from": "nan",
                                    "pop_polity_population_to": "nan",
                                    "pop_comment": "nan",
                                    "pop_description": "nan",
                                    "stl_id": 361,
                                    "stl_year_from": "nan",
                                    "stl_year_to": "nan",
                                    "stl_tag": "TRS",
                                    "stl_is_disputed": "False",
                                    "stl_is_uncertain": "False",
                                    "stl_name": "Settlement_hierarchy",
                                    "stl_settlement_hierarchy_from": 1,
                                    "stl_settlement_hierarchy_to": 2,
                                    "stl_comment": "None",
                                    "stl_description": " levels.<br>\"C’est suite à cette mutation profonde qu’émerge l’âge du fer ancien (période Yaz I) aux alentours de 1500-1300 av. JC, avec l’apparition d’établissements ruraux disséminés en oasis, comportant quelquefois un petit batiment fortifié qui devait abriter une petite élite gérant la richesse produite par l’exploitation des terres et la maîtrise de l’irrigation.\" §REF§(Bendezu-Sarmiento and Mustafakulov 2013,  208)§REF§ In the Yaz I period: small rural settlements around oases, with sometimes a small fortified building which might have hosted local elites. 2 levels?<br>(1. Settlement with fortified building (elite stronghold?) )<br>2. Settlement without fortified building.",
                                    "adm_id": 232,
                                    "adm_year_from": "nan",
                                    "adm_year_to": "nan",
                                    "adm_tag": "TRS",
                                    "adm_is_disputed": "False",
                                    "adm_is_uncertain": "False",
                                    "adm_name": "Administrative_level",
                                    "adm_administrative_level_from": 1,
                                    "adm_administrative_level_to": 1,
                                    "adm_comment": "None",
                                    "adm_description": " levels.",
                                    "rlg_id": "nan",
                                    "rlg_year_from": "nan",
                                    "rlg_year_to": "nan",
                                    "rlg_tag": "nan",
                                    "rlg_is_disputed": "nan",
                                    "rlg_is_uncertain": "nan",
                                    "rlg_name": "nan",
                                    "rlg_religious_level_from": "nan",
                                    "rlg_religious_level_to": "nan",
                                    "rlg_comment": "nan",
                                    "rlg_description": "nan",
                                    "milt_id": 184,
                                    "milt_year_from": "nan",
                                    "milt_year_to": "nan",
                                    "milt_tag": "TRS",
                                    "milt_is_disputed": "False",
                                    "milt_is_uncertain": "False",
                                    "milt_name": "Military_level",
                                    "milt_military_level_from": 1,
                                    "milt_military_level_to": 1,
                                    "milt_comment": "None",
                                    "milt_description": " levels.",
                                    "bur_id": 333,
                                    "bur_year_from": "nan",
                                    "bur_year_to": "nan",
                                    "bur_tag": "SSP",
                                    "bur_is_disputed": "False",
                                    "bur_is_uncertain": "False",
                                    "bur_name": "Full_time_bureaucrat",
                                    "bur_full_time_bureaucrat": "unknown",
                                    "bur_comment": "None",
                                    "bur_description": " Full-time specialists",
                                    "mrt_id": "nan",
                                    "mrt_year_from": "nan",
                                    "mrt_year_to": "nan",
                                    "mrt_tag": "nan",
                                    "mrt_is_disputed": "nan",
                                    "mrt_is_uncertain": "nan",
                                    "mrt_name": "nan",
                                    "mrt_merit_promotion": "nan",
                                    "mrt_comment": "nan",
                                    "mrt_description": "nan",
                                    "bldg_id": 337,
                                    "bldg_year_from": "nan",
                                    "bldg_year_to": "nan",
                                    "bldg_tag": "SSP",
                                    "bldg_is_disputed": "False",
                                    "bldg_is_uncertain": "False",
                                    "bldg_name": "Specialized_government_building",
                                    "bldg_specialized_government_building": "unknown",
                                    "bldg_comment": "None",
                                    "bldg_description": "None",
                                    "irrig_id": 336,
                                    "irrig_year_from": "nan",
                                    "irrig_year_to": "nan",
                                    "irrig_tag": "TRS",
                                    "irrig_is_disputed": "False",
                                    "irrig_is_uncertain": "False",
                                    "irrig_name": "Irrigation_system",
                                    "irrig_irrigation_system": "absent",
                                    "irrig_comment": "None",
                                    "irrig_description": " \"Le developpement economique repose alors encore sur une agriculture seche qui pourrait avoir ete periodiquement secondee par les eaux d’un torrent de montagne (communications orales de B. Rondelli et M. Isamiddinov).\" §REF§(Rapin and Isamiddinov 2013, 124-125)§REF§ During its first phase, Kok Tepe relied on dryland farming, occasionally receiving natural irrigation from a mountain stream. \"it can be provisionally assumed that the two earlier Iron Age phases distinguished at Koktepe could represent the first manifestations of local agricultural development. Maurizio Tosi has proposed that for the southern slopes of the Zerafshan valley, along the Dargom canal, this economic system could have developed from an earlier period, when irrigation was limited to the natural flows of water from the foothills (Koktepe I period), to a later irrigation system, mainly exemplified by the excavation of the great canals deriving from the Zerafshan, the Bulungur and the Dargom (Koktepe II period).\"§…",
                                    "wtr_id": 265,
                                    "wtr_year_from": "nan",
                                    "wtr_year_to": "nan",
                                    "wtr_tag": "SSP",
                                    "wtr_is_disputed": "False",
                                    "wtr_is_uncertain": "False",
                                    "wtr_name": "Drinking_water_supply_system",
                                    "wtr_drinking_water_supply_system": "unknown",
                                    "wtr_comment": "None",
                                    "wtr_description": "None",
                                    "mrkt_id": 306,
                                    "mrkt_year_from": "nan",
                                    "mrkt_year_to": "nan",
                                    "mrkt_tag": "SSP",
                                    "mrkt_is_disputed": "False",
                                    "mrkt_is_uncertain": "False",
                                    "mrkt_name": "Market",
                                    "mrkt_market": "unknown",
                                    "mrkt_comment": "None",
                                    "mrkt_description": "None",
                                    "food_id": 312,
                                    "food_year_from": "nan",
                                    "food_year_to": "nan",
                                    "food_tag": "IFR",
                                    "food_is_disputed": "False",
                                    "food_is_uncertain": "False",
                                    "food_name": "Food_storage_site",
                                    "food_food_storage_site": "absent",
                                    "food_comment": "None",
                                    "food_description": " at a later time: \"Grain would be stored, at a domestic level, in silos dug below the floors of farms and in jars, thus taking care of daily requirements and of surpluses.\"§REF§(Francfort 1982, 184)  Francfort, Henri-Paul. The economy, society and culture of Central Asia in Achaemenid times. in Boardman, John. Hammond, N. G. L. Lewis, D. M. Ostwald, M. 1988. The Cambridge Ancient History. Second edition. Volume 10. Cambridge University Press.§REF§ -- reference for general region",
                                    "road_id": 316,
                                    "road_year_from": "nan",
                                    "road_year_to": "nan",
                                    "road_tag": "SSP",
                                    "road_is_disputed": "False",
                                    "road_is_uncertain": "False",
                                    "road_name": "Road",
                                    "road_road": "unknown",
                                    "road_comment": "None",
                                    "road_description": "None",
                                    "dur_id": 356,
                                    "dur_year_from": "nan",
                                    "dur_year_to": "nan",
                                    "dur_tag": "TRS",
                                    "dur_is_disputed": "False",
                                    "dur_is_uncertain": "False",
                                    "dur_name": "Polity_duration",
                                    "dur_polity_year_from": -1400,
                                    "dur_polity_year_to": -1000,
                                    "dur_comment": "None",
                                    "dur_description": "Earliest: c1400 BCEOf samples taken, earliest C14 date c1400-1200 BCE, latest C14 date 810-760 BCE§REF§(Lhuillier and Rapin 2013) Lhuillier, J. Rapin, C. Handmade painted ware in Koktepe: some elements for the chronology of the early Iron Age in northern Sogdiana. Wagner, Marcin ed. 2013. Pottery and Chronology of the Early Iron Age in Central Asia. Warszawa.§REF§<br>Latest: c1000 BCE?\"After an apparent chronological gap around the first third of the first millennium BC, the first real monumental architecture appeared on the terrace of Koktepe\"§REF§(Rapin 2007, 34) Rapin, Claude. \"Nomads and the Shaping of Central Asia: from the Early Iron Age to the Kushan Period.\" in Cribb, Joe. Herrmann, Georgina. 2007. After Alexander: Central Asia before Islam. British Academy.§REF§<br>\"The transition between the period of the painted pottery (Koktepe I) and the period of the monumental courtyards (Koktepe II) needs further research, as the differences betwen the north-eastern and south-western t…",
                                    "peak_id": "nan",
                                    "peak_year_from": "nan",
                                    "peak_year_to": "nan",
                                    "peak_tag": "nan",
                                    "peak_is_disputed": "nan",
                                    "peak_is_uncertain": "nan",
                                    "peak_name": "nan",
                                    "peak_peak_year_from": "nan",
                                    "peak_peak_year_to": "nan",
                                    "peak_comment": "nan",
                                    "peak_description": "nan",
                                    "cntr_id": 402,
                                    "cntr_year_from": "nan",
                                    "cntr_year_to": "nan",
                                    "cntr_tag": "TRS",
                                    "cntr_is_disputed": "False",
                                    "cntr_is_uncertain": "False",
                                    "cntr_name": "Polity_degree_of_centralization",
                                    "cntr_degree_of_centralization": "quasi-polity",
                                    "cntr_comment": "None",
                                    "cntr_description": "None",
                                    "end_year": -1000,
                                    "id": 464,
                                    "long_name": "Koktepe I",
                                    "name": "uz_koktepe_1",
                                    "start_year": -1400,
                                    "_deepnote_index_column": 5
                                },
                                {
                                    "tr_id": 531,
                                    "polity": "{'end_year': -1000, 'id': 65, 'long_name': 'Final Postpalatial Crete', 'name': 'gr_crete_post_palace_2', 'start_year': -1200}",
                                    "tr_year_from": "nan",
                                    "tr_year_to": "nan",
                                    "tr_tag": "SSP",
                                    "tr_is_disputed": "False",
                                    "tr_is_uncertain": "False",
                                    "tr_name": "Polity_territory",
                                    "tr_polity_territory_from": "nan",
                                    "tr_polity_territory_to": "nan",
                                    "tr_comment": "None",
                                    "tr_description": " Km2. During this period Crete was divided up into many small, independent political units.§REF§Borgna, E. 2003. \"Regional settlement patterns, exchange systems and sources of power in Crete at the ends of the Late Bronze Age: establishing a connection,\" <i>SMEA</i> 45, 153-83.§REF§ Expert input may be needed to suggest a figure for the typical territory of one of these polities.",
                                    "pop_id": 347,
                                    "pop_year_from": "nan",
                                    "pop_year_to": "nan",
                                    "pop_tag": "SSP",
                                    "pop_is_disputed": "False",
                                    "pop_is_uncertain": "False",
                                    "pop_name": "Polity_population",
                                    "pop_polity_population_from": "nan",
                                    "pop_polity_population_to": "nan",
                                    "pop_comment": "None",
                                    "pop_description": " people. Firth estimated the Cretan population during Late Minoan IIIA and IIIB periods (1400-1200 BCE) as 110,000.§REF§Firth, R. 1995.\"Estimating the population of Crete during LM IIIA/B,\" Minos 29-30, 33-55.§REF§ There are not estimates for the Final Post Palatial Period; settlement patterns, however, points to a considerable population decrease especially during 1100-1000 BCE. §REF§Rehak, P. and Younger, J. G. 2001. \"Neopalatial, Final palatial, and Postpalatial Crete,\" in  Cullen, T. (ed.), <i>Aegean Prehistory. A Review</i>, Boston, 458§REF§ §REF§Borgna, E. 2003. \"Regional settlement patterns in Crete at the end of LBA,\" <i>SMEA</i> 45, 153-83.§REF§ Moreover, during this period Crete was divided up into many small, independent political units.§REF§Borgna, E. 2003. \"Regional settlement patterns, exchange systems and sources of power in Crete at the ends of the Late Bronze Age: establishing a connection,\" <i>SMEA</i> 45, 153-83.§REF§ Expert input may be needed to suggest a figure f…",
                                    "stl_id": 91,
                                    "stl_year_from": "nan",
                                    "stl_year_to": "nan",
                                    "stl_tag": "TRS",
                                    "stl_is_disputed": "False",
                                    "stl_is_uncertain": "False",
                                    "stl_name": "Settlement_hierarchy",
                                    "stl_settlement_hierarchy_from": 1,
                                    "stl_settlement_hierarchy_to": 1,
                                    "stl_comment": "None",
                                    "stl_description": " The settlement patterns appears to be more dispersed than before and their is no evidence for a site hierarchy§REF§e.g. Hayden, B. J. 2004. \"Vrokastro and the settlement pattern of the LM IIIA-Geometric periods,\" in Day, L. P., Mook, M. S., and Muhly, J. D. (eds), <i>Crete Beyond the Palaces: Proceedings of the Crete 2000 Conference</i> (Prehistory Monographs 10), Philadelphia, 240.§REF§ By the end of Late Minoan IIIB most settlements had suffered destruction or abandonment. During the next period, 1200-1000 BCE, settlement patterns changed and followed marked regional tranjectories. §REF§Borgna, E. 2003. \"Regional settlement patterns in Crete at the end of LBA,\" <i>SMEA</i> 45, 153-83.§REF§ §REF§Driessen, J. and Frankel, D. 2012.\"Minds and mines: settlement networks and the diachronic use of space on Cyprus and Crete,\" in Cadogan, G., Iacovou, M., Kopaka, K. and Whitley, J. (eds), <i>Parallel Lives: Ancient Island Societies in Crete and Cyprus</i> (BSA Studies 20), London, 76-7§REF§…",
                                    "adm_id": "nan",
                                    "adm_year_from": "nan",
                                    "adm_year_to": "nan",
                                    "adm_tag": "nan",
                                    "adm_is_disputed": "nan",
                                    "adm_is_uncertain": "nan",
                                    "adm_name": "nan",
                                    "adm_administrative_level_from": "nan",
                                    "adm_administrative_level_to": "nan",
                                    "adm_comment": "nan",
                                    "adm_description": "nan",
                                    "rlg_id": "nan",
                                    "rlg_year_from": "nan",
                                    "rlg_year_to": "nan",
                                    "rlg_tag": "nan",
                                    "rlg_is_disputed": "nan",
                                    "rlg_is_uncertain": "nan",
                                    "rlg_name": "nan",
                                    "rlg_religious_level_from": "nan",
                                    "rlg_religious_level_to": "nan",
                                    "rlg_comment": "nan",
                                    "rlg_description": "nan",
                                    "milt_id": "nan",
                                    "milt_year_from": "nan",
                                    "milt_year_to": "nan",
                                    "milt_tag": "nan",
                                    "milt_is_disputed": "nan",
                                    "milt_is_uncertain": "nan",
                                    "milt_name": "nan",
                                    "milt_military_level_from": "nan",
                                    "milt_military_level_to": "nan",
                                    "milt_comment": "nan",
                                    "milt_description": "nan",
                                    "bur_id": "nan",
                                    "bur_year_from": "nan",
                                    "bur_year_to": "nan",
                                    "bur_tag": "nan",
                                    "bur_is_disputed": "nan",
                                    "bur_is_uncertain": "nan",
                                    "bur_name": "nan",
                                    "bur_full_time_bureaucrat": "nan",
                                    "bur_comment": "nan",
                                    "bur_description": "nan",
                                    "mrt_id": "nan",
                                    "mrt_year_from": "nan",
                                    "mrt_year_to": "nan",
                                    "mrt_tag": "nan",
                                    "mrt_is_disputed": "nan",
                                    "mrt_is_uncertain": "nan",
                                    "mrt_name": "nan",
                                    "mrt_merit_promotion": "nan",
                                    "mrt_comment": "nan",
                                    "mrt_description": "nan",
                                    "bldg_id": "nan",
                                    "bldg_year_from": "nan",
                                    "bldg_year_to": "nan",
                                    "bldg_tag": "nan",
                                    "bldg_is_disputed": "nan",
                                    "bldg_is_uncertain": "nan",
                                    "bldg_name": "nan",
                                    "bldg_specialized_government_building": "nan",
                                    "bldg_comment": "nan",
                                    "bldg_description": "nan",
                                    "irrig_id": "nan",
                                    "irrig_year_from": "nan",
                                    "irrig_year_to": "nan",
                                    "irrig_tag": "nan",
                                    "irrig_is_disputed": "nan",
                                    "irrig_is_uncertain": "nan",
                                    "irrig_name": "nan",
                                    "irrig_irrigation_system": "nan",
                                    "irrig_comment": "nan",
                                    "irrig_description": "nan",
                                    "wtr_id": 83,
                                    "wtr_year_from": "nan",
                                    "wtr_year_to": "nan",
                                    "wtr_tag": "TRS",
                                    "wtr_is_disputed": "False",
                                    "wtr_is_uncertain": "False",
                                    "wtr_name": "Drinking_water_supply_system",
                                    "wtr_drinking_water_supply_system": "absent",
                                    "wtr_comment": "None",
                                    "wtr_description": "None",
                                    "mrkt_id": "nan",
                                    "mrkt_year_from": "nan",
                                    "mrkt_year_to": "nan",
                                    "mrkt_tag": "nan",
                                    "mrkt_is_disputed": "nan",
                                    "mrkt_is_uncertain": "nan",
                                    "mrkt_name": "nan",
                                    "mrkt_market": "nan",
                                    "mrkt_comment": "nan",
                                    "mrkt_description": "nan",
                                    "food_id": "nan",
                                    "food_year_from": "nan",
                                    "food_year_to": "nan",
                                    "food_tag": "nan",
                                    "food_is_disputed": "nan",
                                    "food_is_uncertain": "nan",
                                    "food_name": "nan",
                                    "food_food_storage_site": "nan",
                                    "food_comment": "nan",
                                    "food_description": "nan",
                                    "road_id": 89,
                                    "road_year_from": "nan",
                                    "road_year_to": "nan",
                                    "road_tag": "TRS",
                                    "road_is_disputed": "False",
                                    "road_is_uncertain": "False",
                                    "road_name": "Road",
                                    "road_road": "present",
                                    "road_comment": "None",
                                    "road_description": "None",
                                    "dur_id": 88,
                                    "dur_year_from": "nan",
                                    "dur_year_to": "nan",
                                    "dur_tag": "TRS",
                                    "dur_is_disputed": "False",
                                    "dur_is_uncertain": "False",
                                    "dur_name": "Polity_duration",
                                    "dur_polity_year_from": -1200,
                                    "dur_polity_year_to": -1000,
                                    "dur_comment": "None",
                                    "dur_description": " The Final Postpalatial period is divided in Late Minoan IIIC (1200-1100 BCE) and Subminoan (1100-1000 BCE). §REF§Shelmerdine, C. W. 2008. \"Background, sources, and methods,\" in Shelmerdine, C. W. (ed.), <i>The Cambridge Companion to the Aegean Bronze Age</i>, Cambridge, 4.§REF§ The begining of the period is marked by the extensive destructions that destroyed many Cretan sites (1200 BCE) and its end by the arrival of Dorians (1000 BCE).",
                                    "peak_id": 67,
                                    "peak_year_from": "nan",
                                    "peak_year_to": "nan",
                                    "peak_tag": "TRS",
                                    "peak_is_disputed": "False",
                                    "peak_is_uncertain": "False",
                                    "peak_name": "Polity_peak_years",
                                    "peak_peak_year_from": -1200,
                                    "peak_peak_year_to": -1100,
                                    "peak_comment": "None",
                                    "peak_description": "<br>",
                                    "cntr_id": 120,
                                    "cntr_year_from": "nan",
                                    "cntr_year_to": "nan",
                                    "cntr_tag": "TRS",
                                    "cntr_is_disputed": "False",
                                    "cntr_is_uncertain": "False",
                                    "cntr_name": "Polity_degree_of_centralization",
                                    "cntr_degree_of_centralization": "quasi-polity",
                                    "cntr_comment": "None",
                                    "cntr_description": " The centralized administrations established by regional elites in Late Minoan IIIB (1300-1200 BCE), once under the control of the Knossian polity, are now replaced by new ones, \"thereby creating new processes and new dynamics and exerting a new impact of settlement patterns, social organizations, forms of production and exchange and the conception of the role of the individual within the social community.\" §REF§Borgna, E. 2003. \"Regional settlement patterns, exchange systems and sources of power in Crete at the ends of the Late Bronze Age: establishing a connection,\" <i>SMEA</i> 45, 153-83.§REF§",
                                    "end_year": -1000,
                                    "id": 65,
                                    "long_name": "Final Postpalatial Crete",
                                    "name": "gr_crete_post_palace_2",
                                    "start_year": -1200,
                                    "_deepnote_index_column": 6
                                },
                                {
                                    "tr_id": 690,
                                    "polity": "{'end_year': -101, 'id': 10, 'long_name': 'Late Formative Basin of Mexico', 'name': 'mx_basin_of_mexico_5', 'start_year': -400}",
                                    "tr_year_from": "nan",
                                    "tr_year_to": "nan",
                                    "tr_tag": "SSP",
                                    "tr_is_disputed": "False",
                                    "tr_is_uncertain": "False",
                                    "tr_name": "Polity_territory",
                                    "tr_polity_territory_from": "nan",
                                    "tr_polity_territory_to": "nan",
                                    "tr_comment": "None",
                                    "tr_description": " in squared kilometers. During the Late Formative (c. 650-200 BC), MxFormL includes the regions of Cuauhtitlan, Teotihuacan, Texcoco, Ixtapalapa, and its center of gravity in the Chalco region. The area of the Cuicuilco polity in the southwest Basin of Mexico (Tacuba and Xochimilco) and the uninhabited northern regions (Zumpango and Temascalapa) are the only parts of the Late Formative Basin of Mexico NGA not included in the MxFormL quasi-polity. Although these are discrete settlement clusters with spatial buffer zones between them, the entire 2250 km<sup>2</sup> area outlined in red in the Terminal Formative Map was designated the maximal area of the MxFormL quasi-polity. The date range c.650-400 BC was chosen for this maximal territory because it safely precedes the suggested period of Cuicuilco's territorial expansion c.400-1 BCE. The chronology and characteristics of Cuicuilco's expansion (c.400-1 BCE) and Teotihuacan's expansion (c.200-1 BCE) are very poorly understood beyond the…",
                                    "pop_id": 507,
                                    "pop_year_from": "nan",
                                    "pop_year_to": "nan",
                                    "pop_tag": "SSP",
                                    "pop_is_disputed": "False",
                                    "pop_is_uncertain": "False",
                                    "pop_name": "Polity_population",
                                    "pop_polity_population_from": "nan",
                                    "pop_polity_population_to": "nan",
                                    "pop_comment": "None",
                                    "pop_description": " people.",
                                    "stl_id": 275,
                                    "stl_year_from": "nan",
                                    "stl_year_to": "nan",
                                    "stl_tag": "TRS",
                                    "stl_is_disputed": "False",
                                    "stl_is_uncertain": "False",
                                    "stl_name": "Settlement_hierarchy",
                                    "stl_settlement_hierarchy_from": 3,
                                    "stl_settlement_hierarchy_to": 4,
                                    "stl_comment": "None",
                                    "stl_description": " levels. \"A minimum of three size grades is therefore observable in housing during the later Formative: palatial candidates at the largest cities, elite residencies at midtier towns, and common residencies across the settlement spectrum\".§REF§(Carballo 2016: 150) Seshat URL: <a class=\"external free\" href=\"https://www.zotero.org/groups/1051264/seshat_databank/items/itemKey/7B7A8KA6\" rel=\"nofollow\">https://www.zotero.org/groups/1051264/seshat_databank/items/itemKey/7B7A8KA6</a>.§REF§ Some settlement clusters have a 3-tier settlement hierarchy, while others have a 4-tier settlement hierarchy.§REF§Steponaitis, V. P. (1981). \"Settlement hierarchies and political complexity in nonmarket societies: the Formative Period of the Valley of Mexico.\" <i>American Anthropologist</i>, 83(2), 320-363.§REF§§REF§Sanders, William T., Jeffrey R. Parsons, and Robert S. Santley. (1979) <i>The Basin of Mexico: Ecological Processes in the Evolution of a Civilization.</i> Academic Press, New York, pg. 98-105.§…",
                                    "adm_id": 349,
                                    "adm_year_from": "nan",
                                    "adm_year_to": "nan",
                                    "adm_tag": "SSP",
                                    "adm_is_disputed": "False",
                                    "adm_is_uncertain": "False",
                                    "adm_name": "Administrative_level",
                                    "adm_administrative_level_from": "nan",
                                    "adm_administrative_level_to": "nan",
                                    "adm_comment": "None",
                                    "adm_description": " levels. Political and religious institutions are thought to be essentially identical for the Central Mexican Highlands Late/Terminal Formative, such that political power was inherently theocratic.§REF§Barba de Piña Chán, Beatriz. (1980). <i>Tlapacoya: Los Principios de la Teocracia en la Cuenca de Mexico.</i> Biblioteca Enciclopedica del Estado de Mexico, p.13-42, 95-142.§REF§§REF§Plunket, Patricia and Gabriela Uruñuela. (2012). \"Where East Meets West: The Formative in Mexico's Central Highlands.\" <i>Journal of Archaeological</i> 20(1): 1-51§REF§§REF§Carballo, David M. (2016). <i>Urbanization and Religion in Ancient Central Mexico.</i> Oxford: Oxford University Press, p.73-215.§REF§ Beyond indirect, theoretical proxies like hierarchical levels of socioeconomic stratification, irrigation systems, monumental construction, and settlement patterns, there is no direct evidence for sociopolitical administrative levels.",
                                    "rlg_id": 109,
                                    "rlg_year_from": "nan",
                                    "rlg_year_to": "nan",
                                    "rlg_tag": "TRS",
                                    "rlg_is_disputed": "False",
                                    "rlg_is_uncertain": "False",
                                    "rlg_name": "Religious_level",
                                    "rlg_religious_level_from": 2,
                                    "rlg_religious_level_to": 2,
                                    "rlg_comment": "None",
                                    "rlg_description": " levels. Political and religious institutions are thought to be essentially identical for the Central Mexican Highlands Late/Terminal Formative, such that political power was inherently theocratic.§REF§Barba de Piña Chán, Beatriz. (1980). <i>Tlapacoya: Los Principios de la Teocracia en la Cuenca de Mexico.</i> Biblioteca Enciclopedica del Estado de Mexico, p.13-42, 95-142.§REF§§REF§Plunket, Patricia and Gabriela Uruñuela. (2012). \"Where East Meets West: The Formative in Mexico's Central Highlands.\" <i>Journal of Archaeological</i> 20(1): 1-51§REF§§REF§Carballo, David M. (2016). <i>Urbanization and Religion in Ancient Central Mexico.</i> Oxford: Oxford University Press, p.73-215.§REF§ At least 3 hierarchical levels of religious institutions can be discerned for Cuicuilco. First, formal religious ritual at the household/house-group level (i.e. local corporate/Kin groups, the the basal units of exchange and production) is ubiquitous for the Central Mexican Highlands Late/Terminal Formati…",
                                    "milt_id": 302,
                                    "milt_year_from": "nan",
                                    "milt_year_to": "nan",
                                    "milt_tag": "SSP",
                                    "milt_is_disputed": "False",
                                    "milt_is_uncertain": "False",
                                    "milt_name": "Military_level",
                                    "milt_military_level_from": "nan",
                                    "milt_military_level_to": "nan",
                                    "milt_comment": "None",
                                    "milt_description": " levels.",
                                    "bur_id": 255,
                                    "bur_year_from": "nan",
                                    "bur_year_to": "nan",
                                    "bur_tag": "SSP",
                                    "bur_is_disputed": "False",
                                    "bur_is_uncertain": "False",
                                    "bur_name": "Full_time_bureaucrat",
                                    "bur_full_time_bureaucrat": "unknown",
                                    "bur_comment": "None",
                                    "bur_description": " Likely present in Teotihuacan, unknown before.§REF§(Carballo, David. Personal Communication to Jill Levine and Peter Turchin. Email. April 23, 2020)§REF§",
                                    "mrt_id": 201,
                                    "mrt_year_from": "nan",
                                    "mrt_year_to": "nan",
                                    "mrt_tag": "SSP",
                                    "mrt_is_disputed": "False",
                                    "mrt_is_uncertain": "False",
                                    "mrt_name": "Merit_promotion",
                                    "mrt_merit_promotion": "unknown",
                                    "mrt_comment": "None",
                                    "mrt_description": " Likely present in Teotihuacan, unknown before.§REF§(Carballo, David. Personal Communication to Jill Levine and Peter Turchin. Email. April 23, 2020)§REF§",
                                    "bldg_id": 255,
                                    "bldg_year_from": "nan",
                                    "bldg_year_to": "nan",
                                    "bldg_tag": "IFR",
                                    "bldg_is_disputed": "False",
                                    "bldg_is_uncertain": "False",
                                    "bldg_name": "Specialized_government_building",
                                    "bldg_specialized_government_building": "present",
                                    "bldg_comment": "None",
                                    "bldg_description": " Likely to have existed from the Middle Formative period onward (council houses).§REF§(Carballo, David. Personal Communication to Jill Levine and Peter Turchin. Email. April 23, 2020)§REF§",
                                    "irrig_id": 260,
                                    "irrig_year_from": "nan",
                                    "irrig_year_to": "nan",
                                    "irrig_tag": "TRS",
                                    "irrig_is_disputed": "False",
                                    "irrig_is_uncertain": "False",
                                    "irrig_name": "Irrigation_system",
                                    "irrig_irrigation_system": "present",
                                    "irrig_comment": "None",
                                    "irrig_description": " Irrigation systems were present in the Cuautitlan region, as well as at early Teotihuacan, Cuicuilco, and numerous other sites across the Basin of Mexico.§REF§Plunket, P., &amp; Uruñuela, G. (2012). Where east meets west: the Formative in Mexico’s central highlands. <i>Journal of Archaeological Research</i>, 20(1), 1-51.§REF§§REF§Carballo, David M. (2016). <i>Urbanization and Religion in Ancient Central Mexico.</i> Oxford: Oxford University Press, p.73-84, 125-134.§REF§§REF§Nichols, Deborah L. (1987). \"Risk and Agricultural Intensification during the Formative Period in the Northern Basin of Mexico.\" <i>American Anthropologist</i> 89(3): 596-616.§REF§§REF§Sanders, William T., Jeffrey R. Parsons, and Robert S. Santley. (1979) <i>The Basin of Mexico: Ecological Processes in the Evolution of a Civilization.</i> Academic Press, New York, pg. 96-7.§REF§§REF§Nichols, Deborah L. (2015). \"Intensive Agriculture and Early Complex Societies of the Basin of Mexico: The Formative Period.\" <i>Anci…",
                                    "wtr_id": 206,
                                    "wtr_year_from": "nan",
                                    "wtr_year_to": "nan",
                                    "wtr_tag": "IFR",
                                    "wtr_is_disputed": "False",
                                    "wtr_is_uncertain": "False",
                                    "wtr_name": "Drinking_water_supply_system",
                                    "wtr_drinking_water_supply_system": "present",
                                    "wtr_comment": "None",
                                    "wtr_description": " The reservoir at Cuicuilco suggests that these may have been present elsewhere §REF§Carballo, David M. (2016). <i>Urbanization and Religion in Ancient Central Mexico.</i> Oxford: Oxford University Press, p.73-84, 125-134.§REF§",
                                    "mrkt_id": 234,
                                    "mrkt_year_from": "nan",
                                    "mrkt_year_to": "nan",
                                    "mrkt_tag": "SSP",
                                    "mrkt_is_disputed": "False",
                                    "mrkt_is_uncertain": "False",
                                    "mrkt_name": "Market",
                                    "mrkt_market": "unknown",
                                    "mrkt_comment": "None",
                                    "mrkt_description": " The presence or absence of markets and market exchange is debated for the Late/Terminal Formative due to the ambiguity of the archaeological evidence.§REF§Castanzo, Ronald A. and Kenneth G. Hirth. (2008) \"El asentamiento del periodo Formativo en la cuenca central de Puebla-Tlaxcala, Mexico. In Ann Cyphers and Kenneth G. Hirth (eds.) <i>Ideologia politica y sociedad en el periodo Formativo:Ensayos en homenaje al doctor David C. Grove</i>. IIA/UNAM, Mexico City, pp.203-231.§REF§ or Classic Period.§REF§Carballo, David M. (2013) \"The Social Organization of Craft Production and Interregional Exchange at Teotihuacan.\" In Kenneth H. Hirth and Joanne Pillsbury (eds.) <i>Merchants, Markets, and Exchange in the Pre-Columbian World</i>. Washington D.C.: Dumbarton Oaks, pg. 113-140.§REF§§REF§Kenneth H. Hirth. (2013) \"The Merchant's World: Commercial Diversity and the Economics of Interregional Exchange in Highland Mesoamerica.\" In Kenneth H. Hirth and Joanne Pillsbury (eds.) <i>Merchants, Market…",
                                    "food_id": 244,
                                    "food_year_from": "nan",
                                    "food_year_to": "nan",
                                    "food_tag": "IFR",
                                    "food_is_disputed": "False",
                                    "food_is_uncertain": "False",
                                    "food_name": "Food_storage_site",
                                    "food_food_storage_site": "absent",
                                    "food_comment": "None",
                                    "food_description": " The only known storage features were private bell-shaped storage pits and raised granary structures (<i>cuexcomates</i>).§REF§Plunket, P., &amp; Uruñuela, G. (2012). Where east meets west: the Formative in Mexico’s central highlands. <i>Journal of Archaeological Research</i>, 20(1), 1-51.§REF§§REF§Carballo, David M. (2016). <i>Urbanization and Religion in Ancient Central Mexico.</i> Oxford: Oxford University Press, p.154-6.§REF§",
                                    "road_id": 243,
                                    "road_year_from": "nan",
                                    "road_year_to": "nan",
                                    "road_tag": "SSP",
                                    "road_is_disputed": "False",
                                    "road_is_uncertain": "False",
                                    "road_name": "Road",
                                    "road_road": "unknown",
                                    "road_comment": "None",
                                    "road_description": " Regional and long-distance trade was common,§REF§Grove, David C. (2000) \"The Preclassic Societies of the Central Highlands of Mesoamerica.\" In Richard Adams and Murdo MacLeod (eds.), <i>The Cambridge History of The Native Peoples of the Americas, Volume II: Mesoamerica, Part I.</i> Cambridge: Cambridge University Press, pg.122-151.§REF§§REF§Plunket, P., &amp; Uruñuela, G. (2012). Where east meets west: the Formative in Mexico’s central highlands. <i>Journal of Archaeological Research</i>, 20(1), 1-51.§REF§ and a system of foot paths existed during the Postclassic,§REF§Hassig, Ross. (1985) <i>Trade, tribute, and transportation: The sixteenth-century political economy of the Valley of Mexico.</i> Norman: University of Oklahoma Press, pg.28-39.§REF§ but no evidence of roads exist in the limited archaeological record of the Formative.",
                                    "dur_id": 273,
                                    "dur_year_from": "nan",
                                    "dur_year_to": "nan",
                                    "dur_tag": "TRS",
                                    "dur_is_disputed": "False",
                                    "dur_is_uncertain": "False",
                                    "dur_name": "Polity_duration",
                                    "dur_polity_year_from": -400,
                                    "dur_polity_year_to": -101,
                                    "dur_comment": "None",
                                    "dur_description": " §REF§(David Carballo, pers. comm. to G. Nazzaro and E. Cioni, 2019)§REF§ The following refers to a previous periodization. The start date 650 BC for the MxFormL quasi-polity is the beginning of the Late Formative period (c.650-200 BC) in the Basin of Mexico (alternatively called \"First Intermediate Period 2\").§REF§Nichols, Deborah L. (2016). \"Teotihuacan.\" <i>Journal of Archaeological Research 24</i>:1-74.§REF§§REF§Cowgill, George L. (2015). <i>Ancient Teotihuacan: Early Urbanism in Central Mexico.</i> Cambridge: Cambridge University Press, p.7-11.§REF§§REF§Kolb, C. C. (1996). \"Analyses of Archaeological Ceramics From Classic Period Teotihuacan, Mexico, AD 150-750.\" In MRS Proceedings (Vol. 462, p. 247). Cambridge University Press.§REF§ The end date is fuzzy and problematic because it is unclear exactly when in the Terminal Formative period (c.200-1 BC; alternatively called \"First Intermediate Period 3\") the entire MxFormL quasi-polity was conquered by its aggressive neighbors Cuicui…",
                                    "peak_id": 179,
                                    "peak_year_from": "nan",
                                    "peak_year_to": "nan",
                                    "peak_tag": "TRS",
                                    "peak_is_disputed": "False",
                                    "peak_is_uncertain": "False",
                                    "peak_name": "Polity_peak_years",
                                    "peak_peak_year_from": -200,
                                    "peak_peak_year_to": -200,
                                    "peak_comment": "None",
                                    "peak_description": " This peak date c. 200 BCE was chosen because it corresponds to the end of the Late Formative period (alternatively called \"First Intermediate Period 2\"), when most sub-regional clusters in the MxFormL quasi-polity reach their demographic maximum -- and are still thought to have been mostly politically independent.§REF§Steponaitis, V. P. (1981). \"Settlement hierarchies and political complexity in nonmarket societies: the Formative Period of the Valley of Mexico.\" <i>American Anthropologist</i>, 83(2), 320-363.§REF§§REF§Sanders, William T., Jeffrey R. Parsons, and Robert S. Santley. (1979) <i>The Basin of Mexico: Ecological Processes in the Evolution of a Civilization.</i> Academic Press, New York, pg. 98-105.§REF§§REF§Charlton, Thomas H., &amp; Deborah L. Nichols. (1997). \"Diachronic studies of city-states: Permutations on a theme—Central Mexico from 1700 BC to AD 1600.\" In Charlton and Nichols, eds. <i>The Archaeology of City-States: Cross-Cultural Approaches</i>. Washington, D.C.: S…",
                                    "cntr_id": 320,
                                    "cntr_year_from": "nan",
                                    "cntr_year_to": "nan",
                                    "cntr_tag": "TRS",
                                    "cntr_is_disputed": "False",
                                    "cntr_is_uncertain": "False",
                                    "cntr_name": "Polity_degree_of_centralization",
                                    "cntr_degree_of_centralization": "quasi-polity",
                                    "cntr_comment": "None",
                                    "cntr_description": "None",
                                    "end_year": -101,
                                    "id": 10,
                                    "long_name": "Late Formative Basin of Mexico",
                                    "name": "mx_basin_of_mexico_5",
                                    "start_year": -400,
                                    "_deepnote_index_column": 7
                                },
                                {
                                    "tr_id": "nan",
                                    "polity": "{'end_year': -101, 'id': 88, 'long_name': 'Post-Mauryan Kingdoms', 'name': 'in_post_mauryan_k', 'start_year': -205}",
                                    "tr_year_from": "nan",
                                    "tr_year_to": "nan",
                                    "tr_tag": "nan",
                                    "tr_is_disputed": "nan",
                                    "tr_is_uncertain": "nan",
                                    "tr_name": "nan",
                                    "tr_polity_territory_from": "nan",
                                    "tr_polity_territory_to": "nan",
                                    "tr_comment": "nan",
                                    "tr_description": "nan",
                                    "pop_id": "nan",
                                    "pop_year_from": "nan",
                                    "pop_year_to": "nan",
                                    "pop_tag": "nan",
                                    "pop_is_disputed": "nan",
                                    "pop_is_uncertain": "nan",
                                    "pop_name": "nan",
                                    "pop_polity_population_from": "nan",
                                    "pop_polity_population_to": "nan",
                                    "pop_comment": "nan",
                                    "pop_description": "nan",
                                    "stl_id": 120,
                                    "stl_year_from": "nan",
                                    "stl_year_to": "nan",
                                    "stl_tag": "TRS",
                                    "stl_is_disputed": "False",
                                    "stl_is_uncertain": "False",
                                    "stl_name": "Settlement_hierarchy",
                                    "stl_settlement_hierarchy_from": 2,
                                    "stl_settlement_hierarchy_to": 4,
                                    "stl_comment": "None",
                                    "stl_description": " levels. Based on codes from previous and subsequent polities: by Satavahana Empire - 1.Capital 2. nagara (city or palace) 3. nigama (market town) 4. gama.§REF§(Sinopoli 2001: 170) Seshat URL: <a class=\"external free\" href=\"https://www.zotero.org/groups/1051264/seshat_databank/items/itemKey/JZ73UGSF\" rel=\"nofollow\">https://www.zotero.org/groups/1051264/seshat_databank/items/itemKey/JZ73UGSF</a>.§REF§",
                                    "adm_id": 67,
                                    "adm_year_from": "nan",
                                    "adm_year_to": "nan",
                                    "adm_tag": "TRS",
                                    "adm_is_disputed": "False",
                                    "adm_is_uncertain": "False",
                                    "adm_name": "Administrative_level",
                                    "adm_administrative_level_from": 3,
                                    "adm_administrative_level_to": 4,
                                    "adm_comment": "None",
                                    "adm_description": " levels.<br>1. King<br>2. Central / urban institutions3. Mint4. Village chiefs<br>\"The Mauryan penetration into certain subregions of the Deccan was based on their interaction with the allready existing kin-based organizations, through its links with the political power of the indigenous chiefs.\"§REF§(Parasher-Sen 2000, 242) Parasher-Sen, Aloka. \"Origins of Settlements, Culture and Civilization in the Deccan\" Gupta, Harsh K. Parasher-Sen, Aloka. Balasubramanian, D. eds. 2000. Deccan Heritage. Indian National Science Academy. Universities Press (India) Limited. Hyderabad.§REF§<br>Kotalingala is 200 km NE of Bellary: \"Two aspects of the pre-Satavahan situation need to be emphasised in the development of the early historical sites in the Central Deccan... One was the particular natural of the economy which rested on the small-scale production of iron-related artefacts. The other was the substantial evidence found from sites like Kotalingala of pre-Satavahana coinage (Krishnasastry, 1983)…",
                                    "rlg_id": 444,
                                    "rlg_year_from": "nan",
                                    "rlg_year_to": "nan",
                                    "rlg_tag": "UND",
                                    "rlg_is_disputed": "False",
                                    "rlg_is_uncertain": "False",
                                    "rlg_name": "Religious_level",
                                    "rlg_religious_level_from": "nan",
                                    "rlg_religious_level_to": "nan",
                                    "rlg_comment": "levels.<br>Buddhist monasteries.  <a class=\"fw-bold\" href=\"https://www.zotero.org/groups/1051264/seshat_databank/items/AVB94HR2\">[Shimada 2012, pp. 118-119]</a>",
                                    "rlg_description": "None",
                                    "milt_id": "nan",
                                    "milt_year_from": "nan",
                                    "milt_year_to": "nan",
                                    "milt_tag": "nan",
                                    "milt_is_disputed": "nan",
                                    "milt_is_uncertain": "nan",
                                    "milt_name": "nan",
                                    "milt_military_level_from": "nan",
                                    "milt_military_level_to": "nan",
                                    "milt_comment": "nan",
                                    "milt_description": "nan",
                                    "bur_id": 111,
                                    "bur_year_from": "nan",
                                    "bur_year_to": "nan",
                                    "bur_tag": "IFR",
                                    "bur_is_disputed": "False",
                                    "bur_is_uncertain": "False",
                                    "bur_name": "Full_time_bureaucrat",
                                    "bur_full_time_bureaucrat": "present",
                                    "bur_comment": "None",
                                    "bur_description": " Full-time specialists<br>Post-Mauryans in Krishna valley: \"Amaravati inscription of this period records the existence of a royal scribe (rajalekhaka). This may indicate that record-keeping started to play an integral part in local political administration as well as in commercial activities in this period.\"§REF§(Shimada 2012, 118) Shimada, Akira. 2012. Early Buddhist Architecture in Context: The Great Stupa at Amaravati (ca. 300 BCE-300 CE). BRILL.§REF§",
                                    "mrt_id": "nan",
                                    "mrt_year_from": "nan",
                                    "mrt_year_to": "nan",
                                    "mrt_tag": "nan",
                                    "mrt_is_disputed": "nan",
                                    "mrt_is_uncertain": "nan",
                                    "mrt_name": "nan",
                                    "mrt_merit_promotion": "nan",
                                    "mrt_comment": "nan",
                                    "mrt_description": "nan",
                                    "bldg_id": 105,
                                    "bldg_year_from": "nan",
                                    "bldg_year_to": "nan",
                                    "bldg_tag": "IFR",
                                    "bldg_is_disputed": "False",
                                    "bldg_is_uncertain": "False",
                                    "bldg_name": "Specialized_government_building",
                                    "bldg_specialized_government_building": "present",
                                    "bldg_comment": "None",
                                    "bldg_description": " Post-Mauryan kingdoms had mints for coinage: \"Two aspects of the pre-Satavahan situation need to be emphasised in the development of the early historical sites in the Central Deccan... One was the particular natural of the economy which rested on the small-scale production of iron-related artefacts. The other was the substantial evidence found from sites like Kotalingala of pre-Satavahana coinage (Krishnasastry, 1983), indicating that there was a mobilization of resources at a local level, which meant that the political elite had the ability to issue their own coins. Though this is most striking in the Central Deccan because these coins are found along with the early coins of the Satavahana\"§REF§(Parasher-Sen 2000, 242) Parasher-Sen, Aloka. \"Origins of Settlements, Culture and Civilization in the Deccan\" Gupta, Harsh K. Parasher-Sen, Aloka. Balasubramanian, D. eds. 2000. Deccan Heritage. Indian National Science Academy. Universities Press (India) Limited. Hyderabad.§REF§",
                                    "irrig_id": 111,
                                    "irrig_year_from": "nan",
                                    "irrig_year_to": "nan",
                                    "irrig_tag": "IFR",
                                    "irrig_is_disputed": "False",
                                    "irrig_is_uncertain": "False",
                                    "irrig_name": "Irrigation_system",
                                    "irrig_irrigation_system": "present",
                                    "irrig_comment": "None",
                                    "irrig_description": " \"The political and economic development in the post-Mauryan period progressed further under the Sadas, a regional dynasty which ruled the larger part of coastal Andhra for at least a century ... Although the historical evidence on this recently-found dynasty is still meagre, a few epigraphic records indicate the presence of a regular administrative structure indicated by titles such as an irrigation officer (?) (paniyagharika) and a scribe (lekhaka).§REF§(Shimada 2012, 125) Shimada, Akira. 2012. Early Buddhist Architecture in Context: The Great Stupa at Amaravati (ca. 300 BCE-300 CE). BRILL.§REF§",
                                    "wtr_id": "nan",
                                    "wtr_year_from": "nan",
                                    "wtr_year_to": "nan",
                                    "wtr_tag": "nan",
                                    "wtr_is_disputed": "nan",
                                    "wtr_is_uncertain": "nan",
                                    "wtr_name": "nan",
                                    "wtr_drinking_water_supply_system": "nan",
                                    "wtr_comment": "nan",
                                    "wtr_description": "nan",
                                    "mrkt_id": "nan",
                                    "mrkt_year_from": "nan",
                                    "mrkt_year_to": "nan",
                                    "mrkt_tag": "nan",
                                    "mrkt_is_disputed": "nan",
                                    "mrkt_is_uncertain": "nan",
                                    "mrkt_name": "nan",
                                    "mrkt_market": "nan",
                                    "mrkt_comment": "nan",
                                    "mrkt_description": "nan",
                                    "food_id": "nan",
                                    "food_year_from": "nan",
                                    "food_year_to": "nan",
                                    "food_tag": "nan",
                                    "food_is_disputed": "nan",
                                    "food_is_uncertain": "nan",
                                    "food_name": "nan",
                                    "food_food_storage_site": "nan",
                                    "food_comment": "nan",
                                    "food_description": "nan",
                                    "road_id": "nan",
                                    "road_year_from": "nan",
                                    "road_year_to": "nan",
                                    "road_tag": "nan",
                                    "road_is_disputed": "nan",
                                    "road_is_uncertain": "nan",
                                    "road_name": "nan",
                                    "road_road": "nan",
                                    "road_comment": "nan",
                                    "road_description": "nan",
                                    "dur_id": 115,
                                    "dur_year_from": "nan",
                                    "dur_year_to": "nan",
                                    "dur_tag": "TRS",
                                    "dur_is_disputed": "False",
                                    "dur_is_uncertain": "False",
                                    "dur_name": "Polity_duration",
                                    "dur_polity_year_from": -205,
                                    "dur_polity_year_to": -101,
                                    "dur_comment": "None",
                                    "dur_description": "None",
                                    "peak_id": "nan",
                                    "peak_year_from": "nan",
                                    "peak_year_to": "nan",
                                    "peak_tag": "nan",
                                    "peak_is_disputed": "nan",
                                    "peak_is_uncertain": "nan",
                                    "peak_name": "nan",
                                    "peak_peak_year_from": "nan",
                                    "peak_peak_year_to": "nan",
                                    "peak_comment": "nan",
                                    "peak_description": "nan",
                                    "cntr_id": 150,
                                    "cntr_year_from": "nan",
                                    "cntr_year_to": "nan",
                                    "cntr_tag": "TRS",
                                    "cntr_is_disputed": "False",
                                    "cntr_is_uncertain": "False",
                                    "cntr_name": "Polity_degree_of_centralization",
                                    "cntr_degree_of_centralization": "quasi-polity",
                                    "cntr_comment": "None",
                                    "cntr_description": "Western Deccan: \"The earliest organized state in the region was that of the Satavahanas evolving out of the declining Mauryan power. The presence of the state is suggested by the evidence of political control and the use of an adminsitrative structure. References to units of adiministration and of what appear to be official designations point to a monarchical system. The title of mahamatra is suggestive of the Mauryan designation. The mahabhoja and maharathi as officials may in origin have been associated with high office in the Bhoja and Rathika clans and made the transition to administrative office when the requirements of the state demanded it. The constituents of the seven limbs of the state, the saptanga, are reflected in these and other indications such as the reference to Satavahana armies in action against the ksatrapas, to allies and enemies, to the treasury from the existence of Satavahana coins and revenue collection, to the capital from references to Pratishana and finally…",
                                    "end_year": -101,
                                    "id": 88,
                                    "long_name": "Post-Mauryan Kingdoms",
                                    "name": "in_post_mauryan_k",
                                    "start_year": -205,
                                    "_deepnote_index_column": 8
                                },
                                {
                                    "tr_id": "nan",
                                    "polity": "{'end_year': -1027, 'id': 480, 'long_name': 'Second Dynasty of Isin', 'name': 'iq_isin_dynasty2', 'start_year': -1153}",
                                    "tr_year_from": "nan",
                                    "tr_year_to": "nan",
                                    "tr_tag": "nan",
                                    "tr_is_disputed": "nan",
                                    "tr_is_uncertain": "nan",
                                    "tr_name": "nan",
                                    "tr_polity_territory_from": "nan",
                                    "tr_polity_territory_to": "nan",
                                    "tr_comment": "nan",
                                    "tr_description": "nan",
                                    "pop_id": "nan",
                                    "pop_year_from": "nan",
                                    "pop_year_to": "nan",
                                    "pop_tag": "nan",
                                    "pop_is_disputed": "nan",
                                    "pop_is_uncertain": "nan",
                                    "pop_name": "nan",
                                    "pop_polity_population_from": "nan",
                                    "pop_polity_population_to": "nan",
                                    "pop_comment": "nan",
                                    "pop_description": "nan",
                                    "stl_id": 147,
                                    "stl_year_from": "nan",
                                    "stl_year_to": "nan",
                                    "stl_tag": "TRS",
                                    "stl_is_disputed": "False",
                                    "stl_is_uncertain": "False",
                                    "stl_name": "Settlement_hierarchy",
                                    "stl_settlement_hierarchy_from": 4,
                                    "stl_settlement_hierarchy_to": 4,
                                    "stl_comment": "None",
                                    "stl_description": " levels. Copied from IqBabKs: (1) large cities, capital - Babylon (2) cities - provincial capitals (3)towns (4) villages §REF§(Liverani 2014, 364-370) Liverani, Mario. Tabatabai, Soraia trans. 2014. <i>The Ancient Near East: History, Society and Economy</i>. London: Routledge. Seshat URL: <a class=\"external free\" href=\"https://www.zotero.org/groups/1051264/seshat_databank/items/itemKey/7DRZQS5Q/q/liverani\" rel=\"nofollow\">https://www.zotero.org/groups/1051264/seshat_databank/items/itemKey/7DRZQS5Q/q/liverani</a>.§REF§<br>\"Within the land of Sumer and Akkad, the administration of the dynasty of Isin continued along the same lines as in the Kassite period. We know of around twenty provinces ruled by a governor (šakin ma¯ti, then šakin te¯mi). Some of these provinces were named after their main city (Nippur, Isin, Dur-Kurigalzu, and so on). There were also other territorial entities and tribal ‘houses’ (defined with the term Bït plus the name of the ancestor). The ‘urban’ provinces were m…",
                                    "adm_id": 84,
                                    "adm_year_from": "nan",
                                    "adm_year_to": "nan",
                                    "adm_tag": "TRS",
                                    "adm_is_disputed": "False",
                                    "adm_is_uncertain": "False",
                                    "adm_name": "Administrative_level",
                                    "adm_administrative_level_from": 3,
                                    "adm_administrative_level_to": 4,
                                    "adm_comment": "None",
                                    "adm_description": " levels. At least three: (1) King, (2) Governors, (3) Functionaries.<br>\"Within the land of Sumer and Akkad, the administration of the dynasty of Isin continued along the same lines as in the Kassite period. We know of around twenty provinces ruled by a governor (šakin ma¯ti, then šakin te¯mi). Some of these provinces were named after their main city (Nippur, Isin, Dur-Kurigalzu, and so on). There were also other territorial entities and tribal ‘houses’ (defined with the term Bït plus the name of the ancestor). The ‘urban’ provinces were mainly in the north (in the former land of Akkad), and less in the south, where Ur seems to have been the most vital city. ‘Tribal’ provinces were mainly located in the area east of the Tigris. It is possible that, within the land, the traditional duties of the ‘governors’ were taking care of irrigation systems and temple architecture. In the provinces along the borders, these tasks were more military and governors had a more personal, rather than adm…",
                                    "rlg_id": 59,
                                    "rlg_year_from": "nan",
                                    "rlg_year_to": "nan",
                                    "rlg_tag": "TRS",
                                    "rlg_is_disputed": "False",
                                    "rlg_is_uncertain": "False",
                                    "rlg_name": "Religious_level",
                                    "rlg_religious_level_from": 3,
                                    "rlg_religious_level_to": 4,
                                    "rlg_comment": "None",
                                    "rlg_description": " levels. At least three: (1) Sanga/Shangum (2) Senior staff (diviners, exorcists, lamentation priests), (3) Snake charmers, acrobats, musicians, singers, barbers, chefs.<br>\"The more important or specialist cultic officials (“priests,” although there was no blanket Mesopotamian term with this meaning), administrative staff, scribes, and artisans would have been permanent employees of the temple[...] At their head was the sanga / shangum (chief priest), whose role was as much administrative as religious. Others had a more exclusively ritual role, headed by the en priest or en / entum priestess, who was the spouse of the city deity: This post lapsed after the OB period, although it was revived by the Neo-Babylonian king Nebuchadrezzar II. Other cultic personnel included snake charmers, acrobats, musicians, and singers, and more senior staff included diviners, exorcists, and lamentation priests\".§REF§(McIntosh 2005: 206) McIntosh, J. 2005. <i>Ancient Mesopotamia: New Perspective</i>. San…",
                                    "milt_id": "nan",
                                    "milt_year_from": "nan",
                                    "milt_year_to": "nan",
                                    "milt_tag": "nan",
                                    "milt_is_disputed": "nan",
                                    "milt_is_uncertain": "nan",
                                    "milt_name": "nan",
                                    "milt_military_level_from": "nan",
                                    "milt_military_level_to": "nan",
                                    "milt_comment": "nan",
                                    "milt_description": "nan",
                                    "bur_id": 133,
                                    "bur_year_from": "nan",
                                    "bur_year_to": "nan",
                                    "bur_tag": "TRS",
                                    "bur_is_disputed": "False",
                                    "bur_is_uncertain": "False",
                                    "bur_name": "Full_time_bureaucrat",
                                    "bur_full_time_bureaucrat": "present",
                                    "bur_comment": "None",
                                    "bur_description": " \"Within the land of Sumer and Akkad, the administration of the dynasty of Isin continued along the same lines as in the Kassite period.\"§REF§(Liverani 2014, 462) Liverani, Mario. Tabatabai, Soraia trans. 2014. <i>The Ancient Near East: History, Society and Economy</i>. London: Routledge. Seshat URL: <a class=\"external free\" href=\"https://www.zotero.org/groups/1051264/seshat_databank/items/itemKey/7DRZQS5Q/q/liverani\" rel=\"nofollow\">https://www.zotero.org/groups/1051264/seshat_databank/items/itemKey/7DRZQS5Q/q/liverani</a>.§REF§ \"Kassite Babylonia was divided into provinces run by a hierarchical bureaucracy that undertook public works, collected taxes, and issued rations to state dependents such as temple staff, guards, and craftsmen.\"§REF§(McIntosh 2005: 206) McIntosh, J. 2005. <i>Ancient Mesopotamia: New Perspective</i>. Santa Barbara: ABC Clio. Seshat URL: <a class=\"external free\" href=\"https://www.zotero.org/groups/1051264/seshat_databank/items/itemKey/KK2E3KMD\" rel=\"nofollow\">htt…",
                                    "mrt_id": 102,
                                    "mrt_year_from": "nan",
                                    "mrt_year_to": "nan",
                                    "mrt_tag": "IFR",
                                    "mrt_is_disputed": "False",
                                    "mrt_is_uncertain": "False",
                                    "mrt_name": "Merit_promotion",
                                    "mrt_merit_promotion": "absent",
                                    "mrt_comment": "None",
                                    "mrt_description": " Inferred continuity with preceding period: \"the transmission of one’s professional knowledge from father to son was not a particularly negative tendency for the palace. In the long run, however, it transformed the palace and temple personnel into a series of closed corporations. In other words, members of these elite groups prevented anyone outside this clique from accessing their posts. They also monopolised the technical knowledge needed for the management of these institutions.\"§REF§(Liverani 2014, 196) Liverani, Mario. Tabatabai, Soraia trans. 2014. <i>The Ancient Near East: History, Society and Economy</i>. London: Routledge. Seshat URL: <a class=\"external free\" href=\"https://www.zotero.org/groups/1051264/seshat_databank/items/itemKey/7DRZQS5Q/q/liverani\" rel=\"nofollow\">https://www.zotero.org/groups/1051264/seshat_databank/items/itemKey/7DRZQS5Q/q/liverani</a>.§REF§",
                                    "bldg_id": 132,
                                    "bldg_year_from": "nan",
                                    "bldg_year_to": "nan",
                                    "bldg_tag": "TRS",
                                    "bldg_is_disputed": "False",
                                    "bldg_is_uncertain": "False",
                                    "bldg_name": "Specialized_government_building",
                                    "bldg_specialized_government_building": "absent",
                                    "bldg_comment": "None",
                                    "bldg_description": " Temples and palaces both doubled as administration buildings--inferred from knowledge of preceding and succeeding periods, as well the following quote: \"the transmission of one’s professional knowledge from father to son was not a particularly negative tendency for the palace. In the long run, however, it transformed the palace and temple personnel into a series of closed corporations.\"§REF§(Liverani 2014, 196) Liverani, Mario. Tabatabai, Soraia trans. 2014. <i>The Ancient Near East: History, Society and Economy</i>. London: Routledge. Seshat URL: <a class=\"external free\" href=\"https://www.zotero.org/groups/1051264/seshat_databank/items/itemKey/7DRZQS5Q/q/liverani\" rel=\"nofollow\">https://www.zotero.org/groups/1051264/seshat_databank/items/itemKey/7DRZQS5Q/q/liverani</a>.§REF§",
                                    "irrig_id": 136,
                                    "irrig_year_from": "nan",
                                    "irrig_year_to": "nan",
                                    "irrig_tag": "TRS",
                                    "irrig_is_disputed": "False",
                                    "irrig_is_uncertain": "False",
                                    "irrig_name": "Irrigation_system",
                                    "irrig_irrigation_system": "present",
                                    "irrig_comment": "None",
                                    "irrig_description": " \"It is possible that, within the land, the traditional duties of the ‘governors’ were taking care of irrigation systems and temple architecture.\"§REF§(Liverani 2014, 462-463) Liverani, Mario. Tabatabai, Soraia trans. 2014. <i>The Ancient Near East: History, Society and Economy</i>. London: Routledge. Seshat URL: <a class=\"external free\" href=\"https://www.zotero.org/groups/1051264/seshat_databank/items/itemKey/7DRZQS5Q/q/liverani\" rel=\"nofollow\">https://www.zotero.org/groups/1051264/seshat_databank/items/itemKey/7DRZQS5Q/q/liverani</a>.§REF§",
                                    "wtr_id": "nan",
                                    "wtr_year_from": "nan",
                                    "wtr_year_to": "nan",
                                    "wtr_tag": "nan",
                                    "wtr_is_disputed": "nan",
                                    "wtr_is_uncertain": "nan",
                                    "wtr_name": "nan",
                                    "wtr_drinking_water_supply_system": "nan",
                                    "wtr_comment": "nan",
                                    "wtr_description": "nan",
                                    "mrkt_id": 128,
                                    "mrkt_year_from": "nan",
                                    "mrkt_year_to": "nan",
                                    "mrkt_tag": "TRS",
                                    "mrkt_is_disputed": "False",
                                    "mrkt_is_uncertain": "False",
                                    "mrkt_name": "Market",
                                    "mrkt_market": "present",
                                    "mrkt_comment": "None",
                                    "mrkt_description": " \"It is true, as Karl Polányi has pointed out, that we have to distinguish between market-place and market: the former is securely attested (Akkadian mah˘ı¯rum) in Mesopotamia from the Old Babylonian period onwards\".§REF§(Liverani 2014, 200) Liverani, Mario. Tabatabai, Soraia trans. 2014. <i>The Ancient Near East: History, Society and Economy</i>. London: Routledge. Seshat URL: <a class=\"external free\" href=\"https://www.zotero.org/groups/1051264/seshat_databank/items/itemKey/7DRZQS5Q/q/liverani\" rel=\"nofollow\">https://www.zotero.org/groups/1051264/seshat_databank/items/itemKey/7DRZQS5Q/q/liverani</a>.§REF§",
                                    "food_id": "nan",
                                    "food_year_from": "nan",
                                    "food_year_to": "nan",
                                    "food_tag": "nan",
                                    "food_is_disputed": "nan",
                                    "food_is_uncertain": "nan",
                                    "food_name": "nan",
                                    "food_food_storage_site": "nan",
                                    "food_comment": "nan",
                                    "food_description": "nan",
                                    "road_id": 130,
                                    "road_year_from": "nan",
                                    "road_year_to": "nan",
                                    "road_tag": "IFR",
                                    "road_is_disputed": "False",
                                    "road_is_uncertain": "False",
                                    "road_name": "Road",
                                    "road_road": "present",
                                    "road_comment": "None",
                                    "road_description": " \"Paved roads were rare outside the cities; the major highways and many minor ways were, nevertheless, genuine roads, created by leveling and compacting the ground, and regularly repaired after damage by rain and other natural hazards. Army engineers preceded military expeditions to identify the most appropriate line of march, check and clear or repair existing roads, and, where necessary, construct new ones.\"§REF§(McIntosh 2005: 189) McIntosh, J. 2005. <i>Ancient Mesopotamia: New Perspective</i>. Santa Barbara: ABC Clio. Seshat URL: <a class=\"external free\" href=\"https://www.zotero.org/groups/1051264/seshat_databank/items/itemKey/KK2E3KMD\" rel=\"nofollow\">https://www.zotero.org/groups/1051264/seshat_databank/items/itemKey/KK2E3KMD</a>.§REF§",
                                    "dur_id": 146,
                                    "dur_year_from": "nan",
                                    "dur_year_to": "nan",
                                    "dur_tag": "TRS",
                                    "dur_is_disputed": "False",
                                    "dur_is_uncertain": "False",
                                    "dur_name": "Polity_duration",
                                    "dur_polity_year_from": -1153,
                                    "dur_polity_year_to": -1027,
                                    "dur_comment": "None",
                                    "dur_description": "None",
                                    "peak_id": 104,
                                    "peak_year_from": "nan",
                                    "peak_year_to": "nan",
                                    "peak_tag": "TRS",
                                    "peak_is_disputed": "False",
                                    "peak_is_uncertain": "False",
                                    "peak_name": "Polity_peak_years",
                                    "peak_peak_year_from": -1119,
                                    "peak_peak_year_to": -1098,
                                    "peak_comment": "None",
                                    "peak_description": " \"The definitive removal of the Elamite threat from the Mesopotamian territories happened during the reign of the most important king of the dynasty, Nebuchadnezzar I.\"§REF§(Liverani 2014, 462) Liverani, Mario. Tabatabai, Soraia trans. 2014. <i>The Ancient Near East: History, Society and Economy</i>. London: Routledge. Seshat URL: <a class=\"external free\" href=\"https://www.zotero.org/groups/1051264/seshat_databank/items/itemKey/7DRZQS5Q/q/liverani\" rel=\"nofollow\">https://www.zotero.org/groups/1051264/seshat_databank/items/itemKey/7DRZQS5Q/q/liverani</a>.§REF§<br>",
                                    "cntr_id": 181,
                                    "cntr_year_from": "nan",
                                    "cntr_year_to": "nan",
                                    "cntr_tag": "TRS",
                                    "cntr_is_disputed": "False",
                                    "cntr_is_uncertain": "False",
                                    "cntr_name": "Polity_degree_of_centralization",
                                    "cntr_degree_of_centralization": "confederated state",
                                    "cntr_comment": "None",
                                    "cntr_description": " \"Within the land of Sumer and Akkad, the administration of the dynasty of Isin continued along the same lines as in the Kassite period. We know of around twenty provinces ruled by a governor (šakin ma¯ti, then šakin te¯mi). Some of these provinces were named after their main city (Nippur, Isin, Dur-Kurigalzu, and so on). There were also other territorial entities and tribal ‘houses’ (defined with the term Bït plus the name of the ancestor). The ‘urban’ provinces were mainly in the north (in the former land of Akkad), and less in the south, where Ur seems to have been the most vital city. ‘Tribal’ provinces were mainly located in the area east of the Tigris. It is possible that, within the land, the traditional duties of the ‘governors’ were taking care of irrigation systems and temple architecture. In the provinces along the borders, these tasks were more military and governors had a more personal, rather than administrative, relationship with the king.\"§REF§(Liverani 2014, 462-463) …",
                                    "end_year": -1027,
                                    "id": 480,
                                    "long_name": "Second Dynasty of Isin",
                                    "name": "iq_isin_dynasty2",
                                    "start_year": -1153,
                                    "_deepnote_index_column": 9
                                }
                            ],
                            "type": "dataframe"
                        },
                        "text/plain": "      tr_id                                             polity  tr_year_from  \\\n0       NaN                                               None           NaN   \n1     711.0  {'end_year': -10, 'id': 126, 'long_name': 'Ind...           NaN   \n2     682.0  {'end_year': -100, 'id': 526, 'long_name': 'Mo...           NaN   \n3     682.0  {'end_year': -100, 'id': 526, 'long_name': 'Mo...           NaN   \n4       NaN  {'end_year': -1000, 'id': 448, 'long_name': 'A...           NaN   \n...     ...                                                ...           ...   \n2519  775.0  {'end_year': 999, 'id': 287, 'long_name': 'Sam...         900.0   \n2520  775.0  {'end_year': 999, 'id': 287, 'long_name': 'Sam...         900.0   \n2521  776.0  {'end_year': 999, 'id': 287, 'long_name': 'Sam...         930.0   \n2522  776.0  {'end_year': 999, 'id': 287, 'long_name': 'Sam...         930.0   \n2523  708.0  {'end_year': 999, 'id': 80, 'long_name': 'Wari...           NaN   \n\n      tr_year_to tr_tag tr_is_disputed tr_is_uncertain           tr_name  \\\n0            NaN    NaN            NaN             NaN               NaN   \n1            NaN    TRS          False           False  Polity_territory   \n2            NaN    TRS          False           False  Polity_territory   \n3            NaN    TRS          False           False  Polity_territory   \n4            NaN    NaN            NaN             NaN               NaN   \n...          ...    ...            ...             ...               ...   \n2519       900.0    TRS          False           False  Polity_territory   \n2520       900.0    TRS          False           False  Polity_territory   \n2521       930.0    TRS          False           False  Polity_territory   \n2522       930.0    TRS          False           False  Polity_territory   \n2523         NaN    TRS          False           False  Polity_territory   \n\n      tr_polity_territory_from  tr_polity_territory_to  ... cntr_is_uncertain  \\\n0                          NaN                     NaN  ...               NaN   \n1                     105226.0                105226.0  ...             False   \n2                       5000.0                  5000.0  ...             False   \n3                       5000.0                  5000.0  ...             False   \n4                          NaN                     NaN  ...             False   \n...                        ...                     ...  ...               ...   \n2519                  600000.0                600000.0  ...             False   \n2520                  600000.0                600000.0  ...             False   \n2521                 2500000.0               2500000.0  ...             False   \n2522                 2500000.0               2500000.0  ...             False   \n2523                   20000.0                320000.0  ...             False   \n\n                            cntr_name  cntr_degree_of_centralization  \\\n0                                 NaN                            NaN   \n1     Polity_degree_of_centralization                        nominal   \n2     Polity_degree_of_centralization                  unitary state   \n3     Polity_degree_of_centralization             confederated state   \n4     Polity_degree_of_centralization                   quasi-polity   \n...                               ...                            ...   \n2519  Polity_degree_of_centralization                  unitary state   \n2520  Polity_degree_of_centralization                  unitary state   \n2521  Polity_degree_of_centralization                  unitary state   \n2522  Polity_degree_of_centralization                  unitary state   \n2523  Polity_degree_of_centralization                  unitary state   \n\n      cntr_comment                                   cntr_description  \\\n0              NaN                                                NaN   \n1             None   The two and a half centuries between Diodotus...   \n2             None   The establishment of a confederation (althoug...   \n3             None   The establishment of a confederation (althoug...   \n4             None                                               None   \n...            ...                                                ...   \n2519          None  \"Compared to the Tahirids, the Samanids were a...   \n2520          None  \"Compared to the Tahirids, the Samanids were a...   \n2521          None  \"Compared to the Tahirids, the Samanids were a...   \n2522          None  \"Compared to the Tahirids, the Samanids were a...   \n2523          None  \"Wari was clearly a centralised state whose pe...   \n\n     end_year     id           long_name                   name  start_year  \n0         NaN    NaN                 NaN                    NaN         NaN  \n1       -10.0  126.0  Indo-Greek Kingdom        pk_indo_greek_k      -180.0  \n2      -100.0  526.0  Monte Alban Late I  mx_monte_alban_1_late      -300.0  \n3      -100.0  526.0  Monte Alban Late I  mx_monte_alban_1_late      -300.0  \n4     -1000.0  448.0    Atlantic Complex    fr_atlantic_complex     -2200.0  \n...       ...    ...                 ...                    ...         ...  \n2519    999.0  287.0      Samanid Empire         uz_samanid_emp       819.0  \n2520    999.0  287.0      Samanid Empire         uz_samanid_emp       819.0  \n2521    999.0  287.0      Samanid Empire         uz_samanid_emp       819.0  \n2522    999.0  287.0      Samanid Empire         uz_samanid_emp       819.0  \n2523    999.0   80.0         Wari Empire            pe_wari_emp       650.0  \n\n[2524 rows x 184 columns]",
                        "text/html": "<div>\n<style scoped>\n    .dataframe tbody tr th:only-of-type {\n        vertical-align: middle;\n    }\n\n    .dataframe tbody tr th {\n        vertical-align: top;\n    }\n\n    .dataframe thead th {\n        text-align: right;\n    }\n</style>\n<table border=\"1\" class=\"dataframe\">\n  <thead>\n    <tr style=\"text-align: right;\">\n      <th></th>\n      <th>tr_id</th>\n      <th>polity</th>\n      <th>tr_year_from</th>\n      <th>tr_year_to</th>\n      <th>tr_tag</th>\n      <th>tr_is_disputed</th>\n      <th>tr_is_uncertain</th>\n      <th>tr_name</th>\n      <th>tr_polity_territory_from</th>\n      <th>tr_polity_territory_to</th>\n      <th>...</th>\n      <th>cntr_is_uncertain</th>\n      <th>cntr_name</th>\n      <th>cntr_degree_of_centralization</th>\n      <th>cntr_comment</th>\n      <th>cntr_description</th>\n      <th>end_year</th>\n      <th>id</th>\n      <th>long_name</th>\n      <th>name</th>\n      <th>start_year</th>\n    </tr>\n  </thead>\n  <tbody>\n    <tr>\n      <th>0</th>\n      <td>NaN</td>\n      <td>None</td>\n      <td>NaN</td>\n      <td>NaN</td>\n      <td>NaN</td>\n      <td>NaN</td>\n      <td>NaN</td>\n      <td>NaN</td>\n      <td>NaN</td>\n      <td>NaN</td>\n      <td>...</td>\n      <td>NaN</td>\n      <td>NaN</td>\n      <td>NaN</td>\n      <td>NaN</td>\n      <td>NaN</td>\n      <td>NaN</td>\n      <td>NaN</td>\n      <td>NaN</td>\n      <td>NaN</td>\n      <td>NaN</td>\n    </tr>\n    <tr>\n      <th>1</th>\n      <td>711.0</td>\n      <td>{'end_year': -10, 'id': 126, 'long_name': 'Ind...</td>\n      <td>NaN</td>\n      <td>NaN</td>\n      <td>TRS</td>\n      <td>False</td>\n      <td>False</td>\n      <td>Polity_territory</td>\n      <td>105226.0</td>\n      <td>105226.0</td>\n      <td>...</td>\n      <td>False</td>\n      <td>Polity_degree_of_centralization</td>\n      <td>nominal</td>\n      <td>None</td>\n      <td>The two and a half centuries between Diodotus...</td>\n      <td>-10.0</td>\n      <td>126.0</td>\n      <td>Indo-Greek Kingdom</td>\n      <td>pk_indo_greek_k</td>\n      <td>-180.0</td>\n    </tr>\n    <tr>\n      <th>2</th>\n      <td>682.0</td>\n      <td>{'end_year': -100, 'id': 526, 'long_name': 'Mo...</td>\n      <td>NaN</td>\n      <td>NaN</td>\n      <td>TRS</td>\n      <td>False</td>\n      <td>False</td>\n      <td>Polity_territory</td>\n      <td>5000.0</td>\n      <td>5000.0</td>\n      <td>...</td>\n      <td>False</td>\n      <td>Polity_degree_of_centralization</td>\n      <td>unitary state</td>\n      <td>None</td>\n      <td>The establishment of a confederation (althoug...</td>\n      <td>-100.0</td>\n      <td>526.0</td>\n      <td>Monte Alban Late I</td>\n      <td>mx_monte_alban_1_late</td>\n      <td>-300.0</td>\n    </tr>\n    <tr>\n      <th>3</th>\n      <td>682.0</td>\n      <td>{'end_year': -100, 'id': 526, 'long_name': 'Mo...</td>\n      <td>NaN</td>\n      <td>NaN</td>\n      <td>TRS</td>\n      <td>False</td>\n      <td>False</td>\n      <td>Polity_territory</td>\n      <td>5000.0</td>\n      <td>5000.0</td>\n      <td>...</td>\n      <td>False</td>\n      <td>Polity_degree_of_centralization</td>\n      <td>confederated state</td>\n      <td>None</td>\n      <td>The establishment of a confederation (althoug...</td>\n      <td>-100.0</td>\n      <td>526.0</td>\n      <td>Monte Alban Late I</td>\n      <td>mx_monte_alban_1_late</td>\n      <td>-300.0</td>\n    </tr>\n    <tr>\n      <th>4</th>\n      <td>NaN</td>\n      <td>{'end_year': -1000, 'id': 448, 'long_name': 'A...</td>\n      <td>NaN</td>\n      <td>NaN</td>\n      <td>NaN</td>\n      <td>NaN</td>\n      <td>NaN</td>\n      <td>NaN</td>\n      <td>NaN</td>\n      <td>NaN</td>\n      <td>...</td>\n      <td>False</td>\n      <td>Polity_degree_of_centralization</td>\n      <td>quasi-polity</td>\n      <td>None</td>\n      <td>None</td>\n      <td>-1000.0</td>\n      <td>448.0</td>\n      <td>Atlantic Complex</td>\n      <td>fr_atlantic_complex</td>\n      <td>-2200.0</td>\n    </tr>\n    <tr>\n      <th>...</th>\n      <td>...</td>\n      <td>...</td>\n      <td>...</td>\n      <td>...</td>\n      <td>...</td>\n      <td>...</td>\n      <td>...</td>\n      <td>...</td>\n      <td>...</td>\n      <td>...</td>\n      <td>...</td>\n      <td>...</td>\n      <td>...</td>\n      <td>...</td>\n      <td>...</td>\n      <td>...</td>\n      <td>...</td>\n      <td>...</td>\n      <td>...</td>\n      <td>...</td>\n      <td>...</td>\n    </tr>\n    <tr>\n      <th>2519</th>\n      <td>775.0</td>\n      <td>{'end_year': 999, 'id': 287, 'long_name': 'Sam...</td>\n      <td>900.0</td>\n      <td>900.0</td>\n      <td>TRS</td>\n      <td>False</td>\n      <td>False</td>\n      <td>Polity_territory</td>\n      <td>600000.0</td>\n      <td>600000.0</td>\n      <td>...</td>\n      <td>False</td>\n      <td>Polity_degree_of_centralization</td>\n      <td>unitary state</td>\n      <td>None</td>\n      <td>\"Compared to the Tahirids, the Samanids were a...</td>\n      <td>999.0</td>\n      <td>287.0</td>\n      <td>Samanid Empire</td>\n      <td>uz_samanid_emp</td>\n      <td>819.0</td>\n    </tr>\n    <tr>\n      <th>2520</th>\n      <td>775.0</td>\n      <td>{'end_year': 999, 'id': 287, 'long_name': 'Sam...</td>\n      <td>900.0</td>\n      <td>900.0</td>\n      <td>TRS</td>\n      <td>False</td>\n      <td>False</td>\n      <td>Polity_territory</td>\n      <td>600000.0</td>\n      <td>600000.0</td>\n      <td>...</td>\n      <td>False</td>\n      <td>Polity_degree_of_centralization</td>\n      <td>unitary state</td>\n      <td>None</td>\n      <td>\"Compared to the Tahirids, the Samanids were a...</td>\n      <td>999.0</td>\n      <td>287.0</td>\n      <td>Samanid Empire</td>\n      <td>uz_samanid_emp</td>\n      <td>819.0</td>\n    </tr>\n    <tr>\n      <th>2521</th>\n      <td>776.0</td>\n      <td>{'end_year': 999, 'id': 287, 'long_name': 'Sam...</td>\n      <td>930.0</td>\n      <td>930.0</td>\n      <td>TRS</td>\n      <td>False</td>\n      <td>False</td>\n      <td>Polity_territory</td>\n      <td>2500000.0</td>\n      <td>2500000.0</td>\n      <td>...</td>\n      <td>False</td>\n      <td>Polity_degree_of_centralization</td>\n      <td>unitary state</td>\n      <td>None</td>\n      <td>\"Compared to the Tahirids, the Samanids were a...</td>\n      <td>999.0</td>\n      <td>287.0</td>\n      <td>Samanid Empire</td>\n      <td>uz_samanid_emp</td>\n      <td>819.0</td>\n    </tr>\n    <tr>\n      <th>2522</th>\n      <td>776.0</td>\n      <td>{'end_year': 999, 'id': 287, 'long_name': 'Sam...</td>\n      <td>930.0</td>\n      <td>930.0</td>\n      <td>TRS</td>\n      <td>False</td>\n      <td>False</td>\n      <td>Polity_territory</td>\n      <td>2500000.0</td>\n      <td>2500000.0</td>\n      <td>...</td>\n      <td>False</td>\n      <td>Polity_degree_of_centralization</td>\n      <td>unitary state</td>\n      <td>None</td>\n      <td>\"Compared to the Tahirids, the Samanids were a...</td>\n      <td>999.0</td>\n      <td>287.0</td>\n      <td>Samanid Empire</td>\n      <td>uz_samanid_emp</td>\n      <td>819.0</td>\n    </tr>\n    <tr>\n      <th>2523</th>\n      <td>708.0</td>\n      <td>{'end_year': 999, 'id': 80, 'long_name': 'Wari...</td>\n      <td>NaN</td>\n      <td>NaN</td>\n      <td>TRS</td>\n      <td>False</td>\n      <td>False</td>\n      <td>Polity_territory</td>\n      <td>20000.0</td>\n      <td>320000.0</td>\n      <td>...</td>\n      <td>False</td>\n      <td>Polity_degree_of_centralization</td>\n      <td>unitary state</td>\n      <td>None</td>\n      <td>\"Wari was clearly a centralised state whose pe...</td>\n      <td>999.0</td>\n      <td>80.0</td>\n      <td>Wari Empire</td>\n      <td>pe_wari_emp</td>\n      <td>650.0</td>\n    </tr>\n  </tbody>\n</table>\n<p>2524 rows × 184 columns</p>\n</div>"
                    },
                    "metadata": {}
                }
            ],
            "outputs_reference": "s3:deepnote-cell-outputs-production/2df48cd8-dc5a-46aa-b2a6-2a19412f93e0",
            "content_dependencies": null
        },
        {
            "cell_type": "code",
            "metadata": {
                "source_hash": "51ef34d9",
                "execution_start": 1749821121668,
                "execution_millis": 4175,
                "execution_context_id": "9d99e7d6-4935-4147-87fa-8d492a9d0bcb",
                "cell_id": "e9462863651a4b0e89996d000da9e58f",
                "deepnote_cell_type": "code"
            },
            "source": "concenteration_expanded.to_csv(\"concentration.csv\")",
            "block_group": "ec837fce8a18402489e6e76deb9fc3fd",
            "execution_count": 58,
            "outputs": [],
            "outputs_reference": null,
            "content_dependencies": null
        },
        {
            "cell_type": "markdown",
            "metadata": {
                "formattedRanges": [],
                "cell_id": "e8346716793c4f7dbfd0b7ee8ae86f35",
                "deepnote_cell_type": "text-cell-h1"
            },
            "source": "# Add Regions",
            "block_group": "d6964589ff0a4a5e91531797194afb07"
        },
        {
            "cell_type": "code",
            "metadata": {
                "source_hash": "ce807001",
                "execution_start": 1749982411927,
                "execution_millis": 619,
                "deepnote_table_state": {
                    "sortBy": [],
                    "filters": [],
                    "pageSize": 10,
                    "pageIndex": 4,
                    "columnOrder": [
                        "id",
                        "name",
                        "start_year",
                        "end_year",
                        "long_name",
                        "polity_tag",
                        "general_description",
                        "shapefile_name",
                        "unreliable_instability_events",
                        "id_nga",
                        "name_nga",
                        "subregion",
                        "longitude",
                        "latitude",
                        "capital_city",
                        "nga_code",
                        "fao_country",
                        "world_region",
                        "id_region",
                        "name_region",
                        "subregions_list",
                        "mac_region"
                    ],
                    "hiddenColumnIds": [],
                    "columnDisplayNames": [
                        {
                            "columnName": "subregion",
                            "displayName": "nga_subregion"
                        },
                        {
                            "columnName": "name_nga",
                            "displayName": "nga_name"
                        },
                        {
                            "columnName": "longitude",
                            "displayName": "nga_longitude"
                        },
                        {
                            "columnName": "latitude",
                            "displayName": "nga_latitude"
                        },
                        {
                            "columnName": "capital_city",
                            "displayName": "nga_capital_city"
                        },
                        {
                            "columnName": "fao_country",
                            "displayName": "nga_fao_country"
                        },
                        {
                            "columnName": "world_region",
                            "displayName": "nga_world_region"
                        },
                        {
                            "columnName": "id_region",
                            "displayName": "region_id"
                        },
                        {
                            "columnName": "name_region",
                            "displayName": "region_name"
                        },
                        {
                            "columnName": "general_description",
                            "displayName": "polity_general_description"
                        },
                        {
                            "columnName": "shapefile_name",
                            "displayName": "polity_shapefile_name"
                        },
                        {
                            "columnName": "unreliable_instability_events",
                            "displayName": "polity_unreliable_instability_events"
                        },
                        {
                            "columnName": "id_nga",
                            "displayName": "nga_id"
                        }
                    ],
                    "conditionalFilters": [],
                    "cellFormattingRules": [],
                    "wrappedTextColumnIds": []
                },
                "execution_context_id": "3db532ef-f1fb-425e-b1a0-6805c1bcc18f",
                "deepnote_table_loading": false,
                "cell_id": "8cf5661464394cfb8f206e69d9dd31e3",
                "deepnote_cell_type": "code"
            },
            "source": "# polities with region\npolity_normal = pd.read_csv(\"/work/ThesisP1/data/polity_normal.csv\") # seshat polities. normalized region jsans (gcolab notebook)",
            "block_group": "e91047da70dd4a87a47c0e23d3d7a99e",
            "execution_count": 199,
            "outputs": [],
            "outputs_reference": null,
            "content_dependencies": null
        },
        {
            "cell_type": "code",
            "metadata": {
                "cell_id": "153646a2a8f64591b290070b1e96d2be",
                "deepnote_cell_type": "code"
            },
            "source": "polity_normal.drop([\"Unnamed: 0\"], axis = 1, inplace=True)",
            "block_group": "2f5c6ca7c7b54fbea0627353a5d0ce2d",
            "execution_count": null,
            "outputs": [],
            "outputs_reference": null,
            "content_dependencies": null
        },
        {
            "cell_type": "code",
            "metadata": {
                "source_hash": "ebcc6cfa",
                "execution_start": 1749817711886,
                "execution_millis": 1,
                "execution_context_id": "da30eaf0-a55c-4e06-898f-4344d8ad0635",
                "cell_id": "0dfeffd32e314feaaf37463f0765ae9d",
                "deepnote_cell_type": "code"
            },
            "source": "polity_normal.rename(columns = {\n    \"general_description\": \"polity_general_description\",\n    \"shapefile_name\": \"polity_shapefile_name\",\n    \"unreliable_instability_events\": \"polity_unreliable_instability_events\",\n    \"id_nga\": \"nga_id\",\n    \"name_nga\": \"nga_name\",\n    \"subregion\": \"nga_subregion\",\n    \"longitude\": \"nga_longitude\",\n    \"latitude\": \"nga_latitude\",\n    \"capital_city\": \"nga_capital_city\",\n    \"fao_country\": \"nga_fao_country\",\n    \"world_region\": \"nga_world_region\",\n    \"id_region\": \"seshat_region_id\",\n    \"name_region\": \"seshat_region_name\",\n    \"subregions_list\": \"seshat_subregions_list\",\n    \"mac_region\": \"seshat_mac_region\",\n}, inplace = True)",
            "block_group": "a5844bca8ffa4a78863fe9f9735beadb",
            "execution_count": 208,
            "outputs": [],
            "outputs_reference": null,
            "content_dependencies": null
        },
        {
            "cell_type": "code",
            "metadata": {
                "source_hash": "6b83cc2",
                "execution_start": 1749970413180,
                "execution_millis": 133,
                "deepnote_table_state": {
                    "sortBy": [
                        {
                            "id": "name",
                            "type": "asc"
                        }
                    ],
                    "filters": [],
                    "pageSize": 10,
                    "pageIndex": 0,
                    "columnOrder": [
                        "Unnamed: 0",
                        "id",
                        "name",
                        "start_year",
                        "end_year",
                        "long_name",
                        "polity_tag",
                        "polity_general_description",
                        "polity_shapefile_name",
                        "polity_unreliable_instability_events",
                        "nga_id",
                        "nga_name",
                        "nga_subregion",
                        "nga_longitude",
                        "nga_latitude",
                        "nga_capital_city",
                        "nga_code",
                        "nga_fao_country",
                        "nga_world_region",
                        "seshat_region_id",
                        "seshat_region_name",
                        "seshat_subregions_list",
                        "seshat_mac_region"
                    ],
                    "hiddenColumnIds": [],
                    "columnDisplayNames": [],
                    "conditionalFilters": [],
                    "cellFormattingRules": [],
                    "wrappedTextColumnIds": []
                },
                "execution_context_id": "e8ade8b8-ebd2-4091-bc75-cab5b65036fd",
                "deepnote_table_loading": false,
                "cell_id": "0bdf5d56534d4714b5f1a783593c4aeb",
                "deepnote_cell_type": "code"
            },
            "source": "polity_normal",
            "block_group": "fedbda33c09a4eaaadb88d3a46b72f6a",
            "execution_count": 22,
            "outputs": [
                {
                    "output_type": "execute_result",
                    "execution_count": 22,
                    "data": {
                        "application/vnd.deepnote.dataframe.v3+json": {
                            "column_count": 22,
                            "columns": [
                                {
                                    "name": "id",
                                    "dtype": "int64",
                                    "stats": {
                                        "unique_count": 862,
                                        "nan_count": 0,
                                        "min": "1",
                                        "max": "910",
                                        "histogram": [
                                            {
                                                "bin_start": 1,
                                                "bin_end": 91.9,
                                                "count": 88
                                            },
                                            {
                                                "bin_start": 91.9,
                                                "bin_end": 182.8,
                                                "count": 90
                                            },
                                            {
                                                "bin_start": 182.8,
                                                "bin_end": 273.70000000000005,
                                                "count": 89
                                            },
                                            {
                                                "bin_start": 273.70000000000005,
                                                "bin_end": 364.6,
                                                "count": 80
                                            },
                                            {
                                                "bin_start": 364.6,
                                                "bin_end": 455.5,
                                                "count": 88
                                            },
                                            {
                                                "bin_start": 455.5,
                                                "bin_end": 546.4000000000001,
                                                "count": 91
                                            },
                                            {
                                                "bin_start": 546.4000000000001,
                                                "bin_end": 637.3000000000001,
                                                "count": 72
                                            },
                                            {
                                                "bin_start": 637.3000000000001,
                                                "bin_end": 728.2,
                                                "count": 88
                                            },
                                            {
                                                "bin_start": 728.2,
                                                "bin_end": 819.1,
                                                "count": 87
                                            },
                                            {
                                                "bin_start": 819.1,
                                                "bin_end": 910,
                                                "count": 89
                                            }
                                        ],
                                        "categories": null
                                    }
                                },
                                {
                                    "name": "name",
                                    "dtype": "object",
                                    "stats": {
                                        "unique_count": 862,
                                        "nan_count": 0,
                                        "min": null,
                                        "max": null,
                                        "histogram": null,
                                        "categories": [
                                            {
                                                "name": "Early Niynginya",
                                                "count": 1
                                            },
                                            {
                                                "name": "af_afghanistan_emirate",
                                                "count": 1
                                            },
                                            {
                                                "name": "860 others",
                                                "count": 860
                                            }
                                        ]
                                    }
                                },
                                {
                                    "name": "start_year",
                                    "dtype": "int64",
                                    "stats": {
                                        "unique_count": 580,
                                        "nan_count": 0,
                                        "min": "-13600",
                                        "max": "1993",
                                        "histogram": [
                                            {
                                                "bin_start": -13600,
                                                "bin_end": -12040.7,
                                                "count": 1
                                            },
                                            {
                                                "bin_start": -12040.7,
                                                "bin_end": -10481.4,
                                                "count": 0
                                            },
                                            {
                                                "bin_start": -10481.4,
                                                "bin_end": -8922.1,
                                                "count": 3
                                            },
                                            {
                                                "bin_start": -8922.1,
                                                "bin_end": -7362.8,
                                                "count": 2
                                            },
                                            {
                                                "bin_start": -7362.8,
                                                "bin_end": -5803.5,
                                                "count": 10
                                            },
                                            {
                                                "bin_start": -5803.5,
                                                "bin_end": -4244.200000000001,
                                                "count": 10
                                            },
                                            {
                                                "bin_start": -4244.200000000001,
                                                "bin_end": -2684.8999999999996,
                                                "count": 22
                                            },
                                            {
                                                "bin_start": -2684.8999999999996,
                                                "bin_end": -1125.6000000000004,
                                                "count": 58
                                            },
                                            {
                                                "bin_start": -1125.6000000000004,
                                                "bin_end": 433.6999999999989,
                                                "count": 169
                                            },
                                            {
                                                "bin_start": 433.6999999999989,
                                                "bin_end": 1993,
                                                "count": 587
                                            }
                                        ],
                                        "categories": null
                                    }
                                },
                                {
                                    "name": "end_year",
                                    "dtype": "int64",
                                    "stats": {
                                        "unique_count": 588,
                                        "nan_count": 0,
                                        "min": "-9200",
                                        "max": "2024",
                                        "histogram": [
                                            {
                                                "bin_start": -9200,
                                                "bin_end": -8077.6,
                                                "count": 1
                                            },
                                            {
                                                "bin_start": -8077.6,
                                                "bin_end": -6955.2,
                                                "count": 3
                                            },
                                            {
                                                "bin_start": -6955.2,
                                                "bin_end": -5832.799999999999,
                                                "count": 3
                                            },
                                            {
                                                "bin_start": -5832.799999999999,
                                                "bin_end": -4710.4,
                                                "count": 7
                                            },
                                            {
                                                "bin_start": -4710.4,
                                                "bin_end": -3588,
                                                "count": 6
                                            },
                                            {
                                                "bin_start": -3588,
                                                "bin_end": -2465.5999999999995,
                                                "count": 17
                                            },
                                            {
                                                "bin_start": -2465.5999999999995,
                                                "bin_end": -1343.199999999999,
                                                "count": 29
                                            },
                                            {
                                                "bin_start": -1343.199999999999,
                                                "bin_end": -220.79999999999927,
                                                "count": 90
                                            },
                                            {
                                                "bin_start": -220.79999999999927,
                                                "bin_end": 901.6000000000004,
                                                "count": 171
                                            },
                                            {
                                                "bin_start": 901.6000000000004,
                                                "bin_end": 2024,
                                                "count": 535
                                            }
                                        ],
                                        "categories": null
                                    }
                                },
                                {
                                    "name": "long_name",
                                    "dtype": "object",
                                    "stats": {
                                        "unique_count": 859,
                                        "nan_count": 0,
                                        "min": null,
                                        "max": null,
                                        "histogram": null,
                                        "categories": [
                                            {
                                                "name": "Malacca Sultanate",
                                                "count": 2
                                            },
                                            {
                                                "name": "Middle and Late Nok",
                                                "count": 2
                                            },
                                            {
                                                "name": "857 others",
                                                "count": 858
                                            }
                                        ]
                                    }
                                },
                                {
                                    "name": "polity_tag",
                                    "dtype": "object",
                                    "stats": {
                                        "unique_count": 6,
                                        "nan_count": 0,
                                        "min": null,
                                        "max": null,
                                        "histogram": null,
                                        "categories": [
                                            {
                                                "name": "LEGACY",
                                                "count": 566
                                            },
                                            {
                                                "name": "OTHER_TAG",
                                                "count": 196
                                            },
                                            {
                                                "name": "4 others",
                                                "count": 100
                                            }
                                        ]
                                    }
                                },
                                {
                                    "name": "polity_general_description",
                                    "dtype": "object",
                                    "stats": {
                                        "unique_count": 429,
                                        "nan_count": 415,
                                        "min": null,
                                        "max": null,
                                        "histogram": null,
                                        "categories": [
                                            {
                                                "name": "The Naqada is a Predynastic archaeological culture located in Upper Egypt, the strip of land flanking the Nile river south of the Faiyum region and north of the First Cataract. Named after the site where British archaeologist Flinders Petrie uncovered a necropolis of over 3000 graves in the late 19th century, §REF§ (Midant-Reynes 2000, 41) Béatrix Midant-Reynes. 2000. 'The Naqada Period (c. 4000-3200 BC)', in <i>The Oxford History of Ancient Egypt</i>, edited by Ian Shaw, 41-56. Oxford: Oxford University Press. §REF§  the Naqada culture is dated from around 3800 to 3100 BCE. §REF§ (Dee et al. 2013, 5) Michael Dee, David Wengrow, Andrew Shortland, Alice Stevenson, Fiona Brock, Linus Girdland Flink and Christopher Bronk Ramsey. 2013. 'An Absolute Chronology for Early Egypt Using Radiocarbon Dating and Bayesian Statistical Modelling'. <i>Proceedings of the Royal Society A</i> 469 (2159). DOI: 10.1098/rspa.2013.0395. §REF§  The Naqada has been subdivided into three periods ‒ the Amratian, Gerzean, and Semainean ‒ as well as, more recently, into Naqada IA-C, IIA-D, and IIIA-D. §REF§ (Stevenson 2016, 424) Alice Stevenson. 2016. 'The Egyptian Predynastic and State Formation'. <i>Journal of Archaeological Research</i> 24: 421-68. §REF§  §REF§ (Dee et al. 2013, 2) Michael Dee, David Wengrow, Andrew Shortland, Alice Stevenson, Fiona Brock, Linus Girdland Flink and Christopher Bronk Ramsey. 2013. 'An Absolute Chronology for Early Egypt Using Radiocarbon Dating and Bayesian Statistical Modelling'. <i>Proceedings of the Royal Society A</i> 469 (2159). DOI: 10.1098/rspa.2013.0395. §REF§  Seshat's 'Naqada 1' (3800-3550 BCE) corresponds to the Naqada IA-IIB phases; Naqada 2 (3550-3300 BCE) to IIC-IID; and Naqada 3 (3300-3100 BCE) to IIIA-IIIB. We end Naqada 3 with the IIIB-C transition, because the First Dynasty of the Egyptian state is considered to begin with the accession of King Aha in Naqada IIIC. §REF§ (Dee et al. 2013, 2) Michael Dee, David Wengrow, Andrew Shortland, Alice Stevenson, Fiona Brock, Linus Girdland Flink and Christopher Bronk Ramsey. 2013. 'An Absolute Chronology for Early Egypt Using Radiocarbon Dating and Bayesian Statistical Modelling'. <i>Proceedings of the Royal Society A</i> 469 (2159). DOI: 10.1098/rspa.2013.0395. §REF§  Naqada III is also sometimes referred to as the Protodynastic period or 'Dynasty 0'.<br>Early Naqada archaeological material is clustered around the key sites of Naqada itself, Abydos, and Hierakonpolis (ancient Nekhen) in the fertile land nestled around the 'Qena bend' of the Nile. §REF§ (Bard 1994, 267) Kathryn A. Bard. 1994. 'The Egyptian Predynastic: A Review of the Evidence'. <i>Journal of Field Archaeology</i> 21 (3): 265-88. §REF§  However, from the late Naqada II onwards, there is an archaeologically visible expansion of the culture both southwards along the Nile and northwards into Lower Egypt (the Delta), eventually reaching as far north as the Levant in Naqada IIIA-B. §REF§ (Stevenson 2016, 442-43) Alice Stevenson. 2016. 'The Egyptian Predynastic and State Formation'. <i>Journal of Archaeological Research</i> 24: 421-68. §REF§ <br><i>Population and Political Organization</i><br>The 4th millennium BCE was a crucial period for Egyptian state formation. Prior to roughly 3800 BCE, Upper Egypt was inhabited by seasonally mobile farmers and herders, constituting an archaeological culture known as the Badarian. §REF§ (Stevenson 2016, 422, 428-29) Alice Stevenson. 2016. 'The Egyptian Predynastic and State Formation'. <i>Journal of Archaeological Research</i> 24: 421-68. §REF§  However, the Naqada periods brought a series of key social transformations to the region, including increasing inequality, a greater commitment to sedentary settlement and cereal farming, the emergence of full-time craft specialists, and, towards the end of the millennium, the invention of writing. §REF§ (Stevenson 2016, 431-32, 434) Alice Stevenson. 2016. 'The Egyptian Predynastic and State Formation'. <i>Journal of Archaeological Research</i> 24: 421-68. §REF§  §REF§ (Hendrickx 2011, 93) Stan Hendrickx. 2011. 'Crafts and Craft Specialization', in <i>Before the Pyramids: The Origins of Egyptian Civilization</i>, edited by Emily Teeter, 93-98. Chicago: Oriental Institute of the University of Chicago. §REF§  §REF§ (Wengrow 2011, 99) David Wengrow. 2011. 'The Invention of Writing in Egypt', in <i>Before the Pyramids: The Origins of Egyptian Civilization</i>, edited by Emily Teeter, 99-103. Chicago: Oriental Institute of the University of Chicago. §REF§  The growth of hierarchical social structures and the unification of Upper and Lower Egypt laid the foundations for the divine kings and complex bureaucracy of the Old Kingdom and beyond.<br>During Naqada I, new forms of political organization appeared ‒ relatively swiftly compared to other prehistoric cultures ‒ in the upper Nile Valley. §REF§ (Stevenson 2016, 431-32) Alice Stevenson. 2016. 'The Egyptian Predynastic and State Formation'. <i>Journal of Archaeological Research</i> 24: 421-68. §REF§  According to the Egyptologist Branislav Anđelković, previously autonomous agricultural villages began to band together to form 'chiefdoms' or 'proto-nomes' between Naqada IA and IB (a 'nome' was an administrative division in the later Egyptian state). §REF§ (Anđelković 2011, 28) Branislav Anđelković. 2011. 'Political Organization of Egypt in the Predynastic Period', in <i>Before the Pyramids: The Origins of Egyptian Civilization</i>, edited by Emily Teeter, 25-32. Chicago: Oriental Institute of the University of Chicago. §REF§  In Naqada IC, even larger political entities ‒ 'nome pre-states' ‒ started to form, centred on Naqada, Abydos and Hierakonpolis. It has been suggested that a 'primitive chiefdom' centred around a 'royal' authority based at Hierakonpolis, had formed by around 3700 BCE. §REF§ (García 2013, 187-88) Juan Carlos Moreno García. 2013. 'Building the Pharaonic State: Territory, Elite, and Power in Ancient Egypt during the Third Millennium BCE', in <i>Experiencing Power, Generating Authority: Cosmos, Politics, and the Ideology of Kingship in Ancient Egypt and Mesopotamia</i>, edited by Jane A. Hill, Philip Jones, and Antonio J. Morales, 185-217. Philadelphia, PA: University of Pennsylvania Press. §REF§  Not all researchers agree with this terminology, believing that it creates the impression of an inexorable march towards state formation, and some prefer to stress the fragile and experimental nature of early complex social formations in Upper Egypt. §REF§ (Stevenson 2016, 422, 427) Alice Stevenson. 2016. 'The Egyptian Predynastic and State Formation'. <i>Journal of Archaeological Research</i> 24: 421-68. §REF§  However, the term chiefdom remains in common usage as a label for the new ranked societies of the early 4th millennium. §REF§ (Stevenson 2016, 422) Alice Stevenson. 2016. 'The Egyptian Predynastic and State Formation'. <i>Journal of Archaeological Research</i> 24: 421-68. §REF§  §REF§ (Bard 2017, 2) Kathryn A. Bard. 2017. 'Political Economies of Predynastic Egypt and the Formation of the Early State'. <i>Journal of Archaeological Research</i> 25: 1-36. §REF§  §REF§ (Koehler 2010, 32) E. Christiana Koehler. 2010. 'Prehistory', in <i>A Companion to Ancient Egypt, Volume 1</i>, edited by Alan B. Lloyd, 25-47. Chichester: Wiley-Blackwell. §REF§  In the Naqada II period, 'proto-states' formed, and by the Naqada III we can speak of kings and a centralized government ruling over a unified Upper and Lower Egypt. §REF§ (Anđelković 2011, 29-30) Branislav Anđelković. 2011. 'Political Organization of Egypt in the Predynastic Period', in <i>Before the Pyramids: The Origins of Egyptian Civilization</i>, edited by Emily Teeter, 25-32. Chicago: Oriental Institute of the University of Chicago. §REF§ <br>We lack firm figures for the population of Egypt during the Naqada. At the beginning of the period, most inhabitants of Upper Egypt were living in small villages. §REF§ (Anđelković 2011, 28) Branislav Anđelković. 2011. 'Political Organization of Egypt in the Predynastic Period', in <i>Before the Pyramids: The Origins of Egyptian Civilization</i>, edited by Emily Teeter, 25-32. Chicago: Oriental Institute of the University of Chicago. §REF§  However, as the 4th millennium progressed, archaeologists can discern a process of urbanization and aggregation into larger political units. The largest known settlement, Hierakonpolis, grew into a regional centre of power in the 3800‒3500 BCE period §REF§ (Friedman 2011, 34) Renée Friedman. 2011. 'Hierakonpolis', in <i>Before the Pyramids: The Origins of Egyptian Civilization</i>, edited by Emily Teeter, 33-44. Chicago: Oriental Institute of the University of Chicago. §REF§  and may have reached a population of between 5,000 and 10,000 people in the late Naqada I. §REF§ (Hoffman, Hamroush and Allen 1986, 181) Michael Allen Hoffman, Hany A. Hamroush and Ralph O. Allen. 1986. 'A Model of Urban Development for the Hierakonpolis Region from Predynastic through Old Kingdom Times'. <i>Journal of the American Research Center in Egypt</i> 23: 175-87. §REF§  Other researchers consider this figure 'inflated' §REF§ (Stevenson 2016, 436) Alice Stevenson. 2016. 'The Egyptian Predynastic and State Formation'. <i>Journal of Archaeological Research</i> 24: 421-68. §REF§  and point to recent evidence from the Abydos region for low population numbers throughout the Predynastic period. §REF§ (Patch 2004, 914) Diana Craig Patch. 2004. 'Settlement Patterns and Cultural Change in the Predynastic Period', in <i>Egypt at Its Origins: Studies in Memory of Barbara Adams</i>, edited by S. Hendrickx, R. F. Friedman, K. M. Ciałowicz and M. Chłodnicki, 905-18. Leuven: Uitgeverij Peeters en Departement Oosterse Studies. §REF§ ",
                                                "count": 3
                                            },
                                            {
                                                "name": "428 others",
                                                "count": 444
                                            },
                                            {
                                                "name": "Missing",
                                                "count": 415
                                            }
                                        ]
                                    }
                                },
                                {
                                    "name": "polity_shapefile_name",
                                    "dtype": "object",
                                    "stats": {
                                        "unique_count": 63,
                                        "nan_count": 781,
                                        "min": null,
                                        "max": null,
                                        "histogram": null,
                                        "categories": [
                                            {
                                                "name": "Swiss Confederation",
                                                "count": 4
                                            },
                                            {
                                                "name": "62 others",
                                                "count": 77
                                            },
                                            {
                                                "name": "Missing",
                                                "count": 781
                                            }
                                        ]
                                    }
                                },
                                {
                                    "name": "polity_unreliable_instability_events",
                                    "dtype": "bool",
                                    "stats": {
                                        "unique_count": 2,
                                        "nan_count": 0,
                                        "min": null,
                                        "max": null,
                                        "histogram": null,
                                        "categories": [
                                            {
                                                "name": "False",
                                                "count": 857
                                            },
                                            {
                                                "name": "True",
                                                "count": 5
                                            }
                                        ]
                                    }
                                },
                                {
                                    "name": "nga_id",
                                    "dtype": "float64",
                                    "stats": {
                                        "unique_count": 35,
                                        "nan_count": 486,
                                        "min": "1.0",
                                        "max": "35.0",
                                        "histogram": [
                                            {
                                                "bin_start": 1,
                                                "bin_end": 4.4,
                                                "count": 55
                                            },
                                            {
                                                "bin_start": 4.4,
                                                "bin_end": 7.8,
                                                "count": 38
                                            },
                                            {
                                                "bin_start": 7.8,
                                                "bin_end": 11.2,
                                                "count": 81
                                            },
                                            {
                                                "bin_start": 11.2,
                                                "bin_end": 14.6,
                                                "count": 39
                                            },
                                            {
                                                "bin_start": 14.6,
                                                "bin_end": 18,
                                                "count": 26
                                            },
                                            {
                                                "bin_start": 18,
                                                "bin_end": 21.4,
                                                "count": 46
                                            },
                                            {
                                                "bin_start": 21.4,
                                                "bin_end": 24.8,
                                                "count": 33
                                            },
                                            {
                                                "bin_start": 24.8,
                                                "bin_end": 28.2,
                                                "count": 34
                                            },
                                            {
                                                "bin_start": 28.2,
                                                "bin_end": 31.599999999999998,
                                                "count": 13
                                            },
                                            {
                                                "bin_start": 31.599999999999998,
                                                "bin_end": 35,
                                                "count": 11
                                            }
                                        ],
                                        "categories": null
                                    }
                                },
                                {
                                    "name": "nga_name",
                                    "dtype": "object",
                                    "stats": {
                                        "unique_count": 35,
                                        "nan_count": 486,
                                        "min": null,
                                        "max": null,
                                        "histogram": null,
                                        "categories": [
                                            {
                                                "name": "Susiana",
                                                "count": 32
                                            },
                                            {
                                                "name": "34 others",
                                                "count": 344
                                            },
                                            {
                                                "name": "Missing",
                                                "count": 486
                                            }
                                        ]
                                    }
                                },
                                {
                                    "name": "nga_subregion",
                                    "dtype": "object",
                                    "stats": {
                                        "unique_count": 30,
                                        "nan_count": 486,
                                        "min": null,
                                        "max": null,
                                        "histogram": null,
                                        "categories": [
                                            {
                                                "name": "Levant-Mesopotamia",
                                                "count": 55
                                            },
                                            {
                                                "name": "29 others",
                                                "count": 321
                                            },
                                            {
                                                "name": "Missing",
                                                "count": 486
                                            }
                                        ]
                                    }
                                },
                                {
                                    "name": "nga_longitude",
                                    "dtype": "float64",
                                    "stats": {
                                        "unique_count": 35,
                                        "nan_count": 486,
                                        "min": "-155.916989",
                                        "max": "151.601918",
                                        "histogram": [
                                            {
                                                "bin_start": -155.916989,
                                                "bin_end": -125.1650983,
                                                "count": 5
                                            },
                                            {
                                                "bin_start": -125.1650983,
                                                "bin_end": -94.41320759999999,
                                                "count": 20
                                            },
                                            {
                                                "bin_start": -94.41320759999999,
                                                "bin_end": -63.6613169,
                                                "count": 27
                                            },
                                            {
                                                "bin_start": -63.6613169,
                                                "bin_end": -32.9094262,
                                                "count": 0
                                            },
                                            {
                                                "bin_start": -32.9094262,
                                                "bin_end": -2.1575354999999945,
                                                "count": 13
                                            },
                                            {
                                                "bin_start": -2.1575354999999945,
                                                "bin_end": 28.594355199999995,
                                                "count": 55
                                            },
                                            {
                                                "bin_start": 28.594355199999995,
                                                "bin_end": 59.346245900000014,
                                                "count": 119
                                            },
                                            {
                                                "bin_start": 59.346245900000014,
                                                "bin_end": 90.0981366,
                                                "count": 56
                                            },
                                            {
                                                "bin_start": 90.0981366,
                                                "bin_end": 120.85002730000002,
                                                "count": 60
                                            },
                                            {
                                                "bin_start": 120.85002730000002,
                                                "bin_end": 151.601918,
                                                "count": 21
                                            }
                                        ],
                                        "categories": null
                                    }
                                },
                                {
                                    "name": "nga_latitude",
                                    "dtype": "float64",
                                    "stats": {
                                        "unique_count": 35,
                                        "nan_count": 486,
                                        "min": "-13.47738",
                                        "max": "64.133088",
                                        "histogram": [
                                            {
                                                "bin_start": -13.47738,
                                                "bin_end": -5.7163332,
                                                "count": 16
                                            },
                                            {
                                                "bin_start": -5.7163332,
                                                "bin_end": 2.0447135999999997,
                                                "count": 4
                                            },
                                            {
                                                "bin_start": 2.0447135999999997,
                                                "bin_end": 9.8057604,
                                                "count": 4
                                            },
                                            {
                                                "bin_start": 9.8057604,
                                                "bin_end": 17.5668072,
                                                "count": 59
                                            },
                                            {
                                                "bin_start": 17.5668072,
                                                "bin_end": 25.327854,
                                                "count": 16
                                            },
                                            {
                                                "bin_start": 25.327854,
                                                "bin_end": 33.088900800000005,
                                                "count": 110
                                            },
                                            {
                                                "bin_start": 33.088900800000005,
                                                "bin_end": 40.84994759999999,
                                                "count": 108
                                            },
                                            {
                                                "bin_start": 40.84994759999999,
                                                "bin_end": 48.610994399999996,
                                                "count": 35
                                            },
                                            {
                                                "bin_start": 48.610994399999996,
                                                "bin_end": 56.3720412,
                                                "count": 20
                                            },
                                            {
                                                "bin_start": 56.3720412,
                                                "bin_end": 64.133088,
                                                "count": 4
                                            }
                                        ],
                                        "categories": null
                                    }
                                },
                                {
                                    "name": "nga_capital_city",
                                    "dtype": "object",
                                    "stats": {
                                        "unique_count": 35,
                                        "nan_count": 486,
                                        "min": null,
                                        "max": null,
                                        "histogram": null,
                                        "categories": [
                                            {
                                                "name": "Susa (Shush)",
                                                "count": 32
                                            },
                                            {
                                                "name": "34 others",
                                                "count": 344
                                            },
                                            {
                                                "name": "Missing",
                                                "count": 486
                                            }
                                        ]
                                    }
                                },
                                {
                                    "name": "nga_code",
                                    "dtype": "object",
                                    "stats": {
                                        "unique_count": 35,
                                        "nan_count": 486,
                                        "min": null,
                                        "max": null,
                                        "histogram": null,
                                        "categories": [
                                            {
                                                "name": "IR",
                                                "count": 32
                                            },
                                            {
                                                "name": "34 others",
                                                "count": 344
                                            },
                                            {
                                                "name": "Missing",
                                                "count": 486
                                            }
                                        ]
                                    }
                                },
                                {
                                    "name": "nga_fao_country",
                                    "dtype": "object",
                                    "stats": {
                                        "unique_count": 28,
                                        "nan_count": 486,
                                        "min": null,
                                        "max": null,
                                        "histogram": null,
                                        "categories": [
                                            {
                                                "name": "Iran",
                                                "count": 32
                                            },
                                            {
                                                "name": "27 others",
                                                "count": 344
                                            },
                                            {
                                                "name": "Missing",
                                                "count": 486
                                            }
                                        ]
                                    }
                                },
                                {
                                    "name": "nga_world_region",
                                    "dtype": "object",
                                    "stats": {
                                        "unique_count": 10,
                                        "nan_count": 486,
                                        "min": null,
                                        "max": null,
                                        "histogram": null,
                                        "categories": [
                                            {
                                                "name": "Southwest Asia",
                                                "count": 94
                                            },
                                            {
                                                "name": "9 others",
                                                "count": 282
                                            },
                                            {
                                                "name": "Missing",
                                                "count": 486
                                            }
                                        ]
                                    }
                                },
                                {
                                    "name": "seshat_region_id",
                                    "dtype": "int64",
                                    "stats": {
                                        "unique_count": 45,
                                        "nan_count": 0,
                                        "min": "1",
                                        "max": "64",
                                        "histogram": [
                                            {
                                                "bin_start": 1,
                                                "bin_end": 7.3,
                                                "count": 173
                                            },
                                            {
                                                "bin_start": 7.3,
                                                "bin_end": 13.6,
                                                "count": 62
                                            },
                                            {
                                                "bin_start": 13.6,
                                                "bin_end": 19.9,
                                                "count": 183
                                            },
                                            {
                                                "bin_start": 19.9,
                                                "bin_end": 26.2,
                                                "count": 107
                                            },
                                            {
                                                "bin_start": 26.2,
                                                "bin_end": 32.5,
                                                "count": 27
                                            },
                                            {
                                                "bin_start": 32.5,
                                                "bin_end": 38.8,
                                                "count": 32
                                            },
                                            {
                                                "bin_start": 38.8,
                                                "bin_end": 45.1,
                                                "count": 171
                                            },
                                            {
                                                "bin_start": 45.1,
                                                "bin_end": 51.4,
                                                "count": 0
                                            },
                                            {
                                                "bin_start": 51.4,
                                                "bin_end": 57.699999999999996,
                                                "count": 0
                                            },
                                            {
                                                "bin_start": 57.699999999999996,
                                                "bin_end": 64,
                                                "count": 107
                                            }
                                        ],
                                        "categories": null
                                    }
                                },
                                {
                                    "name": "seshat_region_name",
                                    "dtype": "object",
                                    "stats": {
                                        "unique_count": 45,
                                        "nan_count": 0,
                                        "min": null,
                                        "max": null,
                                        "histogram": null,
                                        "categories": [
                                            {
                                                "name": "West Africa",
                                                "count": 58
                                            },
                                            {
                                                "name": "Southern Europe",
                                                "count": 54
                                            },
                                            {
                                                "name": "43 others",
                                                "count": 750
                                            }
                                        ]
                                    }
                                },
                                {
                                    "name": "seshat_subregions_list",
                                    "dtype": "object",
                                    "stats": {
                                        "unique_count": 45,
                                        "nan_count": 0,
                                        "min": null,
                                        "max": null,
                                        "histogram": null,
                                        "categories": [
                                            {
                                                "name": "From Senegal to Gabon (Tropical)",
                                                "count": 58
                                            },
                                            {
                                                "name": "Iberia, Italy",
                                                "count": 54
                                            },
                                            {
                                                "name": "43 others",
                                                "count": 750
                                            }
                                        ]
                                    }
                                },
                                {
                                    "name": "seshat_mac_region",
                                    "dtype": "int64",
                                    "stats": {
                                        "unique_count": 10,
                                        "nan_count": 0,
                                        "min": "2",
                                        "max": "11",
                                        "histogram": [
                                            {
                                                "bin_start": 2,
                                                "bin_end": 2.9,
                                                "count": 173
                                            },
                                            {
                                                "bin_start": 2.9,
                                                "bin_end": 3.8,
                                                "count": 62
                                            },
                                            {
                                                "bin_start": 3.8,
                                                "bin_end": 4.7,
                                                "count": 67
                                            },
                                            {
                                                "bin_start": 4.7,
                                                "bin_end": 5.6,
                                                "count": 199
                                            },
                                            {
                                                "bin_start": 5.6,
                                                "bin_end": 6.5,
                                                "count": 28
                                            },
                                            {
                                                "bin_start": 6.5,
                                                "bin_end": 7.4,
                                                "count": 57
                                            },
                                            {
                                                "bin_start": 7.4,
                                                "bin_end": 8.3,
                                                "count": 10
                                            },
                                            {
                                                "bin_start": 8.3,
                                                "bin_end": 9.2,
                                                "count": 100
                                            },
                                            {
                                                "bin_start": 9.2,
                                                "bin_end": 10.1,
                                                "count": 39
                                            },
                                            {
                                                "bin_start": 10.1,
                                                "bin_end": 11,
                                                "count": 127
                                            }
                                        ],
                                        "categories": null
                                    }
                                },
                                {
                                    "name": "_deepnote_index_column",
                                    "dtype": "int64"
                                }
                            ],
                            "row_count": 862,
                            "preview_row_count": 862,
                            "rows": [
                                {
                                    "id": 687,
                                    "name": "Early Niynginya",
                                    "start_year": 1650,
                                    "end_year": 1897,
                                    "long_name": "Kingdom of Nyinginya",
                                    "polity_tag": "POL_AFR_EAST",
                                    "polity_general_description": "nan",
                                    "polity_shapefile_name": "nan",
                                    "polity_unreliable_instability_events": "False",
                                    "nga_id": "nan",
                                    "nga_name": "nan",
                                    "nga_subregion": "nan",
                                    "nga_longitude": "nan",
                                    "nga_latitude": "nan",
                                    "nga_capital_city": "nan",
                                    "nga_code": "nan",
                                    "nga_fao_country": "nan",
                                    "nga_world_region": "nan",
                                    "seshat_region_id": 2,
                                    "seshat_region_name": "East Africa",
                                    "seshat_subregions_list": "Tanzania, Burundi, Uganda, So Sudan, Somalia, Ethiopia, Eritrea",
                                    "seshat_mac_region": 2,
                                    "_deepnote_index_column": 445
                                },
                                {
                                    "id": 898,
                                    "name": "af_afghanistan_emirate",
                                    "start_year": 1827,
                                    "end_year": 1926,
                                    "long_name": "Emirate of Afghanistan",
                                    "polity_tag": "OTHER_TAG",
                                    "polity_general_description": "nan",
                                    "polity_shapefile_name": "nan",
                                    "polity_unreliable_instability_events": "False",
                                    "nga_id": "nan",
                                    "nga_name": "nan",
                                    "nga_subregion": "nan",
                                    "nga_longitude": "nan",
                                    "nga_latitude": "nan",
                                    "nga_capital_city": "nan",
                                    "nga_code": "nan",
                                    "nga_fao_country": "nan",
                                    "nga_world_region": "nan",
                                    "seshat_region_id": 8,
                                    "seshat_region_name": "Afghanistan",
                                    "seshat_subregions_list": "Afghanistan",
                                    "seshat_mac_region": 3,
                                    "_deepnote_index_column": 230
                                },
                                {
                                    "id": 740,
                                    "name": "af_afghanistan_k",
                                    "start_year": 1927,
                                    "end_year": 1973,
                                    "long_name": "Kingdom of Afghanistan",
                                    "polity_tag": "OTHER_TAG",
                                    "polity_general_description": "nan",
                                    "polity_shapefile_name": "nan",
                                    "polity_unreliable_instability_events": "False",
                                    "nga_id": "nan",
                                    "nga_name": "nan",
                                    "nga_subregion": "nan",
                                    "nga_longitude": "nan",
                                    "nga_latitude": "nan",
                                    "nga_capital_city": "nan",
                                    "nga_code": "nan",
                                    "nga_fao_country": "nan",
                                    "nga_world_region": "nan",
                                    "seshat_region_id": 8,
                                    "seshat_region_name": "Afghanistan",
                                    "seshat_subregions_list": "Afghanistan",
                                    "seshat_mac_region": 3,
                                    "_deepnote_index_column": 410
                                },
                                {
                                    "id": 741,
                                    "name": "af_afghanistan_rep",
                                    "start_year": 1974,
                                    "end_year": 2020,
                                    "long_name": "Republic of Afghanistan",
                                    "polity_tag": "OTHER_TAG",
                                    "polity_general_description": "nan",
                                    "polity_shapefile_name": "nan",
                                    "polity_unreliable_instability_events": "False",
                                    "nga_id": "nan",
                                    "nga_name": "nan",
                                    "nga_subregion": "nan",
                                    "nga_longitude": "nan",
                                    "nga_latitude": "nan",
                                    "nga_capital_city": "nan",
                                    "nga_code": "nan",
                                    "nga_fao_country": "nan",
                                    "nga_world_region": "nan",
                                    "seshat_region_id": 8,
                                    "seshat_region_name": "Afghanistan",
                                    "seshat_subregions_list": "Afghanistan",
                                    "seshat_mac_region": 3,
                                    "_deepnote_index_column": 677
                                },
                                {
                                    "id": 137,
                                    "name": "af_durrani_emp",
                                    "start_year": 1747,
                                    "end_year": 1826,
                                    "long_name": "Durrani Empire",
                                    "polity_tag": "LEGACY",
                                    "polity_general_description": "The Duranni Empire (1747-1826 CE) was a political entity that lasted 79 years by plundering its higher populated and wealthier neighbors. §REF§ (Barfield 2010, 97-109) Thomas Barfield. 2010. Afghanistan: a cultural and political history. Princeton University Press. §REF§  Founded by a former soldier of the Afsharid Kingdom named Ahmad Shah Durrani, at its maximum extent it covered over 1.5 million KM2 of territory surrounding modern-day Afganistan. §REF§ (Barfield 2010, 97-109) Thomas Barfield. 2010. Afghanistan: a cultural and political history. Princeton University Press. §REF§ <br>Ahmad Shah Durrani had been elected to the monarchy by an inter-tribal assembly called the Loya Jirga. §REF§ (Barfield 2010, 97-109) Thomas Barfield. 2010. Afghanistan: a cultural and political history. Princeton University Press. §REF§  Following his death in 1772 CE , rebellion and internal strife led to a loss of power so that by 1818 CE, the Durrani controlled a small territory surrounding the capital…",
                                    "polity_shapefile_name": "nan",
                                    "polity_unreliable_instability_events": "False",
                                    "nga_id": 13,
                                    "nga_name": "Kachi Plain",
                                    "nga_subregion": "Indo-Gangetic Plain",
                                    "nga_longitude": 67.628836,
                                    "nga_latitude": 29.377664,
                                    "nga_capital_city": "Mehrgarh",
                                    "nga_code": "PK",
                                    "nga_fao_country": "Pakistan",
                                    "nga_world_region": "South Asia",
                                    "seshat_region_id": 8,
                                    "seshat_region_name": "Afghanistan",
                                    "seshat_subregions_list": "Afghanistan",
                                    "seshat_mac_region": 3,
                                    "_deepnote_index_column": 160
                                },
                                {
                                    "id": 363,
                                    "name": "af_ghaznavid_emp",
                                    "start_year": 998,
                                    "end_year": 1040,
                                    "long_name": "Ghaznavid Empire",
                                    "polity_tag": "LEGACY",
                                    "polity_general_description": "nan",
                                    "polity_shapefile_name": "nan",
                                    "polity_unreliable_instability_events": "False",
                                    "nga_id": "nan",
                                    "nga_name": "nan",
                                    "nga_subregion": "nan",
                                    "nga_longitude": "nan",
                                    "nga_latitude": "nan",
                                    "nga_capital_city": "nan",
                                    "nga_code": "nan",
                                    "nga_fao_country": "nan",
                                    "nga_world_region": "nan",
                                    "seshat_region_id": 8,
                                    "seshat_region_name": "Afghanistan",
                                    "seshat_subregions_list": "Afghanistan",
                                    "seshat_mac_region": 3,
                                    "_deepnote_index_column": 269
                                },
                                {
                                    "id": 134,
                                    "name": "af_ghur_principality",
                                    "start_year": 1025,
                                    "end_year": 1215,
                                    "long_name": "Ghur Principality",
                                    "polity_tag": "LEGACY",
                                    "polity_general_description": "The Ghurids were an Islamic Turkish dynasty that ruled the Persian Principality of Ghur between 1025-1215 CE. The peak of their power occurred with their defeat of the Ghaznavid Empire in 1186 CE. For the majority of its existence the Ghurid rulers were in a state of vassalage of the Ghaznavids and the sultans of the Seljuk Turks, to whom they sent tribute. §REF§ (Bosworth 2012) Bosworth, Edmund C. 2012. GHURIDS. Encyclopaedia Iranica. <a class=\"external free\" href=\"http://www.iranicaonline.org/articles/ghurids\" rel=\"nofollow\">http://www.iranicaonline.org/articles/ghurids</a> §REF§ <br>While \"the early history of the Sansabani family had been full of feuds and disputes\" the successful rebellion against the Ghaznavids resulted in a legacy of at least a degree of cooperation. §REF§ (Bosworth 2012) Edmund C Bosworth. 2012. GHURIDS. Encyclopaedia Iranica. <a class=\"external free\" href=\"http://www.iranicaonline.org/articles/ghurids\" rel=\"nofollow\">http://www.iranicaonline.org/articles/ghur…",
                                    "polity_shapefile_name": "nan",
                                    "polity_unreliable_instability_events": "False",
                                    "nga_id": 13,
                                    "nga_name": "Kachi Plain",
                                    "nga_subregion": "Indo-Gangetic Plain",
                                    "nga_longitude": 67.628836,
                                    "nga_latitude": 29.377664,
                                    "nga_capital_city": "Mehrgarh",
                                    "nga_code": "PK",
                                    "nga_fao_country": "Pakistan",
                                    "nga_world_region": "South Asia",
                                    "seshat_region_id": 8,
                                    "seshat_region_name": "Afghanistan",
                                    "seshat_subregions_list": "Afghanistan",
                                    "seshat_mac_region": 3,
                                    "_deepnote_index_column": 270
                                },
                                {
                                    "id": 350,
                                    "name": "af_greco_bactrian_k",
                                    "start_year": -256,
                                    "end_year": -125,
                                    "long_name": "Greco-Bactrian Kingdom",
                                    "polity_tag": "LEGACY",
                                    "polity_general_description": "The Greco-Bactrian Kingdom was a hereditary monarchy founded in the mid-3rd century BCE, probably by the Seleucid satrap Diodotus I,§REF§(Holt 1999, 51, 63) Holt, Frank Lee. 1999. Thundering Zeus: The Making of Hellenistic Bactria. Berkeley, CA: University of California Press. Seshat URL: <a href=\"https://www.zotero.org/groups/1051264/seshat_databank/items/itemKey/X4JIUZNR\">https://www.zotero.org/groups/1051264/seshat_databank/items/itemKey/X4JIUZNR</a> §REF§ as a successor kingdom of the Seleucid Empire. It came to an end when it was conquered by nomadic peoples who were being pushed further west by the rising power of a unified Chinese empire.§REF§(Bernard 2012, 42-52) Bernard, Paul. 2012. “Ai Khanum: A Greek Colony in Post-Alexandrian Central Asia, or How to Be Greek in an Oriental Milieu.” In Afghanistan: Forging Civilizations along the Silk Road, edited by Joan Aruz and Elisabetta Valtz Fino, 42-53. New York: Metropolitan Museum of Art. Seshat URL: <a href=\"https://www.zotero.org…",
                                    "polity_shapefile_name": "nan",
                                    "polity_unreliable_instability_events": "False",
                                    "nga_id": 23,
                                    "nga_name": "Sogdiana",
                                    "nga_subregion": "Turkestan",
                                    "nga_longitude": 66.93817,
                                    "nga_latitude": 39.631284,
                                    "nga_capital_city": "Samarkand",
                                    "nga_code": "UZ",
                                    "nga_fao_country": "Uzbekistan",
                                    "nga_world_region": "Central Eurasia",
                                    "seshat_region_id": 8,
                                    "seshat_region_name": "Afghanistan",
                                    "seshat_subregions_list": "Afghanistan",
                                    "seshat_mac_region": 3,
                                    "_deepnote_index_column": 284
                                },
                                {
                                    "id": 129,
                                    "name": "af_hephthalite_emp",
                                    "start_year": 408,
                                    "end_year": 561,
                                    "long_name": "Hephthalite Empire",
                                    "polity_tag": "LEGACY",
                                    "polity_general_description": "The Hepthalites were one group of a series of nomadic tribal confederations that are sometimes referred to as the White Huns. The evidence seems to indicate that they were a second wave of Hunnish migration. §REF§ <a class=\"external free\" href=\"http://en.unesco.org/silkroad/sites/silkroad/files/knowledgebankarticle/vol_III%20silk%20road_the%20hephthalite%20empire%20BIS.pdf\" rel=\"nofollow\">http://en.unesco.org/silkroad/sites/silkroad/files/knowledgebankarticle/vol_III%20silk%20road_the%20hephthalite%20empire%20BIS.pdf</a> p. 140  §REF§  Despite the name, some scholars think the White Huns were in fact not a Turkic people, but rather the easternmost group of Iranian nomads. §REF§  Docherty, Paddy. The Khyber Pass: a history of empire and invasion. Union Square Press, 2008. p. 105  §REF§ <br>At their peak territorial coverage the Hephthalite lands may have enclosed 26 million people but most subjects likely had a great deal of autonomy. As a nomadic confederation, the Hepthalites may not…",
                                    "polity_shapefile_name": "nan",
                                    "polity_unreliable_instability_events": "False",
                                    "nga_id": 23,
                                    "nga_name": "Sogdiana",
                                    "nga_subregion": "Turkestan",
                                    "nga_longitude": 66.93817,
                                    "nga_latitude": 39.631284,
                                    "nga_capital_city": "Samarkand",
                                    "nga_code": "UZ",
                                    "nga_fao_country": "Uzbekistan",
                                    "nga_world_region": "Central Eurasia",
                                    "seshat_region_id": 8,
                                    "seshat_region_name": "Afghanistan",
                                    "seshat_subregions_list": "Afghanistan",
                                    "seshat_mac_region": 3,
                                    "_deepnote_index_column": 308
                                },
                                {
                                    "id": 281,
                                    "name": "af_kidarite_k",
                                    "start_year": 388,
                                    "end_year": 477,
                                    "long_name": "Kidarite Kingdom",
                                    "polity_tag": "LEGACY",
                                    "polity_general_description": "The Kidarite state in Central Asia (~ 388-477 CE) may have lasted less than 100 years, but its earliest phase under the suzerainty of the Sassanid Empire is not well known. §REF§ (Zeimal 1996, 125) E. V. Zeimal. The Kidarite Kingdom In Central Asia. in Litvinsky, B. A. ed. and Iskender-Mochiri, I. ed. 1996. History of Civilizations of Central Asia. Volume III. The crossroads of civilizations: A.D. 250 to 750. pp.123-137. unesdoc.unesco.org/images/0010/001046/104612e.pdf §REF§  \"It has been suggested that they conquered K'ang-chu and Sogdiana in c. 300 but the literary sources have not yet been corroborated by the archaeological evidence.\" §REF§ (Zeimal 1996, 124-125) E V Zeimal. The Kidarite Kingdom In Central Asia. in Litvinsky, B. A. ed. and Iskender-Mochiri, I. ed. 1996. History of Civilizations of Central Asia. Volume III. The crossroads of civilizations: A.D. 250 to 750. pp.123-137. unesdoc.unesco.org/images/0010/001046/104612e.pdf §REF§ <br>The most influential ruler of the Kida…",
                                    "polity_shapefile_name": "nan",
                                    "polity_unreliable_instability_events": "False",
                                    "nga_id": 23,
                                    "nga_name": "Sogdiana",
                                    "nga_subregion": "Turkestan",
                                    "nga_longitude": 66.93817,
                                    "nga_latitude": 39.631284,
                                    "nga_capital_city": "Samarkand",
                                    "nga_code": "UZ",
                                    "nga_fao_country": "Uzbekistan",
                                    "nga_world_region": "Central Eurasia",
                                    "seshat_region_id": 8,
                                    "seshat_region_name": "Afghanistan",
                                    "seshat_subregions_list": "Afghanistan",
                                    "seshat_mac_region": 3,
                                    "_deepnote_index_column": 407
                                }
                            ],
                            "type": "dataframe"
                        },
                        "text/plain": "      id               name  start_year  end_year                long_name  \\\n0    132   iq_abbasid_cal_1         750       946      Abbasid Caliphate I   \n1    484   iq_abbasid_cal_2        1191      1258     Abbasid Caliphate II   \n2    107  ir_achaemenid_emp        -550      -331        Achaemenid Empire   \n3    637  so_adal_sultanate        1375      1543           Adal Sultanate   \n4    872    tn_aghlabid_dyn         800       908         Aghlabid Dynasty   \n..   ...                ...         ...       ...                      ...   \n857  227           et_zagwe        1137      1269                    Zagwe   \n858  231    dz_zayyanid_dyn        1235      1509  Zayyanid Berber Kingdom   \n859  222       tn_zirid_dyn         973      1148                   Zirids   \n860  444  mn_zungharian_emp        1670      1757        Zungharian Empire   \n861  668           ni_nri_k        1043      1911              Ọ̀ràézè Ǹrì   \n\n       polity_tag                         polity_general_description  \\\n0          LEGACY  In 750 CE, following a revolt, Abbasid rulers ...   \n1          LEGACY  The Second Abbasid Period (1191-1258 CE) was m...   \n2          LEGACY  The Achaemenid Empire was established by Cyrus...   \n3    POL_AFR_EAST  The Adal Sultanate was one of the earliest Isl...   \n4       OTHER_TAG                                                NaN   \n..            ...                                                ...   \n857        LEGACY                                                NaN   \n858        LEGACY                                                NaN   \n859        LEGACY                                                NaN   \n860        LEGACY  The Zungharian polity was, according to Atwood...   \n861  POL_AFR_WEST                                                NaN   \n\n    polity_shapefile_name  polity_unreliable_instability_events  nga_id  ...  \\\n0                     NaN                                 False     8.0  ...   \n1                     NaN                                 False     8.0  ...   \n2                     NaN                                 False     9.0  ...   \n3                     NaN                                 False     NaN  ...   \n4        Aghlabid Dynasty                                 False     NaN  ...   \n..                    ...                                   ...     ...  ...   \n857                   NaN                                 False     NaN  ...   \n858                   NaN                                 False     NaN  ...   \n859                   NaN                                 False     NaN  ...   \n860                   NaN                                 False    24.0  ...   \n861                   NaN                                 False     NaN  ...   \n\n    nga_longitude nga_latitude  nga_capital_city  nga_code nga_fao_country  \\\n0       44.420000    32.470000  Babylon (Hillah)        IQ            Iraq   \n1       44.420000    32.470000  Babylon (Hillah)        IQ            Iraq   \n2       48.235564    32.382851      Susa (Shush)        IR            Iran   \n3             NaN          NaN               NaN       NaN             NaN   \n4             NaN          NaN               NaN       NaN             NaN   \n..            ...          ...               ...       ...             ...   \n857           NaN          NaN               NaN       NaN             NaN   \n858           NaN          NaN               NaN       NaN             NaN   \n859           NaN          NaN               NaN       NaN             NaN   \n860    102.845486    47.200757         Karakorum        MN        Mongolia   \n861           NaN          NaN               NaN       NaN             NaN   \n\n    nga_world_region seshat_region_id seshat_region_name  \\\n0     Southwest Asia               62        Mesopotamia   \n1     Southwest Asia               62        Mesopotamia   \n2     Southwest Asia               45               Iran   \n3                NaN                2        East Africa   \n4                NaN                3            Maghreb   \n..               ...              ...                ...   \n857              NaN                2        East Africa   \n858              NaN                5              Sahel   \n859              NaN                3            Maghreb   \n860  Central Eurasia                9           Mongolia   \n861              NaN                7        West Africa   \n\n                                seshat_subregions_list seshat_mac_region  \n0                                         Iraq, Kuwait                11  \n1                                         Iraq, Kuwait                11  \n2                                                 Iran                11  \n3    Tanzania, Burundi, Uganda, So Sudan, Somalia, ...                 2  \n4                                From Morocco to Libya                 2  \n..                                                 ...               ...  \n857  Tanzania, Burundi, Uganda, So Sudan, Somalia, ...                 2  \n858  Mauritania, Mali, Burkina Faso, Niger, Chad (A...                 2  \n859                              From Morocco to Libya                 2  \n860  Mongolia, Inner Mongolia, the steppe part of M...                 3  \n861                   From Senegal to Gabon (Tropical)                 2  \n\n[862 rows x 22 columns]",
                        "text/html": "<div>\n<style scoped>\n    .dataframe tbody tr th:only-of-type {\n        vertical-align: middle;\n    }\n\n    .dataframe tbody tr th {\n        vertical-align: top;\n    }\n\n    .dataframe thead th {\n        text-align: right;\n    }\n</style>\n<table border=\"1\" class=\"dataframe\">\n  <thead>\n    <tr style=\"text-align: right;\">\n      <th></th>\n      <th>id</th>\n      <th>name</th>\n      <th>start_year</th>\n      <th>end_year</th>\n      <th>long_name</th>\n      <th>polity_tag</th>\n      <th>polity_general_description</th>\n      <th>polity_shapefile_name</th>\n      <th>polity_unreliable_instability_events</th>\n      <th>nga_id</th>\n      <th>...</th>\n      <th>nga_longitude</th>\n      <th>nga_latitude</th>\n      <th>nga_capital_city</th>\n      <th>nga_code</th>\n      <th>nga_fao_country</th>\n      <th>nga_world_region</th>\n      <th>seshat_region_id</th>\n      <th>seshat_region_name</th>\n      <th>seshat_subregions_list</th>\n      <th>seshat_mac_region</th>\n    </tr>\n  </thead>\n  <tbody>\n    <tr>\n      <th>0</th>\n      <td>132</td>\n      <td>iq_abbasid_cal_1</td>\n      <td>750</td>\n      <td>946</td>\n      <td>Abbasid Caliphate I</td>\n      <td>LEGACY</td>\n      <td>In 750 CE, following a revolt, Abbasid rulers ...</td>\n      <td>NaN</td>\n      <td>False</td>\n      <td>8.0</td>\n      <td>...</td>\n      <td>44.420000</td>\n      <td>32.470000</td>\n      <td>Babylon (Hillah)</td>\n      <td>IQ</td>\n      <td>Iraq</td>\n      <td>Southwest Asia</td>\n      <td>62</td>\n      <td>Mesopotamia</td>\n      <td>Iraq, Kuwait</td>\n      <td>11</td>\n    </tr>\n    <tr>\n      <th>1</th>\n      <td>484</td>\n      <td>iq_abbasid_cal_2</td>\n      <td>1191</td>\n      <td>1258</td>\n      <td>Abbasid Caliphate II</td>\n      <td>LEGACY</td>\n      <td>The Second Abbasid Period (1191-1258 CE) was m...</td>\n      <td>NaN</td>\n      <td>False</td>\n      <td>8.0</td>\n      <td>...</td>\n      <td>44.420000</td>\n      <td>32.470000</td>\n      <td>Babylon (Hillah)</td>\n      <td>IQ</td>\n      <td>Iraq</td>\n      <td>Southwest Asia</td>\n      <td>62</td>\n      <td>Mesopotamia</td>\n      <td>Iraq, Kuwait</td>\n      <td>11</td>\n    </tr>\n    <tr>\n      <th>2</th>\n      <td>107</td>\n      <td>ir_achaemenid_emp</td>\n      <td>-550</td>\n      <td>-331</td>\n      <td>Achaemenid Empire</td>\n      <td>LEGACY</td>\n      <td>The Achaemenid Empire was established by Cyrus...</td>\n      <td>NaN</td>\n      <td>False</td>\n      <td>9.0</td>\n      <td>...</td>\n      <td>48.235564</td>\n      <td>32.382851</td>\n      <td>Susa (Shush)</td>\n      <td>IR</td>\n      <td>Iran</td>\n      <td>Southwest Asia</td>\n      <td>45</td>\n      <td>Iran</td>\n      <td>Iran</td>\n      <td>11</td>\n    </tr>\n    <tr>\n      <th>3</th>\n      <td>637</td>\n      <td>so_adal_sultanate</td>\n      <td>1375</td>\n      <td>1543</td>\n      <td>Adal Sultanate</td>\n      <td>POL_AFR_EAST</td>\n      <td>The Adal Sultanate was one of the earliest Isl...</td>\n      <td>NaN</td>\n      <td>False</td>\n      <td>NaN</td>\n      <td>...</td>\n      <td>NaN</td>\n      <td>NaN</td>\n      <td>NaN</td>\n      <td>NaN</td>\n      <td>NaN</td>\n      <td>NaN</td>\n      <td>2</td>\n      <td>East Africa</td>\n      <td>Tanzania, Burundi, Uganda, So Sudan, Somalia, ...</td>\n      <td>2</td>\n    </tr>\n    <tr>\n      <th>4</th>\n      <td>872</td>\n      <td>tn_aghlabid_dyn</td>\n      <td>800</td>\n      <td>908</td>\n      <td>Aghlabid Dynasty</td>\n      <td>OTHER_TAG</td>\n      <td>NaN</td>\n      <td>Aghlabid Dynasty</td>\n      <td>False</td>\n      <td>NaN</td>\n      <td>...</td>\n      <td>NaN</td>\n      <td>NaN</td>\n      <td>NaN</td>\n      <td>NaN</td>\n      <td>NaN</td>\n      <td>NaN</td>\n      <td>3</td>\n      <td>Maghreb</td>\n      <td>From Morocco to Libya</td>\n      <td>2</td>\n    </tr>\n    <tr>\n      <th>...</th>\n      <td>...</td>\n      <td>...</td>\n      <td>...</td>\n      <td>...</td>\n      <td>...</td>\n      <td>...</td>\n      <td>...</td>\n      <td>...</td>\n      <td>...</td>\n      <td>...</td>\n      <td>...</td>\n      <td>...</td>\n      <td>...</td>\n      <td>...</td>\n      <td>...</td>\n      <td>...</td>\n      <td>...</td>\n      <td>...</td>\n      <td>...</td>\n      <td>...</td>\n      <td>...</td>\n    </tr>\n    <tr>\n      <th>857</th>\n      <td>227</td>\n      <td>et_zagwe</td>\n      <td>1137</td>\n      <td>1269</td>\n      <td>Zagwe</td>\n      <td>LEGACY</td>\n      <td>NaN</td>\n      <td>NaN</td>\n      <td>False</td>\n      <td>NaN</td>\n      <td>...</td>\n      <td>NaN</td>\n      <td>NaN</td>\n      <td>NaN</td>\n      <td>NaN</td>\n      <td>NaN</td>\n      <td>NaN</td>\n      <td>2</td>\n      <td>East Africa</td>\n      <td>Tanzania, Burundi, Uganda, So Sudan, Somalia, ...</td>\n      <td>2</td>\n    </tr>\n    <tr>\n      <th>858</th>\n      <td>231</td>\n      <td>dz_zayyanid_dyn</td>\n      <td>1235</td>\n      <td>1509</td>\n      <td>Zayyanid Berber Kingdom</td>\n      <td>LEGACY</td>\n      <td>NaN</td>\n      <td>NaN</td>\n      <td>False</td>\n      <td>NaN</td>\n      <td>...</td>\n      <td>NaN</td>\n      <td>NaN</td>\n      <td>NaN</td>\n      <td>NaN</td>\n      <td>NaN</td>\n      <td>NaN</td>\n      <td>5</td>\n      <td>Sahel</td>\n      <td>Mauritania, Mali, Burkina Faso, Niger, Chad (A...</td>\n      <td>2</td>\n    </tr>\n    <tr>\n      <th>859</th>\n      <td>222</td>\n      <td>tn_zirid_dyn</td>\n      <td>973</td>\n      <td>1148</td>\n      <td>Zirids</td>\n      <td>LEGACY</td>\n      <td>NaN</td>\n      <td>NaN</td>\n      <td>False</td>\n      <td>NaN</td>\n      <td>...</td>\n      <td>NaN</td>\n      <td>NaN</td>\n      <td>NaN</td>\n      <td>NaN</td>\n      <td>NaN</td>\n      <td>NaN</td>\n      <td>3</td>\n      <td>Maghreb</td>\n      <td>From Morocco to Libya</td>\n      <td>2</td>\n    </tr>\n    <tr>\n      <th>860</th>\n      <td>444</td>\n      <td>mn_zungharian_emp</td>\n      <td>1670</td>\n      <td>1757</td>\n      <td>Zungharian Empire</td>\n      <td>LEGACY</td>\n      <td>The Zungharian polity was, according to Atwood...</td>\n      <td>NaN</td>\n      <td>False</td>\n      <td>24.0</td>\n      <td>...</td>\n      <td>102.845486</td>\n      <td>47.200757</td>\n      <td>Karakorum</td>\n      <td>MN</td>\n      <td>Mongolia</td>\n      <td>Central Eurasia</td>\n      <td>9</td>\n      <td>Mongolia</td>\n      <td>Mongolia, Inner Mongolia, the steppe part of M...</td>\n      <td>3</td>\n    </tr>\n    <tr>\n      <th>861</th>\n      <td>668</td>\n      <td>ni_nri_k</td>\n      <td>1043</td>\n      <td>1911</td>\n      <td>Ọ̀ràézè Ǹrì</td>\n      <td>POL_AFR_WEST</td>\n      <td>NaN</td>\n      <td>NaN</td>\n      <td>False</td>\n      <td>NaN</td>\n      <td>...</td>\n      <td>NaN</td>\n      <td>NaN</td>\n      <td>NaN</td>\n      <td>NaN</td>\n      <td>NaN</td>\n      <td>NaN</td>\n      <td>7</td>\n      <td>West Africa</td>\n      <td>From Senegal to Gabon (Tropical)</td>\n      <td>2</td>\n    </tr>\n  </tbody>\n</table>\n<p>862 rows × 22 columns</p>\n</div>"
                    },
                    "metadata": {}
                }
            ],
            "outputs_reference": "s3:deepnote-cell-outputs-production/c6eabfa7-e358-4fd5-b65a-5d48d34fe15d",
            "content_dependencies": null
        },
        {
            "cell_type": "code",
            "metadata": {
                "source_hash": "38012082",
                "execution_start": 1749970441974,
                "execution_millis": 428,
                "deepnote_table_state": {
                    "sortBy": [],
                    "filters": [],
                    "pageSize": 10,
                    "pageIndex": 0,
                    "columnOrder": [
                        "id",
                        "name",
                        "start_year",
                        "end_year",
                        "long_name",
                        "polity_tag",
                        "general_description",
                        "shapefile_name",
                        "unreliable_instability_events",
                        "id_nga",
                        "name_nga",
                        "subregion",
                        "longitude",
                        "latitude",
                        "capital_city",
                        "nga_code",
                        "fao_country",
                        "world_region",
                        "id_region",
                        "name_region",
                        "subregions_list",
                        "mac_region"
                    ],
                    "hiddenColumnIds": [],
                    "columnDisplayNames": [
                        {
                            "columnName": "general_description",
                            "displayName": "polity_general_description"
                        },
                        {
                            "columnName": "shapefile_name",
                            "displayName": "polity_shapefile_name"
                        },
                        {
                            "columnName": "unreliable_instability_events",
                            "displayName": "polity_unreliable_instability_events"
                        },
                        {
                            "columnName": "id_nga",
                            "displayName": "nga_id"
                        },
                        {
                            "columnName": "name_nga",
                            "displayName": "nga_name"
                        },
                        {
                            "columnName": "subregion",
                            "displayName": "nga_subregion"
                        },
                        {
                            "columnName": "longitude",
                            "displayName": "nga_longitude"
                        },
                        {
                            "columnName": "latitude",
                            "displayName": "nga_latitude"
                        },
                        {
                            "columnName": "capital_city",
                            "displayName": "nga_capital_city"
                        },
                        {
                            "columnName": "fao_country",
                            "displayName": "nga_fao_country"
                        },
                        {
                            "columnName": "world_region",
                            "displayName": "nga_world_region"
                        },
                        {
                            "columnName": "id_region",
                            "displayName": "region_id"
                        },
                        {
                            "columnName": "name_region",
                            "displayName": "region_name"
                        }
                    ],
                    "conditionalFilters": [],
                    "cellFormattingRules": [],
                    "wrappedTextColumnIds": []
                },
                "execution_context_id": "e8ade8b8-ebd2-4091-bc75-cab5b65036fd",
                "deepnote_table_loading": false,
                "cell_id": "b661a362b62e4a3b84c2eaac3fcb743d",
                "deepnote_cell_type": "code"
            },
            "source": "polity_normal.to_csv(\"/work/ThesisP1/data/polity_normal.csv\")",
            "block_group": "52329d383e8a462aa1355a0139fe07ce",
            "execution_count": 25,
            "outputs": [],
            "outputs_reference": null,
            "content_dependencies": null
        },
        {
            "cell_type": "code",
            "metadata": {
                "source_hash": "25eecce1",
                "execution_start": 1749824255897,
                "execution_millis": 0,
                "execution_context_id": "9d99e7d6-4935-4147-87fa-8d492a9d0bcb",
                "cell_id": "7c5852ef7e1e4181b53ccc2b8c32b2a8",
                "deepnote_cell_type": "code"
            },
            "source": "# merge target vars with polity-region data\npower_raw = pd.merge(polity_normal, concenteration_expanded, on=[\"name\", \"start_year\", \"end_year\", \"long_name\", \"id\"], how = \"outer\")",
            "block_group": "66bceebe77aa440d816234ff9e8be011",
            "execution_count": 121,
            "outputs": [],
            "outputs_reference": null,
            "content_dependencies": null
        },
        {
            "cell_type": "code",
            "metadata": {
                "source_hash": "91a16742",
                "execution_start": 1749824258588,
                "execution_millis": 356,
                "execution_context_id": "9d99e7d6-4935-4147-87fa-8d492a9d0bcb",
                "cell_id": "a1be368b0ead4c5da972dc9f21c41cbb",
                "deepnote_cell_type": "code"
            },
            "source": "power_raw.drop([\"polity\",\"Unnamed: 0\"], axis = 1, inplace=True)\nsource_cols = [col for col in power_raw.columns if col.endswith('_name')]\nother_cols = [col for col in power_raw.columns if not col.endswith('_name')]\npower_raw = power_raw[other_cols + source_cols]\n\n# reminder: some further cleanup needed (merging _name cols?)\n# reminder: add geometry column\n# reminder: there are 236 rows that have missing values across all target_vars\n# reminder: clean variable names",
            "block_group": "8016f771632042d58fb2852073495a44",
            "execution_count": 124,
            "outputs": [],
            "outputs_reference": null,
            "content_dependencies": null
        },
        {
            "cell_type": "code",
            "metadata": {
                "source_hash": "7c144cd8",
                "execution_start": 1749882669708,
                "execution_millis": 54,
                "execution_context_id": "60d697f8-02a5-4267-8dce-715f563a3c18",
                "cell_id": "d95ff5298c254cbda01b168066df9df3",
                "deepnote_cell_type": "code"
            },
            "source": "power_raw.to_csv(\"/work/ThesisP1/data/power_raw.csv\", index = False) ",
            "block_group": "7c8a608c92b64d1a965afae55f5a6d76",
            "execution_count": 15,
            "outputs": [],
            "outputs_reference": null,
            "content_dependencies": null
        },
        {
            "cell_type": "code",
            "metadata": {
                "source_hash": "764e58df",
                "execution_start": 1749882675828,
                "execution_millis": 3272,
                "execution_context_id": "60d697f8-02a5-4267-8dce-715f563a3c18",
                "cell_id": "840d9e675e9f44af997b72eac022b4ee",
                "deepnote_cell_type": "code"
            },
            "source": "power_raw = pd.read_csv(\"/work/ThesisP1/data/power_raw.csv\")",
            "block_group": "00a1c6a5f1d3470b899b90046baaabd2",
            "execution_count": 18,
            "outputs": [],
            "outputs_reference": null,
            "content_dependencies": null
        },
        {
            "cell_type": "markdown",
            "metadata": {
                "formattedRanges": [],
                "cell_id": "87e6dd3e506a409f8f5cbac916c0035e",
                "deepnote_cell_type": "text-cell-h1"
            },
            "source": "# Temporal Intervals - West Asia",
            "block_group": "7f76595c54f947c7a3aeee11c996fee7"
        },
        {
            "cell_type": "code",
            "metadata": {
                "source_hash": "f9cae205",
                "execution_start": 1749982418347,
                "execution_millis": 0,
                "execution_context_id": "3db532ef-f1fb-425e-b1a0-6805c1bcc18f",
                "cell_id": "da09cc749a3e41d99825f6f8d95c4606",
                "deepnote_cell_type": "code"
            },
            "source": "# west asia polities\npolity_normal_wa = polity_normal[polity_normal[\"seshat_mac_region\"] == 11]",
            "block_group": "46fc74bea55c49fcb18c9d063c6cc89d",
            "execution_count": 202,
            "outputs": [],
            "outputs_reference": null,
            "content_dependencies": null
        },
        {
            "cell_type": "markdown",
            "metadata": {
                "formattedRanges": [],
                "cell_id": "f93d40232c95414b92e00ae527c4da77",
                "deepnote_cell_type": "text-cell-h1"
            },
            "source": "# Temporal Intervals",
            "block_group": "38f78ea060974a8faeb35dcb951ca359"
        },
        {
            "cell_type": "code",
            "metadata": {
                "source_hash": "b413a5d2",
                "execution_start": 1749982434718,
                "execution_millis": 10,
                "deepnote_table_state": {
                    "sortBy": [],
                    "filters": [],
                    "pageSize": 25,
                    "pageIndex": 0,
                    "columnOrder": [
                        "Seshat Region",
                        "Period",
                        "mean",
                        "polity_count",
                        "Average Interval (Polity Count)"
                    ],
                    "hiddenColumnIds": [],
                    "columnDisplayNames": [],
                    "conditionalFilters": [],
                    "cellFormattingRules": [],
                    "wrappedTextColumnIds": []
                },
                "execution_context_id": "3db532ef-f1fb-425e-b1a0-6805c1bcc18f",
                "deepnote_table_loading": false,
                "cell_id": "0eeb785cc9a847d581d070934bebacea",
                "deepnote_cell_type": "code"
            },
            "source": "# this block includes modified chatgpt-generated code\n\n# Step 1: Prepare the data\npolstart = polity_normal_wa[[\"start_year\", \"seshat_region_name\"]].dropna().sort_values(\"start_year\")\npolstart_periods = [-9600, -4200, -2300, 200, 2000]\n\n# Step 2: Bin start_year into custom periods\ncategories = pd.cut(polstart[\"start_year\"], bins=polstart_periods, right=True)\npolstart[\"period\"] = categories\n\ninterval_sum = {}\n\nfor (region, period), group in polstart.groupby([\"seshat_region_name\", \"period\"]):\n    years = group[\"start_year\"].sort_values()\n    intervals = years.diff().dropna()\n    polity_count = len(years)\n\n    if len(intervals) > 0:\n        mean_interval = round(intervals.mean())\n        note = f\"{polity_count} ({mean_interval})\"\n    else:\n        only_year = int(years.iloc[0])\n        note = f\"One polity in {only_year}\"\n\n    interval_sum[(region, period)] = {\n        'mean': mean_interval if len(intervals) > 0 else None,\n        'polity_count': polity_count,\n        'Polity Count (Average Interval)': note\n    }\n\n# Create summary DataFrame\ninterval_sum_df = pd.DataFrame.from_dict(interval_sum, orient='index')\ninterval_sum_df.index.names = ['Seshat Region', 'Period']\ninterval_sum_df.reset_index(inplace=True)\n\ninterval_sum_df",
            "block_group": "a2b39f755b4d46b09d26ac14dfe328d8",
            "execution_count": 208,
            "outputs": [
                {
                    "output_type": "execute_result",
                    "execution_count": 208,
                    "data": {
                        "application/vnd.deepnote.dataframe.v3+json": {
                            "column_count": 5,
                            "columns": [
                                {
                                    "name": "Seshat Region",
                                    "dtype": "object",
                                    "stats": {
                                        "unique_count": 5,
                                        "nan_count": 0,
                                        "min": null,
                                        "max": null,
                                        "histogram": null,
                                        "categories": [
                                            {
                                                "name": "Anatolia-Caucasus",
                                                "count": 4
                                            },
                                            {
                                                "name": "Iran",
                                                "count": 4
                                            },
                                            {
                                                "name": "3 others",
                                                "count": 9
                                            }
                                        ]
                                    }
                                },
                                {
                                    "name": "Period",
                                    "dtype": "interval[int64, right]",
                                    "stats": {
                                        "unique_count": 3,
                                        "nan_count": 0,
                                        "min": null,
                                        "max": null,
                                        "histogram": null,
                                        "categories": [
                                            {
                                                "name": "(-2300, 200]",
                                                "count": 5
                                            },
                                            {
                                                "name": "(200, 2000]",
                                                "count": 5
                                            },
                                            {
                                                "name": "2 others",
                                                "count": 7
                                            }
                                        ]
                                    }
                                },
                                {
                                    "name": "mean",
                                    "dtype": "float64",
                                    "stats": {
                                        "unique_count": 14,
                                        "nan_count": 2,
                                        "min": "78.0",
                                        "max": "3500.0",
                                        "histogram": [
                                            {
                                                "bin_start": 78,
                                                "bin_end": 420.2,
                                                "count": 9
                                            },
                                            {
                                                "bin_start": 420.2,
                                                "bin_end": 762.4,
                                                "count": 4
                                            },
                                            {
                                                "bin_start": 762.4,
                                                "bin_end": 1104.6,
                                                "count": 1
                                            },
                                            {
                                                "bin_start": 1104.6,
                                                "bin_end": 1446.8,
                                                "count": 0
                                            },
                                            {
                                                "bin_start": 1446.8,
                                                "bin_end": 1789,
                                                "count": 0
                                            },
                                            {
                                                "bin_start": 1789,
                                                "bin_end": 2131.2,
                                                "count": 0
                                            },
                                            {
                                                "bin_start": 2131.2,
                                                "bin_end": 2473.4,
                                                "count": 0
                                            },
                                            {
                                                "bin_start": 2473.4,
                                                "bin_end": 2815.6,
                                                "count": 0
                                            },
                                            {
                                                "bin_start": 2815.6,
                                                "bin_end": 3157.7999999999997,
                                                "count": 0
                                            },
                                            {
                                                "bin_start": 3157.7999999999997,
                                                "bin_end": 3500,
                                                "count": 1
                                            }
                                        ],
                                        "categories": null
                                    }
                                },
                                {
                                    "name": "polity_count",
                                    "dtype": "int64",
                                    "stats": {
                                        "unique_count": 11,
                                        "nan_count": 0,
                                        "min": "1",
                                        "max": "22",
                                        "histogram": [
                                            {
                                                "bin_start": 1,
                                                "bin_end": 3.1,
                                                "count": 6
                                            },
                                            {
                                                "bin_start": 3.1,
                                                "bin_end": 5.2,
                                                "count": 3
                                            },
                                            {
                                                "bin_start": 5.2,
                                                "bin_end": 7.300000000000001,
                                                "count": 1
                                            },
                                            {
                                                "bin_start": 7.300000000000001,
                                                "bin_end": 9.4,
                                                "count": 1
                                            },
                                            {
                                                "bin_start": 9.4,
                                                "bin_end": 11.5,
                                                "count": 2
                                            },
                                            {
                                                "bin_start": 11.5,
                                                "bin_end": 13.600000000000001,
                                                "count": 1
                                            },
                                            {
                                                "bin_start": 13.600000000000001,
                                                "bin_end": 15.700000000000001,
                                                "count": 1
                                            },
                                            {
                                                "bin_start": 15.700000000000001,
                                                "bin_end": 17.8,
                                                "count": 1
                                            },
                                            {
                                                "bin_start": 17.8,
                                                "bin_end": 19.900000000000002,
                                                "count": 0
                                            },
                                            {
                                                "bin_start": 19.900000000000002,
                                                "bin_end": 22,
                                                "count": 1
                                            }
                                        ],
                                        "categories": null
                                    }
                                },
                                {
                                    "name": "Polity Count (Average Interval)",
                                    "dtype": "object",
                                    "stats": {
                                        "unique_count": 17,
                                        "nan_count": 0,
                                        "min": null,
                                        "max": null,
                                        "histogram": null,
                                        "categories": [
                                            {
                                                "name": "4 (500)",
                                                "count": 1
                                            },
                                            {
                                                "name": "One polity in -3000",
                                                "count": 1
                                            },
                                            {
                                                "name": "15 others",
                                                "count": 15
                                            }
                                        ]
                                    }
                                },
                                {
                                    "name": "_deepnote_index_column",
                                    "dtype": "int64"
                                }
                            ],
                            "row_count": 17,
                            "preview_row_count": 17,
                            "rows": [
                                {
                                    "Seshat Region": "Anatolia-Caucasus",
                                    "Period": "(-9600, -4200]",
                                    "mean": 500,
                                    "polity_count": 4,
                                    "Polity Count (Average Interval)": "4 (500)",
                                    "_deepnote_index_column": 0
                                },
                                {
                                    "Seshat Region": "Anatolia-Caucasus",
                                    "Period": "(-4200, -2300]",
                                    "mean": "nan",
                                    "polity_count": 1,
                                    "Polity Count (Average Interval)": "One polity in -3000",
                                    "_deepnote_index_column": 1
                                },
                                {
                                    "Seshat Region": "Anatolia-Caucasus",
                                    "Period": "(-2300, 200]",
                                    "mean": 151,
                                    "polity_count": 13,
                                    "Polity Count (Average Interval)": "13 (151)",
                                    "_deepnote_index_column": 2
                                },
                                {
                                    "Seshat Region": "Anatolia-Caucasus",
                                    "Period": "(200, 2000]",
                                    "mean": 78,
                                    "polity_count": 22,
                                    "Polity Count (Average Interval)": "22 (78)",
                                    "_deepnote_index_column": 3
                                },
                                {
                                    "Seshat Region": "Arabia",
                                    "Period": "(-4200, -2300]",
                                    "mean": "nan",
                                    "polity_count": 1,
                                    "Polity Count (Average Interval)": "One polity in -3500",
                                    "_deepnote_index_column": 4
                                },
                                {
                                    "Seshat Region": "Arabia",
                                    "Period": "(-2300, 200]",
                                    "mean": 363,
                                    "polity_count": 4,
                                    "Polity Count (Average Interval)": "4 (363)",
                                    "_deepnote_index_column": 5
                                },
                                {
                                    "Seshat Region": "Arabia",
                                    "Period": "(200, 2000]",
                                    "mean": 114,
                                    "polity_count": 14,
                                    "Polity Count (Average Interval)": "14 (114)",
                                    "_deepnote_index_column": 6
                                },
                                {
                                    "Seshat Region": "Iran",
                                    "Period": "(-9600, -4200]",
                                    "mean": 500,
                                    "polity_count": 8,
                                    "Polity Count (Average Interval)": "8 (500)",
                                    "_deepnote_index_column": 7
                                },
                                {
                                    "Seshat Region": "Iran",
                                    "Period": "(-4200, -2300]",
                                    "mean": 562,
                                    "polity_count": 3,
                                    "Polity Count (Average Interval)": "3 (562)",
                                    "_deepnote_index_column": 8
                                },
                                {
                                    "Seshat Region": "Iran",
                                    "Period": "(-2300, 200]",
                                    "mean": 129,
                                    "polity_count": 17,
                                    "Polity Count (Average Interval)": "17 (129)",
                                    "_deepnote_index_column": 9
                                },
                                {
                                    "Seshat Region": "Iran",
                                    "Period": "(200, 2000]",
                                    "mean": 172,
                                    "polity_count": 11,
                                    "Polity Count (Average Interval)": "11 (172)",
                                    "_deepnote_index_column": 10
                                },
                                {
                                    "Seshat Region": "Levant",
                                    "Period": "(-2300, 200]",
                                    "mean": 372,
                                    "polity_count": 6,
                                    "Polity Count (Average Interval)": "6 (372)",
                                    "_deepnote_index_column": 11
                                },
                                {
                                    "Seshat Region": "Levant",
                                    "Period": "(200, 2000]",
                                    "mean": 231,
                                    "polity_count": 4,
                                    "Polity Count (Average Interval)": "4 (231)",
                                    "_deepnote_index_column": 12
                                },
                                {
                                    "Seshat Region": "Mesopotamia",
                                    "Period": "(-9600, -4200]",
                                    "mean": 3500,
                                    "polity_count": 2,
                                    "Polity Count (Average Interval)": "2 (3500)",
                                    "_deepnote_index_column": 13
                                },
                                {
                                    "Seshat Region": "Mesopotamia",
                                    "Period": "(-4200, -2300]",
                                    "mean": 1100,
                                    "polity_count": 2,
                                    "Polity Count (Average Interval)": "2 (1100)",
                                    "_deepnote_index_column": 14
                                },
                                {
                                    "Seshat Region": "Mesopotamia",
                                    "Period": "(-2300, 200]",
                                    "mean": 164,
                                    "polity_count": 11,
                                    "Polity Count (Average Interval)": "11 (164)",
                                    "_deepnote_index_column": 15
                                },
                                {
                                    "Seshat Region": "Mesopotamia",
                                    "Period": "(200, 2000]",
                                    "mean": 604,
                                    "polity_count": 3,
                                    "Polity Count (Average Interval)": "3 (604)",
                                    "_deepnote_index_column": 16
                                }
                            ],
                            "type": "dataframe"
                        },
                        "text/plain": "        Seshat Region          Period    mean  polity_count  \\\n0   Anatolia-Caucasus  (-9600, -4200]   500.0             4   \n1   Anatolia-Caucasus  (-4200, -2300]     NaN             1   \n2   Anatolia-Caucasus    (-2300, 200]   151.0            13   \n3   Anatolia-Caucasus     (200, 2000]    78.0            22   \n4              Arabia  (-4200, -2300]     NaN             1   \n5              Arabia    (-2300, 200]   363.0             4   \n6              Arabia     (200, 2000]   114.0            14   \n7                Iran  (-9600, -4200]   500.0             8   \n8                Iran  (-4200, -2300]   562.0             3   \n9                Iran    (-2300, 200]   129.0            17   \n10               Iran     (200, 2000]   172.0            11   \n11             Levant    (-2300, 200]   372.0             6   \n12             Levant     (200, 2000]   231.0             4   \n13        Mesopotamia  (-9600, -4200]  3500.0             2   \n14        Mesopotamia  (-4200, -2300]  1100.0             2   \n15        Mesopotamia    (-2300, 200]   164.0            11   \n16        Mesopotamia     (200, 2000]   604.0             3   \n\n   Polity Count (Average Interval)  \n0                          4 (500)  \n1              One polity in -3000  \n2                         13 (151)  \n3                          22 (78)  \n4              One polity in -3500  \n5                          4 (363)  \n6                         14 (114)  \n7                          8 (500)  \n8                          3 (562)  \n9                         17 (129)  \n10                        11 (172)  \n11                         6 (372)  \n12                         4 (231)  \n13                        2 (3500)  \n14                        2 (1100)  \n15                        11 (164)  \n16                         3 (604)  ",
                        "text/html": "<div>\n<style scoped>\n    .dataframe tbody tr th:only-of-type {\n        vertical-align: middle;\n    }\n\n    .dataframe tbody tr th {\n        vertical-align: top;\n    }\n\n    .dataframe thead th {\n        text-align: right;\n    }\n</style>\n<table border=\"1\" class=\"dataframe\">\n  <thead>\n    <tr style=\"text-align: right;\">\n      <th></th>\n      <th>Seshat Region</th>\n      <th>Period</th>\n      <th>mean</th>\n      <th>polity_count</th>\n      <th>Polity Count (Average Interval)</th>\n    </tr>\n  </thead>\n  <tbody>\n    <tr>\n      <th>0</th>\n      <td>Anatolia-Caucasus</td>\n      <td>(-9600, -4200]</td>\n      <td>500.0</td>\n      <td>4</td>\n      <td>4 (500)</td>\n    </tr>\n    <tr>\n      <th>1</th>\n      <td>Anatolia-Caucasus</td>\n      <td>(-4200, -2300]</td>\n      <td>NaN</td>\n      <td>1</td>\n      <td>One polity in -3000</td>\n    </tr>\n    <tr>\n      <th>2</th>\n      <td>Anatolia-Caucasus</td>\n      <td>(-2300, 200]</td>\n      <td>151.0</td>\n      <td>13</td>\n      <td>13 (151)</td>\n    </tr>\n    <tr>\n      <th>3</th>\n      <td>Anatolia-Caucasus</td>\n      <td>(200, 2000]</td>\n      <td>78.0</td>\n      <td>22</td>\n      <td>22 (78)</td>\n    </tr>\n    <tr>\n      <th>4</th>\n      <td>Arabia</td>\n      <td>(-4200, -2300]</td>\n      <td>NaN</td>\n      <td>1</td>\n      <td>One polity in -3500</td>\n    </tr>\n    <tr>\n      <th>5</th>\n      <td>Arabia</td>\n      <td>(-2300, 200]</td>\n      <td>363.0</td>\n      <td>4</td>\n      <td>4 (363)</td>\n    </tr>\n    <tr>\n      <th>6</th>\n      <td>Arabia</td>\n      <td>(200, 2000]</td>\n      <td>114.0</td>\n      <td>14</td>\n      <td>14 (114)</td>\n    </tr>\n    <tr>\n      <th>7</th>\n      <td>Iran</td>\n      <td>(-9600, -4200]</td>\n      <td>500.0</td>\n      <td>8</td>\n      <td>8 (500)</td>\n    </tr>\n    <tr>\n      <th>8</th>\n      <td>Iran</td>\n      <td>(-4200, -2300]</td>\n      <td>562.0</td>\n      <td>3</td>\n      <td>3 (562)</td>\n    </tr>\n    <tr>\n      <th>9</th>\n      <td>Iran</td>\n      <td>(-2300, 200]</td>\n      <td>129.0</td>\n      <td>17</td>\n      <td>17 (129)</td>\n    </tr>\n    <tr>\n      <th>10</th>\n      <td>Iran</td>\n      <td>(200, 2000]</td>\n      <td>172.0</td>\n      <td>11</td>\n      <td>11 (172)</td>\n    </tr>\n    <tr>\n      <th>11</th>\n      <td>Levant</td>\n      <td>(-2300, 200]</td>\n      <td>372.0</td>\n      <td>6</td>\n      <td>6 (372)</td>\n    </tr>\n    <tr>\n      <th>12</th>\n      <td>Levant</td>\n      <td>(200, 2000]</td>\n      <td>231.0</td>\n      <td>4</td>\n      <td>4 (231)</td>\n    </tr>\n    <tr>\n      <th>13</th>\n      <td>Mesopotamia</td>\n      <td>(-9600, -4200]</td>\n      <td>3500.0</td>\n      <td>2</td>\n      <td>2 (3500)</td>\n    </tr>\n    <tr>\n      <th>14</th>\n      <td>Mesopotamia</td>\n      <td>(-4200, -2300]</td>\n      <td>1100.0</td>\n      <td>2</td>\n      <td>2 (1100)</td>\n    </tr>\n    <tr>\n      <th>15</th>\n      <td>Mesopotamia</td>\n      <td>(-2300, 200]</td>\n      <td>164.0</td>\n      <td>11</td>\n      <td>11 (164)</td>\n    </tr>\n    <tr>\n      <th>16</th>\n      <td>Mesopotamia</td>\n      <td>(200, 2000]</td>\n      <td>604.0</td>\n      <td>3</td>\n      <td>3 (604)</td>\n    </tr>\n  </tbody>\n</table>\n</div>"
                    },
                    "metadata": {}
                }
            ],
            "outputs_reference": "s3:deepnote-cell-outputs-production/039c0200-1675-42cb-bc33-3bc85215bfc8",
            "content_dependencies": null
        },
        {
            "cell_type": "code",
            "metadata": {
                "allow_embed": "output",
                "source_hash": "faaf90fc",
                "execution_start": 1749982556438,
                "execution_millis": 18,
                "execution_context_id": "3db532ef-f1fb-425e-b1a0-6805c1bcc18f",
                "cell_id": "cd7b3fe5a628492cb9d4119a5e44c6e3",
                "deepnote_cell_type": "code"
            },
            "source": "interval_clean = interval_sum_df.pivot(index='Seshat Region', columns='Period', values='Polity Count (Average Interval)')\ninterval_clean = interval_clean.fillna('No polity')\nperiod_names = {\n    \"(-9600, -4200]\": \"[9600 BCE, 4200 BCE)\",\n    \"(-4200, -2300]\": \"(4200 BCE, 2300 BCE]\",\n    \"(-2300, 200]\": \"(2300 BCE, 200 CE]\",\n    \"(200, 2000]\": \"(200 CE, 2000 CE]\"\n}\ninterval_clean = interval_clean.rename(columns=period_names)\ninterval_clean.reset_index(drop=True, inplace=True)",
            "block_group": "914a78534d904683921c7aee8c5168d9",
            "execution_count": 217,
            "outputs": [],
            "outputs_reference": null,
            "content_dependencies": null
        },
        {
            "cell_type": "code",
            "metadata": {
                "source_hash": "e950d791",
                "execution_start": 1749982568787,
                "execution_millis": 171,
                "execution_context_id": "3db532ef-f1fb-425e-b1a0-6805c1bcc18f",
                "cell_id": "ebd08fe3ec654750b67a35b36a63b771",
                "deepnote_cell_type": "code"
            },
            "source": "interval_clean.to_csv(\"interval_clean.csv\", index = False)",
            "block_group": "be834ba99b7649ecad1a114fb8f2e666",
            "execution_count": 220,
            "outputs": [],
            "outputs_reference": null,
            "content_dependencies": null
        },
        {
            "cell_type": "code",
            "metadata": {
                "cell_id": "eabf2f5ff7f54ed5b8ed7930dfb859e6",
                "deepnote_cell_type": "code"
            },
            "source": "interval_clean = pd.read_csv(\"interval_clean.csv\")",
            "block_group": "5a6299cf1c2e4dc5926d39ee90452b95",
            "execution_count": null,
            "outputs": [],
            "outputs_reference": null,
            "content_dependencies": null
        },
        {
            "cell_type": "code",
            "metadata": {
                "allow_embed": "output",
                "source_hash": "1fbd1b4c",
                "execution_start": 1749985215558,
                "execution_millis": 1,
                "execution_context_id": "3db532ef-f1fb-425e-b1a0-6805c1bcc18f",
                "cell_id": "5afcce676fb2444887a69a7dfb128d3e",
                "deepnote_cell_type": "code"
            },
            "source": "# this block includes modified chatgpt-generated code\n\nstyled_table = interval_clean.style.hide(axis='index').set_table_styles([\n    {'selector': 'table', 'props': [\n        ('border', 'none'),\n        ('border-collapse', 'collapse')\n    ]},\n    {'selector': 'caption', 'props': [\n        ('font-family', '\"Times New Roman\", Times, serif'),\n        ('font-size', '16px'),\n        ('font-style', 'italic'),\n        ('text-align', 'left'),\n        ('padding', '8px 0')\n    ]},\n    {'selector': 'thead th', 'props': [\n        ('font-family', '\"Times New Roman\", Times, serif'),\n        ('font-size', '16px'),\n        ('font-weight', 'bold'),\n        ('text-align', 'center'),\n        ('border-bottom', '1px solid lightgray'),\n        ('background-color', 'white'),\n        ('padding', '8')\n    ]},\n    {'selector': 'thead th:first-child', 'props': [\n        ('text-align', 'left')\n    ]},\n    {'selector': 'tbody td', 'props': [\n        ('font-family', '\"Times New Roman\", Times, serif'),\n        ('font-size', '16px'),\n        ('padding', '8'),\n        ('text-align', 'center'),\n        ('border', 'none'),\n        ('background-color', 'white')\n    ]},\n    {'selector': 'tbody td:first-child', 'props': [\n        ('text-align', 'left')\n    ]}\n], overwrite=True).set_caption(\"Polity Count and Average Interval (in years) between Polities, per Period\")\n\nstyled_table\n",
            "block_group": "35b79dcee8a14a42bbd040dd8fd02387",
            "execution_count": 301,
            "outputs": [
                {
                    "output_type": "execute_result",
                    "execution_count": 301,
                    "data": {
                        "text/plain": "<pandas.io.formats.style.Styler at 0x7efec8010f50>",
                        "text/html": "<style type=\"text/css\">\n#T_a1e27 table {\n  border: none;\n  border-collapse: collapse;\n}\n#T_a1e27 caption {\n  font-family: \"Times New Roman\", Times, serif;\n  font-size: 16px;\n  font-style: italic;\n  text-align: left;\n  padding: 8px 0;\n}\n#T_a1e27 thead th {\n  font-family: \"Times New Roman\", Times, serif;\n  font-size: 16px;\n  font-weight: bold;\n  text-align: center;\n  border-bottom: 1px solid lightgray;\n  background-color: white;\n  padding: 8;\n}\n#T_a1e27 thead th:first-child {\n  text-align: left;\n}\n#T_a1e27 tbody td {\n  font-family: \"Times New Roman\", Times, serif;\n  font-size: 16px;\n  padding: 8;\n  text-align: center;\n  border: none;\n  background-color: white;\n}\n#T_a1e27 tbody td:first-child {\n  text-align: left;\n}\n</style>\n<table id=\"T_a1e27\">\n  <caption>Polity Count and Average Interval (in years) between Polities, per Period</caption>\n  <thead>\n    <tr>\n      <th id=\"T_a1e27_level0_col0\" class=\"col_heading level0 col0\" >Seshat Region</th>\n      <th id=\"T_a1e27_level0_col1\" class=\"col_heading level0 col1\" >[9600 BCE, 4200 BCE)</th>\n      <th id=\"T_a1e27_level0_col2\" class=\"col_heading level0 col2\" >(4200 BCE, 2300 BCE]</th>\n      <th id=\"T_a1e27_level0_col3\" class=\"col_heading level0 col3\" >(2300 BCE, 200 CE]</th>\n      <th id=\"T_a1e27_level0_col4\" class=\"col_heading level0 col4\" >(200 CE, 2000 CE]</th>\n    </tr>\n  </thead>\n  <tbody>\n    <tr>\n      <td id=\"T_a1e27_row0_col0\" class=\"data row0 col0\" >Anatolia-Caucasus</td>\n      <td id=\"T_a1e27_row0_col1\" class=\"data row0 col1\" >500 (4)</td>\n      <td id=\"T_a1e27_row0_col2\" class=\"data row0 col2\" >One polity in -3000</td>\n      <td id=\"T_a1e27_row0_col3\" class=\"data row0 col3\" >151 (13)</td>\n      <td id=\"T_a1e27_row0_col4\" class=\"data row0 col4\" >78 (22)</td>\n    </tr>\n    <tr>\n      <td id=\"T_a1e27_row1_col0\" class=\"data row1 col0\" >Arabia</td>\n      <td id=\"T_a1e27_row1_col1\" class=\"data row1 col1\" >No polity</td>\n      <td id=\"T_a1e27_row1_col2\" class=\"data row1 col2\" >One polity in -3500</td>\n      <td id=\"T_a1e27_row1_col3\" class=\"data row1 col3\" >363 (4)</td>\n      <td id=\"T_a1e27_row1_col4\" class=\"data row1 col4\" >114 (14)</td>\n    </tr>\n    <tr>\n      <td id=\"T_a1e27_row2_col0\" class=\"data row2 col0\" >Iran</td>\n      <td id=\"T_a1e27_row2_col1\" class=\"data row2 col1\" >500 (8)</td>\n      <td id=\"T_a1e27_row2_col2\" class=\"data row2 col2\" >562 (3)</td>\n      <td id=\"T_a1e27_row2_col3\" class=\"data row2 col3\" >129 (17)</td>\n      <td id=\"T_a1e27_row2_col4\" class=\"data row2 col4\" >172 (11)</td>\n    </tr>\n    <tr>\n      <td id=\"T_a1e27_row3_col0\" class=\"data row3 col0\" >Levant</td>\n      <td id=\"T_a1e27_row3_col1\" class=\"data row3 col1\" >No polity</td>\n      <td id=\"T_a1e27_row3_col2\" class=\"data row3 col2\" >No polity</td>\n      <td id=\"T_a1e27_row3_col3\" class=\"data row3 col3\" >372 (6)</td>\n      <td id=\"T_a1e27_row3_col4\" class=\"data row3 col4\" >231 (4)</td>\n    </tr>\n    <tr>\n      <td id=\"T_a1e27_row4_col0\" class=\"data row4 col0\" >Mesopotamia</td>\n      <td id=\"T_a1e27_row4_col1\" class=\"data row4 col1\" >3500 (2)</td>\n      <td id=\"T_a1e27_row4_col2\" class=\"data row4 col2\" >1100 (2)</td>\n      <td id=\"T_a1e27_row4_col3\" class=\"data row4 col3\" >164 (11)</td>\n      <td id=\"T_a1e27_row4_col4\" class=\"data row4 col4\" >604 (3)</td>\n    </tr>\n  </tbody>\n</table>\n"
                    },
                    "metadata": {}
                }
            ],
            "outputs_reference": "s3:deepnote-cell-outputs-production/12afeef6-bbcd-447f-a938-9a148a18bfe4",
            "content_dependencies": null
        },
        {
            "cell_type": "markdown",
            "source": "<a style='text-decoration:none;line-height:16px;display:flex;color:#5B5B62;padding:10px;justify-content:end;' href='https://deepnote.com?utm_source=created-in-deepnote-cell&projectId=5d7c084c-ccac-4a11-8892-8e2f6a069ef0' target=\"_blank\">\n<img alt='Created in deepnote.com' style='display:inline;max-height:16px;margin:0px;margin-right:7.5px;' src='data:image/svg+xml;base64,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' > </img>\nCreated in <span style='font-weight:600;margin-left:4px;'>Deepnote</span></a>",
            "metadata": {
                "created_in_deepnote_cell": true,
                "deepnote_cell_type": "markdown"
            }
        }
    ],
    "nbformat": 4,
    "nbformat_minor": 0,
    "metadata": {
        "deepnote_persisted_session": {
            "createdAt": "2025-06-15T08:29:14.687Z"
        },
        "deepnote_full_width": true,
        "deepnote_notebook_id": "273af453a336495489bdaa44a4fed564"
    }
}