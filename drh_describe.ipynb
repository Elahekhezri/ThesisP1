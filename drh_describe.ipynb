{
    "cells": [
        {
            "cell_type": "code",
            "metadata": {
                "source_hash": "11d115a9",
                "execution_start": 1750024708636,
                "execution_millis": 3,
                "execution_context_id": "c2758218-32bc-47e0-a392-446e3d889611",
                "cell_id": "9155f156c126447ea4ccf623b84e7e57",
                "deepnote_cell_type": "code"
            },
            "source": "import pandas as pd\nimport plotly.graph_objects as go",
            "block_group": "9155f156c126447ea4ccf623b84e7e57",
            "execution_count": 123,
            "outputs": [],
            "outputs_reference": null,
            "content_dependencies": null
        },
        {
            "cell_type": "code",
            "metadata": {
                "source_hash": "b4c03283",
                "execution_start": 1750024712137,
                "execution_millis": 3965,
                "execution_context_id": "c2758218-32bc-47e0-a392-446e3d889611",
                "cell_id": "f4a7bae849024f1fa9c248d47dccc367",
                "deepnote_cell_type": "code"
            },
            "source": "answerset_wa = pd.read_csv(\"/work/ThesisP1/data/answerset_wa.csv\") # DRH entries for west asia\n\n# reminder: upload west asia subsetting code\n# reminder: decision for egypt",
            "block_group": "d2d20e450f8849c78250a006fa012eec",
            "execution_count": 126,
            "outputs": [],
            "outputs_reference": null,
            "content_dependencies": null
        },
        {
            "cell_type": "code",
            "metadata": {
                "source_hash": "78dc5c8c",
                "execution_start": 1750024719230,
                "execution_millis": 1,
                "execution_context_id": "c2758218-32bc-47e0-a392-446e3d889611",
                "cell_id": "69433d1ceb694aa884cc21cb952c11fa",
                "deepnote_cell_type": "code"
            },
            "source": "answerset_wa[\"branching_question\"].value_counts()",
            "block_group": "d5222ae0654b4385b878ab1355c27eab",
            "execution_count": 129,
            "outputs": [
                {
                    "output_type": "execute_result",
                    "execution_count": 129,
                    "data": {
                        "text/plain": "branching_question\nNon-elite (common people, general populace), Religious Specialists, Elite    33704\nReligious Specialists, Elite                                                 20198\nNon-elite (common people, general populace)                                   3874\nReligious Specialists                                                         3186\nNon-elite (common people, general populace), Religious Specialists            2693\nNon-elite (common people, general populace), Elite                            1786\nElite                                                                          993\nName: count, dtype: int64"
                    },
                    "metadata": {}
                }
            ],
            "outputs_reference": "dbtable:cell_outputs/57b6eda9-792d-4b16-bf9f-b2906973100f",
            "content_dependencies": null
        },
        {
            "cell_type": "code",
            "metadata": {
                "source_hash": "e867a210",
                "execution_start": 1750024728569,
                "execution_millis": 5,
                "execution_context_id": "c2758218-32bc-47e0-a392-446e3d889611",
                "cell_id": "dfed2c90484244cb84ec7ef27db68895",
                "deepnote_cell_type": "code"
            },
            "source": "len(answerset_wa.loc[answerset_wa[\"poll_name\"].str.contains(\"Place\"), \"entry_name\"].unique())",
            "block_group": "c7d3e201d933470580931ec4b5010d51",
            "execution_count": 132,
            "outputs": [
                {
                    "output_type": "execute_result",
                    "execution_count": 132,
                    "data": {
                        "text/plain": "73"
                    },
                    "metadata": {}
                }
            ],
            "outputs_reference": "dbtable:cell_outputs/06b98367-2504-4d72-8a25-c05813e8c713",
            "content_dependencies": null
        },
        {
            "cell_type": "code",
            "metadata": {
                "source_hash": "7076ff60",
                "execution_start": 1750005938577,
                "execution_millis": 63,
                "execution_context_id": "152d02d1-c214-4a64-8eab-1d7815e35cb6",
                "cell_id": "b3504defda9e43f383756bc9b06b0397",
                "deepnote_cell_type": "code"
            },
            "source": "# parent question IDs for \"is supernatural monitoring present\" in group, text, and place: \n## 2890, 4954, 6599, 8135, 8137, 8705\n# answer value for absence of monitoring = 0\n\nmonitoring_wa = answerset_wa.loc[\n    (answerset_wa[\"parent_question_id\"].isin([2890, 4954, 6599, 8135, 8137, 8705])) &\n    (answerset_wa[\"parent_answer_value\"] != 0) &\n    (answerset_wa[\"parent_answer_value\"].notna())\n]\nmonitoring_wa",
            "block_group": "f279f298498042adb5a3865a19d1a44b",
            "execution_count": 76,
            "outputs": [
                {
                    "output_type": "execute_result",
                    "execution_count": 76,
                    "data": {
                        "application/vnd.deepnote.dataframe.v3+json": {
                            "column_count": 29,
                            "columns": [
                                {
                                    "name": "Unnamed: 0",
                                    "dtype": "int64",
                                    "stats": {
                                        "unique_count": 1588,
                                        "nan_count": 0,
                                        "min": "8642",
                                        "max": "369250",
                                        "histogram": [
                                            {
                                                "bin_start": 8642,
                                                "bin_end": 44702.8,
                                                "count": 61
                                            },
                                            {
                                                "bin_start": 44702.8,
                                                "bin_end": 80763.6,
                                                "count": 21
                                            },
                                            {
                                                "bin_start": 80763.6,
                                                "bin_end": 116824.40000000001,
                                                "count": 105
                                            },
                                            {
                                                "bin_start": 116824.40000000001,
                                                "bin_end": 152885.2,
                                                "count": 142
                                            },
                                            {
                                                "bin_start": 152885.2,
                                                "bin_end": 188946,
                                                "count": 186
                                            },
                                            {
                                                "bin_start": 188946,
                                                "bin_end": 225006.80000000002,
                                                "count": 332
                                            },
                                            {
                                                "bin_start": 225006.80000000002,
                                                "bin_end": 261067.60000000003,
                                                "count": 164
                                            },
                                            {
                                                "bin_start": 261067.60000000003,
                                                "bin_end": 297128.4,
                                                "count": 148
                                            },
                                            {
                                                "bin_start": 297128.4,
                                                "bin_end": 333189.2,
                                                "count": 159
                                            },
                                            {
                                                "bin_start": 333189.2,
                                                "bin_end": 369250,
                                                "count": 270
                                            }
                                        ],
                                        "categories": null
                                    }
                                },
                                {
                                    "name": "region_id",
                                    "dtype": "float64",
                                    "stats": {
                                        "unique_count": 75,
                                        "nan_count": 0,
                                        "min": "44.0",
                                        "max": "2477.0",
                                        "histogram": [
                                            {
                                                "bin_start": 44,
                                                "bin_end": 287.3,
                                                "count": 50
                                            },
                                            {
                                                "bin_start": 287.3,
                                                "bin_end": 530.6,
                                                "count": 218
                                            },
                                            {
                                                "bin_start": 530.6,
                                                "bin_end": 773.9000000000001,
                                                "count": 40
                                            },
                                            {
                                                "bin_start": 773.9000000000001,
                                                "bin_end": 1017.2,
                                                "count": 1
                                            },
                                            {
                                                "bin_start": 1017.2,
                                                "bin_end": 1260.5,
                                                "count": 126
                                            },
                                            {
                                                "bin_start": 1260.5,
                                                "bin_end": 1503.8000000000002,
                                                "count": 214
                                            },
                                            {
                                                "bin_start": 1503.8000000000002,
                                                "bin_end": 1747.1000000000001,
                                                "count": 154
                                            },
                                            {
                                                "bin_start": 1747.1000000000001,
                                                "bin_end": 1990.4,
                                                "count": 337
                                            },
                                            {
                                                "bin_start": 1990.4,
                                                "bin_end": 2233.7000000000003,
                                                "count": 169
                                            },
                                            {
                                                "bin_start": 2233.7000000000003,
                                                "bin_end": 2477,
                                                "count": 279
                                            }
                                        ],
                                        "categories": null
                                    }
                                },
                                {
                                    "name": "region_name",
                                    "dtype": "object",
                                    "stats": {
                                        "unique_count": 75,
                                        "nan_count": 0,
                                        "min": null,
                                        "max": null,
                                        "histogram": null,
                                        "categories": [
                                            {
                                                "name": "Mesopotamia2",
                                                "count": 111
                                            },
                                            {
                                                "name": "Levant",
                                                "count": 50
                                            },
                                            {
                                                "name": "73 others",
                                                "count": 1427
                                            }
                                        ]
                                    }
                                },
                                {
                                    "name": "region_description",
                                    "dtype": "object",
                                    "stats": {
                                        "unique_count": 74,
                                        "nan_count": 0,
                                        "min": null,
                                        "max": null,
                                        "histogram": null,
                                        "categories": [
                                            {
                                                "name": "Mesopotamia",
                                                "count": 111
                                            },
                                            {
                                                "name": "Levant",
                                                "count": 78
                                            },
                                            {
                                                "name": "72 others",
                                                "count": 1399
                                            }
                                        ]
                                    }
                                },
                                {
                                    "name": "world_region",
                                    "dtype": "object",
                                    "stats": {
                                        "unique_count": 2,
                                        "nan_count": 0,
                                        "min": null,
                                        "max": null,
                                        "histogram": null,
                                        "categories": [
                                            {
                                                "name": "Southwest Asia",
                                                "count": 1578
                                            },
                                            {
                                                "name": "Central Eurasia",
                                                "count": 10
                                            }
                                        ]
                                    }
                                },
                                {
                                    "name": "question_name",
                                    "dtype": "object",
                                    "stats": {
                                        "unique_count": 59,
                                        "nan_count": 0,
                                        "min": null,
                                        "max": null,
                                        "histogram": null,
                                        "categories": [
                                            {
                                                "name": "Supernatural beings care about sex:",
                                                "count": 39
                                            },
                                            {
                                                "name": "There is supernatural monitoring of prosocial norm adherence in particular",
                                                "count": 38
                                            },
                                            {
                                                "name": "57 others",
                                                "count": 1511
                                            }
                                        ]
                                    }
                                },
                                {
                                    "name": "answer",
                                    "dtype": "object",
                                    "stats": {
                                        "unique_count": 53,
                                        "nan_count": 0,
                                        "min": null,
                                        "max": null,
                                        "histogram": null,
                                        "categories": [
                                            {
                                                "name": "Yes",
                                                "count": 888
                                            },
                                            {
                                                "name": "No",
                                                "count": 427
                                            },
                                            {
                                                "name": "51 others",
                                                "count": 273
                                            }
                                        ]
                                    }
                                },
                                {
                                    "name": "answer_value",
                                    "dtype": "float64",
                                    "stats": {
                                        "unique_count": 3,
                                        "nan_count": 0,
                                        "min": "-1.0",
                                        "max": "1.0",
                                        "histogram": [
                                            {
                                                "bin_start": -1,
                                                "bin_end": -0.8,
                                                "count": 201
                                            },
                                            {
                                                "bin_start": -0.8,
                                                "bin_end": -0.6,
                                                "count": 0
                                            },
                                            {
                                                "bin_start": -0.6,
                                                "bin_end": -0.3999999999999999,
                                                "count": 0
                                            },
                                            {
                                                "bin_start": -0.3999999999999999,
                                                "bin_end": -0.19999999999999996,
                                                "count": 0
                                            },
                                            {
                                                "bin_start": -0.19999999999999996,
                                                "bin_end": 0,
                                                "count": 0
                                            },
                                            {
                                                "bin_start": 0,
                                                "bin_end": 0.20000000000000018,
                                                "count": 435
                                            },
                                            {
                                                "bin_start": 0.20000000000000018,
                                                "bin_end": 0.40000000000000013,
                                                "count": 0
                                            },
                                            {
                                                "bin_start": 0.40000000000000013,
                                                "bin_end": 0.6000000000000001,
                                                "count": 0
                                            },
                                            {
                                                "bin_start": 0.6000000000000001,
                                                "bin_end": 0.8,
                                                "count": 0
                                            },
                                            {
                                                "bin_start": 0.8,
                                                "bin_end": 1,
                                                "count": 952
                                            }
                                        ],
                                        "categories": null
                                    }
                                },
                                {
                                    "name": "notes",
                                    "dtype": "object",
                                    "stats": {
                                        "unique_count": 276,
                                        "nan_count": 1242,
                                        "min": null,
                                        "max": null,
                                        "histogram": null,
                                        "categories": [
                                            {
                                                "name": "Not mentioned in this text.",
                                                "count": 14
                                            },
                                            {
                                                "name": "275 others",
                                                "count": 332
                                            },
                                            {
                                                "name": "Missing",
                                                "count": 1242
                                            }
                                        ]
                                    }
                                },
                                {
                                    "name": "parent_question_id",
                                    "dtype": "float64",
                                    "stats": {
                                        "unique_count": 6,
                                        "nan_count": 0,
                                        "min": "2890.0",
                                        "max": "8705.0",
                                        "histogram": [
                                            {
                                                "bin_start": 2890,
                                                "bin_end": 3471.5,
                                                "count": 60
                                            },
                                            {
                                                "bin_start": 3471.5,
                                                "bin_end": 4053,
                                                "count": 0
                                            },
                                            {
                                                "bin_start": 4053,
                                                "bin_end": 4634.5,
                                                "count": 0
                                            },
                                            {
                                                "bin_start": 4634.5,
                                                "bin_end": 5216,
                                                "count": 471
                                            },
                                            {
                                                "bin_start": 5216,
                                                "bin_end": 5797.5,
                                                "count": 0
                                            },
                                            {
                                                "bin_start": 5797.5,
                                                "bin_end": 6379,
                                                "count": 0
                                            },
                                            {
                                                "bin_start": 6379,
                                                "bin_end": 6960.5,
                                                "count": 101
                                            },
                                            {
                                                "bin_start": 6960.5,
                                                "bin_end": 7542,
                                                "count": 0
                                            },
                                            {
                                                "bin_start": 7542,
                                                "bin_end": 8123.5,
                                                "count": 0
                                            },
                                            {
                                                "bin_start": 8123.5,
                                                "bin_end": 8705,
                                                "count": 956
                                            }
                                        ],
                                        "categories": null
                                    }
                                },
                                {
                                    "name": "parent_question",
                                    "dtype": "object",
                                    "stats": {
                                        "unique_count": 3,
                                        "nan_count": 0,
                                        "min": null,
                                        "max": null,
                                        "histogram": null,
                                        "categories": [
                                            {
                                                "name": "Is supernatural monitoring present in the text?",
                                                "count": 858
                                            },
                                            {
                                                "name": "Is supernatural monitoring present:",
                                                "count": 650
                                            },
                                            {
                                                "name": "Do expectations of ritual offerings play a role in supernatural monitoring?",
                                                "count": 80
                                            }
                                        ]
                                    }
                                },
                                {
                                    "name": "parent_answer",
                                    "dtype": "object",
                                    "stats": {
                                        "unique_count": 18,
                                        "nan_count": 0,
                                        "min": null,
                                        "max": null,
                                        "histogram": null,
                                        "categories": [
                                            {
                                                "name": "Yes",
                                                "count": 1081
                                            },
                                            {
                                                "name": "I don't know",
                                                "count": 194
                                            },
                                            {
                                                "name": "16 others",
                                                "count": 313
                                            }
                                        ]
                                    }
                                },
                                {
                                    "name": "parent_answer_value",
                                    "dtype": "float64",
                                    "stats": {
                                        "unique_count": 4,
                                        "nan_count": 0,
                                        "min": "-1.0",
                                        "max": "9.0",
                                        "histogram": [
                                            {
                                                "bin_start": -1,
                                                "bin_end": 0,
                                                "count": 384
                                            },
                                            {
                                                "bin_start": 0,
                                                "bin_end": 1,
                                                "count": 0
                                            },
                                            {
                                                "bin_start": 1,
                                                "bin_end": 2,
                                                "count": 1159
                                            },
                                            {
                                                "bin_start": 2,
                                                "bin_end": 3,
                                                "count": 0
                                            },
                                            {
                                                "bin_start": 3,
                                                "bin_end": 4,
                                                "count": 0
                                            },
                                            {
                                                "bin_start": 4,
                                                "bin_end": 5,
                                                "count": 0
                                            },
                                            {
                                                "bin_start": 5,
                                                "bin_end": 6,
                                                "count": 0
                                            },
                                            {
                                                "bin_start": 6,
                                                "bin_end": 7,
                                                "count": 0
                                            },
                                            {
                                                "bin_start": 7,
                                                "bin_end": 8,
                                                "count": 22
                                            },
                                            {
                                                "bin_start": 8,
                                                "bin_end": 9,
                                                "count": 23
                                            }
                                        ],
                                        "categories": null
                                    }
                                },
                                {
                                    "name": "entry_id",
                                    "dtype": "float64",
                                    "stats": {
                                        "unique_count": 83,
                                        "nan_count": 0,
                                        "min": "300.0",
                                        "max": "2435.0",
                                        "histogram": [
                                            {
                                                "bin_start": 300,
                                                "bin_end": 513.5,
                                                "count": 60
                                            },
                                            {
                                                "bin_start": 513.5,
                                                "bin_end": 727,
                                                "count": 1
                                            },
                                            {
                                                "bin_start": 727,
                                                "bin_end": 940.5,
                                                "count": 21
                                            },
                                            {
                                                "bin_start": 940.5,
                                                "bin_end": 1154,
                                                "count": 105
                                            },
                                            {
                                                "bin_start": 1154,
                                                "bin_end": 1367.5,
                                                "count": 223
                                            },
                                            {
                                                "bin_start": 1367.5,
                                                "bin_end": 1581,
                                                "count": 244
                                            },
                                            {
                                                "bin_start": 1581,
                                                "bin_end": 1794.5,
                                                "count": 240
                                            },
                                            {
                                                "bin_start": 1794.5,
                                                "bin_end": 2008,
                                                "count": 161
                                            },
                                            {
                                                "bin_start": 2008,
                                                "bin_end": 2221.5,
                                                "count": 263
                                            },
                                            {
                                                "bin_start": 2221.5,
                                                "bin_end": 2435,
                                                "count": 270
                                            }
                                        ],
                                        "categories": null
                                    }
                                },
                                {
                                    "name": "entry_name",
                                    "dtype": "object",
                                    "stats": {
                                        "unique_count": 83,
                                        "nan_count": 0,
                                        "min": null,
                                        "max": null,
                                        "histogram": null,
                                        "categories": [
                                            {
                                                "name": "Targums",
                                                "count": 30
                                            },
                                            {
                                                "name": "Mustafa Sabri, Mawqif al-ʿAql",
                                                "count": 30
                                            },
                                            {
                                                "name": "81 others",
                                                "count": 1528
                                            }
                                        ]
                                    }
                                },
                                {
                                    "name": "poll_id",
                                    "dtype": "float64",
                                    "stats": {
                                        "unique_count": 5,
                                        "nan_count": 0,
                                        "min": "35.0",
                                        "max": "53.0",
                                        "histogram": [
                                            {
                                                "bin_start": 35,
                                                "bin_end": 36.8,
                                                "count": 60
                                            },
                                            {
                                                "bin_start": 36.8,
                                                "bin_end": 38.6,
                                                "count": 0
                                            },
                                            {
                                                "bin_start": 38.6,
                                                "bin_end": 40.4,
                                                "count": 0
                                            },
                                            {
                                                "bin_start": 40.4,
                                                "bin_end": 42.2,
                                                "count": 0
                                            },
                                            {
                                                "bin_start": 42.2,
                                                "bin_end": 44,
                                                "count": 471
                                            },
                                            {
                                                "bin_start": 44,
                                                "bin_end": 45.8,
                                                "count": 0
                                            },
                                            {
                                                "bin_start": 45.8,
                                                "bin_end": 47.6,
                                                "count": 0
                                            },
                                            {
                                                "bin_start": 47.6,
                                                "bin_end": 49.4,
                                                "count": 0
                                            },
                                            {
                                                "bin_start": 49.4,
                                                "bin_end": 51.2,
                                                "count": 101
                                            },
                                            {
                                                "bin_start": 51.2,
                                                "bin_end": 53,
                                                "count": 956
                                            }
                                        ],
                                        "categories": null
                                    }
                                },
                                {
                                    "name": "poll_name",
                                    "dtype": "object",
                                    "stats": {
                                        "unique_count": 5,
                                        "nan_count": 0,
                                        "min": null,
                                        "max": null,
                                        "histogram": null,
                                        "categories": [
                                            {
                                                "name": "Religious Text (v1.0)",
                                                "count": 938
                                            },
                                            {
                                                "name": "Religious Group (v6)",
                                                "count": 471
                                            },
                                            {
                                                "name": "3 others",
                                                "count": 179
                                            }
                                        ]
                                    }
                                },
                                {
                                    "name": "year_from",
                                    "dtype": "float64",
                                    "stats": {
                                        "unique_count": 72,
                                        "nan_count": 0,
                                        "min": "-2300.0",
                                        "max": "1979.0",
                                        "histogram": [
                                            {
                                                "bin_start": -2300,
                                                "bin_end": -1872.1,
                                                "count": 133
                                            },
                                            {
                                                "bin_start": -1872.1,
                                                "bin_end": -1444.2,
                                                "count": 81
                                            },
                                            {
                                                "bin_start": -1444.2,
                                                "bin_end": -1016.3000000000002,
                                                "count": 101
                                            },
                                            {
                                                "bin_start": -1016.3000000000002,
                                                "bin_end": -588.4000000000001,
                                                "count": 242
                                            },
                                            {
                                                "bin_start": -588.4000000000001,
                                                "bin_end": -160.5,
                                                "count": 96
                                            },
                                            {
                                                "bin_start": -160.5,
                                                "bin_end": 267.39999999999964,
                                                "count": 270
                                            },
                                            {
                                                "bin_start": 267.39999999999964,
                                                "bin_end": 695.2999999999997,
                                                "count": 200
                                            },
                                            {
                                                "bin_start": 695.2999999999997,
                                                "bin_end": 1123.1999999999998,
                                                "count": 279
                                            },
                                            {
                                                "bin_start": 1123.1999999999998,
                                                "bin_end": 1551.1,
                                                "count": 69
                                            },
                                            {
                                                "bin_start": 1551.1,
                                                "bin_end": 1979,
                                                "count": 117
                                            }
                                        ],
                                        "categories": null
                                    }
                                },
                                {
                                    "name": "year_to",
                                    "dtype": "float64",
                                    "stats": {
                                        "unique_count": 61,
                                        "nan_count": 0,
                                        "min": "-1800.0",
                                        "max": "2024.0",
                                        "histogram": [
                                            {
                                                "bin_start": -1800,
                                                "bin_end": -1417.6,
                                                "count": 133
                                            },
                                            {
                                                "bin_start": -1417.6,
                                                "bin_end": -1035.2,
                                                "count": 58
                                            },
                                            {
                                                "bin_start": -1035.2,
                                                "bin_end": -652.8000000000002,
                                                "count": 31
                                            },
                                            {
                                                "bin_start": -652.8000000000002,
                                                "bin_end": -270.4000000000001,
                                                "count": 253
                                            },
                                            {
                                                "bin_start": -270.4000000000001,
                                                "bin_end": 112,
                                                "count": 258
                                            },
                                            {
                                                "bin_start": 112,
                                                "bin_end": 494.39999999999964,
                                                "count": 118
                                            },
                                            {
                                                "bin_start": 494.39999999999964,
                                                "bin_end": 876.7999999999997,
                                                "count": 156
                                            },
                                            {
                                                "bin_start": 876.7999999999997,
                                                "bin_end": 1259.1999999999998,
                                                "count": 154
                                            },
                                            {
                                                "bin_start": 1259.1999999999998,
                                                "bin_end": 1641.6,
                                                "count": 104
                                            },
                                            {
                                                "bin_start": 1641.6,
                                                "bin_end": 2024,
                                                "count": 323
                                            }
                                        ],
                                        "categories": null
                                    }
                                },
                                {
                                    "name": "branching_question",
                                    "dtype": "object",
                                    "stats": {
                                        "unique_count": 7,
                                        "nan_count": 0,
                                        "min": null,
                                        "max": null,
                                        "histogram": null,
                                        "categories": [
                                            {
                                                "name": "Non-elite (common people, general populace), Religious Specialists, Elite",
                                                "count": 834
                                            },
                                            {
                                                "name": "Religious Specialists, Elite",
                                                "count": 563
                                            },
                                            {
                                                "name": "5 others",
                                                "count": 191
                                            }
                                        ]
                                    }
                                },
                                {
                                    "name": "expert_id",
                                    "dtype": "float64",
                                    "stats": {
                                        "unique_count": 55,
                                        "nan_count": 0,
                                        "min": "26.0",
                                        "max": "1609.0",
                                        "histogram": [
                                            {
                                                "bin_start": 26,
                                                "bin_end": 184.3,
                                                "count": 9
                                            },
                                            {
                                                "bin_start": 184.3,
                                                "bin_end": 342.6,
                                                "count": 30
                                            },
                                            {
                                                "bin_start": 342.6,
                                                "bin_end": 500.90000000000003,
                                                "count": 21
                                            },
                                            {
                                                "bin_start": 500.90000000000003,
                                                "bin_end": 659.2,
                                                "count": 1
                                            },
                                            {
                                                "bin_start": 659.2,
                                                "bin_end": 817.5,
                                                "count": 114
                                            },
                                            {
                                                "bin_start": 817.5,
                                                "bin_end": 975.8000000000001,
                                                "count": 42
                                            },
                                            {
                                                "bin_start": 975.8000000000001,
                                                "bin_end": 1134.1000000000001,
                                                "count": 302
                                            },
                                            {
                                                "bin_start": 1134.1000000000001,
                                                "bin_end": 1292.4,
                                                "count": 550
                                            },
                                            {
                                                "bin_start": 1292.4,
                                                "bin_end": 1450.7,
                                                "count": 207
                                            },
                                            {
                                                "bin_start": 1450.7,
                                                "bin_end": 1609,
                                                "count": 312
                                            }
                                        ],
                                        "categories": null
                                    }
                                },
                                {
                                    "name": "expert_name",
                                    "dtype": "object",
                                    "stats": {
                                        "unique_count": 58,
                                        "nan_count": 0,
                                        "min": null,
                                        "max": null,
                                        "histogram": null,
                                        "categories": [
                                            {
                                                "name": "Ali Makhlabi",
                                                "count": 249
                                            },
                                            {
                                                "name": "Bou Ali Malika",
                                                "count": 104
                                            },
                                            {
                                                "name": "56 others",
                                                "count": 1235
                                            }
                                        ]
                                    }
                                },
                                {
                                    "name": "editor_id",
                                    "dtype": "float64",
                                    "stats": {
                                        "unique_count": 13,
                                        "nan_count": 0,
                                        "min": "1.0",
                                        "max": "59.0",
                                        "histogram": [
                                            {
                                                "bin_start": 1,
                                                "bin_end": 6.8,
                                                "count": 11
                                            },
                                            {
                                                "bin_start": 6.8,
                                                "bin_end": 12.6,
                                                "count": 9
                                            },
                                            {
                                                "bin_start": 12.6,
                                                "bin_end": 18.4,
                                                "count": 92
                                            },
                                            {
                                                "bin_start": 18.4,
                                                "bin_end": 24.2,
                                                "count": 0
                                            },
                                            {
                                                "bin_start": 24.2,
                                                "bin_end": 30,
                                                "count": 0
                                            },
                                            {
                                                "bin_start": 30,
                                                "bin_end": 35.8,
                                                "count": 0
                                            },
                                            {
                                                "bin_start": 35.8,
                                                "bin_end": 41.6,
                                                "count": 84
                                            },
                                            {
                                                "bin_start": 41.6,
                                                "bin_end": 47.4,
                                                "count": 39
                                            },
                                            {
                                                "bin_start": 47.4,
                                                "bin_end": 53.199999999999996,
                                                "count": 689
                                            },
                                            {
                                                "bin_start": 53.199999999999996,
                                                "bin_end": 59,
                                                "count": 664
                                            }
                                        ],
                                        "categories": null
                                    }
                                },
                                {
                                    "name": "editor_name",
                                    "dtype": "object",
                                    "stats": {
                                        "unique_count": 13,
                                        "nan_count": 0,
                                        "min": null,
                                        "max": null,
                                        "histogram": null,
                                        "categories": [
                                            {
                                                "name": "Andrew Danielson",
                                                "count": 523
                                            },
                                            {
                                                "name": "Julian Weideman",
                                                "count": 450
                                            },
                                            {
                                                "name": "11 others",
                                                "count": 615
                                            }
                                        ]
                                    }
                                },
                                {
                                    "name": "date_published",
                                    "dtype": "object",
                                    "stats": {
                                        "unique_count": 85,
                                        "nan_count": 0,
                                        "min": null,
                                        "max": null,
                                        "histogram": null,
                                        "categories": [
                                            {
                                                "name": "2022-08-04 17:41:52.365065216",
                                                "count": 30
                                            },
                                            {
                                                "name": "2022-12-03 22:54:11.805144064",
                                                "count": 30
                                            },
                                            {
                                                "name": "83 others",
                                                "count": 1528
                                            }
                                        ]
                                    }
                                },
                                {
                                    "name": "date_created",
                                    "dtype": "object",
                                    "stats": {
                                        "unique_count": 1588,
                                        "nan_count": 0,
                                        "min": null,
                                        "max": null,
                                        "histogram": null,
                                        "categories": [
                                            {
                                                "name": "2019-07-09 17:41:46.459012864",
                                                "count": 1
                                            },
                                            {
                                                "name": "2019-07-09 17:41:46.436983040",
                                                "count": 1
                                            },
                                            {
                                                "name": "1586 others",
                                                "count": 1586
                                            }
                                        ]
                                    }
                                },
                                {
                                    "name": "date_modified",
                                    "dtype": "object",
                                    "stats": {
                                        "unique_count": 164,
                                        "nan_count": 0,
                                        "min": null,
                                        "max": null,
                                        "histogram": null,
                                        "categories": [
                                            {
                                                "name": "2022-08-04 17:41:52.365075200",
                                                "count": 30
                                            },
                                            {
                                                "name": "2022-12-03 22:54:11.805152768",
                                                "count": 30
                                            },
                                            {
                                                "name": "162 others",
                                                "count": 1528
                                            }
                                        ]
                                    }
                                },
                                {
                                    "name": "gis_region",
                                    "dtype": "object",
                                    "stats": {
                                        "unique_count": 74,
                                        "nan_count": 1,
                                        "min": null,
                                        "max": null,
                                        "histogram": null,
                                        "categories": [
                                            {
                                                "name": "MULTIPOLYGON(((38.8916015625 32.086298124757825,38.4521484375 33.63657478501983,39.814453125 35.73224462518019,42.7587890625 37.35618621809302,45.1318359375 36.83039248060384,46.8017578125 35.41054286699108,48.603515625 30.09191030464371,46.0986328125 28.983156512576706,38.8916015625 32.086298124757825)))",
                                                "count": 111
                                            },
                                            {
                                                "name": "73 others",
                                                "count": 1476
                                            },
                                            {
                                                "name": "Missing",
                                                "count": 1
                                            }
                                        ]
                                    }
                                },
                                {
                                    "name": "question_id",
                                    "dtype": "float64",
                                    "stats": {
                                        "unique_count": 32,
                                        "nan_count": 0,
                                        "min": "2861.0",
                                        "max": "5515.0",
                                        "histogram": [
                                            {
                                                "bin_start": 2861,
                                                "bin_end": 3126.4,
                                                "count": 1421
                                            },
                                            {
                                                "bin_start": 3126.4,
                                                "bin_end": 3391.8,
                                                "count": 0
                                            },
                                            {
                                                "bin_start": 3391.8,
                                                "bin_end": 3657.2,
                                                "count": 0
                                            },
                                            {
                                                "bin_start": 3657.2,
                                                "bin_end": 3922.6,
                                                "count": 0
                                            },
                                            {
                                                "bin_start": 3922.6,
                                                "bin_end": 4188,
                                                "count": 0
                                            },
                                            {
                                                "bin_start": 4188,
                                                "bin_end": 4453.4,
                                                "count": 0
                                            },
                                            {
                                                "bin_start": 4453.4,
                                                "bin_end": 4718.799999999999,
                                                "count": 0
                                            },
                                            {
                                                "bin_start": 4718.799999999999,
                                                "bin_end": 4984.2,
                                                "count": 0
                                            },
                                            {
                                                "bin_start": 4984.2,
                                                "bin_end": 5249.6,
                                                "count": 0
                                            },
                                            {
                                                "bin_start": 5249.6,
                                                "bin_end": 5515,
                                                "count": 167
                                            }
                                        ],
                                        "categories": null
                                    }
                                },
                                {
                                    "name": "_deepnote_index_column",
                                    "dtype": "int64"
                                }
                            ],
                            "row_count": 1588,
                            "preview_row_count": 1588,
                            "rows": [
                                {
                                    "Unnamed: 0": 8642,
                                    "region_id": 44,
                                    "region_name": "Levant",
                                    "region_description": "Levant",
                                    "world_region": "Southwest Asia",
                                    "question_name": "Supernatural beings care about murder of members of other religions:",
                                    "answer": "No",
                                    "answer_value": 0,
                                    "notes": "Many examples of Israelite gods killing out-group people, or urging them to be killed (e.g. Exod 12:29; 2 Kings 17:25-26). This stems from gods being seen as only or primarily concerned with their worshipers (Finkelstein and Silberman 2001: 12).",
                                    "parent_question_id": 2890,
                                    "parent_question": "Is supernatural monitoring present:",
                                    "parent_answer": "Yes",
                                    "parent_answer_value": 1,
                                    "entry_id": 300,
                                    "entry_name": "Israelite Religion",
                                    "poll_id": 35,
                                    "poll_name": "Religious Group (v5)",
                                    "year_from": -1200,
                                    "year_to": -515,
                                    "branching_question": "Non-elite (common people, general populace)",
                                    "expert_id": 207,
                                    "expert_name": "Conn Herriott",
                                    "editor_id": 14,
                                    "editor_name": "Conn Herriott",
                                    "date_published": "2016-02-29 06:00:00.000000000",
                                    "date_created": "2019-07-09 17:41:46.459012864",
                                    "date_modified": "2019-07-09 17:41:46.459032064",
                                    "gis_region": "MULTIPOLYGON(((35.270233154297 33.43276977539,35.995330810547 33.23501586914,35.050506591797 29.49966430664,34.083709716797 31.16958618164,34.061737060547 31.21353149414,35.270233154297 33.43276977539)))",
                                    "question_id": 2861,
                                    "_deepnote_index_column": 1119
                                },
                                {
                                    "Unnamed: 0": 8644,
                                    "region_id": 44,
                                    "region_name": "Levant",
                                    "region_description": "Levant",
                                    "world_region": "Southwest Asia",
                                    "question_name": "Supernatural beings care about murder of coreligionists:",
                                    "answer": "Yes",
                                    "answer_value": 1,
                                    "notes": "However, at times this is condoned, ordered or directed carried out by Yahweh (1 Samuel 25:38; 2 Kings 2:23-24; 2 Chronicles 13:20). If we believe Jer. 19:4-6, the god Baal accepted human sacrifices of Israelites by their fathers (Zevit 2001: 549).",
                                    "parent_question_id": 2890,
                                    "parent_question": "Is supernatural monitoring present:",
                                    "parent_answer": "Yes",
                                    "parent_answer_value": 1,
                                    "entry_id": 300,
                                    "entry_name": "Israelite Religion",
                                    "poll_id": 35,
                                    "poll_name": "Religious Group (v5)",
                                    "year_from": -1200,
                                    "year_to": -515,
                                    "branching_question": "Non-elite (common people, general populace)",
                                    "expert_id": 207,
                                    "expert_name": "Conn Herriott",
                                    "editor_id": 14,
                                    "editor_name": "Conn Herriott",
                                    "date_published": "2016-02-29 06:00:00.000000000",
                                    "date_created": "2019-07-09 17:41:46.436983040",
                                    "date_modified": "2019-07-09 17:41:46.437001984",
                                    "gis_region": "MULTIPOLYGON(((35.270233154297 33.43276977539,35.995330810547 33.23501586914,35.050506591797 29.49966430664,34.083709716797 31.16958618164,34.061737060547 31.21353149414,35.270233154297 33.43276977539)))",
                                    "question_id": 2883,
                                    "_deepnote_index_column": 1121
                                },
                                {
                                    "Unnamed: 0": 8645,
                                    "region_id": 44,
                                    "region_name": "Levant",
                                    "region_description": "Levant",
                                    "world_region": "Southwest Asia",
                                    "question_name": "Supernatural beings care about honouring oaths:",
                                    "answer": "Yes",
                                    "answer_value": 1,
                                    "notes": "e.g. Proverbs 18:5. More broadly, the Israelites were bound to Yahweh through the covenant made between him and Moses on Mount Sinai.",
                                    "parent_question_id": 2890,
                                    "parent_question": "Is supernatural monitoring present:",
                                    "parent_answer": "Yes",
                                    "parent_answer_value": 1,
                                    "entry_id": 300,
                                    "entry_name": "Israelite Religion",
                                    "poll_id": 35,
                                    "poll_name": "Religious Group (v5)",
                                    "year_from": -1200,
                                    "year_to": -515,
                                    "branching_question": "Non-elite (common people, general populace)",
                                    "expert_id": 207,
                                    "expert_name": "Conn Herriott",
                                    "editor_id": 14,
                                    "editor_name": "Conn Herriott",
                                    "date_published": "2016-02-29 06:00:00.000000000",
                                    "date_created": "2019-07-09 17:41:46.620729856",
                                    "date_modified": "2019-07-09 17:41:46.620749056",
                                    "gis_region": "MULTIPOLYGON(((35.270233154297 33.43276977539,35.995330810547 33.23501586914,35.050506591797 29.49966430664,34.083709716797 31.16958618164,34.061737060547 31.21353149414,35.270233154297 33.43276977539)))",
                                    "question_id": 2887,
                                    "_deepnote_index_column": 1122
                                },
                                {
                                    "Unnamed: 0": 8648,
                                    "region_id": 44,
                                    "region_name": "Levant",
                                    "region_description": "Levant",
                                    "world_region": "Southwest Asia",
                                    "question_name": "Supernatural beings care about proper ritual observance:",
                                    "answer": "Yes",
                                    "answer_value": 1,
                                    "notes": "nan",
                                    "parent_question_id": 2890,
                                    "parent_question": "Is supernatural monitoring present:",
                                    "parent_answer": "Yes",
                                    "parent_answer_value": 1,
                                    "entry_id": 300,
                                    "entry_name": "Israelite Religion",
                                    "poll_id": 35,
                                    "poll_name": "Religious Group (v5)",
                                    "year_from": -1200,
                                    "year_to": -515,
                                    "branching_question": "Non-elite (common people, general populace)",
                                    "expert_id": 207,
                                    "expert_name": "Conn Herriott",
                                    "editor_id": 14,
                                    "editor_name": "Conn Herriott",
                                    "date_published": "2016-02-29 06:00:00.000000000",
                                    "date_created": "2019-07-09 17:41:46.802340864",
                                    "date_modified": "2019-07-09 17:41:46.802362880",
                                    "gis_region": "MULTIPOLYGON(((35.270233154297 33.43276977539,35.995330810547 33.23501586914,35.050506591797 29.49966430664,34.083709716797 31.16958618164,34.061737060547 31.21353149414,35.270233154297 33.43276977539)))",
                                    "question_id": 2898,
                                    "_deepnote_index_column": 1125
                                },
                                {
                                    "Unnamed: 0": 8649,
                                    "region_id": 44,
                                    "region_name": "Levant",
                                    "region_description": "Levant",
                                    "world_region": "Southwest Asia",
                                    "question_name": "Supernatural beings care about non-lethal fighting:",
                                    "answer": "Yes",
                                    "answer_value": 1,
                                    "notes": "Knight 2011: 142.",
                                    "parent_question_id": 2890,
                                    "parent_question": "Is supernatural monitoring present:",
                                    "parent_answer": "Yes",
                                    "parent_answer_value": 1,
                                    "entry_id": 300,
                                    "entry_name": "Israelite Religion",
                                    "poll_id": 35,
                                    "poll_name": "Religious Group (v5)",
                                    "year_from": -1200,
                                    "year_to": -515,
                                    "branching_question": "Non-elite (common people, general populace)",
                                    "expert_id": 207,
                                    "expert_name": "Conn Herriott",
                                    "editor_id": 14,
                                    "editor_name": "Conn Herriott",
                                    "date_published": "2016-02-29 06:00:00.000000000",
                                    "date_created": "2019-07-09 17:41:46.689686016",
                                    "date_modified": "2019-07-09 17:41:46.689704960",
                                    "gis_region": "MULTIPOLYGON(((35.270233154297 33.43276977539,35.995330810547 33.23501586914,35.050506591797 29.49966430664,34.083709716797 31.16958618164,34.061737060547 31.21353149414,35.270233154297 33.43276977539)))",
                                    "question_id": 2902,
                                    "_deepnote_index_column": 1126
                                },
                                {
                                    "Unnamed: 0": 8650,
                                    "region_id": 44,
                                    "region_name": "Levant",
                                    "region_description": "Levant",
                                    "world_region": "Southwest Asia",
                                    "question_name": "Supernatural beings care about lying:",
                                    "answer": "Yes",
                                    "answer_value": 1,
                                    "notes": "Several cases where this prohibition is clearly stated and punished by Yahweh or his followers (e.g. Proverbs 6:6-19; Exod 23:1-2).",
                                    "parent_question_id": 2890,
                                    "parent_question": "Is supernatural monitoring present:",
                                    "parent_answer": "Yes",
                                    "parent_answer_value": 1,
                                    "entry_id": 300,
                                    "entry_name": "Israelite Religion",
                                    "poll_id": 35,
                                    "poll_name": "Religious Group (v5)",
                                    "year_from": -1200,
                                    "year_to": -515,
                                    "branching_question": "Non-elite (common people, general populace)",
                                    "expert_id": 207,
                                    "expert_name": "Conn Herriott",
                                    "editor_id": 14,
                                    "editor_name": "Conn Herriott",
                                    "date_published": "2016-02-29 06:00:00.000000000",
                                    "date_created": "2019-07-09 17:41:46.598264832",
                                    "date_modified": "2019-07-09 17:41:46.598285056",
                                    "gis_region": "MULTIPOLYGON(((35.270233154297 33.43276977539,35.995330810547 33.23501586914,35.050506591797 29.49966430664,34.083709716797 31.16958618164,34.061737060547 31.21353149414,35.270233154297 33.43276977539)))",
                                    "question_id": 2911,
                                    "_deepnote_index_column": 1127
                                },
                                {
                                    "Unnamed: 0": 8651,
                                    "region_id": 44,
                                    "region_name": "Levant",
                                    "region_description": "Levant",
                                    "world_region": "Southwest Asia",
                                    "question_name": "Supernatural beings care about laziness:",
                                    "answer": "Yes",
                                    "answer_value": 1,
                                    "notes": "There are many injunctions and encouragements against laziness in the Hebrew scriptures (e.g. Proverbs 13:4).",
                                    "parent_question_id": 2890,
                                    "parent_question": "Is supernatural monitoring present:",
                                    "parent_answer": "Yes",
                                    "parent_answer_value": 1,
                                    "entry_id": 300,
                                    "entry_name": "Israelite Religion",
                                    "poll_id": 35,
                                    "poll_name": "Religious Group (v5)",
                                    "year_from": -1200,
                                    "year_to": -515,
                                    "branching_question": "Non-elite (common people, general populace)",
                                    "expert_id": 207,
                                    "expert_name": "Conn Herriott",
                                    "editor_id": 14,
                                    "editor_name": "Conn Herriott",
                                    "date_published": "2016-02-29 06:00:00.000000000",
                                    "date_created": "2019-07-09 17:41:46.643425024",
                                    "date_modified": "2019-07-09 17:41:46.643443200",
                                    "gis_region": "MULTIPOLYGON(((35.270233154297 33.43276977539,35.995330810547 33.23501586914,35.050506591797 29.49966430664,34.083709716797 31.16958618164,34.061737060547 31.21353149414,35.270233154297 33.43276977539)))",
                                    "question_id": 2917,
                                    "_deepnote_index_column": 1128
                                },
                                {
                                    "Unnamed: 0": 8653,
                                    "region_id": 44,
                                    "region_name": "Levant",
                                    "region_description": "Levant",
                                    "world_region": "Southwest Asia",
                                    "question_name": "Supernatural beings care about property crimes:",
                                    "answer": "Yes",
                                    "answer_value": 1,
                                    "notes": "nan",
                                    "parent_question_id": 2890,
                                    "parent_question": "Is supernatural monitoring present:",
                                    "parent_answer": "Yes",
                                    "parent_answer_value": 1,
                                    "entry_id": 300,
                                    "entry_name": "Israelite Religion",
                                    "poll_id": 35,
                                    "poll_name": "Religious Group (v5)",
                                    "year_from": -1200,
                                    "year_to": -515,
                                    "branching_question": "Non-elite (common people, general populace)",
                                    "expert_id": 207,
                                    "expert_name": "Conn Herriott",
                                    "editor_id": 14,
                                    "editor_name": "Conn Herriott",
                                    "date_published": "2016-02-29 06:00:00.000000000",
                                    "date_created": "2019-07-09 17:41:46.779504128",
                                    "date_modified": "2019-07-09 17:41:46.779522816",
                                    "gis_region": "MULTIPOLYGON(((35.270233154297 33.43276977539,35.995330810547 33.23501586914,35.050506591797 29.49966430664,34.083709716797 31.16958618164,34.061737060547 31.21353149414,35.270233154297 33.43276977539)))",
                                    "question_id": 2921,
                                    "_deepnote_index_column": 1130
                                },
                                {
                                    "Unnamed: 0": 8654,
                                    "region_id": 44,
                                    "region_name": "Levant",
                                    "region_description": "Levant",
                                    "world_region": "Southwest Asia",
                                    "question_name": "Supernatural beings care about shirking risk:",
                                    "answer": "Yes",
                                    "answer_value": 1,
                                    "notes": "Trust in the gods is encouraged, and used as a means to urge/reward people to take the risks condoned in the scriptures (e.g. Proverbs 29:25).",
                                    "parent_question_id": 2890,
                                    "parent_question": "Is supernatural monitoring present:",
                                    "parent_answer": "Yes",
                                    "parent_answer_value": 1,
                                    "entry_id": 300,
                                    "entry_name": "Israelite Religion",
                                    "poll_id": 35,
                                    "poll_name": "Religious Group (v5)",
                                    "year_from": -1200,
                                    "year_to": -515,
                                    "branching_question": "Non-elite (common people, general populace)",
                                    "expert_id": 207,
                                    "expert_name": "Conn Herriott",
                                    "editor_id": 14,
                                    "editor_name": "Conn Herriott",
                                    "date_published": "2016-02-29 06:00:00.000000000",
                                    "date_created": "2019-07-09 17:41:46.712205824",
                                    "date_modified": "2019-07-09 17:41:46.712227072",
                                    "gis_region": "MULTIPOLYGON(((35.270233154297 33.43276977539,35.995330810547 33.23501586914,35.050506591797 29.49966430664,34.083709716797 31.16958618164,34.061737060547 31.21353149414,35.270233154297 33.43276977539)))",
                                    "question_id": 2923,
                                    "_deepnote_index_column": 1131
                                },
                                {
                                    "Unnamed: 0": 8655,
                                    "region_id": 44,
                                    "region_name": "Levant",
                                    "region_description": "Levant",
                                    "world_region": "Southwest Asia",
                                    "question_name": "There is supernatural monitoring of prosocial norm adherence in particular:",
                                    "answer": "Yes",
                                    "answer_value": 1,
                                    "notes": "However, morality here may differ from modern understanding (see Zevit 2001: 439-440; Knight 2011: 31ff.).",
                                    "parent_question_id": 2890,
                                    "parent_question": "Is supernatural monitoring present:",
                                    "parent_answer": "Yes",
                                    "parent_answer_value": 1,
                                    "entry_id": 300,
                                    "entry_name": "Israelite Religion",
                                    "poll_id": 35,
                                    "poll_name": "Religious Group (v5)",
                                    "year_from": -1200,
                                    "year_to": -515,
                                    "branching_question": "Non-elite (common people, general populace)",
                                    "expert_id": 207,
                                    "expert_name": "Conn Herriott",
                                    "editor_id": 14,
                                    "editor_name": "Conn Herriott",
                                    "date_published": "2016-02-29 06:00:00.000000000",
                                    "date_created": "2019-07-09 17:41:46.388297984",
                                    "date_modified": "2019-07-09 17:41:46.388317952",
                                    "gis_region": "MULTIPOLYGON(((35.270233154297 33.43276977539,35.995330810547 33.23501586914,35.050506591797 29.49966430664,34.083709716797 31.16958618164,34.061737060547 31.21353149414,35.270233154297 33.43276977539)))",
                                    "question_id": 2928,
                                    "_deepnote_index_column": 1132
                                }
                            ],
                            "type": "dataframe"
                        },
                        "text/plain": "       Unnamed: 0  region_id              region_name  \\\n1119         8642       44.0                   Levant   \n1121         8644       44.0                   Levant   \n1122         8645       44.0                   Levant   \n1125         8648       44.0                   Levant   \n1126         8649       44.0                   Levant   \n...           ...        ...                      ...   \n66393      369246     2477.0  Zeyrek, Fatih, Istanbul   \n66394      369247     2477.0  Zeyrek, Fatih, Istanbul   \n66395      369248     2477.0  Zeyrek, Fatih, Istanbul   \n66396      369249     2477.0  Zeyrek, Fatih, Istanbul   \n66397      369250     2477.0  Zeyrek, Fatih, Istanbul   \n\n                                      region_description    world_region  \\\n1119                                              Levant  Southwest Asia   \n1121                                              Levant  Southwest Asia   \n1122                                              Levant  Southwest Asia   \n1125                                              Levant  Southwest Asia   \n1126                                              Levant  Southwest Asia   \n...                                                  ...             ...   \n66393  The monument is in the historical peninsula of...  Southwest Asia   \n66394  The monument is in the historical peninsula of...  Southwest Asia   \n66395  The monument is in the historical peninsula of...  Southwest Asia   \n66396  The monument is in the historical peninsula of...  Southwest Asia   \n66397  The monument is in the historical peninsula of...  Southwest Asia   \n\n                                           question_name        answer  \\\n1119   Supernatural beings care about murder of membe...            No   \n1121   Supernatural beings care about murder of corel...           Yes   \n1122     Supernatural beings care about honouring oaths:           Yes   \n1125   Supernatural beings care about proper ritual o...           Yes   \n1126   Supernatural beings care about non-lethal figh...           Yes   \n...                                                  ...           ...   \n66393  Supernatural beings care about or expect perso...           Yes   \n66394     Supernatural beings care about honoring oaths:           Yes   \n66395  Supernatural beings care about or expect offer...  I don't know   \n66396  Supernatural beings care about or expect maint...           Yes   \n66397         Supernatural monitoring of norm adherence:           Yes   \n\n       answer_value                                              notes  \\\n1119            0.0  Many examples of Israelite gods killing out-gr...   \n1121            1.0  However, at times this is condoned, ordered or...   \n1122            1.0  e.g. Proverbs 18:5. More broadly, the Israelit...   \n1125            1.0                                                NaN   \n1126            1.0                                  Knight 2011: 142.   \n...             ...                                                ...   \n66393           1.0                                                NaN   \n66394           1.0                                                NaN   \n66395          -1.0                                                NaN   \n66396           1.0                                                NaN   \n66397           1.0                                                NaN   \n\n       parent_question_id  ...  \\\n1119               2890.0  ...   \n1121               2890.0  ...   \n1122               2890.0  ...   \n1125               2890.0  ...   \n1126               2890.0  ...   \n...                   ...  ...   \n66393              8705.0  ...   \n66394              8705.0  ...   \n66395              8705.0  ...   \n66396              8705.0  ...   \n66397              8705.0  ...   \n\n                                      branching_question expert_id  \\\n1119         Non-elite (common people, general populace)     207.0   \n1121         Non-elite (common people, general populace)     207.0   \n1122         Non-elite (common people, general populace)     207.0   \n1125         Non-elite (common people, general populace)     207.0   \n1126         Non-elite (common people, general populace)     207.0   \n...                                                  ...       ...   \n66393  Non-elite (common people, general populace), E...    1578.0   \n66394  Non-elite (common people, general populace), E...    1578.0   \n66395  Non-elite (common people, general populace), E...    1578.0   \n66396  Non-elite (common people, general populace), E...    1578.0   \n66397  Non-elite (common people, general populace), E...    1578.0   \n\n              expert_name  editor_id    editor_name  \\\n1119        Conn Herriott       14.0  Conn Herriott   \n1121        Conn Herriott       14.0  Conn Herriott   \n1122        Conn Herriott       14.0  Conn Herriott   \n1125        Conn Herriott       14.0  Conn Herriott   \n1126        Conn Herriott       14.0  Conn Herriott   \n...                   ...        ...            ...   \n66393  Theodoros Tzanatos       46.0  Megan Daniels   \n66394  Theodoros Tzanatos       46.0  Megan Daniels   \n66395  Theodoros Tzanatos       46.0  Megan Daniels   \n66396  Theodoros Tzanatos       46.0  Megan Daniels   \n66397  Theodoros Tzanatos       46.0  Megan Daniels   \n\n                      date_published                   date_created  \\\n1119   2016-02-29 06:00:00.000000000  2019-07-09 17:41:46.459012864   \n1121   2016-02-29 06:00:00.000000000  2019-07-09 17:41:46.436983040   \n1122   2016-02-29 06:00:00.000000000  2019-07-09 17:41:46.620729856   \n1125   2016-02-29 06:00:00.000000000  2019-07-09 17:41:46.802340864   \n1126   2016-02-29 06:00:00.000000000  2019-07-09 17:41:46.689686016   \n...                              ...                            ...   \n66393  2024-10-01 18:26:54.937830912  2024-06-24 14:08:53.632827904   \n66394  2024-10-01 18:26:54.937830912  2024-06-24 14:08:59.012805888   \n66395  2024-10-01 18:26:54.937830912  2024-06-24 14:09:09.209142016   \n66396  2024-10-01 18:26:54.937830912  2024-06-24 14:09:15.792995840   \n66397  2024-10-01 18:26:54.937830912  2024-06-24 14:09:22.064980992   \n\n                       date_modified  \\\n1119   2019-07-09 17:41:46.459032064   \n1121   2019-07-09 17:41:46.437001984   \n1122   2019-07-09 17:41:46.620749056   \n1125   2019-07-09 17:41:46.802362880   \n1126   2019-07-09 17:41:46.689704960   \n...                              ...   \n66393  2024-10-01 18:26:54.937841920   \n66394  2024-10-01 18:26:54.937841920   \n66395  2024-10-01 18:26:54.937841920   \n66396  2024-10-01 18:26:54.937841920   \n66397  2024-10-01 18:26:54.937841920   \n\n                                              gis_region question_id  \n1119   MULTIPOLYGON(((35.270233154297 33.43276977539,...      2861.0  \n1121   MULTIPOLYGON(((35.270233154297 33.43276977539,...      2883.0  \n1122   MULTIPOLYGON(((35.270233154297 33.43276977539,...      2887.0  \n1125   MULTIPOLYGON(((35.270233154297 33.43276977539,...      2898.0  \n1126   MULTIPOLYGON(((35.270233154297 33.43276977539,...      2902.0  \n...                                                  ...         ...  \n66393  MULTIPOLYGON(((28.956739191376677 41.019509799...      2939.0  \n66394  MULTIPOLYGON(((28.956739191376677 41.019509799...      2887.0  \n66395  MULTIPOLYGON(((28.956739191376677 41.019509799...      5500.0  \n66396  MULTIPOLYGON(((28.956739191376677 41.019509799...      5512.0  \n66397  MULTIPOLYGON(((28.956739191376677 41.019509799...      5499.0  \n\n[1588 rows x 29 columns]",
                        "text/html": "<div>\n<style scoped>\n    .dataframe tbody tr th:only-of-type {\n        vertical-align: middle;\n    }\n\n    .dataframe tbody tr th {\n        vertical-align: top;\n    }\n\n    .dataframe thead th {\n        text-align: right;\n    }\n</style>\n<table border=\"1\" class=\"dataframe\">\n  <thead>\n    <tr style=\"text-align: right;\">\n      <th></th>\n      <th>Unnamed: 0</th>\n      <th>region_id</th>\n      <th>region_name</th>\n      <th>region_description</th>\n      <th>world_region</th>\n      <th>question_name</th>\n      <th>answer</th>\n      <th>answer_value</th>\n      <th>notes</th>\n      <th>parent_question_id</th>\n      <th>...</th>\n      <th>branching_question</th>\n      <th>expert_id</th>\n      <th>expert_name</th>\n      <th>editor_id</th>\n      <th>editor_name</th>\n      <th>date_published</th>\n      <th>date_created</th>\n      <th>date_modified</th>\n      <th>gis_region</th>\n      <th>question_id</th>\n    </tr>\n  </thead>\n  <tbody>\n    <tr>\n      <th>1119</th>\n      <td>8642</td>\n      <td>44.0</td>\n      <td>Levant</td>\n      <td>Levant</td>\n      <td>Southwest Asia</td>\n      <td>Supernatural beings care about murder of membe...</td>\n      <td>No</td>\n      <td>0.0</td>\n      <td>Many examples of Israelite gods killing out-gr...</td>\n      <td>2890.0</td>\n      <td>...</td>\n      <td>Non-elite (common people, general populace)</td>\n      <td>207.0</td>\n      <td>Conn Herriott</td>\n      <td>14.0</td>\n      <td>Conn Herriott</td>\n      <td>2016-02-29 06:00:00.000000000</td>\n      <td>2019-07-09 17:41:46.459012864</td>\n      <td>2019-07-09 17:41:46.459032064</td>\n      <td>MULTIPOLYGON(((35.270233154297 33.43276977539,...</td>\n      <td>2861.0</td>\n    </tr>\n    <tr>\n      <th>1121</th>\n      <td>8644</td>\n      <td>44.0</td>\n      <td>Levant</td>\n      <td>Levant</td>\n      <td>Southwest Asia</td>\n      <td>Supernatural beings care about murder of corel...</td>\n      <td>Yes</td>\n      <td>1.0</td>\n      <td>However, at times this is condoned, ordered or...</td>\n      <td>2890.0</td>\n      <td>...</td>\n      <td>Non-elite (common people, general populace)</td>\n      <td>207.0</td>\n      <td>Conn Herriott</td>\n      <td>14.0</td>\n      <td>Conn Herriott</td>\n      <td>2016-02-29 06:00:00.000000000</td>\n      <td>2019-07-09 17:41:46.436983040</td>\n      <td>2019-07-09 17:41:46.437001984</td>\n      <td>MULTIPOLYGON(((35.270233154297 33.43276977539,...</td>\n      <td>2883.0</td>\n    </tr>\n    <tr>\n      <th>1122</th>\n      <td>8645</td>\n      <td>44.0</td>\n      <td>Levant</td>\n      <td>Levant</td>\n      <td>Southwest Asia</td>\n      <td>Supernatural beings care about honouring oaths:</td>\n      <td>Yes</td>\n      <td>1.0</td>\n      <td>e.g. Proverbs 18:5. More broadly, the Israelit...</td>\n      <td>2890.0</td>\n      <td>...</td>\n      <td>Non-elite (common people, general populace)</td>\n      <td>207.0</td>\n      <td>Conn Herriott</td>\n      <td>14.0</td>\n      <td>Conn Herriott</td>\n      <td>2016-02-29 06:00:00.000000000</td>\n      <td>2019-07-09 17:41:46.620729856</td>\n      <td>2019-07-09 17:41:46.620749056</td>\n      <td>MULTIPOLYGON(((35.270233154297 33.43276977539,...</td>\n      <td>2887.0</td>\n    </tr>\n    <tr>\n      <th>1125</th>\n      <td>8648</td>\n      <td>44.0</td>\n      <td>Levant</td>\n      <td>Levant</td>\n      <td>Southwest Asia</td>\n      <td>Supernatural beings care about proper ritual o...</td>\n      <td>Yes</td>\n      <td>1.0</td>\n      <td>NaN</td>\n      <td>2890.0</td>\n      <td>...</td>\n      <td>Non-elite (common people, general populace)</td>\n      <td>207.0</td>\n      <td>Conn Herriott</td>\n      <td>14.0</td>\n      <td>Conn Herriott</td>\n      <td>2016-02-29 06:00:00.000000000</td>\n      <td>2019-07-09 17:41:46.802340864</td>\n      <td>2019-07-09 17:41:46.802362880</td>\n      <td>MULTIPOLYGON(((35.270233154297 33.43276977539,...</td>\n      <td>2898.0</td>\n    </tr>\n    <tr>\n      <th>1126</th>\n      <td>8649</td>\n      <td>44.0</td>\n      <td>Levant</td>\n      <td>Levant</td>\n      <td>Southwest Asia</td>\n      <td>Supernatural beings care about non-lethal figh...</td>\n      <td>Yes</td>\n      <td>1.0</td>\n      <td>Knight 2011: 142.</td>\n      <td>2890.0</td>\n      <td>...</td>\n      <td>Non-elite (common people, general populace)</td>\n      <td>207.0</td>\n      <td>Conn Herriott</td>\n      <td>14.0</td>\n      <td>Conn Herriott</td>\n      <td>2016-02-29 06:00:00.000000000</td>\n      <td>2019-07-09 17:41:46.689686016</td>\n      <td>2019-07-09 17:41:46.689704960</td>\n      <td>MULTIPOLYGON(((35.270233154297 33.43276977539,...</td>\n      <td>2902.0</td>\n    </tr>\n    <tr>\n      <th>...</th>\n      <td>...</td>\n      <td>...</td>\n      <td>...</td>\n      <td>...</td>\n      <td>...</td>\n      <td>...</td>\n      <td>...</td>\n      <td>...</td>\n      <td>...</td>\n      <td>...</td>\n      <td>...</td>\n      <td>...</td>\n      <td>...</td>\n      <td>...</td>\n      <td>...</td>\n      <td>...</td>\n      <td>...</td>\n      <td>...</td>\n      <td>...</td>\n      <td>...</td>\n      <td>...</td>\n    </tr>\n    <tr>\n      <th>66393</th>\n      <td>369246</td>\n      <td>2477.0</td>\n      <td>Zeyrek, Fatih, Istanbul</td>\n      <td>The monument is in the historical peninsula of...</td>\n      <td>Southwest Asia</td>\n      <td>Supernatural beings care about or expect perso...</td>\n      <td>Yes</td>\n      <td>1.0</td>\n      <td>NaN</td>\n      <td>8705.0</td>\n      <td>...</td>\n      <td>Non-elite (common people, general populace), E...</td>\n      <td>1578.0</td>\n      <td>Theodoros Tzanatos</td>\n      <td>46.0</td>\n      <td>Megan Daniels</td>\n      <td>2024-10-01 18:26:54.937830912</td>\n      <td>2024-06-24 14:08:53.632827904</td>\n      <td>2024-10-01 18:26:54.937841920</td>\n      <td>MULTIPOLYGON(((28.956739191376677 41.019509799...</td>\n      <td>2939.0</td>\n    </tr>\n    <tr>\n      <th>66394</th>\n      <td>369247</td>\n      <td>2477.0</td>\n      <td>Zeyrek, Fatih, Istanbul</td>\n      <td>The monument is in the historical peninsula of...</td>\n      <td>Southwest Asia</td>\n      <td>Supernatural beings care about honoring oaths:</td>\n      <td>Yes</td>\n      <td>1.0</td>\n      <td>NaN</td>\n      <td>8705.0</td>\n      <td>...</td>\n      <td>Non-elite (common people, general populace), E...</td>\n      <td>1578.0</td>\n      <td>Theodoros Tzanatos</td>\n      <td>46.0</td>\n      <td>Megan Daniels</td>\n      <td>2024-10-01 18:26:54.937830912</td>\n      <td>2024-06-24 14:08:59.012805888</td>\n      <td>2024-10-01 18:26:54.937841920</td>\n      <td>MULTIPOLYGON(((28.956739191376677 41.019509799...</td>\n      <td>2887.0</td>\n    </tr>\n    <tr>\n      <th>66395</th>\n      <td>369248</td>\n      <td>2477.0</td>\n      <td>Zeyrek, Fatih, Istanbul</td>\n      <td>The monument is in the historical peninsula of...</td>\n      <td>Southwest Asia</td>\n      <td>Supernatural beings care about or expect offer...</td>\n      <td>I don't know</td>\n      <td>-1.0</td>\n      <td>NaN</td>\n      <td>8705.0</td>\n      <td>...</td>\n      <td>Non-elite (common people, general populace), E...</td>\n      <td>1578.0</td>\n      <td>Theodoros Tzanatos</td>\n      <td>46.0</td>\n      <td>Megan Daniels</td>\n      <td>2024-10-01 18:26:54.937830912</td>\n      <td>2024-06-24 14:09:09.209142016</td>\n      <td>2024-10-01 18:26:54.937841920</td>\n      <td>MULTIPOLYGON(((28.956739191376677 41.019509799...</td>\n      <td>5500.0</td>\n    </tr>\n    <tr>\n      <th>66396</th>\n      <td>369249</td>\n      <td>2477.0</td>\n      <td>Zeyrek, Fatih, Istanbul</td>\n      <td>The monument is in the historical peninsula of...</td>\n      <td>Southwest Asia</td>\n      <td>Supernatural beings care about or expect maint...</td>\n      <td>Yes</td>\n      <td>1.0</td>\n      <td>NaN</td>\n      <td>8705.0</td>\n      <td>...</td>\n      <td>Non-elite (common people, general populace), E...</td>\n      <td>1578.0</td>\n      <td>Theodoros Tzanatos</td>\n      <td>46.0</td>\n      <td>Megan Daniels</td>\n      <td>2024-10-01 18:26:54.937830912</td>\n      <td>2024-06-24 14:09:15.792995840</td>\n      <td>2024-10-01 18:26:54.937841920</td>\n      <td>MULTIPOLYGON(((28.956739191376677 41.019509799...</td>\n      <td>5512.0</td>\n    </tr>\n    <tr>\n      <th>66397</th>\n      <td>369250</td>\n      <td>2477.0</td>\n      <td>Zeyrek, Fatih, Istanbul</td>\n      <td>The monument is in the historical peninsula of...</td>\n      <td>Southwest Asia</td>\n      <td>Supernatural monitoring of norm adherence:</td>\n      <td>Yes</td>\n      <td>1.0</td>\n      <td>NaN</td>\n      <td>8705.0</td>\n      <td>...</td>\n      <td>Non-elite (common people, general populace), E...</td>\n      <td>1578.0</td>\n      <td>Theodoros Tzanatos</td>\n      <td>46.0</td>\n      <td>Megan Daniels</td>\n      <td>2024-10-01 18:26:54.937830912</td>\n      <td>2024-06-24 14:09:22.064980992</td>\n      <td>2024-10-01 18:26:54.937841920</td>\n      <td>MULTIPOLYGON(((28.956739191376677 41.019509799...</td>\n      <td>5499.0</td>\n    </tr>\n  </tbody>\n</table>\n<p>1588 rows × 29 columns</p>\n</div>"
                    },
                    "metadata": {}
                }
            ],
            "outputs_reference": "s3:deepnote-cell-outputs-production/014f9039-86a0-4791-80e5-9b982a58d28b",
            "content_dependencies": null
        },
        {
            "cell_type": "code",
            "metadata": {
                "source_hash": "fb87a079",
                "execution_start": 1750024748867,
                "execution_millis": 1,
                "execution_context_id": "c2758218-32bc-47e0-a392-446e3d889611",
                "cell_id": "0a3f5de3b63e49d68ba9351ee5944675",
                "deepnote_cell_type": "code"
            },
            "source": "len(monitoring_wa.loc[monitoring_wa[\"poll_name\"].str.contains(\"Group\"), \"entry_name\"].unique())",
            "block_group": "7a61a68da798492cae16e62e0a2f6cd6",
            "execution_count": 135,
            "outputs": [
                {
                    "output_type": "execute_result",
                    "execution_count": 135,
                    "data": {
                        "text/plain": "28"
                    },
                    "metadata": {}
                }
            ],
            "outputs_reference": "dbtable:cell_outputs/ba5db002-711c-4511-a498-2ae0cc4cd7c8",
            "content_dependencies": null
        },
        {
            "cell_type": "code",
            "metadata": {
                "source_hash": "7c63331",
                "execution_start": 1750024751320,
                "execution_millis": 5,
                "execution_context_id": "c2758218-32bc-47e0-a392-446e3d889611",
                "cell_id": "6a7b0dcc9f3c48f38e047d4014017f8d",
                "deepnote_cell_type": "code"
            },
            "source": "monitoring_wa[\"poll_name\"].unique()",
            "block_group": "476f90c0507e49758c5518ccf57cee2a",
            "execution_count": 138,
            "outputs": [
                {
                    "output_type": "execute_result",
                    "execution_count": 138,
                    "data": {
                        "text/plain": "array(['Religious Group (v5)', 'Religious Group (v6)',\n       'Religious Place (v1.2)', 'Religious Text (v1.0)',\n       'Religious Place (v1.3)'], dtype=object)"
                    },
                    "metadata": {}
                }
            ],
            "outputs_reference": "dbtable:cell_outputs/a3c981a4-9e5d-45b0-83c2-176eec8abec7",
            "content_dependencies": null
        },
        {
            "cell_type": "code",
            "metadata": {
                "source_hash": "4b58bfa2",
                "execution_start": 1750009881477,
                "execution_millis": 1,
                "execution_context_id": "c2758218-32bc-47e0-a392-446e3d889611",
                "cell_id": "6f1d27840fe7431885f99d06aa09c7fa",
                "deepnote_cell_type": "code"
            },
            "source": "# mix of human & gpt code\n\ndef display_drh(df):\n    color_groups = {\n        'Religious Group (v5)': \"#00CC96\",\n        'Religious Group (v6)': \"#00CC96\",\n        'Religious Text (v1.0)': \"#E1B700\",\n        'Religious Place (v1.2)': \"#AEDFF7\",\n        'Religious Place (v1.3)': \"#AEDFF7\"\n    }\n\n    # only interested in unique entries\n    df_unique = df.drop_duplicates(subset=\"entry_name\").copy()\n    df_sorted = df_unique.sort_values(\"year_from\").reset_index(drop=True)\n\n    fig = go.Figure()\n\n    for i, row in df_sorted.iterrows():\n        entry = row[\"entry_name\"]\n        region = row[\"region_name\"]\n        poll = row[\"poll_name\"]\n\n        year_from = row[\"year_from\"]\n        year_to = row[\"year_to\"] if (row[\"year_to\"] - row[\"year_from\"]) >= 20 else row[\"year_from\"] + 20 # better visualiz\n        color = color_groups.get(poll, \"gray\")\n\n        fig.add_trace(go.Scatter(\n            x=[year_from, year_to],\n            y=[i, i],\n            mode=\"lines\",\n            line=dict(color=color, width=2),\n            hovertemplate=(\n                f\"<b>Entry:</b> {entry}<br>\"\n                f\"<b>Region:</b> {region}<br>\"\n                f\"<b>Years:</b> {year_from} – {year_to}<br>\"\n                f\"<b>Poll:</b> {poll}\"\n            ),\n            name=\"\",\n            showlegend=False\n        ))\n\n    # legend\n    for label, color in {\n        \"Religious Group\": \"#00CC96\",\n        \"Religious Text\": \"#E1B700\",\n        \"Religious Place\": \"#AEDFF7\"\n    }.items():\n        fig.add_trace(go.Scatter(\n            x=[None], y=[None], mode='markers',\n            marker=dict(color=color, size=10),\n            name=label\n        ))\n\n    fig.update_layout(\n        template=\"plotly_white\",\n        height=600,\n        width=900,\n        title=\"Timeline of Religious Units in West Asia & Egypt\",\n        xaxis=dict(\n            title=\"Year\",\n            tickmode=\"linear\",\n            dtick=200,\n            range=[df_sorted['year_from'].min() - 50, df_sorted['year_to'].max() + 50]\n        ),\n        yaxis=dict(\n            showticklabels=False,\n            title=\"\",\n            showgrid=False\n        ),\n        legend=dict(\n            xanchor=\"left\",\n            yanchor=\"top\",\n            x = 0,\n            y = 1\n        )\n    )\n\n    fig.show()\n",
            "block_group": "73ce034947b74e6580b624979d79c1e7",
            "execution_count": 114,
            "outputs": [],
            "outputs_reference": null,
            "content_dependencies": null
        },
        {
            "cell_type": "code",
            "metadata": {
                "allow_embed": "output",
                "source_hash": "5cf9b8a5",
                "execution_start": 1750009884856,
                "execution_millis": 84,
                "execution_context_id": "c2758218-32bc-47e0-a392-446e3d889611",
                "cell_id": "f40248c671e643029512ba2730cc0bed",
                "deepnote_cell_type": "code"
            },
            "source": "display_drh(monitoring_wa)",
            "block_group": "fb24700e8e0a49ae9338c3bc3a39c5c3",
            "execution_count": 117,
            "outputs": [
                {
                    "data": {
                        "text/html": "<html>\n<head><meta charset=\"utf-8\" /></head>\n<body>\n    <div>            <script src=\"https://cdnjs.cloudflare.com/ajax/libs/mathjax/2.7.5/MathJax.js?config=TeX-AMS-MML_SVG\"></script><script type=\"text/javascript\">if (window.MathJax && window.MathJax.Hub && window.MathJax.Hub.Config) {window.MathJax.Hub.Config({SVG: {font: \"STIX-Web\"}});}</script>                <script type=\"text/javascript\">window.PlotlyConfig = {MathJaxConfig: 'local'};</script>\n        <script charset=\"utf-8\" src=\"https://cdn.plot.ly/plotly-3.0.1.min.js\"></script>                <div id=\"88a68f19-f6a0-4b49-b01c-ee681317f2f9\" class=\"plotly-graph-div\" style=\"height:600px; width:900px;\"></div>            <script type=\"text/javascript\">                window.PLOTLYENV=window.PLOTLYENV || {};                                if (document.getElementById(\"88a68f19-f6a0-4b49-b01c-ee681317f2f9\")) {                    Plotly.newPlot(                        \"88a68f19-f6a0-4b49-b01c-ee681317f2f9\",                        [{\"hovertemplate\":\"\\u003cb\\u003eEntry:\\u003c\\u002fb\\u003e Enheduana's Exaltation of Inana\\u003cbr\\u003e\\u003cb\\u003eRegion:\\u003c\\u002fb\\u003e Ur (Tell al-Muqayyar)\\u003cbr\\u003e\\u003cb\\u003eYears:\\u003c\\u002fb\\u003e -2300.0 \\u2013 -1700.0\\u003cbr\\u003e\\u003cb\\u003ePoll:\\u003c\\u002fb\\u003e Religious Text (v1.0)\",\"line\":{\"color\":\"#E1B700\",\"width\":2},\"mode\":\"lines\",\"name\":\"\",\"showlegend\":false,\"x\":[-2300.0,-1700.0],\"y\":[0,0],\"type\":\"scatter\"},{\"hovertemplate\":\"\\u003cb\\u003eEntry:\\u003c\\u002fb\\u003e Household religion at Ur\\u003cbr\\u003e\\u003cb\\u003eRegion:\\u003c\\u002fb\\u003e Ur III core\\u003cbr\\u003e\\u003cb\\u003eYears:\\u003c\\u002fb\\u003e -2000.0 \\u2013 -1800.0\\u003cbr\\u003e\\u003cb\\u003ePoll:\\u003c\\u002fb\\u003e Religious Group (v6)\",\"line\":{\"color\":\"#00CC96\",\"width\":2},\"mode\":\"lines\",\"name\":\"\",\"showlegend\":false,\"x\":[-2000.0,-1800.0],\"y\":[1,1],\"type\":\"scatter\"},{\"hovertemplate\":\"\\u003cb\\u003eEntry:\\u003c\\u002fb\\u003e Enki and Ninma\\u1e2b\\u003cbr\\u003e\\u003cb\\u003eRegion:\\u003c\\u002fb\\u003e Mesopotamia2\\u003cbr\\u003e\\u003cb\\u003eYears:\\u003c\\u002fb\\u003e -1900.0 \\u2013 -1600.0\\u003cbr\\u003e\\u003cb\\u003ePoll:\\u003c\\u002fb\\u003e Religious Text (v1.0)\",\"line\":{\"color\":\"#E1B700\",\"width\":2},\"mode\":\"lines\",\"name\":\"\",\"showlegend\":false,\"x\":[-1900.0,-1600.0],\"y\":[2,2],\"type\":\"scatter\"},{\"hovertemplate\":\"\\u003cb\\u003eEntry:\\u003c\\u002fb\\u003e Inana's descent to the nether world\\u003cbr\\u003e\\u003cb\\u003eRegion:\\u003c\\u002fb\\u003e Mesopotamia2\\u003cbr\\u003e\\u003cb\\u003eYears:\\u003c\\u002fb\\u003e -1900.0 \\u2013 -1600.0\\u003cbr\\u003e\\u003cb\\u003ePoll:\\u003c\\u002fb\\u003e Religious Text (v1.0)\",\"line\":{\"color\":\"#E1B700\",\"width\":2},\"mode\":\"lines\",\"name\":\"\",\"showlegend\":false,\"x\":[-1900.0,-1600.0],\"y\":[3,3],\"type\":\"scatter\"},{\"hovertemplate\":\"\\u003cb\\u003eEntry:\\u003c\\u002fb\\u003e Enki and Nin\\u1e2bursa\\u011da\\u003cbr\\u003e\\u003cb\\u003eRegion:\\u003c\\u002fb\\u003e Mesopotamia2\\u003cbr\\u003e\\u003cb\\u003eYears:\\u003c\\u002fb\\u003e -1900.0 \\u2013 -1600.0\\u003cbr\\u003e\\u003cb\\u003ePoll:\\u003c\\u002fb\\u003e Religious Text (v1.0)\",\"line\":{\"color\":\"#E1B700\",\"width\":2},\"mode\":\"lines\",\"name\":\"\",\"showlegend\":false,\"x\":[-1900.0,-1600.0],\"y\":[4,4],\"type\":\"scatter\"},{\"hovertemplate\":\"\\u003cb\\u003eEntry:\\u003c\\u002fb\\u003e An Akkadian Tamitu-Query\\u003cbr\\u003e\\u003cb\\u003eRegion:\\u003c\\u002fb\\u003e Mesopotamia2\\u003cbr\\u003e\\u003cb\\u003eYears:\\u003c\\u002fb\\u003e -1800.0 \\u2013 -600.0\\u003cbr\\u003e\\u003cb\\u003ePoll:\\u003c\\u002fb\\u003e Religious Text (v1.0)\",\"line\":{\"color\":\"#E1B700\",\"width\":2},\"mode\":\"lines\",\"name\":\"\",\"showlegend\":false,\"x\":[-1800.0,-600.0],\"y\":[5,5],\"type\":\"scatter\"},{\"hovertemplate\":\"\\u003cb\\u003eEntry:\\u003c\\u002fb\\u003e Atra-Has\\u012bs\\u003cbr\\u003e\\u003cb\\u003eRegion:\\u003c\\u002fb\\u003e Mesopotamia\\u003cbr\\u003e\\u003cb\\u003eYears:\\u003c\\u002fb\\u003e -1700.0 \\u2013 -600.0\\u003cbr\\u003e\\u003cb\\u003ePoll:\\u003c\\u002fb\\u003e Religious Text (v1.0)\",\"line\":{\"color\":\"#E1B700\",\"width\":2},\"mode\":\"lines\",\"name\":\"\",\"showlegend\":false,\"x\":[-1700.0,-600.0],\"y\":[6,6],\"type\":\"scatter\"},{\"hovertemplate\":\"\\u003cb\\u003eEntry:\\u003c\\u002fb\\u003e Royal Hittite Religion\\u003cbr\\u003e\\u003cb\\u003eRegion:\\u003c\\u002fb\\u003e Central Anatolia\\u003cbr\\u003e\\u003cb\\u003eYears:\\u003c\\u002fb\\u003e -1650.0 \\u2013 -1180.0\\u003cbr\\u003e\\u003cb\\u003ePoll:\\u003c\\u002fb\\u003e Religious Group (v6)\",\"line\":{\"color\":\"#00CC96\",\"width\":2},\"mode\":\"lines\",\"name\":\"\",\"showlegend\":false,\"x\":[-1650.0,-1180.0],\"y\":[7,7],\"type\":\"scatter\"},{\"hovertemplate\":\"\\u003cb\\u003eEntry:\\u003c\\u002fb\\u003e Religion in Samuha during the Hittite period\\u003cbr\\u003e\\u003cb\\u003eRegion:\\u003c\\u002fb\\u003e Samuha\\u003cbr\\u003e\\u003cb\\u003eYears:\\u003c\\u002fb\\u003e -1600.0 \\u2013 -1200.0\\u003cbr\\u003e\\u003cb\\u003ePoll:\\u003c\\u002fb\\u003e Religious Place (v1.2)\",\"line\":{\"color\":\"#AEDFF7\",\"width\":2},\"mode\":\"lines\",\"name\":\"\",\"showlegend\":false,\"x\":[-1600.0,-1200.0],\"y\":[8,8],\"type\":\"scatter\"},{\"hovertemplate\":\"\\u003cb\\u003eEntry:\\u003c\\u002fb\\u003e Paskuwatti\\u2019s Ritual to Cure Sexual Dysfunction\\u003cbr\\u003e\\u003cb\\u003eRegion:\\u003c\\u002fb\\u003e Turkey\\u003cbr\\u003e\\u003cb\\u003eYears:\\u003c\\u002fb\\u003e -1400.0 \\u2013 -1200.0\\u003cbr\\u003e\\u003cb\\u003ePoll:\\u003c\\u002fb\\u003e Religious Text (v1.0)\",\"line\":{\"color\":\"#E1B700\",\"width\":2},\"mode\":\"lines\",\"name\":\"\",\"showlegend\":false,\"x\":[-1400.0,-1200.0],\"y\":[9,9],\"type\":\"scatter\"},{\"hovertemplate\":\"\\u003cb\\u003eEntry:\\u003c\\u002fb\\u003e Shurpu Incantation Series\\u003cbr\\u003e\\u003cb\\u003eRegion:\\u003c\\u002fb\\u003e Mesopotamian cities integrated into the Neo-Assyrian empire\\u003cbr\\u003e\\u003cb\\u003eYears:\\u003c\\u002fb\\u003e -1300.0 \\u2013 -610.0\\u003cbr\\u003e\\u003cb\\u003ePoll:\\u003c\\u002fb\\u003e Religious Text (v1.0)\",\"line\":{\"color\":\"#E1B700\",\"width\":2},\"mode\":\"lines\",\"name\":\"\",\"showlegend\":false,\"x\":[-1300.0,-610.0],\"y\":[10,10],\"type\":\"scatter\"},{\"hovertemplate\":\"\\u003cb\\u003eEntry:\\u003c\\u002fb\\u003e Israelite Religion\\u003cbr\\u003e\\u003cb\\u003eRegion:\\u003c\\u002fb\\u003e Levant\\u003cbr\\u003e\\u003cb\\u003eYears:\\u003c\\u002fb\\u003e -1200.0 \\u2013 -515.0\\u003cbr\\u003e\\u003cb\\u003ePoll:\\u003c\\u002fb\\u003e Religious Group (v5)\",\"line\":{\"color\":\"#00CC96\",\"width\":2},\"mode\":\"lines\",\"name\":\"\",\"showlegend\":false,\"x\":[-1200.0,-515.0],\"y\":[11,11],\"type\":\"scatter\"},{\"hovertemplate\":\"\\u003cb\\u003eEntry:\\u003c\\u002fb\\u003e Tabernacle, The\\u003cbr\\u003e\\u003cb\\u003eRegion:\\u003c\\u002fb\\u003e Tel Shiloh\\u002fKhirbet Seilun\\u003cbr\\u003e\\u003cb\\u003eYears:\\u003c\\u002fb\\u003e -1200.0 \\u2013 -1000.0\\u003cbr\\u003e\\u003cb\\u003ePoll:\\u003c\\u002fb\\u003e Religious Place (v1.2)\",\"line\":{\"color\":\"#AEDFF7\",\"width\":2},\"mode\":\"lines\",\"name\":\"\",\"showlegend\":false,\"x\":[-1200.0,-1000.0],\"y\":[12,12],\"type\":\"scatter\"},{\"hovertemplate\":\"\\u003cb\\u003eEntry:\\u003c\\u002fb\\u003e Religion of Phoenicia\\u003cbr\\u003e\\u003cb\\u003eRegion:\\u003c\\u002fb\\u003e Phoenicia\\u003cbr\\u003e\\u003cb\\u003eYears:\\u003c\\u002fb\\u003e -1200.0 \\u2013 -330.0\\u003cbr\\u003e\\u003cb\\u003ePoll:\\u003c\\u002fb\\u003e Religious Group (v6)\",\"line\":{\"color\":\"#00CC96\",\"width\":2},\"mode\":\"lines\",\"name\":\"\",\"showlegend\":false,\"x\":[-1200.0,-330.0],\"y\":[13,13],\"type\":\"scatter\"},{\"hovertemplate\":\"\\u003cb\\u003eEntry:\\u003c\\u002fb\\u003e Religion in Judah\\u003cbr\\u003e\\u003cb\\u003eRegion:\\u003c\\u002fb\\u003e Ancient Judah\\u003cbr\\u003e\\u003cb\\u003eYears:\\u003c\\u002fb\\u003e -1000.0 \\u2013 -586.0\\u003cbr\\u003e\\u003cb\\u003ePoll:\\u003c\\u002fb\\u003e Religious Group (v6)\",\"line\":{\"color\":\"#00CC96\",\"width\":2},\"mode\":\"lines\",\"name\":\"\",\"showlegend\":false,\"x\":[-1000.0,-586.0],\"y\":[14,14],\"type\":\"scatter\"},{\"hovertemplate\":\"\\u003cb\\u003eEntry:\\u003c\\u002fb\\u003e First Temple (Jerusalem)\\u003cbr\\u003e\\u003cb\\u003eRegion:\\u003c\\u002fb\\u003e Temple Mount\\u003cbr\\u003e\\u003cb\\u003eYears:\\u003c\\u002fb\\u003e -960.0 \\u2013 -587.0\\u003cbr\\u003e\\u003cb\\u003ePoll:\\u003c\\u002fb\\u003e Religious Place (v1.2)\",\"line\":{\"color\":\"#AEDFF7\",\"width\":2},\"mode\":\"lines\",\"name\":\"\",\"showlegend\":false,\"x\":[-960.0,-587.0],\"y\":[15,15],\"type\":\"scatter\"},{\"hovertemplate\":\"\\u003cb\\u003eEntry:\\u003c\\u002fb\\u003e The First Temple in Jerusalem\\u003cbr\\u003e\\u003cb\\u003eRegion:\\u003c\\u002fb\\u003e Jerusalem and the Judean Desert\\u003cbr\\u003e\\u003cb\\u003eYears:\\u003c\\u002fb\\u003e -950.0 \\u2013 -586.0\\u003cbr\\u003e\\u003cb\\u003ePoll:\\u003c\\u002fb\\u003e Religious Place (v1.2)\",\"line\":{\"color\":\"#AEDFF7\",\"width\":2},\"mode\":\"lines\",\"name\":\"\",\"showlegend\":false,\"x\":[-950.0,-586.0],\"y\":[16,16],\"type\":\"scatter\"},{\"hovertemplate\":\"\\u003cb\\u003eEntry:\\u003c\\u002fb\\u003e Neo-Assyrian Healers (\\u0101\\u0161ipu\\u002fma\\u0161ma\\u0161\\u0161u-exorcists)\\u003cbr\\u003e\\u003cb\\u003eRegion:\\u003c\\u002fb\\u003e Cities integrated in the Assyrian empire\\u003cbr\\u003e\\u003cb\\u003eYears:\\u003c\\u002fb\\u003e -900.0 \\u2013 -612.0\\u003cbr\\u003e\\u003cb\\u003ePoll:\\u003c\\u002fb\\u003e Religious Group (v6)\",\"line\":{\"color\":\"#00CC96\",\"width\":2},\"mode\":\"lines\",\"name\":\"\",\"showlegend\":false,\"x\":[-900.0,-612.0],\"y\":[17,17],\"type\":\"scatter\"},{\"hovertemplate\":\"\\u003cb\\u003eEntry:\\u003c\\u002fb\\u003e Book of Leviticus\\u003cbr\\u003e\\u003cb\\u003eRegion:\\u003c\\u002fb\\u003e Levant, Sinai Peninsula\\u003cbr\\u003e\\u003cb\\u003eYears:\\u003c\\u002fb\\u003e -800.0 \\u2013 -400.0\\u003cbr\\u003e\\u003cb\\u003ePoll:\\u003c\\u002fb\\u003e Religious Text (v1.0)\",\"line\":{\"color\":\"#E1B700\",\"width\":2},\"mode\":\"lines\",\"name\":\"\",\"showlegend\":false,\"x\":[-800.0,-400.0],\"y\":[18,18],\"type\":\"scatter\"},{\"hovertemplate\":\"\\u003cb\\u003eEntry:\\u003c\\u002fb\\u003e Book of Jonah\\u003cbr\\u003e\\u003cb\\u003eRegion:\\u003c\\u002fb\\u003e Ancient Israel\\u002fYehud\\u002fJudea\\u002fPalestine\\u003cbr\\u003e\\u003cb\\u003eYears:\\u003c\\u002fb\\u003e -800.0 \\u2013 -200.0\\u003cbr\\u003e\\u003cb\\u003ePoll:\\u003c\\u002fb\\u003e Religious Text (v1.0)\",\"line\":{\"color\":\"#E1B700\",\"width\":2},\"mode\":\"lines\",\"name\":\"\",\"showlegend\":false,\"x\":[-800.0,-200.0],\"y\":[19,19],\"type\":\"scatter\"},{\"hovertemplate\":\"\\u003cb\\u003eEntry:\\u003c\\u002fb\\u003e Tombs at Ketef Hinnom\\u003cbr\\u003e\\u003cb\\u003eRegion:\\u003c\\u002fb\\u003e Ketef Hinnom\\u003cbr\\u003e\\u003cb\\u003eYears:\\u003c\\u002fb\\u003e -800.0 \\u2013 -200.0\\u003cbr\\u003e\\u003cb\\u003ePoll:\\u003c\\u002fb\\u003e Religious Place (v1.2)\",\"line\":{\"color\":\"#AEDFF7\",\"width\":2},\"mode\":\"lines\",\"name\":\"\",\"showlegend\":false,\"x\":[-800.0,-200.0],\"y\":[20,20],\"type\":\"scatter\"},{\"hovertemplate\":\"\\u003cb\\u003eEntry:\\u003c\\u002fb\\u003e The Book of Hosea\\u003cbr\\u003e\\u003cb\\u003eRegion:\\u003c\\u002fb\\u003e Northern Kingdom of Israel\\u003cbr\\u003e\\u003cb\\u003eYears:\\u003c\\u002fb\\u003e -800.0 \\u2013 -500.0\\u003cbr\\u003e\\u003cb\\u003ePoll:\\u003c\\u002fb\\u003e Religious Text (v1.0)\",\"line\":{\"color\":\"#E1B700\",\"width\":2},\"mode\":\"lines\",\"name\":\"\",\"showlegend\":false,\"x\":[-800.0,-500.0],\"y\":[21,21],\"type\":\"scatter\"},{\"hovertemplate\":\"\\u003cb\\u003eEntry:\\u003c\\u002fb\\u003e Religion in the Minaean kingdom\\u003cbr\\u003e\\u003cb\\u003eRegion:\\u003c\\u002fb\\u003e Minaean kingdom\\u003cbr\\u003e\\u003cb\\u003eYears:\\u003c\\u002fb\\u003e -800.0 \\u2013 50.0\\u003cbr\\u003e\\u003cb\\u003ePoll:\\u003c\\u002fb\\u003e Religious Group (v6)\",\"line\":{\"color\":\"#00CC96\",\"width\":2},\"mode\":\"lines\",\"name\":\"\",\"showlegend\":false,\"x\":[-800.0,50.0],\"y\":[22,22],\"type\":\"scatter\"},{\"hovertemplate\":\"\\u003cb\\u003eEntry:\\u003c\\u002fb\\u003e Book of Amos\\u003cbr\\u003e\\u003cb\\u003eRegion:\\u003c\\u002fb\\u003e Ancient Israel and Judah\\u003cbr\\u003e\\u003cb\\u003eYears:\\u003c\\u002fb\\u003e -760.0 \\u2013 -100.0\\u003cbr\\u003e\\u003cb\\u003ePoll:\\u003c\\u002fb\\u003e Religious Text (v1.0)\",\"line\":{\"color\":\"#E1B700\",\"width\":2},\"mode\":\"lines\",\"name\":\"\",\"showlegend\":false,\"x\":[-760.0,-100.0],\"y\":[23,23],\"type\":\"scatter\"},{\"hovertemplate\":\"\\u003cb\\u003eEntry:\\u003c\\u002fb\\u003e Two Aramaic Mortuary Stelae from Nerab\\u003cbr\\u003e\\u003cb\\u003eRegion:\\u003c\\u002fb\\u003e Nerab (Al-Nayrab), Syria\\u003cbr\\u003e\\u003cb\\u003eYears:\\u003c\\u002fb\\u003e -700.0 \\u2013 -680.0\\u003cbr\\u003e\\u003cb\\u003ePoll:\\u003c\\u002fb\\u003e Religious Text (v1.0)\",\"line\":{\"color\":\"#E1B700\",\"width\":2},\"mode\":\"lines\",\"name\":\"\",\"showlegend\":false,\"x\":[-700.0,-680.0],\"y\":[24,24],\"type\":\"scatter\"},{\"hovertemplate\":\"\\u003cb\\u003eEntry:\\u003c\\u002fb\\u003e The Book of Deuteronomy\\u003cbr\\u003e\\u003cb\\u003eRegion:\\u003c\\u002fb\\u003e Ancient Judah\\u003cbr\\u003e\\u003cb\\u003eYears:\\u003c\\u002fb\\u003e -700.0 \\u2013 -500.0\\u003cbr\\u003e\\u003cb\\u003ePoll:\\u003c\\u002fb\\u003e Religious Text (v1.0)\",\"line\":{\"color\":\"#E1B700\",\"width\":2},\"mode\":\"lines\",\"name\":\"\",\"showlegend\":false,\"x\":[-700.0,-500.0],\"y\":[25,25],\"type\":\"scatter\"},{\"hovertemplate\":\"\\u003cb\\u003eEntry:\\u003c\\u002fb\\u003e The Autobiography of Adad-guppi\\u003cbr\\u003e\\u003cb\\u003eRegion:\\u003c\\u002fb\\u003e Harran, Turkey\\u003cbr\\u003e\\u003cb\\u003eYears:\\u003c\\u002fb\\u003e -649.0 \\u2013 -539.0\\u003cbr\\u003e\\u003cb\\u003ePoll:\\u003c\\u002fb\\u003e Religious Text (v1.0)\",\"line\":{\"color\":\"#E1B700\",\"width\":2},\"mode\":\"lines\",\"name\":\"\",\"showlegend\":false,\"x\":[-649.0,-539.0],\"y\":[26,26],\"type\":\"scatter\"},{\"hovertemplate\":\"\\u003cb\\u003eEntry:\\u003c\\u002fb\\u003e Temple of \\u02bfAthtar dh\\u016b-Qab\\u1e0d\\u003cbr\\u003e\\u003cb\\u003eRegion:\\u003c\\u002fb\\u003e Bar\\u0101qish\\u003cbr\\u003e\\u003cb\\u003eYears:\\u003c\\u002fb\\u003e -600.0 \\u2013 100.0\\u003cbr\\u003e\\u003cb\\u003ePoll:\\u003c\\u002fb\\u003e Religious Place (v1.2)\",\"line\":{\"color\":\"#AEDFF7\",\"width\":2},\"mode\":\"lines\",\"name\":\"\",\"showlegend\":false,\"x\":[-600.0,100.0],\"y\":[27,27],\"type\":\"scatter\"},{\"hovertemplate\":\"\\u003cb\\u003eEntry:\\u003c\\u002fb\\u003e The Samaritans (Persian to early Roman periods)\\u003cbr\\u003e\\u003cb\\u003eRegion:\\u003c\\u002fb\\u003e Ancient Levant\\u003cbr\\u003e\\u003cb\\u003eYears:\\u003c\\u002fb\\u003e -500.0 \\u2013 100.0\\u003cbr\\u003e\\u003cb\\u003ePoll:\\u003c\\u002fb\\u003e Religious Group (v6)\",\"line\":{\"color\":\"#00CC96\",\"width\":2},\"mode\":\"lines\",\"name\":\"\",\"showlegend\":false,\"x\":[-500.0,100.0],\"y\":[28,28],\"type\":\"scatter\"},{\"hovertemplate\":\"\\u003cb\\u003eEntry:\\u003c\\u002fb\\u003e Ezra 9\\u003cbr\\u003e\\u003cb\\u003eRegion:\\u003c\\u002fb\\u003e Levant\\u003cbr\\u003e\\u003cb\\u003eYears:\\u003c\\u002fb\\u003e -400.0 \\u2013 350.0\\u003cbr\\u003e\\u003cb\\u003ePoll:\\u003c\\u002fb\\u003e Religious Text (v1.0)\",\"line\":{\"color\":\"#E1B700\",\"width\":2},\"mode\":\"lines\",\"name\":\"\",\"showlegend\":false,\"x\":[-400.0,350.0],\"y\":[29,29],\"type\":\"scatter\"},{\"hovertemplate\":\"\\u003cb\\u003eEntry:\\u003c\\u002fb\\u003e Priests and Scholars of Hellenistic Uruk\\u003cbr\\u003e\\u003cb\\u003eRegion:\\u003c\\u002fb\\u003e Uruk\\u003cbr\\u003e\\u003cb\\u003eYears:\\u003c\\u002fb\\u003e -330.0 \\u2013 -125.0\\u003cbr\\u003e\\u003cb\\u003ePoll:\\u003c\\u002fb\\u003e Religious Group (v5)\",\"line\":{\"color\":\"#00CC96\",\"width\":2},\"mode\":\"lines\",\"name\":\"\",\"showlegend\":false,\"x\":[-330.0,-125.0],\"y\":[30,30],\"type\":\"scatter\"},{\"hovertemplate\":\"\\u003cb\\u003eEntry:\\u003c\\u002fb\\u003e Hellenistic Religion in the Seleucid Empire\\u003cbr\\u003e\\u003cb\\u003eRegion:\\u003c\\u002fb\\u003e Seleucid Empire\\u003cbr\\u003e\\u003cb\\u003eYears:\\u003c\\u002fb\\u003e -312.0 \\u2013 -64.0\\u003cbr\\u003e\\u003cb\\u003ePoll:\\u003c\\u002fb\\u003e Religious Group (v6)\",\"line\":{\"color\":\"#00CC96\",\"width\":2},\"mode\":\"lines\",\"name\":\"\",\"showlegend\":false,\"x\":[-312.0,-64.0],\"y\":[31,31],\"type\":\"scatter\"},{\"hovertemplate\":\"\\u003cb\\u003eEntry:\\u003c\\u002fb\\u003e The Essenes\\u003cbr\\u003e\\u003cb\\u003eRegion:\\u003c\\u002fb\\u003e Roman Palestine\\u003cbr\\u003e\\u003cb\\u003eYears:\\u003c\\u002fb\\u003e -165.0 \\u2013 75.0\\u003cbr\\u003e\\u003cb\\u003ePoll:\\u003c\\u002fb\\u003e Religious Group (v5)\",\"line\":{\"color\":\"#00CC96\",\"width\":2},\"mode\":\"lines\",\"name\":\"\",\"showlegend\":false,\"x\":[-165.0,75.0],\"y\":[32,32],\"type\":\"scatter\"},{\"hovertemplate\":\"\\u003cb\\u003eEntry:\\u003c\\u002fb\\u003e The Book of Judith\\u003cbr\\u003e\\u003cb\\u003eRegion:\\u003c\\u002fb\\u003e Levant\\u003cbr\\u003e\\u003cb\\u003eYears:\\u003c\\u002fb\\u003e -160.0 \\u2013 80.0\\u003cbr\\u003e\\u003cb\\u003ePoll:\\u003c\\u002fb\\u003e Religious Text (v1.0)\",\"line\":{\"color\":\"#E1B700\",\"width\":2},\"mode\":\"lines\",\"name\":\"\",\"showlegend\":false,\"x\":[-160.0,80.0],\"y\":[33,33],\"type\":\"scatter\"},{\"hovertemplate\":\"\\u003cb\\u003eEntry:\\u003c\\u002fb\\u003e Communal Petitions for Days of the Week: Prayer for Friday (4Q504)\\u003cbr\\u003e\\u003cb\\u003eRegion:\\u003c\\u002fb\\u003e Jewish settlement in the land of Israel at the Second Temple period\\u003cbr\\u003e\\u003cb\\u003eYears:\\u003c\\u002fb\\u003e -150.0 \\u2013 70.0\\u003cbr\\u003e\\u003cb\\u003ePoll:\\u003c\\u002fb\\u003e Religious Text (v1.0)\",\"line\":{\"color\":\"#E1B700\",\"width\":2},\"mode\":\"lines\",\"name\":\"\",\"showlegend\":false,\"x\":[-150.0,70.0],\"y\":[34,34],\"type\":\"scatter\"},{\"hovertemplate\":\"\\u003cb\\u003eEntry:\\u003c\\u002fb\\u003e 4QPseudo Ezekiel\\u003cbr\\u003e\\u003cb\\u003eRegion:\\u003c\\u002fb\\u003e Jerusalem and Qumran\\u003cbr\\u003e\\u003cb\\u003eYears:\\u003c\\u002fb\\u003e -150.0 \\u2013 -25.0\\u003cbr\\u003e\\u003cb\\u003ePoll:\\u003c\\u002fb\\u003e Religious Text (v1.0)\",\"line\":{\"color\":\"#E1B700\",\"width\":2},\"mode\":\"lines\",\"name\":\"\",\"showlegend\":false,\"x\":[-150.0,-25.0],\"y\":[35,35],\"type\":\"scatter\"},{\"hovertemplate\":\"\\u003cb\\u003eEntry:\\u003c\\u002fb\\u003e 4QInstruction\\u003cbr\\u003e\\u003cb\\u003eRegion:\\u003c\\u002fb\\u003e Jerusalem and the Judean Desert\\u003cbr\\u003e\\u003cb\\u003eYears:\\u003c\\u002fb\\u003e -100.0 \\u2013 50.0\\u003cbr\\u003e\\u003cb\\u003ePoll:\\u003c\\u002fb\\u003e Religious Text (v1.0)\",\"line\":{\"color\":\"#E1B700\",\"width\":2},\"mode\":\"lines\",\"name\":\"\",\"showlegend\":false,\"x\":[-100.0,50.0],\"y\":[36,36],\"type\":\"scatter\"},{\"hovertemplate\":\"\\u003cb\\u003eEntry:\\u003c\\u002fb\\u003e The Covenant Ceremony in the Community Rule (1QS)\\u003cbr\\u003e\\u003cb\\u003eRegion:\\u003c\\u002fb\\u003e Jewish settlement in the land of Israel at the Second Temple period\\u003cbr\\u003e\\u003cb\\u003eYears:\\u003c\\u002fb\\u003e -100.0 \\u2013 0.0\\u003cbr\\u003e\\u003cb\\u003ePoll:\\u003c\\u002fb\\u003e Religious Text (v1.0)\",\"line\":{\"color\":\"#E1B700\",\"width\":2},\"mode\":\"lines\",\"name\":\"\",\"showlegend\":false,\"x\":[-100.0,0.0],\"y\":[37,37],\"type\":\"scatter\"},{\"hovertemplate\":\"\\u003cb\\u003eEntry:\\u003c\\u002fb\\u003e Religion of Roman Palmyra\\u003cbr\\u003e\\u003cb\\u003eRegion:\\u003c\\u002fb\\u003e Syria\\u003cbr\\u003e\\u003cb\\u003eYears:\\u003c\\u002fb\\u003e -44.0 \\u2013 272.0\\u003cbr\\u003e\\u003cb\\u003ePoll:\\u003c\\u002fb\\u003e Religious Place (v1.2)\",\"line\":{\"color\":\"#AEDFF7\",\"width\":2},\"mode\":\"lines\",\"name\":\"\",\"showlegend\":false,\"x\":[-44.0,272.0],\"y\":[38,38],\"type\":\"scatter\"},{\"hovertemplate\":\"\\u003cb\\u003eEntry:\\u003c\\u002fb\\u003e Early Christianity and Monasticism in Egypt\\u003cbr\\u003e\\u003cb\\u003eRegion:\\u003c\\u002fb\\u003e Early Christian Egypt\\u003cbr\\u003e\\u003cb\\u003eYears:\\u003c\\u002fb\\u003e 0.0 \\u2013 600.0\\u003cbr\\u003e\\u003cb\\u003ePoll:\\u003c\\u002fb\\u003e Religious Group (v6)\",\"line\":{\"color\":\"#00CC96\",\"width\":2},\"mode\":\"lines\",\"name\":\"\",\"showlegend\":false,\"x\":[0.0,600.0],\"y\":[39,39],\"type\":\"scatter\"},{\"hovertemplate\":\"\\u003cb\\u003eEntry:\\u003c\\u002fb\\u003e Synagogue at Magdala\\u003cbr\\u003e\\u003cb\\u003eRegion:\\u003c\\u002fb\\u003e Magdala Synagogue\\u003cbr\\u003e\\u003cb\\u003eYears:\\u003c\\u002fb\\u003e 1.0 \\u2013 80.0\\u003cbr\\u003e\\u003cb\\u003ePoll:\\u003c\\u002fb\\u003e Religious Place (v1.2)\",\"line\":{\"color\":\"#AEDFF7\",\"width\":2},\"mode\":\"lines\",\"name\":\"\",\"showlegend\":false,\"x\":[1.0,80.0],\"y\":[40,40],\"type\":\"scatter\"},{\"hovertemplate\":\"\\u003cb\\u003eEntry:\\u003c\\u002fb\\u003e Daily Communal Petitions (Tefillah\\u002fAmidah)\\u003cbr\\u003e\\u003cb\\u003eRegion:\\u003c\\u002fb\\u003e Judea and Babylonia\\u003cbr\\u003e\\u003cb\\u003eYears:\\u003c\\u002fb\\u003e 50.0 \\u2013 1000.0\\u003cbr\\u003e\\u003cb\\u003ePoll:\\u003c\\u002fb\\u003e Religious Text (v1.0)\",\"line\":{\"color\":\"#E1B700\",\"width\":2},\"mode\":\"lines\",\"name\":\"\",\"showlegend\":false,\"x\":[50.0,1000.0],\"y\":[41,41],\"type\":\"scatter\"},{\"hovertemplate\":\"\\u003cb\\u003eEntry:\\u003c\\u002fb\\u003e Targums\\u003cbr\\u003e\\u003cb\\u003eRegion:\\u003c\\u002fb\\u003e The spread of the Targums\\u003cbr\\u003e\\u003cb\\u003eYears:\\u003c\\u002fb\\u003e 70.0 \\u2013 601.0\\u003cbr\\u003e\\u003cb\\u003ePoll:\\u003c\\u002fb\\u003e Religious Text (v1.0)\",\"line\":{\"color\":\"#E1B700\",\"width\":2},\"mode\":\"lines\",\"name\":\"\",\"showlegend\":false,\"x\":[70.0,601.0],\"y\":[42,42],\"type\":\"scatter\"},{\"hovertemplate\":\"\\u003cb\\u003eEntry:\\u003c\\u002fb\\u003e Encratites\\u003cbr\\u003e\\u003cb\\u003eRegion:\\u003c\\u002fb\\u003e Ancient Mediterranean.\\u003cbr\\u003e\\u003cb\\u003eYears:\\u003c\\u002fb\\u003e 100.0 \\u2013 400.0\\u003cbr\\u003e\\u003cb\\u003ePoll:\\u003c\\u002fb\\u003e Religious Group (v6)\",\"line\":{\"color\":\"#00CC96\",\"width\":2},\"mode\":\"lines\",\"name\":\"\",\"showlegend\":false,\"x\":[100.0,400.0],\"y\":[43,43],\"type\":\"scatter\"},{\"hovertemplate\":\"\\u003cb\\u003eEntry:\\u003c\\u002fb\\u003e Christianity in Ephesus\\u003cbr\\u003e\\u003cb\\u003eRegion:\\u003c\\u002fb\\u003e Ephesian Civic Core & Surrounding Area\\u003cbr\\u003e\\u003cb\\u003eYears:\\u003c\\u002fb\\u003e 120.0 \\u2013 300.0\\u003cbr\\u003e\\u003cb\\u003ePoll:\\u003c\\u002fb\\u003e Religious Group (v6)\",\"line\":{\"color\":\"#00CC96\",\"width\":2},\"mode\":\"lines\",\"name\":\"\",\"showlegend\":false,\"x\":[120.0,300.0],\"y\":[44,44],\"type\":\"scatter\"},{\"hovertemplate\":\"\\u003cb\\u003eEntry:\\u003c\\u002fb\\u003e Samaritan Hymn by Amram Dare\\u003cbr\\u003e\\u003cb\\u003eRegion:\\u003c\\u002fb\\u003e Samaria\\u003cbr\\u003e\\u003cb\\u003eYears:\\u003c\\u002fb\\u003e 200.0 \\u2013 1800.0\\u003cbr\\u003e\\u003cb\\u003ePoll:\\u003c\\u002fb\\u003e Religious Text (v1.0)\",\"line\":{\"color\":\"#E1B700\",\"width\":2},\"mode\":\"lines\",\"name\":\"\",\"showlegend\":false,\"x\":[200.0,1800.0],\"y\":[45,45],\"type\":\"scatter\"},{\"hovertemplate\":\"\\u003cb\\u003eEntry:\\u003c\\u002fb\\u003e Rabbinic Judaism (Babylonia)\\u003cbr\\u003e\\u003cb\\u003eRegion:\\u003c\\u002fb\\u003e Babylonia\\u003cbr\\u003e\\u003cb\\u003eYears:\\u003c\\u002fb\\u003e 220.0 \\u2013 650.0\\u003cbr\\u003e\\u003cb\\u003ePoll:\\u003c\\u002fb\\u003e Religious Group (v6)\",\"line\":{\"color\":\"#00CC96\",\"width\":2},\"mode\":\"lines\",\"name\":\"\",\"showlegend\":false,\"x\":[220.0,650.0],\"y\":[46,46],\"type\":\"scatter\"},{\"hovertemplate\":\"\\u003cb\\u003eEntry:\\u003c\\u002fb\\u003e Le Conflit d'Adam et Eve contre Satan ou The first and the Second hidden book of Adam and Eve \\u0635\\u0631\\u0627\\u0639 \\u0622\\u062f\\u0645 \\u0648\\u062d\\u0648\\u0651\\u0627\\u0621 \\u0636\\u062f\\u0651 \\u0627\\u0644\\u0634\\u064a\\u0637\\u0627\\u0646\\u003cbr\\u003e\\u003cb\\u003eRegion:\\u003c\\u002fb\\u003e Egypte Ethiopie\\u003cbr\\u003e\\u003cb\\u003eYears:\\u003c\\u002fb\\u003e 300.0 \\u2013 990.0\\u003cbr\\u003e\\u003cb\\u003ePoll:\\u003c\\u002fb\\u003e Religious Text (v1.0)\",\"line\":{\"color\":\"#E1B700\",\"width\":2},\"mode\":\"lines\",\"name\":\"\",\"showlegend\":false,\"x\":[300.0,990.0],\"y\":[47,47],\"type\":\"scatter\"},{\"hovertemplate\":\"\\u003cb\\u003eEntry:\\u003c\\u002fb\\u003e Church of the Holy Savior in Chora\\u003cbr\\u003e\\u003cb\\u003eRegion:\\u003c\\u002fb\\u003e Chora Church\\u003cbr\\u003e\\u003cb\\u003eYears:\\u003c\\u002fb\\u003e 330.0 \\u2013 2024.0\\u003cbr\\u003e\\u003cb\\u003ePoll:\\u003c\\u002fb\\u003e Religious Place (v1.2)\",\"line\":{\"color\":\"#AEDFF7\",\"width\":2},\"mode\":\"lines\",\"name\":\"\",\"showlegend\":false,\"x\":[330.0,2024.0],\"y\":[48,48],\"type\":\"scatter\"},{\"hovertemplate\":\"\\u003cb\\u003eEntry:\\u003c\\u002fb\\u003e St. John Chrysostom, Homilies On the Incomprehensible Nature of God\\u003cbr\\u003e\\u003cb\\u003eRegion:\\u003c\\u002fb\\u003e Byzantine Antioch\\u003cbr\\u003e\\u003cb\\u003eYears:\\u003c\\u002fb\\u003e 347.0 \\u2013 407.0\\u003cbr\\u003e\\u003cb\\u003ePoll:\\u003c\\u002fb\\u003e Religious Text (v1.0)\",\"line\":{\"color\":\"#E1B700\",\"width\":2},\"mode\":\"lines\",\"name\":\"\",\"showlegend\":false,\"x\":[347.0,407.0],\"y\":[49,49],\"type\":\"scatter\"},{\"hovertemplate\":\"\\u003cb\\u003eEntry:\\u003c\\u002fb\\u003e Julian Romance\\u003cbr\\u003e\\u003cb\\u003eRegion:\\u003c\\u002fb\\u003e Edessa\\u003cbr\\u003e\\u003cb\\u003eYears:\\u003c\\u002fb\\u003e 361.0 \\u2013 599.0\\u003cbr\\u003e\\u003cb\\u003ePoll:\\u003c\\u002fb\\u003e Religious Text (v1.0)\",\"line\":{\"color\":\"#E1B700\",\"width\":2},\"mode\":\"lines\",\"name\":\"\",\"showlegend\":false,\"x\":[361.0,599.0],\"y\":[50,50],\"type\":\"scatter\"},{\"hovertemplate\":\"\\u003cb\\u003eEntry:\\u003c\\u002fb\\u003e Early Byzantine Asceticism\\u003cbr\\u003e\\u003cb\\u003eRegion:\\u003c\\u002fb\\u003e Eastern Mediterranean\\u003cbr\\u003e\\u003cb\\u003eYears:\\u003c\\u002fb\\u003e 400.0 \\u2013 600.0\\u003cbr\\u003e\\u003cb\\u003ePoll:\\u003c\\u002fb\\u003e Religious Group (v6)\",\"line\":{\"color\":\"#00CC96\",\"width\":2},\"mode\":\"lines\",\"name\":\"\",\"showlegend\":false,\"x\":[400.0,600.0],\"y\":[51,51],\"type\":\"scatter\"},{\"hovertemplate\":\"\\u003cb\\u003eEntry:\\u003c\\u002fb\\u003e The Lausiac History\\u003cbr\\u003e\\u003cb\\u003eRegion:\\u003c\\u002fb\\u003e Egyptian desert, Palestine, and Turkey\\u003cbr\\u003e\\u003cb\\u003eYears:\\u003c\\u002fb\\u003e 419.0 \\u2013 439.0\\u003cbr\\u003e\\u003cb\\u003ePoll:\\u003c\\u002fb\\u003e Religious Text (v1.0)\",\"line\":{\"color\":\"#E1B700\",\"width\":2},\"mode\":\"lines\",\"name\":\"\",\"showlegend\":false,\"x\":[419.0,439.0],\"y\":[52,52],\"type\":\"scatter\"},{\"hovertemplate\":\"\\u003cb\\u003eEntry:\\u003c\\u002fb\\u003e Nestorian Christianity\\u003cbr\\u003e\\u003cb\\u003eRegion:\\u003c\\u002fb\\u003e Nestorian Christianity\\u003cbr\\u003e\\u003cb\\u003eYears:\\u003c\\u002fb\\u003e 431.0 \\u2013 1500.0\\u003cbr\\u003e\\u003cb\\u003ePoll:\\u003c\\u002fb\\u003e Religious Group (v6)\",\"line\":{\"color\":\"#00CC96\",\"width\":2},\"mode\":\"lines\",\"name\":\"\",\"showlegend\":false,\"x\":[431.0,1500.0],\"y\":[53,53],\"type\":\"scatter\"},{\"hovertemplate\":\"\\u003cb\\u003eEntry:\\u003c\\u002fb\\u003e The \\\"On the Divine Names\\\" of Pseudo Denys the Areopagite\\u003cbr\\u003e\\u003cb\\u003eRegion:\\u003c\\u002fb\\u003e Syria\\u003cbr\\u003e\\u003cb\\u003eYears:\\u003c\\u002fb\\u003e 485.0 \\u2013 528.0\\u003cbr\\u003e\\u003cb\\u003ePoll:\\u003c\\u002fb\\u003e Religious Text (v1.0)\",\"line\":{\"color\":\"#E1B700\",\"width\":2},\"mode\":\"lines\",\"name\":\"\",\"showlegend\":false,\"x\":[485.0,528.0],\"y\":[54,54],\"type\":\"scatter\"},{\"hovertemplate\":\"\\u003cb\\u003eEntry:\\u003c\\u002fb\\u003e Hagia Sophia\\u003cbr\\u003e\\u003cb\\u003eRegion:\\u003c\\u002fb\\u003e Istanbul, Turkey\\u003cbr\\u003e\\u003cb\\u003eYears:\\u003c\\u002fb\\u003e 537.0 \\u2013 2024.0\\u003cbr\\u003e\\u003cb\\u003ePoll:\\u003c\\u002fb\\u003e Religious Place (v1.3)\",\"line\":{\"color\":\"#AEDFF7\",\"width\":2},\"mode\":\"lines\",\"name\":\"\",\"showlegend\":false,\"x\":[537.0,2024.0],\"y\":[55,55],\"type\":\"scatter\"},{\"hovertemplate\":\"\\u003cb\\u003eEntry:\\u003c\\u002fb\\u003e \\u0627\\u0644\\u0642\\u0631\\u0622\\u0646 \\u0627\\u0644\\u0643\\u0631\\u064a\\u0645 Le Noble Coran\\u003cbr\\u003e\\u003cb\\u003eRegion:\\u003c\\u002fb\\u003e Mekka\\u003cbr\\u003e\\u003cb\\u003eYears:\\u003c\\u002fb\\u003e 610.0 \\u2013 2024.0\\u003cbr\\u003e\\u003cb\\u003ePoll:\\u003c\\u002fb\\u003e Religious Text (v1.0)\",\"line\":{\"color\":\"#E1B700\",\"width\":2},\"mode\":\"lines\",\"name\":\"\",\"showlegend\":false,\"x\":[610.0,2024.0],\"y\":[56,56],\"type\":\"scatter\"},{\"hovertemplate\":\"\\u003cb\\u003eEntry:\\u003c\\u002fb\\u003e Al-'Ataba Al-Housainia \\u0627\\u0644\\u0639\\u062a\\u0640\\u0640\\u0640\\u0640\\u0628\\u0640\\u0640\\u0640\\u0629 \\u0627\\u0644\\u062d\\u064f\\u0633\\u064a\\u0652\\u0640\\u0646\\u0651\\u0640\\u064a\\u0640\\u0629\\u003cbr\\u003e\\u003cb\\u003eRegion:\\u003c\\u002fb\\u003e Karbala\\u003cbr\\u003e\\u003cb\\u003eYears:\\u003c\\u002fb\\u003e 680.0 \\u2013 2023.0\\u003cbr\\u003e\\u003cb\\u003ePoll:\\u003c\\u002fb\\u003e Religious Place (v1.2)\",\"line\":{\"color\":\"#AEDFF7\",\"width\":2},\"mode\":\"lines\",\"name\":\"\",\"showlegend\":false,\"x\":[680.0,2023.0],\"y\":[57,57],\"type\":\"scatter\"},{\"hovertemplate\":\"\\u003cb\\u003eEntry:\\u003c\\u002fb\\u003e \\u0627\\u0644\\u0625\\u0628\\u0627\\u0636\\u064a\\u0629  Al-Ibadia\\u003cbr\\u003e\\u003cb\\u003eRegion:\\u003c\\u002fb\\u003e oman\\u003cbr\\u003e\\u003cb\\u003eYears:\\u003c\\u002fb\\u003e 708.0 \\u2013 2023.0\\u003cbr\\u003e\\u003cb\\u003ePoll:\\u003c\\u002fb\\u003e Religious Group (v6)\",\"line\":{\"color\":\"#00CC96\",\"width\":2},\"mode\":\"lines\",\"name\":\"\",\"showlegend\":false,\"x\":[708.0,2023.0],\"y\":[58,58],\"type\":\"scatter\"},{\"hovertemplate\":\"\\u003cb\\u003eEntry:\\u003c\\u002fb\\u003e The 'Abb\\u0101sids\\u003cbr\\u003e\\u003cb\\u003eRegion:\\u003c\\u002fb\\u003e 'Abb\\u0101sid Caliphate\\u003cbr\\u003e\\u003cb\\u003eYears:\\u003c\\u002fb\\u003e 750.0 \\u2013 1258.0\\u003cbr\\u003e\\u003cb\\u003ePoll:\\u003c\\u002fb\\u003e Religious Group (v6)\",\"line\":{\"color\":\"#00CC96\",\"width\":2},\"mode\":\"lines\",\"name\":\"\",\"showlegend\":false,\"x\":[750.0,1258.0],\"y\":[59,59],\"type\":\"scatter\"},{\"hovertemplate\":\"\\u003cb\\u003eEntry:\\u003c\\u002fb\\u003e \\u0627\\u0644\\u062f\\u0648\\u0644\\u0629 \\u0627\\u0644\\u0639\\u0628\\u0627\\u0633\\u064a\\u0628\\u0651\\u0629 \\u0641\\u064a \\u0627\\u0644\\u0645\\u0634\\u0631\\u0642  \\u0645\\u0646 750 \\u0645 \\u0627\\u0644\\u0649 1517 \\u0645 (The Abbasid State in the Mashriq from 750 to 1517)\\u003cbr\\u003e\\u003cb\\u003eRegion:\\u003c\\u002fb\\u003e \\u0627\\u0644\\u0639\\u0631\\u0627\\u0642-\\u0627\\u0644\\u0634\\u0627\\u0645 - \\u0627\\u064a\\u0631\\u0627\\u0646 -\\u0643\\u0627\\u0632\\u062e\\u0633\\u062a\\u0627\\u0646 -\\u0645\\u0635\\u0631 -  \\u0627\\u0644\\u062c\\u0632\\u064a\\u0631\\u0629 \\u0627\\u0644\\u0639\\u0631\\u0628\\u064a\\u0651\\u0629 -\\u0627\\u0644\\u0645\\u063a\\u0631\\u0628 \\u0627\\u0644\\u0639\\u0631\\u0628\\u064a\\u003cbr\\u003e\\u003cb\\u003eYears:\\u003c\\u002fb\\u003e 750.0 \\u2013 1517.0\\u003cbr\\u003e\\u003cb\\u003ePoll:\\u003c\\u002fb\\u003e Religious Group (v6)\",\"line\":{\"color\":\"#00CC96\",\"width\":2},\"mode\":\"lines\",\"name\":\"\",\"showlegend\":false,\"x\":[750.0,1517.0],\"y\":[60,60],\"type\":\"scatter\"},{\"hovertemplate\":\"\\u003cb\\u003eEntry:\\u003c\\u002fb\\u003e Stoudios Monastery\\u003cbr\\u003e\\u003cb\\u003eRegion:\\u003c\\u002fb\\u003e Constantinople, c800CE-1400CE\\u003cbr\\u003e\\u003cb\\u003eYears:\\u003c\\u002fb\\u003e 800.0 \\u2013 1453.0\\u003cbr\\u003e\\u003cb\\u003ePoll:\\u003c\\u002fb\\u003e Religious Place (v1.2)\",\"line\":{\"color\":\"#AEDFF7\",\"width\":2},\"mode\":\"lines\",\"name\":\"\",\"showlegend\":false,\"x\":[800.0,1453.0],\"y\":[61,61],\"type\":\"scatter\"},{\"hovertemplate\":\"\\u003cb\\u003eEntry:\\u003c\\u002fb\\u003e Livre  des R\\u00e8gle  de conduite des ma\\u00eetres \\u0643\\u062a\\u0627\\u0628 \\\" \\u0622\\u062f\\u0627\\u0628 \\u0627\\u0644\\u0645\\u0639\\u0644\\u0651\\u0645\\u064a\\u0646  \\\" \\u0645\\u062d\\u0645\\u062f \\u0627\\u0628\\u0646 \\u0633\\u062d\\u0646\\u0648\\u0646\\\"\\u003cbr\\u003e\\u003cb\\u003eRegion:\\u003c\\u002fb\\u003e Kairouan - Egypte - Hedjaz - Levant\\u003cbr\\u003e\\u003cb\\u003eYears:\\u003c\\u002fb\\u003e 817.0 \\u2013 870.0\\u003cbr\\u003e\\u003cb\\u003ePoll:\\u003c\\u002fb\\u003e Religious Text (v1.0)\",\"line\":{\"color\":\"#E1B700\",\"width\":2},\"mode\":\"lines\",\"name\":\"\",\"showlegend\":false,\"x\":[817.0,870.0],\"y\":[62,62],\"type\":\"scatter\"},{\"hovertemplate\":\"\\u003cb\\u003eEntry:\\u003c\\u002fb\\u003e Al-Tabari\\u2019s interpretation of the Qur\\u2019an \\u062a\\u0641\\u0633\\u064a\\u0631 \\u0627\\u0644\\u0637\\u0628\\u0631\\u064a\\\"\\u062c\\u0627\\u0645\\u0639 \\u0627\\u0644\\u0628\\u064a\\u0627\\u0646 \\u0641\\u064a \\u062a\\u0623\\u0648\\u064a\\u0644 \\u0622\\u064a \\u0627\\u0644\\u0642\\u0631\\u0622\\u0646 \\\"\\u003cbr\\u003e\\u003cb\\u003eRegion:\\u003c\\u002fb\\u003e Al-Tabari moved between Tabaristan in Iran, Baghdad, Basra, Kufa, and Egypt\\u003cbr\\u003e\\u003cb\\u003eYears:\\u003c\\u002fb\\u003e 839.0 \\u2013 923.0\\u003cbr\\u003e\\u003cb\\u003ePoll:\\u003c\\u002fb\\u003e Religious Text (v1.0)\",\"line\":{\"color\":\"#E1B700\",\"width\":2},\"mode\":\"lines\",\"name\":\"\",\"showlegend\":false,\"x\":[839.0,923.0],\"y\":[63,63],\"type\":\"scatter\"},{\"hovertemplate\":\"\\u003cb\\u003eEntry:\\u003c\\u002fb\\u003e Le Livre de al-'Ibana 'an 'Usul al-Diyana de al-Ash'ari \\u0643\\u062a\\u0627\\u0628 \\u0627\\u0644\\u0625\\u0628\\u0627\\u0646\\u0629 \\u0639\\u0646 \\u0623\\u0635\\u0648\\u0644 \\u0627\\u0644\\u062f\\u064a\\u0627\\u0646\\u0629 \\u0644\\u0644\\u0623\\u0634\\u0639\\u0631\\u064a\\u003cbr\\u003e\\u003cb\\u003eRegion:\\u003c\\u002fb\\u003e al-Basra-Baghdad\\u003cbr\\u003e\\u003cb\\u003eYears:\\u003c\\u002fb\\u003e 874.0 \\u2013 936.0\\u003cbr\\u003e\\u003cb\\u003ePoll:\\u003c\\u002fb\\u003e Religious Text (v1.0)\",\"line\":{\"color\":\"#E1B700\",\"width\":2},\"mode\":\"lines\",\"name\":\"\",\"showlegend\":false,\"x\":[874.0,936.0],\"y\":[64,64],\"type\":\"scatter\"},{\"hovertemplate\":\"\\u003cb\\u003eEntry:\\u003c\\u002fb\\u003e Zaydism and the state in Yemen\\u003cbr\\u003e\\u003cb\\u003eRegion:\\u003c\\u002fb\\u003e Zaydis in Yemen\\u003cbr\\u003e\\u003cb\\u003eYears:\\u003c\\u002fb\\u003e 897.0 \\u2013 1700.0\\u003cbr\\u003e\\u003cb\\u003ePoll:\\u003c\\u002fb\\u003e Religious Group (v6)\",\"line\":{\"color\":\"#00CC96\",\"width\":2},\"mode\":\"lines\",\"name\":\"\",\"showlegend\":false,\"x\":[897.0,1700.0],\"y\":[65,65],\"type\":\"scatter\"},{\"hovertemplate\":\"\\u003cb\\u003eEntry:\\u003c\\u002fb\\u003e Who is not assisted by the religious scholar(The Jurist) (Man La Yahdhuruhu al-Faqih) \\u0645\\u0646 \\u0644\\u0627 \\u064a\\u062d\\u0636\\u0631\\u0647 \\u0627\\u0644\\u0641\\u0642\\u064a\\u0647\\u003cbr\\u003e\\u003cb\\u003eRegion:\\u003c\\u002fb\\u003e Qom\\u003cbr\\u003e\\u003cb\\u003eYears:\\u003c\\u002fb\\u003e 916.0 \\u2013 991.0\\u003cbr\\u003e\\u003cb\\u003ePoll:\\u003c\\u002fb\\u003e Religious Text (v1.0)\",\"line\":{\"color\":\"#E1B700\",\"width\":2},\"mode\":\"lines\",\"name\":\"\",\"showlegend\":false,\"x\":[916.0,991.0],\"y\":[66,66],\"type\":\"scatter\"},{\"hovertemplate\":\"\\u003cb\\u003eEntry:\\u003c\\u002fb\\u003e 'Uyun akhbar al-Ridha de Shaykh as-Saduq \\u0639\\u064a\\u0648\\u0646 \\u0623\\u062e\\u0628\\u0627\\u0631 \\u0627\\u0644\\u0631\\u0636\\u0627 \\u0644\\u0644\\u0634\\u064a\\u062e \\u0627\\u0644\\u0635\\u062f\\u0648\\u0642\\u003cbr\\u003e\\u003cb\\u003eRegion:\\u003c\\u002fb\\u003e Qom\\u003cbr\\u003e\\u003cb\\u003eYears:\\u003c\\u002fb\\u003e 992.0 \\u2013 2024.0\\u003cbr\\u003e\\u003cb\\u003ePoll:\\u003c\\u002fb\\u003e Religious Text (v1.0)\",\"line\":{\"color\":\"#E1B700\",\"width\":2},\"mode\":\"lines\",\"name\":\"\",\"showlegend\":false,\"x\":[992.0,2024.0],\"y\":[67,67],\"type\":\"scatter\"},{\"hovertemplate\":\"\\u003cb\\u003eEntry:\\u003c\\u002fb\\u003e \\u2018Ara\\u2019is al-Majalis fi Qasas al-Anbiya' \\u0639\\u064e\\u0631\\u064e\\u0627\\u0626\\u0650\\u0633\\u064f \\u0627\\u0644\\u0652\\u0645\\u064e\\u062c\\u064e\\u0627\\u0644\\u0650\\u0633\\u0650 \\u0641\\u0650\\u064a \\u0642\\u064e\\u0635\\u064e\\u0635\\u0650 \\u0627\\u0644\\u0652\\u0623\\u064e\\u0646\\u0652\\u0628\\u0650\\u064a\\u064e\\u0627\\u0621\\u0650\\u003cbr\\u003e\\u003cb\\u003eRegion:\\u003c\\u002fb\\u003e Nishapur (or Naysabur)\\u003cbr\\u003e\\u003cb\\u003eYears:\\u003c\\u002fb\\u003e 1036.0 \\u2013 2022.0\\u003cbr\\u003e\\u003cb\\u003ePoll:\\u003c\\u002fb\\u003e Religious Text (v1.0)\",\"line\":{\"color\":\"#E1B700\",\"width\":2},\"mode\":\"lines\",\"name\":\"\",\"showlegend\":false,\"x\":[1036.0,2022.0],\"y\":[68,68],\"type\":\"scatter\"},{\"hovertemplate\":\"\\u003cb\\u003eEntry:\\u003c\\u002fb\\u003e \\u0627\\u0644\\u062f\\u0651\\u0648\\u0644\\u0629 \\u0627\\u0644\\u0633\\u0644\\u062c\\u0648\\u0642\\u064a\\u0651\\u0629(1037 \\u0645 - 1194\\u0645)\\u003cbr\\u003e\\u003cb\\u003eRegion:\\u003c\\u002fb\\u003e \\u0627\\u064a\\u0631\\u0627\\u0646 - \\u0628\\u063a\\u062f\\u0627\\u062f - - \\u0627\\u0644\\u0623\\u0646\\u0627\\u0636\\u0648\\u0644 - \\u0648\\u0633\\u0637 \\u0622\\u0633\\u064a\\u0627\\u003cbr\\u003e\\u003cb\\u003eYears:\\u003c\\u002fb\\u003e 1037.0 \\u2013 1194.0\\u003cbr\\u003e\\u003cb\\u003ePoll:\\u003c\\u002fb\\u003e Religious Group (v6)\",\"line\":{\"color\":\"#00CC96\",\"width\":2},\"mode\":\"lines\",\"name\":\"\",\"showlegend\":false,\"x\":[1037.0,1194.0],\"y\":[69,69],\"type\":\"scatter\"},{\"hovertemplate\":\"\\u003cb\\u003eEntry:\\u003c\\u002fb\\u003e Bad' al-Khalq wa Qasas al-Anbiya' of Kisa'i \\u0643\\u062a\\u0627\\u0628 \\u0628\\u062f\\u0621 \\u0627\\u0644\\u062e\\u0644\\u0642 \\u0648\\u0642\\u0635\\u0635 \\u0627\\u0644\\u0623\\u0646\\u0628\\u064a\\u0627\\u0621 \\u0644\\u0644\\u0643\\u0633\\u0627\\u0626\\u064a\\u003cbr\\u003e\\u003cb\\u003eRegion:\\u003c\\u002fb\\u003e ash-Sham\\u003cbr\\u003e\\u003cb\\u003eYears:\\u003c\\u002fb\\u003e 1100.0 \\u2013 2023.0\\u003cbr\\u003e\\u003cb\\u003ePoll:\\u003c\\u002fb\\u003e Religious Text (v1.0)\",\"line\":{\"color\":\"#E1B700\",\"width\":2},\"mode\":\"lines\",\"name\":\"\",\"showlegend\":false,\"x\":[1100.0,2023.0],\"y\":[70,70],\"type\":\"scatter\"},{\"hovertemplate\":\"\\u003cb\\u003eEntry:\\u003c\\u002fb\\u003e Zeyrek Mosque\\u003cbr\\u003e\\u003cb\\u003eRegion:\\u003c\\u002fb\\u003e Zeyrek, Fatih, Istanbul\\u003cbr\\u003e\\u003cb\\u003eYears:\\u003c\\u002fb\\u003e 1118.0 \\u2013 2024.0\\u003cbr\\u003e\\u003cb\\u003ePoll:\\u003c\\u002fb\\u003e Religious Place (v1.3)\",\"line\":{\"color\":\"#AEDFF7\",\"width\":2},\"mode\":\"lines\",\"name\":\"\",\"showlegend\":false,\"x\":[1118.0,2024.0],\"y\":[71,71],\"type\":\"scatter\"},{\"hovertemplate\":\"\\u003cb\\u003eEntry:\\u003c\\u002fb\\u003e \\u0643\\u062a\\u0627\\u0628 \\u0627\\u0644\\u0645\\u0644\\u0644 \\u0648\\u0627\\u0644\\u0646\\u062d\\u0644 \\u0644\\u0639\\u0628\\u062f \\u0627\\u0644\\u0643\\u0631\\u064a\\u0645 \\u0627\\u0628\\u0648 \\u0627\\u0644\\u0641\\u062a\\u062d \\u0627\\u0644\\u0634\\u0647\\u0631\\u0633\\u062a\\u0627\\u0646\\u064a\\u003cbr\\u003e\\u003cb\\u003eRegion:\\u003c\\u002fb\\u003e (Khwarizm)\\u062e\\u0648\\u0627\\u0631\\u0632\\u0645- \\u0623\\u0641\\u063a\\u0627\\u0646\\u0633\\u062a\\u0627\\u0646\\u003cbr\\u003e\\u003cb\\u003eYears:\\u003c\\u002fb\\u003e 1127.0 \\u2013 2023.0\\u003cbr\\u003e\\u003cb\\u003ePoll:\\u003c\\u002fb\\u003e Religious Text (v1.0)\",\"line\":{\"color\":\"#E1B700\",\"width\":2},\"mode\":\"lines\",\"name\":\"\",\"showlegend\":false,\"x\":[1127.0,2023.0],\"y\":[72,72],\"type\":\"scatter\"},{\"hovertemplate\":\"\\u003cb\\u003eEntry:\\u003c\\u002fb\\u003e Zaouia Sidi Abi Sa'id al-Baji \\u0632\\u0627\\u0648\\u064a\\u0629 \\u0623\\u0628\\u064a \\u0633\\u0639\\u064a\\u062f \\u0627\\u0644\\u0628\\u0627\\u062c\\u064a\\u003cbr\\u003e\\u003cb\\u003eRegion:\\u003c\\u002fb\\u003e La Marsa Sidi Bou Sa'id al-Baji\\u003cbr\\u003e\\u003cb\\u003eYears:\\u003c\\u002fb\\u003e 1156.0 \\u2013 2022.0\\u003cbr\\u003e\\u003cb\\u003ePoll:\\u003c\\u002fb\\u003e Religious Place (v1.2)\",\"line\":{\"color\":\"#AEDFF7\",\"width\":2},\"mode\":\"lines\",\"name\":\"\",\"showlegend\":false,\"x\":[1156.0,2022.0],\"y\":[73,73],\"type\":\"scatter\"},{\"hovertemplate\":\"\\u003cb\\u003eEntry:\\u003c\\u002fb\\u003e Greek Chalcedonian Christians, Nicaea\\u003cbr\\u003e\\u003cb\\u003eRegion:\\u003c\\u002fb\\u003e Empire of Nicaea\\u003cbr\\u003e\\u003cb\\u003eYears:\\u003c\\u002fb\\u003e 1204.0 \\u2013 1261.0\\u003cbr\\u003e\\u003cb\\u003ePoll:\\u003c\\u002fb\\u003e Religious Group (v6)\",\"line\":{\"color\":\"#00CC96\",\"width\":2},\"mode\":\"lines\",\"name\":\"\",\"showlegend\":false,\"x\":[1204.0,1261.0],\"y\":[74,74],\"type\":\"scatter\"},{\"hovertemplate\":\"\\u003cb\\u003eEntry:\\u003c\\u002fb\\u003e Mongol Religion\\u003cbr\\u003e\\u003cb\\u003eRegion:\\u003c\\u002fb\\u003e Mongol Empire (Greatest Extent)\\u003cbr\\u003e\\u003cb\\u003eYears:\\u003c\\u002fb\\u003e 1206.0 \\u2013 1368.0\\u003cbr\\u003e\\u003cb\\u003ePoll:\\u003c\\u002fb\\u003e Religious Group (v5)\",\"line\":{\"color\":\"#00CC96\",\"width\":2},\"mode\":\"lines\",\"name\":\"\",\"showlegend\":false,\"x\":[1206.0,1368.0],\"y\":[75,75],\"type\":\"scatter\"},{\"hovertemplate\":\"\\u003cb\\u003eEntry:\\u003c\\u002fb\\u003e Le Commencement et la Fin \\u0627\\u0644\\u0628\\u062f\\u0627\\u064a\\u0629 \\u0648\\u0627\\u0644\\u0646\\u0647\\u0627\\u064a\\u0629 de Ibn Kathir \\u0644\\u0627\\u0628\\u0646 \\u0643\\u062b\\u064a\\u0631\\u003cbr\\u003e\\u003cb\\u003eRegion:\\u003c\\u002fb\\u003e Damas\\u003cbr\\u003e\\u003cb\\u003eYears:\\u003c\\u002fb\\u003e 1301.0 \\u2013 1373.0\\u003cbr\\u003e\\u003cb\\u003ePoll:\\u003c\\u002fb\\u003e Religious Text (v1.0)\",\"line\":{\"color\":\"#E1B700\",\"width\":2},\"mode\":\"lines\",\"name\":\"\",\"showlegend\":false,\"x\":[1301.0,1373.0],\"y\":[76,76],\"type\":\"scatter\"},{\"hovertemplate\":\"\\u003cb\\u003eEntry:\\u003c\\u002fb\\u003e Wahhabisme \\u0627\\u0644\\u0648\\u0647\\u0651\\u0627\\u0628\\u064a\\u0651\\u0629\\u003cbr\\u003e\\u003cb\\u003eRegion:\\u003c\\u002fb\\u003e Najd \\u0646\\u062c\\u062f\\u003cbr\\u003e\\u003cb\\u003eYears:\\u003c\\u002fb\\u003e 1744.0 \\u2013 1819.0\\u003cbr\\u003e\\u003cb\\u003ePoll:\\u003c\\u002fb\\u003e Religious Group (v6)\",\"line\":{\"color\":\"#00CC96\",\"width\":2},\"mode\":\"lines\",\"name\":\"\",\"showlegend\":false,\"x\":[1744.0,1819.0],\"y\":[77,77],\"type\":\"scatter\"},{\"hovertemplate\":\"\\u003cb\\u003eEntry:\\u003c\\u002fb\\u003e Kurd\\u003cbr\\u003e\\u003cb\\u003eRegion:\\u003c\\u002fb\\u003e Kurdistan\\u003cbr\\u003e\\u003cb\\u003eYears:\\u003c\\u002fb\\u003e 1926.0 \\u2013 1955.0\\u003cbr\\u003e\\u003cb\\u003ePoll:\\u003c\\u002fb\\u003e Religious Group (v6)\",\"line\":{\"color\":\"#00CC96\",\"width\":2},\"mode\":\"lines\",\"name\":\"\",\"showlegend\":false,\"x\":[1926.0,1955.0],\"y\":[78,78],\"type\":\"scatter\"},{\"hovertemplate\":\"\\u003cb\\u003eEntry:\\u003c\\u002fb\\u003e Mustafa Sabri, Mawqif al-\\u02bfAql\\u003cbr\\u003e\\u003cb\\u003eRegion:\\u003c\\u002fb\\u003e Sabri's world of post-Ottoman states\\u003cbr\\u003e\\u003cb\\u003eYears:\\u003c\\u002fb\\u003e 1942.0 \\u2013 1962.0\\u003cbr\\u003e\\u003cb\\u003ePoll:\\u003c\\u002fb\\u003e Religious Text (v1.0)\",\"line\":{\"color\":\"#E1B700\",\"width\":2},\"mode\":\"lines\",\"name\":\"\",\"showlegend\":false,\"x\":[1942.0,1962.0],\"y\":[79,79],\"type\":\"scatter\"},{\"hovertemplate\":\"\\u003cb\\u003eEntry:\\u003c\\u002fb\\u003e L'ordre de L'Islam de Taqi al-Din al-Nabhani \\u0646\\u0638\\u0627\\u0645 \\u0627\\u0644\\u0625\\u0633\\u0644\\u0627\\u0645 \\u0644\\u062a\\u0642\\u064a \\u0627\\u0644\\u062f\\u064a\\u0646 \\u0627\\u0644\\u0646\\u0628\\u0647\\u0627\\u0646\\u064a\\u003cbr\\u003e\\u003cb\\u003eRegion:\\u003c\\u002fb\\u003e J\\u00e9rusalem\\u003cbr\\u003e\\u003cb\\u003eYears:\\u003c\\u002fb\\u003e 1958.0 \\u2013 2024.0\\u003cbr\\u003e\\u003cb\\u003ePoll:\\u003c\\u002fb\\u003e Religious Text (v1.0)\",\"line\":{\"color\":\"#E1B700\",\"width\":2},\"mode\":\"lines\",\"name\":\"\",\"showlegend\":false,\"x\":[1958.0,2024.0],\"y\":[80,80],\"type\":\"scatter\"},{\"hovertemplate\":\"\\u003cb\\u003eEntry:\\u003c\\u002fb\\u003e Al-Ahbash \\u0627\\u0644\\u0623\\u062d\\u0628\\u0627\\u0634\\u003cbr\\u003e\\u003cb\\u003eRegion:\\u003c\\u002fb\\u003e Ethiopia-Liban\\u003cbr\\u003e\\u003cb\\u003eYears:\\u003c\\u002fb\\u003e 1970.0 \\u2013 2022.0\\u003cbr\\u003e\\u003cb\\u003ePoll:\\u003c\\u002fb\\u003e Religious Group (v6)\",\"line\":{\"color\":\"#00CC96\",\"width\":2},\"mode\":\"lines\",\"name\":\"\",\"showlegend\":false,\"x\":[1970.0,2022.0],\"y\":[81,81],\"type\":\"scatter\"},{\"hovertemplate\":\"\\u003cb\\u003eEntry:\\u003c\\u002fb\\u003e Twelver Shi'ism in post-revolutionary Iran\\u003cbr\\u003e\\u003cb\\u003eRegion:\\u003c\\u002fb\\u003e Iran\\u003cbr\\u003e\\u003cb\\u003eYears:\\u003c\\u002fb\\u003e 1979.0 \\u2013 2022.0\\u003cbr\\u003e\\u003cb\\u003ePoll:\\u003c\\u002fb\\u003e Religious Group (v6)\",\"line\":{\"color\":\"#00CC96\",\"width\":2},\"mode\":\"lines\",\"name\":\"\",\"showlegend\":false,\"x\":[1979.0,2022.0],\"y\":[82,82],\"type\":\"scatter\"},{\"marker\":{\"color\":\"#00CC96\",\"size\":10},\"mode\":\"markers\",\"name\":\"Religious Group\",\"x\":[null],\"y\":[null],\"type\":\"scatter\"},{\"marker\":{\"color\":\"#E1B700\",\"size\":10},\"mode\":\"markers\",\"name\":\"Religious Text\",\"x\":[null],\"y\":[null],\"type\":\"scatter\"},{\"marker\":{\"color\":\"#AEDFF7\",\"size\":10},\"mode\":\"markers\",\"name\":\"Religious Place\",\"x\":[null],\"y\":[null],\"type\":\"scatter\"}],                        {\"template\":{\"data\":{\"barpolar\":[{\"marker\":{\"line\":{\"color\":\"white\",\"width\":0.5},\"pattern\":{\"fillmode\":\"overlay\",\"size\":10,\"solidity\":0.2}},\"type\":\"barpolar\"}],\"bar\":[{\"error_x\":{\"color\":\"#2a3f5f\"},\"error_y\":{\"color\":\"#2a3f5f\"},\"marker\":{\"line\":{\"color\":\"white\",\"width\":0.5},\"pattern\":{\"fillmode\":\"overlay\",\"size\":10,\"solidity\":0.2}},\"type\":\"bar\"}],\"carpet\":[{\"aaxis\":{\"endlinecolor\":\"#2a3f5f\",\"gridcolor\":\"#C8D4E3\",\"linecolor\":\"#C8D4E3\",\"minorgridcolor\":\"#C8D4E3\",\"startlinecolor\":\"#2a3f5f\"},\"baxis\":{\"endlinecolor\":\"#2a3f5f\",\"gridcolor\":\"#C8D4E3\",\"linecolor\":\"#C8D4E3\",\"minorgridcolor\":\"#C8D4E3\",\"startlinecolor\":\"#2a3f5f\"},\"type\":\"carpet\"}],\"choropleth\":[{\"colorbar\":{\"outlinewidth\":0,\"ticks\":\"\"},\"type\":\"choropleth\"}],\"contourcarpet\":[{\"colorbar\":{\"outlinewidth\":0,\"ticks\":\"\"},\"type\":\"contourcarpet\"}],\"contour\":[{\"colorbar\":{\"outlinewidth\":0,\"ticks\":\"\"},\"colorscale\":[[0.0,\"#0d0887\"],[0.1111111111111111,\"#46039f\"],[0.2222222222222222,\"#7201a8\"],[0.3333333333333333,\"#9c179e\"],[0.4444444444444444,\"#bd3786\"],[0.5555555555555556,\"#d8576b\"],[0.6666666666666666,\"#ed7953\"],[0.7777777777777778,\"#fb9f3a\"],[0.8888888888888888,\"#fdca26\"],[1.0,\"#f0f921\"]],\"type\":\"contour\"}],\"heatmap\":[{\"colorbar\":{\"outlinewidth\":0,\"ticks\":\"\"},\"colorscale\":[[0.0,\"#0d0887\"],[0.1111111111111111,\"#46039f\"],[0.2222222222222222,\"#7201a8\"],[0.3333333333333333,\"#9c179e\"],[0.4444444444444444,\"#bd3786\"],[0.5555555555555556,\"#d8576b\"],[0.6666666666666666,\"#ed7953\"],[0.7777777777777778,\"#fb9f3a\"],[0.8888888888888888,\"#fdca26\"],[1.0,\"#f0f921\"]],\"type\":\"heatmap\"}],\"histogram2dcontour\":[{\"colorbar\":{\"outlinewidth\":0,\"ticks\":\"\"},\"colorscale\":[[0.0,\"#0d0887\"],[0.1111111111111111,\"#46039f\"],[0.2222222222222222,\"#7201a8\"],[0.3333333333333333,\"#9c179e\"],[0.4444444444444444,\"#bd3786\"],[0.5555555555555556,\"#d8576b\"],[0.6666666666666666,\"#ed7953\"],[0.7777777777777778,\"#fb9f3a\"],[0.8888888888888888,\"#fdca26\"],[1.0,\"#f0f921\"]],\"type\":\"histogram2dcontour\"}],\"histogram2d\":[{\"colorbar\":{\"outlinewidth\":0,\"ticks\":\"\"},\"colorscale\":[[0.0,\"#0d0887\"],[0.1111111111111111,\"#46039f\"],[0.2222222222222222,\"#7201a8\"],[0.3333333333333333,\"#9c179e\"],[0.4444444444444444,\"#bd3786\"],[0.5555555555555556,\"#d8576b\"],[0.6666666666666666,\"#ed7953\"],[0.7777777777777778,\"#fb9f3a\"],[0.8888888888888888,\"#fdca26\"],[1.0,\"#f0f921\"]],\"type\":\"histogram2d\"}],\"histogram\":[{\"marker\":{\"pattern\":{\"fillmode\":\"overlay\",\"size\":10,\"solidity\":0.2}},\"type\":\"histogram\"}],\"mesh3d\":[{\"colorbar\":{\"outlinewidth\":0,\"ticks\":\"\"},\"type\":\"mesh3d\"}],\"parcoords\":[{\"line\":{\"colorbar\":{\"outlinewidth\":0,\"ticks\":\"\"}},\"type\":\"parcoords\"}],\"pie\":[{\"automargin\":true,\"type\":\"pie\"}],\"scatter3d\":[{\"line\":{\"colorbar\":{\"outlinewidth\":0,\"ticks\":\"\"}},\"marker\":{\"colorbar\":{\"outlinewidth\":0,\"ticks\":\"\"}},\"type\":\"scatter3d\"}],\"scattercarpet\":[{\"marker\":{\"colorbar\":{\"outlinewidth\":0,\"ticks\":\"\"}},\"type\":\"scattercarpet\"}],\"scattergeo\":[{\"marker\":{\"colorbar\":{\"outlinewidth\":0,\"ticks\":\"\"}},\"type\":\"scattergeo\"}],\"scattergl\":[{\"marker\":{\"colorbar\":{\"outlinewidth\":0,\"ticks\":\"\"}},\"type\":\"scattergl\"}],\"scattermapbox\":[{\"marker\":{\"colorbar\":{\"outlinewidth\":0,\"ticks\":\"\"}},\"type\":\"scattermapbox\"}],\"scattermap\":[{\"marker\":{\"colorbar\":{\"outlinewidth\":0,\"ticks\":\"\"}},\"type\":\"scattermap\"}],\"scatterpolargl\":[{\"marker\":{\"colorbar\":{\"outlinewidth\":0,\"ticks\":\"\"}},\"type\":\"scatterpolargl\"}],\"scatterpolar\":[{\"marker\":{\"colorbar\":{\"outlinewidth\":0,\"ticks\":\"\"}},\"type\":\"scatterpolar\"}],\"scatter\":[{\"fillpattern\":{\"fillmode\":\"overlay\",\"size\":10,\"solidity\":0.2},\"type\":\"scatter\"}],\"scatterternary\":[{\"marker\":{\"colorbar\":{\"outlinewidth\":0,\"ticks\":\"\"}},\"type\":\"scatterternary\"}],\"surface\":[{\"colorbar\":{\"outlinewidth\":0,\"ticks\":\"\"},\"colorscale\":[[0.0,\"#0d0887\"],[0.1111111111111111,\"#46039f\"],[0.2222222222222222,\"#7201a8\"],[0.3333333333333333,\"#9c179e\"],[0.4444444444444444,\"#bd3786\"],[0.5555555555555556,\"#d8576b\"],[0.6666666666666666,\"#ed7953\"],[0.7777777777777778,\"#fb9f3a\"],[0.8888888888888888,\"#fdca26\"],[1.0,\"#f0f921\"]],\"type\":\"surface\"}],\"table\":[{\"cells\":{\"fill\":{\"color\":\"#EBF0F8\"},\"line\":{\"color\":\"white\"}},\"header\":{\"fill\":{\"color\":\"#C8D4E3\"},\"line\":{\"color\":\"white\"}},\"type\":\"table\"}]},\"layout\":{\"annotationdefaults\":{\"arrowcolor\":\"#2a3f5f\",\"arrowhead\":0,\"arrowwidth\":1},\"autotypenumbers\":\"strict\",\"coloraxis\":{\"colorbar\":{\"outlinewidth\":0,\"ticks\":\"\"}},\"colorscale\":{\"diverging\":[[0,\"#8e0152\"],[0.1,\"#c51b7d\"],[0.2,\"#de77ae\"],[0.3,\"#f1b6da\"],[0.4,\"#fde0ef\"],[0.5,\"#f7f7f7\"],[0.6,\"#e6f5d0\"],[0.7,\"#b8e186\"],[0.8,\"#7fbc41\"],[0.9,\"#4d9221\"],[1,\"#276419\"]],\"sequential\":[[0.0,\"#0d0887\"],[0.1111111111111111,\"#46039f\"],[0.2222222222222222,\"#7201a8\"],[0.3333333333333333,\"#9c179e\"],[0.4444444444444444,\"#bd3786\"],[0.5555555555555556,\"#d8576b\"],[0.6666666666666666,\"#ed7953\"],[0.7777777777777778,\"#fb9f3a\"],[0.8888888888888888,\"#fdca26\"],[1.0,\"#f0f921\"]],\"sequentialminus\":[[0.0,\"#0d0887\"],[0.1111111111111111,\"#46039f\"],[0.2222222222222222,\"#7201a8\"],[0.3333333333333333,\"#9c179e\"],[0.4444444444444444,\"#bd3786\"],[0.5555555555555556,\"#d8576b\"],[0.6666666666666666,\"#ed7953\"],[0.7777777777777778,\"#fb9f3a\"],[0.8888888888888888,\"#fdca26\"],[1.0,\"#f0f921\"]]},\"colorway\":[\"#636efa\",\"#EF553B\",\"#00cc96\",\"#ab63fa\",\"#FFA15A\",\"#19d3f3\",\"#FF6692\",\"#B6E880\",\"#FF97FF\",\"#FECB52\"],\"font\":{\"color\":\"#2a3f5f\"},\"geo\":{\"bgcolor\":\"white\",\"lakecolor\":\"white\",\"landcolor\":\"white\",\"showlakes\":true,\"showland\":true,\"subunitcolor\":\"#C8D4E3\"},\"hoverlabel\":{\"align\":\"left\"},\"hovermode\":\"closest\",\"mapbox\":{\"style\":\"light\"},\"paper_bgcolor\":\"white\",\"plot_bgcolor\":\"white\",\"polar\":{\"angularaxis\":{\"gridcolor\":\"#EBF0F8\",\"linecolor\":\"#EBF0F8\",\"ticks\":\"\"},\"bgcolor\":\"white\",\"radialaxis\":{\"gridcolor\":\"#EBF0F8\",\"linecolor\":\"#EBF0F8\",\"ticks\":\"\"}},\"scene\":{\"xaxis\":{\"backgroundcolor\":\"white\",\"gridcolor\":\"#DFE8F3\",\"gridwidth\":2,\"linecolor\":\"#EBF0F8\",\"showbackground\":true,\"ticks\":\"\",\"zerolinecolor\":\"#EBF0F8\"},\"yaxis\":{\"backgroundcolor\":\"white\",\"gridcolor\":\"#DFE8F3\",\"gridwidth\":2,\"linecolor\":\"#EBF0F8\",\"showbackground\":true,\"ticks\":\"\",\"zerolinecolor\":\"#EBF0F8\"},\"zaxis\":{\"backgroundcolor\":\"white\",\"gridcolor\":\"#DFE8F3\",\"gridwidth\":2,\"linecolor\":\"#EBF0F8\",\"showbackground\":true,\"ticks\":\"\",\"zerolinecolor\":\"#EBF0F8\"}},\"shapedefaults\":{\"line\":{\"color\":\"#2a3f5f\"}},\"ternary\":{\"aaxis\":{\"gridcolor\":\"#DFE8F3\",\"linecolor\":\"#A2B1C6\",\"ticks\":\"\"},\"baxis\":{\"gridcolor\":\"#DFE8F3\",\"linecolor\":\"#A2B1C6\",\"ticks\":\"\"},\"bgcolor\":\"white\",\"caxis\":{\"gridcolor\":\"#DFE8F3\",\"linecolor\":\"#A2B1C6\",\"ticks\":\"\"}},\"title\":{\"x\":0.05},\"xaxis\":{\"automargin\":true,\"gridcolor\":\"#EBF0F8\",\"linecolor\":\"#EBF0F8\",\"ticks\":\"\",\"title\":{\"standoff\":15},\"zerolinecolor\":\"#EBF0F8\",\"zerolinewidth\":2},\"yaxis\":{\"automargin\":true,\"gridcolor\":\"#EBF0F8\",\"linecolor\":\"#EBF0F8\",\"ticks\":\"\",\"title\":{\"standoff\":15},\"zerolinecolor\":\"#EBF0F8\",\"zerolinewidth\":2}}},\"xaxis\":{\"title\":{\"text\":\"Year\"},\"tickmode\":\"linear\",\"dtick\":200,\"range\":[-2350.0,2074.0]},\"yaxis\":{\"showticklabels\":false,\"title\":{\"text\":\"\"},\"showgrid\":false},\"legend\":{\"xanchor\":\"left\",\"yanchor\":\"top\",\"x\":0,\"y\":1},\"height\":600,\"width\":900,\"title\":{\"text\":\"Timeline of Religious Units in West Asia & Egypt\"}},                        {\"responsive\": true}                    ).then(function(){\n                            \nvar gd = document.getElementById('88a68f19-f6a0-4b49-b01c-ee681317f2f9');\nvar x = new MutationObserver(function (mutations, observer) {{\n        var display = window.getComputedStyle(gd).display;\n        if (!display || display === 'none') {{\n            console.log([gd, 'removed!']);\n            Plotly.purge(gd);\n            observer.disconnect();\n        }}\n}});\n\n// Listen for the removal of the full notebook cells\nvar notebookContainer = gd.closest('#notebook-container');\nif (notebookContainer) {{\n    x.observe(notebookContainer, {childList: true});\n}}\n\n// Listen for the clearing of the current output cell\nvar outputEl = gd.closest('.output');\nif (outputEl) {{\n    x.observe(outputEl, {childList: true});\n}}\n\n                        })                };            </script>        </div>\n</body>\n</html>"
                    },
                    "metadata": {},
                    "output_type": "display_data"
                }
            ],
            "outputs_reference": "s3:deepnote-cell-outputs-production/159d3557-0938-4bb0-b851-ac0fe245b12e",
            "content_dependencies": null
        },
        {
            "cell_type": "markdown",
            "source": "<a style='text-decoration:none;line-height:16px;display:flex;color:#5B5B62;padding:10px;justify-content:end;' href='https://deepnote.com?utm_source=created-in-deepnote-cell&projectId=5d7c084c-ccac-4a11-8892-8e2f6a069ef0' target=\"_blank\">\n<img alt='Created in deepnote.com' style='display:inline;max-height:16px;margin:0px;margin-right:7.5px;' src='data:image/svg+xml;base64,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' > </img>\nCreated in <span style='font-weight:600;margin-left:4px;'>Deepnote</span></a>",
            "metadata": {
                "created_in_deepnote_cell": true,
                "deepnote_cell_type": "markdown"
            }
        }
    ],
    "nbformat": 4,
    "nbformat_minor": 0,
    "metadata": {
        "deepnote_notebook_id": "6674d36852614d16b12d30189956c13a"
    }
}